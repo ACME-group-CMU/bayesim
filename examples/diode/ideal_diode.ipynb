{
 "cells": [
  {
   "cell_type": "markdown",
   "metadata": {},
   "source": [
    "# Ideal Diode Example"
   ]
  },
  {
   "cell_type": "markdown",
   "metadata": {},
   "source": [
    "The simplest way to model a solar cell is as an **ideal diode**, described by the following equation:\n",
    "$$J(V,T) = J_L+J_0(\\exp{\\frac{qV}{nkT}}-1)$$\n",
    "where $k=8.61733\\times 10^{-5}$ eV/K is Boltzmann's constant, by convention $J_L$ (the light current) is negative and $J_0$ (the saturation current) is positive but strongly dependent on temperature, a dependence we can approximate as:\n",
    "$$J_0 \\approx B'T^{3/n}\\exp{\\frac{-E_{g0}}{nkT}}$$\n",
    "We'll use the silicon zero-temperature bandgap, $E_{g0}=1.2$ eV, meaning we just need to fit for $B'$ in this equation.\n",
    "$J_L$ is typically directly proportional to light intensity, which we will treat as fixed for this example, leaving us with two parameters to fit for: $B'$ and the ideality factor $n$."
   ]
  },
  {
   "cell_type": "code",
   "execution_count": 1,
   "metadata": {},
   "outputs": [],
   "source": [
    "import numpy as np\n",
    "import sys\n",
    "import math\n",
    "import pandas as pd\n",
    "sys.path.append('../../')\n",
    "import bayesim.model as bym\n",
    "import bayesim.param_list as byp\n",
    "import deepdish as dd\n",
    "from jupyterthemes import jtplot\n",
    "jtplot.style('default')"
   ]
  },
  {
   "cell_type": "markdown",
   "metadata": {},
   "source": [
    "## List the parameters\n",
    "First, we list our fitting parameters."
   ]
  },
  {
   "cell_type": "code",
   "execution_count": 2,
   "metadata": {},
   "outputs": [],
   "source": [
    "fp = byp.param_list()\n",
    "fp.add_fit_param(name='Bp',val_range=[10,1000],spacing='log',length=15,units='arb.')\n",
    "fp.add_fit_param(name='n',val_range=[1,2],length=15)"
   ]
  },
  {
   "cell_type": "markdown",
   "metadata": {},
   "source": [
    "We can inspect the `param_list` object and see what kind of information is inside..."
   ]
  },
  {
   "cell_type": "code",
   "execution_count": 3,
   "metadata": {},
   "outputs": [
    {
     "data": {
      "text/plain": [
       "[{'edges': array([   10.        ,    13.59356391,    18.47849797,    25.11886432,\n",
       "            34.14548874,    46.41588834,    63.09573445,    85.76958986,\n",
       "           116.59144012,   158.48931925,   215.443469  ,   292.86445646,\n",
       "           398.10717055,   541.16952655,   735.64225446,  1000.        ]),\n",
       "  'length': 15,\n",
       "  'min_width': 1.0311772745930552,\n",
       "  'name': 'Bp',\n",
       "  'spacing': 'log',\n",
       "  'units': 'arb.',\n",
       "  'val_range': [10, 1000],\n",
       "  'vals': array([  11.65914401,   15.84893192,   21.5443469 ,   29.28644565,\n",
       "           39.81071706,   54.11695265,   73.56422545,  100.        ,\n",
       "          135.93563909,  184.78497974,  251.18864315,  341.45488738,\n",
       "          464.15888336,  630.95734448,  857.69589859])},\n",
       " {'edges': array([ 1.        ,  1.06666667,  1.13333333,  1.2       ,  1.26666667,\n",
       "          1.33333333,  1.4       ,  1.46666667,  1.53333333,  1.6       ,\n",
       "          1.66666667,  1.73333333,  1.8       ,  1.86666667,  1.93333333,  2.        ]),\n",
       "  'length': 15,\n",
       "  'min_width': 0.006666666666666667,\n",
       "  'name': 'n',\n",
       "  'spacing': 'linear',\n",
       "  'units': 'unitless',\n",
       "  'val_range': [1, 2],\n",
       "  'vals': array([ 1.03333333,  1.1       ,  1.16666667,  1.23333333,  1.3       ,\n",
       "          1.36666667,  1.43333333,  1.5       ,  1.56666667,  1.63333333,\n",
       "          1.7       ,  1.76666667,  1.83333333,  1.9       ,  1.96666667])}]"
      ]
     },
     "execution_count": 3,
     "metadata": {},
     "output_type": "execute_result"
    }
   ],
   "source": [
    "fp.fit_params"
   ]
  },
  {
   "cell_type": "markdown",
   "metadata": {},
   "source": [
    "Note that there are both `edges` and `vals` computed - the `vals` will be the values at which computations will be done, while `edges` will be the edges of the grid, used in subdivision steps later on.\n",
    "\n",
    "Finally, we define the measurement conditions. We won't be varying light intensity here, so we only need voltage and temperature."
   ]
  },
  {
   "cell_type": "code",
   "execution_count": 4,
   "metadata": {},
   "outputs": [],
   "source": [
    "ec = ['V','T']"
   ]
  },
  {
   "cell_type": "code",
   "execution_count": 5,
   "metadata": {},
   "outputs": [],
   "source": [
    "m = bym.model(params=fp,ec=ec,output_var='J')"
   ]
  },
  {
   "cell_type": "code",
   "execution_count": 6,
   "metadata": {},
   "outputs": [
    {
     "data": {
      "text/html": [
       "<div>\n",
       "<style scoped>\n",
       "    .dataframe tbody tr th:only-of-type {\n",
       "        vertical-align: middle;\n",
       "    }\n",
       "\n",
       "    .dataframe tbody tr th {\n",
       "        vertical-align: top;\n",
       "    }\n",
       "\n",
       "    .dataframe thead th {\n",
       "        text-align: right;\n",
       "    }\n",
       "</style>\n",
       "<table border=\"1\" class=\"dataframe\">\n",
       "  <thead>\n",
       "    <tr style=\"text-align: right;\">\n",
       "      <th></th>\n",
       "      <th>Bp</th>\n",
       "      <th>Bp_min</th>\n",
       "      <th>Bp_max</th>\n",
       "      <th>n</th>\n",
       "      <th>n_min</th>\n",
       "      <th>n_max</th>\n",
       "      <th>new</th>\n",
       "      <th>prob</th>\n",
       "      <th>num_sub</th>\n",
       "    </tr>\n",
       "  </thead>\n",
       "  <tbody>\n",
       "    <tr>\n",
       "      <th>0</th>\n",
       "      <td>11.659144</td>\n",
       "      <td>10.0</td>\n",
       "      <td>13.593564</td>\n",
       "      <td>1.033333</td>\n",
       "      <td>1.000000</td>\n",
       "      <td>1.066667</td>\n",
       "      <td>1.0</td>\n",
       "      <td>0.004444</td>\n",
       "      <td>0</td>\n",
       "    </tr>\n",
       "    <tr>\n",
       "      <th>1</th>\n",
       "      <td>11.659144</td>\n",
       "      <td>10.0</td>\n",
       "      <td>13.593564</td>\n",
       "      <td>1.100000</td>\n",
       "      <td>1.066667</td>\n",
       "      <td>1.133333</td>\n",
       "      <td>1.0</td>\n",
       "      <td>0.004444</td>\n",
       "      <td>0</td>\n",
       "    </tr>\n",
       "    <tr>\n",
       "      <th>2</th>\n",
       "      <td>11.659144</td>\n",
       "      <td>10.0</td>\n",
       "      <td>13.593564</td>\n",
       "      <td>1.166667</td>\n",
       "      <td>1.133333</td>\n",
       "      <td>1.200000</td>\n",
       "      <td>1.0</td>\n",
       "      <td>0.004444</td>\n",
       "      <td>0</td>\n",
       "    </tr>\n",
       "    <tr>\n",
       "      <th>3</th>\n",
       "      <td>11.659144</td>\n",
       "      <td>10.0</td>\n",
       "      <td>13.593564</td>\n",
       "      <td>1.233333</td>\n",
       "      <td>1.200000</td>\n",
       "      <td>1.266667</td>\n",
       "      <td>1.0</td>\n",
       "      <td>0.004444</td>\n",
       "      <td>0</td>\n",
       "    </tr>\n",
       "    <tr>\n",
       "      <th>4</th>\n",
       "      <td>11.659144</td>\n",
       "      <td>10.0</td>\n",
       "      <td>13.593564</td>\n",
       "      <td>1.300000</td>\n",
       "      <td>1.266667</td>\n",
       "      <td>1.333333</td>\n",
       "      <td>1.0</td>\n",
       "      <td>0.004444</td>\n",
       "      <td>0</td>\n",
       "    </tr>\n",
       "    <tr>\n",
       "      <th>5</th>\n",
       "      <td>11.659144</td>\n",
       "      <td>10.0</td>\n",
       "      <td>13.593564</td>\n",
       "      <td>1.366667</td>\n",
       "      <td>1.333333</td>\n",
       "      <td>1.400000</td>\n",
       "      <td>1.0</td>\n",
       "      <td>0.004444</td>\n",
       "      <td>0</td>\n",
       "    </tr>\n",
       "    <tr>\n",
       "      <th>6</th>\n",
       "      <td>11.659144</td>\n",
       "      <td>10.0</td>\n",
       "      <td>13.593564</td>\n",
       "      <td>1.433333</td>\n",
       "      <td>1.400000</td>\n",
       "      <td>1.466667</td>\n",
       "      <td>1.0</td>\n",
       "      <td>0.004444</td>\n",
       "      <td>0</td>\n",
       "    </tr>\n",
       "    <tr>\n",
       "      <th>7</th>\n",
       "      <td>11.659144</td>\n",
       "      <td>10.0</td>\n",
       "      <td>13.593564</td>\n",
       "      <td>1.500000</td>\n",
       "      <td>1.466667</td>\n",
       "      <td>1.533333</td>\n",
       "      <td>1.0</td>\n",
       "      <td>0.004444</td>\n",
       "      <td>0</td>\n",
       "    </tr>\n",
       "    <tr>\n",
       "      <th>8</th>\n",
       "      <td>11.659144</td>\n",
       "      <td>10.0</td>\n",
       "      <td>13.593564</td>\n",
       "      <td>1.566667</td>\n",
       "      <td>1.533333</td>\n",
       "      <td>1.600000</td>\n",
       "      <td>1.0</td>\n",
       "      <td>0.004444</td>\n",
       "      <td>0</td>\n",
       "    </tr>\n",
       "    <tr>\n",
       "      <th>9</th>\n",
       "      <td>11.659144</td>\n",
       "      <td>10.0</td>\n",
       "      <td>13.593564</td>\n",
       "      <td>1.633333</td>\n",
       "      <td>1.600000</td>\n",
       "      <td>1.666667</td>\n",
       "      <td>1.0</td>\n",
       "      <td>0.004444</td>\n",
       "      <td>0</td>\n",
       "    </tr>\n",
       "    <tr>\n",
       "      <th>10</th>\n",
       "      <td>11.659144</td>\n",
       "      <td>10.0</td>\n",
       "      <td>13.593564</td>\n",
       "      <td>1.700000</td>\n",
       "      <td>1.666667</td>\n",
       "      <td>1.733333</td>\n",
       "      <td>1.0</td>\n",
       "      <td>0.004444</td>\n",
       "      <td>0</td>\n",
       "    </tr>\n",
       "  </tbody>\n",
       "</table>\n",
       "</div>"
      ],
      "text/plain": [
       "           Bp  Bp_min     Bp_max         n     n_min     n_max  new      prob  \\\n",
       "0   11.659144    10.0  13.593564  1.033333  1.000000  1.066667  1.0  0.004444   \n",
       "1   11.659144    10.0  13.593564  1.100000  1.066667  1.133333  1.0  0.004444   \n",
       "2   11.659144    10.0  13.593564  1.166667  1.133333  1.200000  1.0  0.004444   \n",
       "3   11.659144    10.0  13.593564  1.233333  1.200000  1.266667  1.0  0.004444   \n",
       "4   11.659144    10.0  13.593564  1.300000  1.266667  1.333333  1.0  0.004444   \n",
       "5   11.659144    10.0  13.593564  1.366667  1.333333  1.400000  1.0  0.004444   \n",
       "6   11.659144    10.0  13.593564  1.433333  1.400000  1.466667  1.0  0.004444   \n",
       "7   11.659144    10.0  13.593564  1.500000  1.466667  1.533333  1.0  0.004444   \n",
       "8   11.659144    10.0  13.593564  1.566667  1.533333  1.600000  1.0  0.004444   \n",
       "9   11.659144    10.0  13.593564  1.633333  1.600000  1.666667  1.0  0.004444   \n",
       "10  11.659144    10.0  13.593564  1.700000  1.666667  1.733333  1.0  0.004444   \n",
       "\n",
       "    num_sub  \n",
       "0         0  \n",
       "1         0  \n",
       "2         0  \n",
       "3         0  \n",
       "4         0  \n",
       "5         0  \n",
       "6         0  \n",
       "7         0  \n",
       "8         0  \n",
       "9         0  \n",
       "10        0  "
      ]
     },
     "execution_count": 6,
     "metadata": {},
     "output_type": "execute_result"
    }
   ],
   "source": [
    "m.probs.points.head(11)"
   ]
  },
  {
   "cell_type": "markdown",
   "metadata": {},
   "source": [
    "## Attach experimental data\n",
    "This is the next step that needs to be done before adding the model as it will use the experimental conditions we enumerate here to compute simulated outputs. For our \"experimental\" data here, we'll actually just simulate some ideal diodes so that we can directly see how good the Bayesian approach is at recovering true underlying parameters.\n",
    "\n",
    "We'll use $n=1.36$ and $B'=258$ as our \"true\" parameters. (I have no idea what \"realistic\" values for $B'$ would be...)"
   ]
  },
  {
   "cell_type": "code",
   "execution_count": 7,
   "metadata": {},
   "outputs": [],
   "source": [
    "def compute_ID(ec,params):\n",
    "    J_L = -0.03 # treat as fixed for now\n",
    "    V = ec['V']\n",
    "    T = ec['T']\n",
    "    V_th = 8.61733e-5 * T # thermal voltage, kT/q\n",
    "    n = params['n']\n",
    "    Bp = params['Bp']\n",
    "    J0 = Bp*T**(3/n)*math.exp(-1.2/V_th/n)\n",
    "    return J_L + J0*(math.exp(V/V_th/n)-1)\n",
    "\n",
    "V = np.arange(0,1.0,0.025)\n",
    "#V = np.arange(0,1.0,0.01)\n",
    "T = [float(t) for t in np.arange(150,301,50)]\n",
    "params = {'n':1.36,'Bp':258}\n",
    "\n",
    "data = []\n",
    "for t in T:\n",
    "    J0 = compute_ID({'V':V[0],'T':t},params)\n",
    "    for v in V:\n",
    "        J = compute_ID({'V':v,'T':t},params)\n",
    "        if abs(J)>0.05:\n",
    "            err = 0.1*abs(J)\n",
    "        else:\n",
    "            err = 0.01\n",
    "        # check for \"compliance\"\n",
    "        if not J > 5.0:\n",
    "            data.append([v,t,J,err])\n",
    "        \n",
    "data = pd.DataFrame.from_records(data=data,columns=['V','T','J','error'])\n",
    "dd.io.save('obs_data.h5',data)"
   ]
  },
  {
   "cell_type": "code",
   "execution_count": 8,
   "metadata": {},
   "outputs": [],
   "source": [
    "m.attach_observations(fpath='obs_data.h5',ec_x_var='V',max_ec_x_step=0.1)\n",
    "#m.attach_observations(fpath='obs_data.h5',fixed_error=0.01,ec_x_var='V',max_ec_x_step=0.075)\n",
    "#m.attach_observations(fpath='obs_data.h5',fixed_error=0.01,ec_x_var='V',keep_all=True)"
   ]
  },
  {
   "cell_type": "code",
   "execution_count": 9,
   "metadata": {
    "scrolled": false
   },
   "outputs": [
    {
     "data": {
      "image/png": "[encoded data removed]",
      "text/plain": [
       "<matplotlib.figure.Figure at 0x11370f550>"
      ]
     },
     "metadata": {},
     "output_type": "display_data"
    }
   ],
   "source": [
    "import matplotlib.pyplot as plt\n",
    "%matplotlib inline\n",
    "leg = []\n",
    "for i in range(len(T)):\n",
    "    curve = data[data['T']==T[i]]\n",
    "    plt.plot(curve['V'],curve['J'])\n",
    "    leg.append(curve['T'].iloc[0])\n",
    "plt.ylim([-0.05,0.1])\n",
    "plt.legend([str(t) for t in leg])\n",
    "plt.xlabel('Voltage [V]')\n",
    "plt.ylabel('Current')\n",
    "plt.show()"
   ]
  },
  {
   "cell_type": "markdown",
   "metadata": {},
   "source": [
    "## Attach model\n",
    "Now we add the function that gives the modeled data - in this case, the `compute_ID` function we just defined above."
   ]
  },
  {
   "cell_type": "code",
   "execution_count": 10,
   "metadata": {},
   "outputs": [],
   "source": [
    "m.attach_model(mode='function',func_name=compute_ID)\n",
    "#m.attach_model(mode='file',fpath='model_data.h5')"
   ]
  },
  {
   "cell_type": "markdown",
   "metadata": {},
   "source": [
    "That's it! When that function is called, `bayesim` also generates the full table of modeled data at all experimental conditions in the observed data we attached before. Check it out:"
   ]
  },
  {
   "cell_type": "code",
   "execution_count": 11,
   "metadata": {},
   "outputs": [],
   "source": [
    "m.calc_model_gradients()"
   ]
  },
  {
   "cell_type": "markdown",
   "metadata": {},
   "source": [
    "## Drop that Bayes!\n",
    "### First Bayes\n",
    "Let's run the first round. We'll use the default parameters which means it will run three times using randomly chosen observations (without replacement) until 80% of the probability is in 5% of the boxes. Then it will average the PMF's from those three runs to create the result."
   ]
  },
  {
   "cell_type": "code",
   "execution_count": 12,
   "metadata": {
    "scrolled": true
   },
   "outputs": [
    {
     "name": "stdout",
     "output_type": "stream",
     "text": [
      "\n",
      "*****RUN 1*****\n",
      "Reached threshold after 18 observation points were fed in!\n",
      "\n",
      "*****RUN 2*****\n",
      "Reached threshold after 29 observation points were fed in!\n",
      "\n",
      "*****RUN 3*****\n",
      "Reached threshold after 14 observation points were fed in!\n"
     ]
    }
   ],
   "source": [
    "m.run()"
   ]
  },
  {
   "cell_type": "markdown",
   "metadata": {},
   "source": [
    "We can visualize the distribution and add markers for the real values to compare..."
   ]
  },
  {
   "cell_type": "code",
   "execution_count": 13,
   "metadata": {},
   "outputs": [
    {
     "name": "stdout",
     "output_type": "stream",
     "text": [
      "setup finished in 0.47 seconds\n",
      "project_1D took 0.1 seconds\n",
      "diagonal plot finished in 0.12 seconds\n",
      "project_2D took 0.09 seconds\n",
      "off-diagonal plot finished in 0.16 seconds\n",
      "project_1D took 0.17 seconds\n",
      "diagonal plot finished in 0.21 seconds\n"
     ]
    },
    {
     "data": {
      "image/png": "[encoded data removed]",
      "text/plain": [
       "<matplotlib.figure.Figure at 0x11600ccd0>"
      ]
     },
     "metadata": {},
     "output_type": "display_data"
    }
   ],
   "source": [
    "m.visualize_probs(true_vals=params)"
   ]
  },
  {
   "cell_type": "code",
   "execution_count": 14,
   "metadata": {},
   "outputs": [
    {
     "data": {
      "image/png": "[encoded data removed]",
      "text/plain": [
       "<matplotlib.figure.Figure at 0x1167f7e90>"
      ]
     },
     "metadata": {},
     "output_type": "display_data"
    }
   ],
   "source": [
    "m.comparison_plot()"
   ]
  },
  {
   "cell_type": "markdown",
   "metadata": {},
   "source": [
    "Not too bad. We can also look at the probabilities directly."
   ]
  },
  {
   "cell_type": "code",
   "execution_count": 15,
   "metadata": {},
   "outputs": [
    {
     "data": {
      "text/html": [
       "<div>\n",
       "<style scoped>\n",
       "    .dataframe tbody tr th:only-of-type {\n",
       "        vertical-align: middle;\n",
       "    }\n",
       "\n",
       "    .dataframe tbody tr th {\n",
       "        vertical-align: top;\n",
       "    }\n",
       "\n",
       "    .dataframe thead th {\n",
       "        text-align: right;\n",
       "    }\n",
       "</style>\n",
       "<table border=\"1\" class=\"dataframe\">\n",
       "  <thead>\n",
       "    <tr style=\"text-align: right;\">\n",
       "      <th></th>\n",
       "      <th>Bp</th>\n",
       "      <th>Bp_min</th>\n",
       "      <th>Bp_max</th>\n",
       "      <th>n</th>\n",
       "      <th>n_min</th>\n",
       "      <th>n_max</th>\n",
       "      <th>new</th>\n",
       "      <th>prob</th>\n",
       "      <th>num_sub</th>\n",
       "      <th>start_ind</th>\n",
       "      <th>end_ind</th>\n",
       "    </tr>\n",
       "  </thead>\n",
       "  <tbody>\n",
       "    <tr>\n",
       "      <th>126</th>\n",
       "      <td>135.935639</td>\n",
       "      <td>116.591440</td>\n",
       "      <td>158.489319</td>\n",
       "      <td>1.433333</td>\n",
       "      <td>1.400000</td>\n",
       "      <td>1.466667</td>\n",
       "      <td>1.0</td>\n",
       "      <td>0.156864</td>\n",
       "      <td>0</td>\n",
       "      <td>5922</td>\n",
       "      <td>5968</td>\n",
       "    </tr>\n",
       "    <tr>\n",
       "      <th>140</th>\n",
       "      <td>184.784980</td>\n",
       "      <td>158.489319</td>\n",
       "      <td>215.443469</td>\n",
       "      <td>1.366667</td>\n",
       "      <td>1.333333</td>\n",
       "      <td>1.400000</td>\n",
       "      <td>1.0</td>\n",
       "      <td>0.131355</td>\n",
       "      <td>0</td>\n",
       "      <td>6580</td>\n",
       "      <td>6626</td>\n",
       "    </tr>\n",
       "    <tr>\n",
       "      <th>112</th>\n",
       "      <td>100.000000</td>\n",
       "      <td>85.769590</td>\n",
       "      <td>116.591440</td>\n",
       "      <td>1.500000</td>\n",
       "      <td>1.466667</td>\n",
       "      <td>1.533333</td>\n",
       "      <td>1.0</td>\n",
       "      <td>0.130753</td>\n",
       "      <td>0</td>\n",
       "      <td>5264</td>\n",
       "      <td>5310</td>\n",
       "    </tr>\n",
       "    <tr>\n",
       "      <th>154</th>\n",
       "      <td>251.188643</td>\n",
       "      <td>215.443469</td>\n",
       "      <td>292.864456</td>\n",
       "      <td>1.300000</td>\n",
       "      <td>1.266667</td>\n",
       "      <td>1.333333</td>\n",
       "      <td>1.0</td>\n",
       "      <td>0.089014</td>\n",
       "      <td>0</td>\n",
       "      <td>7238</td>\n",
       "      <td>7284</td>\n",
       "    </tr>\n",
       "    <tr>\n",
       "      <th>98</th>\n",
       "      <td>73.564225</td>\n",
       "      <td>63.095734</td>\n",
       "      <td>85.769590</td>\n",
       "      <td>1.566667</td>\n",
       "      <td>1.533333</td>\n",
       "      <td>1.600000</td>\n",
       "      <td>1.0</td>\n",
       "      <td>0.058266</td>\n",
       "      <td>0</td>\n",
       "      <td>4606</td>\n",
       "      <td>4652</td>\n",
       "    </tr>\n",
       "    <tr>\n",
       "      <th>99</th>\n",
       "      <td>73.564225</td>\n",
       "      <td>63.095734</td>\n",
       "      <td>85.769590</td>\n",
       "      <td>1.633333</td>\n",
       "      <td>1.600000</td>\n",
       "      <td>1.666667</td>\n",
       "      <td>1.0</td>\n",
       "      <td>0.053083</td>\n",
       "      <td>0</td>\n",
       "      <td>4653</td>\n",
       "      <td>4699</td>\n",
       "    </tr>\n",
       "    <tr>\n",
       "      <th>113</th>\n",
       "      <td>100.000000</td>\n",
       "      <td>85.769590</td>\n",
       "      <td>116.591440</td>\n",
       "      <td>1.566667</td>\n",
       "      <td>1.533333</td>\n",
       "      <td>1.600000</td>\n",
       "      <td>1.0</td>\n",
       "      <td>0.052915</td>\n",
       "      <td>0</td>\n",
       "      <td>5311</td>\n",
       "      <td>5357</td>\n",
       "    </tr>\n",
       "    <tr>\n",
       "      <th>168</th>\n",
       "      <td>341.454887</td>\n",
       "      <td>292.864456</td>\n",
       "      <td>398.107171</td>\n",
       "      <td>1.233333</td>\n",
       "      <td>1.200000</td>\n",
       "      <td>1.266667</td>\n",
       "      <td>1.0</td>\n",
       "      <td>0.049667</td>\n",
       "      <td>0</td>\n",
       "      <td>7896</td>\n",
       "      <td>7942</td>\n",
       "    </tr>\n",
       "    <tr>\n",
       "      <th>127</th>\n",
       "      <td>135.935639</td>\n",
       "      <td>116.591440</td>\n",
       "      <td>158.489319</td>\n",
       "      <td>1.500000</td>\n",
       "      <td>1.466667</td>\n",
       "      <td>1.533333</td>\n",
       "      <td>1.0</td>\n",
       "      <td>0.036634</td>\n",
       "      <td>0</td>\n",
       "      <td>5969</td>\n",
       "      <td>6015</td>\n",
       "    </tr>\n",
       "    <tr>\n",
       "      <th>85</th>\n",
       "      <td>54.116953</td>\n",
       "      <td>46.415888</td>\n",
       "      <td>63.095734</td>\n",
       "      <td>1.700000</td>\n",
       "      <td>1.666667</td>\n",
       "      <td>1.733333</td>\n",
       "      <td>1.0</td>\n",
       "      <td>0.026766</td>\n",
       "      <td>0</td>\n",
       "      <td>3995</td>\n",
       "      <td>4041</td>\n",
       "    </tr>\n",
       "  </tbody>\n",
       "</table>\n",
       "</div>"
      ],
      "text/plain": [
       "             Bp      Bp_min      Bp_max         n     n_min     n_max  new  \\\n",
       "126  135.935639  116.591440  158.489319  1.433333  1.400000  1.466667  1.0   \n",
       "140  184.784980  158.489319  215.443469  1.366667  1.333333  1.400000  1.0   \n",
       "112  100.000000   85.769590  116.591440  1.500000  1.466667  1.533333  1.0   \n",
       "154  251.188643  215.443469  292.864456  1.300000  1.266667  1.333333  1.0   \n",
       "98    73.564225   63.095734   85.769590  1.566667  1.533333  1.600000  1.0   \n",
       "99    73.564225   63.095734   85.769590  1.633333  1.600000  1.666667  1.0   \n",
       "113  100.000000   85.769590  116.591440  1.566667  1.533333  1.600000  1.0   \n",
       "168  341.454887  292.864456  398.107171  1.233333  1.200000  1.266667  1.0   \n",
       "127  135.935639  116.591440  158.489319  1.500000  1.466667  1.533333  1.0   \n",
       "85    54.116953   46.415888   63.095734  1.700000  1.666667  1.733333  1.0   \n",
       "\n",
       "         prob  num_sub  start_ind  end_ind  \n",
       "126  0.156864        0       5922     5968  \n",
       "140  0.131355        0       6580     6626  \n",
       "112  0.130753        0       5264     5310  \n",
       "154  0.089014        0       7238     7284  \n",
       "98   0.058266        0       4606     4652  \n",
       "99   0.053083        0       4653     4699  \n",
       "113  0.052915        0       5311     5357  \n",
       "168  0.049667        0       7896     7942  \n",
       "127  0.036634        0       5969     6015  \n",
       "85   0.026766        0       3995     4041  "
      ]
     },
     "execution_count": 15,
     "metadata": {},
     "output_type": "execute_result"
    }
   ],
   "source": [
    "m.probs.most_probable(10)"
   ]
  },
  {
   "cell_type": "markdown",
   "metadata": {},
   "source": [
    "### Let's subdivide!\n",
    "Again we'll use the default options, which will subdivide all grid boxes with probability > 0.001 as well as any immediately adjacent boxes."
   ]
  },
  {
   "cell_type": "code",
   "execution_count": 16,
   "metadata": {},
   "outputs": [
    {
     "name": "stdout",
     "output_type": "stream",
     "text": [
      "35 box(es) with probability > 0.001 and 30 neighboring boxes subdivided!\n",
      "New model points to simulate are saved in the file new_sim_points_1.h5.\n"
     ]
    }
   ],
   "source": [
    "m.subdivide()"
   ]
  },
  {
   "cell_type": "markdown",
   "metadata": {},
   "source": [
    "Let's take a look at the grid."
   ]
  },
  {
   "cell_type": "code",
   "execution_count": 17,
   "metadata": {},
   "outputs": [
    {
     "name": "stdout",
     "output_type": "stream",
     "text": [
      "setup finished in 0.39 seconds\n",
      "project_2D took 0.12 seconds\n",
      "off-diagonal plot finished in 0.51 seconds\n"
     ]
    },
    {
     "data": {
      "image/png": "[encoded data removed]",
      "text/plain": [
       "<matplotlib.figure.Figure at 0x116a97f50>"
      ]
     },
     "metadata": {},
     "output_type": "display_data"
    }
   ],
   "source": [
    "m.visualize_grid(true_vals=params)"
   ]
  },
  {
   "cell_type": "markdown",
   "metadata": {},
   "source": [
    "### Compute and attach new model data\n",
    "We've added new model points to the grid so we have to compute the modeled values and attach that data."
   ]
  },
  {
   "cell_type": "code",
   "execution_count": 18,
   "metadata": {},
   "outputs": [],
   "source": [
    "new_sims = dd.io.load('new_sim_points_1.h5')"
   ]
  },
  {
   "cell_type": "code",
   "execution_count": 19,
   "metadata": {},
   "outputs": [],
   "source": [
    "data = []\n",
    "for sim in new_sims.iterrows():\n",
    "    v = sim[1]['V']\n",
    "    t = sim[1]['T']\n",
    "    this_pt = [v,t,compute_ID({'V':v,'T':t},sim[1])]\n",
    "    this_pt.extend([sim[1][n] for n in m.param_names])\n",
    "    data.append(this_pt)\n",
    "columns = ['V','T','J']\n",
    "columns.extend(m.param_names)\n",
    "new_sim_data = pd.DataFrame.from_records(data=data,columns=columns)\n",
    "dd.io.save('new_sim_data_1.h5',new_sim_data)"
   ]
  },
  {
   "cell_type": "code",
   "execution_count": 20,
   "metadata": {},
   "outputs": [],
   "source": [
    "m.attach_model(mode='add',fpath='new_sim_data_1.h5')"
   ]
  },
  {
   "cell_type": "code",
   "execution_count": 21,
   "metadata": {},
   "outputs": [],
   "source": [
    "m.calc_model_gradients()"
   ]
  },
  {
   "cell_type": "code",
   "execution_count": 22,
   "metadata": {},
   "outputs": [
    {
     "data": {
      "text/html": [
       "<div>\n",
       "<style scoped>\n",
       "    .dataframe tbody tr th:only-of-type {\n",
       "        vertical-align: middle;\n",
       "    }\n",
       "\n",
       "    .dataframe tbody tr th {\n",
       "        vertical-align: top;\n",
       "    }\n",
       "\n",
       "    .dataframe thead th {\n",
       "        text-align: right;\n",
       "    }\n",
       "</style>\n",
       "<table border=\"1\" class=\"dataframe\">\n",
       "  <thead>\n",
       "    <tr style=\"text-align: right;\">\n",
       "      <th></th>\n",
       "      <th>Bp</th>\n",
       "      <th>J</th>\n",
       "      <th>T</th>\n",
       "      <th>V</th>\n",
       "      <th>deltas</th>\n",
       "      <th>error</th>\n",
       "      <th>n</th>\n",
       "    </tr>\n",
       "  </thead>\n",
       "  <tbody>\n",
       "    <tr>\n",
       "      <th>0</th>\n",
       "      <td>11.659144</td>\n",
       "      <td>-0.03</td>\n",
       "      <td>150.0</td>\n",
       "      <td>0.000</td>\n",
       "      <td>0.000000e+00</td>\n",
       "      <td>0.000000e+00</td>\n",
       "      <td>1.033333</td>\n",
       "    </tr>\n",
       "    <tr>\n",
       "      <th>1</th>\n",
       "      <td>11.659144</td>\n",
       "      <td>-0.03</td>\n",
       "      <td>150.0</td>\n",
       "      <td>0.100</td>\n",
       "      <td>0.000000e+00</td>\n",
       "      <td>0.000000e+00</td>\n",
       "      <td>1.033333</td>\n",
       "    </tr>\n",
       "    <tr>\n",
       "      <th>2</th>\n",
       "      <td>11.659144</td>\n",
       "      <td>-0.03</td>\n",
       "      <td>150.0</td>\n",
       "      <td>0.200</td>\n",
       "      <td>0.000000e+00</td>\n",
       "      <td>0.000000e+00</td>\n",
       "      <td>1.033333</td>\n",
       "    </tr>\n",
       "    <tr>\n",
       "      <th>3</th>\n",
       "      <td>11.659144</td>\n",
       "      <td>-0.03</td>\n",
       "      <td>150.0</td>\n",
       "      <td>0.300</td>\n",
       "      <td>0.000000e+00</td>\n",
       "      <td>0.000000e+00</td>\n",
       "      <td>1.033333</td>\n",
       "    </tr>\n",
       "    <tr>\n",
       "      <th>4</th>\n",
       "      <td>11.659144</td>\n",
       "      <td>-0.03</td>\n",
       "      <td>150.0</td>\n",
       "      <td>0.425</td>\n",
       "      <td>2.081668e-17</td>\n",
       "      <td>4.163336e-17</td>\n",
       "      <td>1.033333</td>\n",
       "    </tr>\n",
       "  </tbody>\n",
       "</table>\n",
       "</div>"
      ],
      "text/plain": [
       "          Bp     J      T      V        deltas         error         n\n",
       "0  11.659144 -0.03  150.0  0.000  0.000000e+00  0.000000e+00  1.033333\n",
       "1  11.659144 -0.03  150.0  0.100  0.000000e+00  0.000000e+00  1.033333\n",
       "2  11.659144 -0.03  150.0  0.200  0.000000e+00  0.000000e+00  1.033333\n",
       "3  11.659144 -0.03  150.0  0.300  0.000000e+00  0.000000e+00  1.033333\n",
       "4  11.659144 -0.03  150.0  0.425  2.081668e-17  4.163336e-17  1.033333"
      ]
     },
     "execution_count": 22,
     "metadata": {},
     "output_type": "execute_result"
    }
   ],
   "source": [
    "m.model_data.head()"
   ]
  },
  {
   "cell_type": "markdown",
   "metadata": {},
   "source": [
    "### Second Bayes!\n",
    "Let's do it again!"
   ]
  },
  {
   "cell_type": "code",
   "execution_count": 23,
   "metadata": {},
   "outputs": [
    {
     "name": "stdout",
     "output_type": "stream",
     "text": [
      "\n",
      "*****RUN 1*****\n",
      "Reached threshold after 4 observation points were fed in!\n",
      "\n",
      "*****RUN 2*****\n",
      "Reached threshold after 3 observation points were fed in!\n",
      "\n",
      "*****RUN 3*****\n",
      "Reached threshold after 5 observation points were fed in!\n"
     ]
    }
   ],
   "source": [
    "m.run()"
   ]
  },
  {
   "cell_type": "code",
   "execution_count": 24,
   "metadata": {},
   "outputs": [
    {
     "name": "stdout",
     "output_type": "stream",
     "text": [
      "setup finished in 0.55 seconds\n",
      "project_1D took 0.18 seconds\n",
      "diagonal plot finished in 0.22 seconds\n",
      "project_2D took 0.11 seconds\n",
      "off-diagonal plot finished in 0.3 seconds\n",
      "project_1D took 0.2 seconds\n",
      "diagonal plot finished in 0.24 seconds\n"
     ]
    },
    {
     "data": {
      "image/png": "[encoded data removed]",
      "text/plain": [
       "<matplotlib.figure.Figure at 0x116377590>"
      ]
     },
     "metadata": {},
     "output_type": "display_data"
    }
   ],
   "source": [
    "m.visualize_probs(true_vals=params)"
   ]
  },
  {
   "cell_type": "code",
   "execution_count": null,
   "metadata": {},
   "outputs": [
    {
     "data": {
      "text/html": [
       "<div>\n",
       "<style scoped>\n",
       "    .dataframe tbody tr th:only-of-type {\n",
       "        vertical-align: middle;\n",
       "    }\n",
       "\n",
       "    .dataframe tbody tr th {\n",
       "        vertical-align: top;\n",
       "    }\n",
       "\n",
       "    .dataframe thead th {\n",
       "        text-align: right;\n",
       "    }\n",
       "</style>\n",
       "<table border=\"1\" class=\"dataframe\">\n",
       "  <thead>\n",
       "    <tr style=\"text-align: right;\">\n",
       "      <th></th>\n",
       "      <th>Bp</th>\n",
       "      <th>Bp_max</th>\n",
       "      <th>Bp_min</th>\n",
       "      <th>end_ind</th>\n",
       "      <th>n</th>\n",
       "      <th>n_max</th>\n",
       "      <th>n_min</th>\n",
       "      <th>new</th>\n",
       "      <th>num_sub</th>\n",
       "      <th>prob</th>\n",
       "      <th>start_ind</th>\n",
       "    </tr>\n",
       "  </thead>\n",
       "  <tbody>\n",
       "    <tr>\n",
       "      <th>352</th>\n",
       "      <td>464.158883</td>\n",
       "      <td>541.169527</td>\n",
       "      <td>398.107171</td>\n",
       "      <td>6062</td>\n",
       "      <td>1.433333</td>\n",
       "      <td>1.466667</td>\n",
       "      <td>1.400000</td>\n",
       "      <td>0.0</td>\n",
       "      <td>0</td>\n",
       "      <td>0.102639</td>\n",
       "      <td>6016</td>\n",
       "    </tr>\n",
       "    <tr>\n",
       "      <th>330</th>\n",
       "      <td>341.454887</td>\n",
       "      <td>398.107171</td>\n",
       "      <td>292.864456</td>\n",
       "      <td>5874</td>\n",
       "      <td>1.900000</td>\n",
       "      <td>1.933333</td>\n",
       "      <td>1.866667</td>\n",
       "      <td>0.0</td>\n",
       "      <td>0</td>\n",
       "      <td>0.082462</td>\n",
       "      <td>5828</td>\n",
       "    </tr>\n",
       "    <tr>\n",
       "      <th>343</th>\n",
       "      <td>429.866235</td>\n",
       "      <td>464.158883</td>\n",
       "      <td>398.107171</td>\n",
       "      <td>17765</td>\n",
       "      <td>1.116667</td>\n",
       "      <td>1.133333</td>\n",
       "      <td>1.100000</td>\n",
       "      <td>1.0</td>\n",
       "      <td>1</td>\n",
       "      <td>0.078867</td>\n",
       "      <td>17719</td>\n",
       "    </tr>\n",
       "    <tr>\n",
       "      <th>363</th>\n",
       "      <td>501.187234</td>\n",
       "      <td>541.169527</td>\n",
       "      <td>464.158883</td>\n",
       "      <td>18188</td>\n",
       "      <td>1.150000</td>\n",
       "      <td>1.166667</td>\n",
       "      <td>1.133333</td>\n",
       "      <td>1.0</td>\n",
       "      <td>1</td>\n",
       "      <td>0.070539</td>\n",
       "      <td>18142</td>\n",
       "    </tr>\n",
       "    <tr>\n",
       "      <th>372</th>\n",
       "      <td>584.341413</td>\n",
       "      <td>630.957344</td>\n",
       "      <td>541.169527</td>\n",
       "      <td>18611</td>\n",
       "      <td>1.116667</td>\n",
       "      <td>1.133333</td>\n",
       "      <td>1.100000</td>\n",
       "      <td>1.0</td>\n",
       "      <td>1</td>\n",
       "      <td>0.060068</td>\n",
       "      <td>18565</td>\n",
       "    </tr>\n",
       "    <tr>\n",
       "      <th>389</th>\n",
       "      <td>681.292069</td>\n",
       "      <td>735.642254</td>\n",
       "      <td>630.957344</td>\n",
       "      <td>18893</td>\n",
       "      <td>1.050000</td>\n",
       "      <td>1.066667</td>\n",
       "      <td>1.033333</td>\n",
       "      <td>1.0</td>\n",
       "      <td>1</td>\n",
       "      <td>0.037677</td>\n",
       "      <td>18847</td>\n",
       "    </tr>\n",
       "    <tr>\n",
       "      <th>381</th>\n",
       "      <td>630.957344</td>\n",
       "      <td>735.642254</td>\n",
       "      <td>541.169527</td>\n",
       "      <td>6673</td>\n",
       "      <td>1.566667</td>\n",
       "      <td>1.600000</td>\n",
       "      <td>1.533333</td>\n",
       "      <td>0.0</td>\n",
       "      <td>0</td>\n",
       "      <td>0.032311</td>\n",
       "      <td>6627</td>\n",
       "    </tr>\n",
       "    <tr>\n",
       "      <th>295</th>\n",
       "      <td>251.188643</td>\n",
       "      <td>292.864456</td>\n",
       "      <td>215.443469</td>\n",
       "      <td>5169</td>\n",
       "      <td>1.566667</td>\n",
       "      <td>1.600000</td>\n",
       "      <td>1.533333</td>\n",
       "      <td>0.0</td>\n",
       "      <td>0</td>\n",
       "      <td>0.031654</td>\n",
       "      <td>5123</td>\n",
       "    </tr>\n",
       "    <tr>\n",
       "      <th>382</th>\n",
       "      <td>630.957344</td>\n",
       "      <td>735.642254</td>\n",
       "      <td>541.169527</td>\n",
       "      <td>6720</td>\n",
       "      <td>1.633333</td>\n",
       "      <td>1.666667</td>\n",
       "      <td>1.600000</td>\n",
       "      <td>0.0</td>\n",
       "      <td>0</td>\n",
       "      <td>0.028084</td>\n",
       "      <td>6674</td>\n",
       "    </tr>\n",
       "    <tr>\n",
       "      <th>398</th>\n",
       "      <td>794.328235</td>\n",
       "      <td>857.695899</td>\n",
       "      <td>735.642254</td>\n",
       "      <td>19316</td>\n",
       "      <td>1.083333</td>\n",
       "      <td>1.100000</td>\n",
       "      <td>1.066667</td>\n",
       "      <td>1.0</td>\n",
       "      <td>1</td>\n",
       "      <td>0.026835</td>\n",
       "      <td>19270</td>\n",
       "    </tr>\n",
       "  </tbody>\n",
       "</table>\n",
       "</div>"
      ],
      "text/plain": [
       "             Bp      Bp_max      Bp_min  end_ind         n     n_max  \\\n",
       "352  464.158883  541.169527  398.107171     6062  1.433333  1.466667   \n",
       "330  341.454887  398.107171  292.864456     5874  1.900000  1.933333   \n",
       "343  429.866235  464.158883  398.107171    17765  1.116667  1.133333   \n",
       "363  501.187234  541.169527  464.158883    18188  1.150000  1.166667   \n",
       "372  584.341413  630.957344  541.169527    18611  1.116667  1.133333   \n",
       "389  681.292069  735.642254  630.957344    18893  1.050000  1.066667   \n",
       "381  630.957344  735.642254  541.169527     6673  1.566667  1.600000   \n",
       "295  251.188643  292.864456  215.443469     5169  1.566667  1.600000   \n",
       "382  630.957344  735.642254  541.169527     6720  1.633333  1.666667   \n",
       "398  794.328235  857.695899  735.642254    19316  1.083333  1.100000   \n",
       "\n",
       "        n_min  new  num_sub      prob  start_ind  \n",
       "352  1.400000  0.0        0  0.102639       6016  \n",
       "330  1.866667  0.0        0  0.082462       5828  \n",
       "343  1.100000  1.0        1  0.078867      17719  \n",
       "363  1.133333  1.0        1  0.070539      18142  \n",
       "372  1.100000  1.0        1  0.060068      18565  \n",
       "389  1.033333  1.0        1  0.037677      18847  \n",
       "381  1.533333  0.0        0  0.032311       6627  \n",
       "295  1.533333  0.0        0  0.031654       5123  \n",
       "382  1.600000  0.0        0  0.028084       6674  \n",
       "398  1.066667  1.0        1  0.026835      19270  "
      ]
     },
     "execution_count": 25,
     "metadata": {},
     "output_type": "execute_result"
    }
   ],
   "source": [
    "m.probs.most_probable(10)"
   ]
  },
  {
   "cell_type": "code",
   "execution_count": null,
   "metadata": {},
   "outputs": [
    {
     "name": "stdout",
     "output_type": "stream",
     "text": [
      "67 box(es) with probability > 0.001 and 122 neighboring boxes subdivided!\n"
     ]
    }
   ],
   "source": [
    "m.subdivide()"
   ]
  },
  {
   "cell_type": "code",
   "execution_count": null,
   "metadata": {},
   "outputs": [],
   "source": [
    "m.visualize_grid(true_vals=params)"
   ]
  },
  {
   "cell_type": "code",
   "execution_count": null,
   "metadata": {},
   "outputs": [],
   "source": [
    "new_sims = dd.io.load('new_sim_points_2.h5')\n",
    "data = []\n",
    "for sim in new_sims.iterrows():\n",
    "    v = sim[1]['V']\n",
    "    t = sim[1]['T']\n",
    "    this_pt = [v,t,compute_ID({'V':v,'T':t},sim[1])]\n",
    "    this_pt.extend([sim[1][n] for n in m.param_names])\n",
    "    data.append(this_pt)\n",
    "columns = ['V','T','J']\n",
    "columns.extend(m.param_names)\n",
    "new_sim_data = pd.DataFrame.from_records(data=data,columns=columns)\n",
    "dd.io.save('new_sim_data_2.h5',new_sim_data)\n",
    "m.attach_model(mode='add',fpath='new_sim_data_2.h5')\n",
    "m.calc_model_gradients()"
   ]
  },
  {
   "cell_type": "code",
   "execution_count": null,
   "metadata": {},
   "outputs": [],
   "source": [
    "m.run()"
   ]
  },
  {
   "cell_type": "code",
   "execution_count": null,
   "metadata": {},
   "outputs": [],
   "source": [
    "m.visualize_probs(true_vals=params)"
   ]
  },
  {
   "cell_type": "code",
   "execution_count": null,
   "metadata": {
    "scrolled": true
   },
   "outputs": [],
   "source": [
    "m.probs.most_probable(5)"
   ]
  },
  {
   "cell_type": "code",
   "execution_count": null,
   "metadata": {},
   "outputs": [],
   "source": [
    "m.model_data.sample(10)"
   ]
  },
  {
   "cell_type": "code",
   "execution_count": null,
   "metadata": {},
   "outputs": [],
   "source": [
    "m.comparison_plot()"
   ]
  },
  {
   "cell_type": "code",
   "execution_count": null,
   "metadata": {},
   "outputs": [],
   "source": []
  }
 ],
 "metadata": {
  "kernelspec": {
   "display_name": "Python [default]",
   "language": "python",
   "name": "python2"
  },
  "language_info": {
   "codemirror_mode": {
    "name": "ipython",
    "version": 2
   },
   "file_extension": ".py",
   "mimetype": "text/x-python",
   "name": "python",
   "nbconvert_exporter": "python",
   "pygments_lexer": "ipython2",
   "version": "2.7.14"
  }
 },
 "nbformat": 4,
 "nbformat_minor": 2
}
