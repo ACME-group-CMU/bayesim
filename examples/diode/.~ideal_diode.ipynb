{
 "cells": [
  {
   "cell_type": "markdown",
   "metadata": {},
   "source": [
    "# Ideal Diode Example"
   ]
  },
  {
   "cell_type": "markdown",
   "metadata": {},
   "source": [
    "The simplest way to model a solar cell is as an **ideal diode**, described by the following equation:\n",
    "$$J(V,T) = J_L+J_0(\\exp{\\frac{qV}{nkT}}-1)$$\n",
    "where $k=8.61733\\times 10^{-5}$ eV/K is Boltzmann's constant, by convention $J_L$ (the light current) is negative and $J_0$ (the saturation current) is positive but strongly dependent on temperature, a dependence we can approximate as:\n",
    "$$J_0 \\approx B'T^{3/n}\\exp{\\frac{-E_{g0}}{nkT}}$$\n",
    "We'll use the silicon zero-temperature bandgap, $E_{g0}=1.2$ eV, meaning we just need to fit for $B'$ in this equation.\n",
    "$J_L$ is typically directly proportional to light intensity, which we will treat as fixed for this example, leaving us with two parameters to fit for: $B'$ and the ideality factor $n$."
   ]
  },
  {
   "cell_type": "code",
   "execution_count": 1,
   "metadata": {},
   "outputs": [],
   "source": [
    "import numpy as np\n",
    "import sys\n",
    "import math\n",
    "import pandas as pd\n",
    "sys.path.append('../../')\n",
    "import bayesim.model as bym\n",
    "import bayesim.param_list as byp\n",
    "import deepdish as dd\n",
    "from jupyterthemes import jtplot\n",
    "jtplot.style('default')"
   ]
  },
  {
   "cell_type": "markdown",
   "metadata": {},
   "source": [
    "## List the parameters\n",
    "First, we list our fitting parameters."
   ]
  },
  {
   "cell_type": "code",
   "execution_count": 2,
   "metadata": {},
   "outputs": [],
   "source": [
    "fp = byp.param_list()\n",
    "fp.add_fit_param(name='Bp',val_range=[10,1000],spacing='log',length=15,units='arb.')\n",
    "fp.add_fit_param(name='n',val_range=[1,2],length=15)"
   ]
  },
  {
   "cell_type": "markdown",
   "metadata": {},
   "source": [
    "We can inspect the `param_list` object and see what kind of information is inside..."
   ]
  },
  {
   "cell_type": "code",
   "execution_count": 3,
   "metadata": {},
   "outputs": [
    {
     "data": {
      "text/plain": [
       "[{'edges': array([   10.        ,    13.59356391,    18.47849797,    25.11886432,\n",
       "            34.14548874,    46.41588834,    63.09573445,    85.76958986,\n",
       "           116.59144012,   158.48931925,   215.443469  ,   292.86445646,\n",
       "           398.10717055,   541.16952655,   735.64225446,  1000.        ]),\n",
       "  'length': 15,\n",
       "  'min_width': 1.0311772745930552,\n",
       "  'name': 'Bp',\n",
       "  'spacing': 'log',\n",
       "  'units': 'arb.',\n",
       "  'val_range': [10, 1000],\n",
       "  'vals': array([  11.65914401,   15.84893192,   21.5443469 ,   29.28644565,\n",
       "           39.81071706,   54.11695265,   73.56422545,  100.        ,\n",
       "          135.93563909,  184.78497974,  251.18864315,  341.45488738,\n",
       "          464.15888336,  630.95734448,  857.69589859])},\n",
       " {'edges': array([ 1.        ,  1.06666667,  1.13333333,  1.2       ,  1.26666667,\n",
       "          1.33333333,  1.4       ,  1.46666667,  1.53333333,  1.6       ,\n",
       "          1.66666667,  1.73333333,  1.8       ,  1.86666667,  1.93333333,  2.        ]),\n",
       "  'length': 15,\n",
       "  'min_width': 0.006666666666666667,\n",
       "  'name': 'n',\n",
       "  'spacing': 'linear',\n",
       "  'units': 'unitless',\n",
       "  'val_range': [1, 2],\n",
       "  'vals': array([ 1.03333333,  1.1       ,  1.16666667,  1.23333333,  1.3       ,\n",
       "          1.36666667,  1.43333333,  1.5       ,  1.56666667,  1.63333333,\n",
       "          1.7       ,  1.76666667,  1.83333333,  1.9       ,  1.96666667])}]"
      ]
     },
     "execution_count": 3,
     "metadata": {},
     "output_type": "execute_result"
    }
   ],
   "source": [
    "fp.fit_params"
   ]
  },
  {
   "cell_type": "markdown",
   "metadata": {},
   "source": [
    "Note that there are both `edges` and `vals` computed - the `vals` will be the values at which computations will be done, while `edges` will be the edges of the grid, used in subdivision steps later on."
   ]
  },
  {
   "cell_type": "markdown",
   "metadata": {},
   "source": [
    "Finally, we define the measurement conditions. We won't be varying light intensity here, so we only need voltage and temperature."
   ]
  },
  {
   "cell_type": "code",
   "execution_count": 4,
   "metadata": {},
   "outputs": [],
   "source": [
    "ec = ['V','T']"
   ]
  },
  {
   "cell_type": "code",
   "execution_count": 5,
   "metadata": {},
   "outputs": [],
   "source": [
    "m = bym.model(params=fp,ec=ec,output_var='J')"
   ]
  },
  {
   "cell_type": "code",
   "execution_count": 6,
   "metadata": {},
   "outputs": [
    {
     "data": {
      "text/html": [
       "<div>\n",
       "<style scoped>\n",
       "    .dataframe tbody tr th:only-of-type {\n",
       "        vertical-align: middle;\n",
       "    }\n",
       "\n",
       "    .dataframe tbody tr th {\n",
       "        vertical-align: top;\n",
       "    }\n",
       "\n",
       "    .dataframe thead th {\n",
       "        text-align: right;\n",
       "    }\n",
       "</style>\n",
       "<table border=\"1\" class=\"dataframe\">\n",
       "  <thead>\n",
       "    <tr style=\"text-align: right;\">\n",
       "      <th></th>\n",
       "      <th>Bp</th>\n",
       "      <th>Bp_min</th>\n",
       "      <th>Bp_max</th>\n",
       "      <th>n</th>\n",
       "      <th>n_min</th>\n",
       "      <th>n_max</th>\n",
       "      <th>new</th>\n",
       "      <th>prob</th>\n",
       "      <th>num_sub</th>\n",
       "    </tr>\n",
       "  </thead>\n",
       "  <tbody>\n",
       "    <tr>\n",
       "      <th>0</th>\n",
       "      <td>11.659144</td>\n",
       "      <td>10.0</td>\n",
       "      <td>13.593564</td>\n",
       "      <td>1.033333</td>\n",
       "      <td>1.000000</td>\n",
       "      <td>1.066667</td>\n",
       "      <td>1.0</td>\n",
       "      <td>0.004444</td>\n",
       "      <td>0</td>\n",
       "    </tr>\n",
       "    <tr>\n",
       "      <th>1</th>\n",
       "      <td>11.659144</td>\n",
       "      <td>10.0</td>\n",
       "      <td>13.593564</td>\n",
       "      <td>1.100000</td>\n",
       "      <td>1.066667</td>\n",
       "      <td>1.133333</td>\n",
       "      <td>1.0</td>\n",
       "      <td>0.004444</td>\n",
       "      <td>0</td>\n",
       "    </tr>\n",
       "    <tr>\n",
       "      <th>2</th>\n",
       "      <td>11.659144</td>\n",
       "      <td>10.0</td>\n",
       "      <td>13.593564</td>\n",
       "      <td>1.166667</td>\n",
       "      <td>1.133333</td>\n",
       "      <td>1.200000</td>\n",
       "      <td>1.0</td>\n",
       "      <td>0.004444</td>\n",
       "      <td>0</td>\n",
       "    </tr>\n",
       "    <tr>\n",
       "      <th>3</th>\n",
       "      <td>11.659144</td>\n",
       "      <td>10.0</td>\n",
       "      <td>13.593564</td>\n",
       "      <td>1.233333</td>\n",
       "      <td>1.200000</td>\n",
       "      <td>1.266667</td>\n",
       "      <td>1.0</td>\n",
       "      <td>0.004444</td>\n",
       "      <td>0</td>\n",
       "    </tr>\n",
       "    <tr>\n",
       "      <th>4</th>\n",
       "      <td>11.659144</td>\n",
       "      <td>10.0</td>\n",
       "      <td>13.593564</td>\n",
       "      <td>1.300000</td>\n",
       "      <td>1.266667</td>\n",
       "      <td>1.333333</td>\n",
       "      <td>1.0</td>\n",
       "      <td>0.004444</td>\n",
       "      <td>0</td>\n",
       "    </tr>\n",
       "    <tr>\n",
       "      <th>5</th>\n",
       "      <td>11.659144</td>\n",
       "      <td>10.0</td>\n",
       "      <td>13.593564</td>\n",
       "      <td>1.366667</td>\n",
       "      <td>1.333333</td>\n",
       "      <td>1.400000</td>\n",
       "      <td>1.0</td>\n",
       "      <td>0.004444</td>\n",
       "      <td>0</td>\n",
       "    </tr>\n",
       "    <tr>\n",
       "      <th>6</th>\n",
       "      <td>11.659144</td>\n",
       "      <td>10.0</td>\n",
       "      <td>13.593564</td>\n",
       "      <td>1.433333</td>\n",
       "      <td>1.400000</td>\n",
       "      <td>1.466667</td>\n",
       "      <td>1.0</td>\n",
       "      <td>0.004444</td>\n",
       "      <td>0</td>\n",
       "    </tr>\n",
       "    <tr>\n",
       "      <th>7</th>\n",
       "      <td>11.659144</td>\n",
       "      <td>10.0</td>\n",
       "      <td>13.593564</td>\n",
       "      <td>1.500000</td>\n",
       "      <td>1.466667</td>\n",
       "      <td>1.533333</td>\n",
       "      <td>1.0</td>\n",
       "      <td>0.004444</td>\n",
       "      <td>0</td>\n",
       "    </tr>\n",
       "    <tr>\n",
       "      <th>8</th>\n",
       "      <td>11.659144</td>\n",
       "      <td>10.0</td>\n",
       "      <td>13.593564</td>\n",
       "      <td>1.566667</td>\n",
       "      <td>1.533333</td>\n",
       "      <td>1.600000</td>\n",
       "      <td>1.0</td>\n",
       "      <td>0.004444</td>\n",
       "      <td>0</td>\n",
       "    </tr>\n",
       "    <tr>\n",
       "      <th>9</th>\n",
       "      <td>11.659144</td>\n",
       "      <td>10.0</td>\n",
       "      <td>13.593564</td>\n",
       "      <td>1.633333</td>\n",
       "      <td>1.600000</td>\n",
       "      <td>1.666667</td>\n",
       "      <td>1.0</td>\n",
       "      <td>0.004444</td>\n",
       "      <td>0</td>\n",
       "    </tr>\n",
       "    <tr>\n",
       "      <th>10</th>\n",
       "      <td>11.659144</td>\n",
       "      <td>10.0</td>\n",
       "      <td>13.593564</td>\n",
       "      <td>1.700000</td>\n",
       "      <td>1.666667</td>\n",
       "      <td>1.733333</td>\n",
       "      <td>1.0</td>\n",
       "      <td>0.004444</td>\n",
       "      <td>0</td>\n",
       "    </tr>\n",
       "  </tbody>\n",
       "</table>\n",
       "</div>"
      ],
      "text/plain": [
       "           Bp  Bp_min     Bp_max         n     n_min     n_max  new      prob  \\\n",
       "0   11.659144    10.0  13.593564  1.033333  1.000000  1.066667  1.0  0.004444   \n",
       "1   11.659144    10.0  13.593564  1.100000  1.066667  1.133333  1.0  0.004444   \n",
       "2   11.659144    10.0  13.593564  1.166667  1.133333  1.200000  1.0  0.004444   \n",
       "3   11.659144    10.0  13.593564  1.233333  1.200000  1.266667  1.0  0.004444   \n",
       "4   11.659144    10.0  13.593564  1.300000  1.266667  1.333333  1.0  0.004444   \n",
       "5   11.659144    10.0  13.593564  1.366667  1.333333  1.400000  1.0  0.004444   \n",
       "6   11.659144    10.0  13.593564  1.433333  1.400000  1.466667  1.0  0.004444   \n",
       "7   11.659144    10.0  13.593564  1.500000  1.466667  1.533333  1.0  0.004444   \n",
       "8   11.659144    10.0  13.593564  1.566667  1.533333  1.600000  1.0  0.004444   \n",
       "9   11.659144    10.0  13.593564  1.633333  1.600000  1.666667  1.0  0.004444   \n",
       "10  11.659144    10.0  13.593564  1.700000  1.666667  1.733333  1.0  0.004444   \n",
       "\n",
       "    num_sub  \n",
       "0         0  \n",
       "1         0  \n",
       "2         0  \n",
       "3         0  \n",
       "4         0  \n",
       "5         0  \n",
       "6         0  \n",
       "7         0  \n",
       "8         0  \n",
       "9         0  \n",
       "10        0  "
      ]
     },
     "execution_count": 6,
     "metadata": {},
     "output_type": "execute_result"
    }
   ],
   "source": [
    "m.probs.points.head(11)"
   ]
  },
  {
   "cell_type": "markdown",
   "metadata": {},
   "source": [
    "## Attach experimental data\n",
    "This is the next step that needs to be done before adding the model as it will use the experimental conditions we enumerate here to compute simulated outputs. For our \"experimental\" data here, we'll actually just simulate some ideal diodes so that we can directly see how good the Bayesian approach is at recovering true underlying parameters.\n",
    "\n",
    "We'll use $n=1.36$ and $B'=258$ as our \"true\" parameters. (I have no idea what \"realistic\" values for $B'$ would be...)"
   ]
  },
  {
   "cell_type": "code",
   "execution_count": 7,
   "metadata": {},
   "outputs": [],
   "source": [
    "def compute_ID(ec,params):\n",
    "    J_L = -0.03 # treat as fixed for now\n",
    "    V = ec['V']\n",
    "    T = ec['T']\n",
    "    V_th = 8.61733e-5 * T # thermal voltage, kT/q\n",
    "    n = params['n']\n",
    "    Bp = params['Bp']\n",
    "    J0 = Bp*T**(3/n)*math.exp(-1.2/V_th/n)\n",
    "    return J_L + J0*(math.exp(V/V_th/n)-1)\n",
    "\n",
    "V = np.arange(0,1.0,0.05)\n",
    "T = [float(t) for t in np.arange(150,301,50)]\n",
    "params = {'n':1.36,'Bp':258}\n",
    "\n",
    "data = []\n",
    "for t in T:\n",
    "    for v in V:\n",
    "        data.append([v,t,compute_ID({'V':v,'T':t},params)])\n",
    "        \n",
    "data = pd.DataFrame.from_records(data=data,columns=['V','T','J'])\n",
    "#dd.io.save('obs_data.h5',data)"
   ]
  },
  {
   "cell_type": "code",
   "execution_count": 8,
   "metadata": {},
   "outputs": [
    {
     "name": "stdout",
     "output_type": "stream",
     "text": [
      "Identified experimental conditions as ['V', 'T']. If this is wrong, rerun and explicitly specify them with attach_ec (make sure they match data file columns) or remove extra columns from data file.\n"
     ]
    }
   ],
   "source": [
    "m.attach_observations(fpath='obs_data.h5')"
   ]
  },
  {
   "cell_type": "code",
   "execution_count": 9,
   "metadata": {
    "scrolled": false
   },
   "outputs": [
    {
     "data": {
      "image/png": "[encoded data removed]",
      "text/plain": [
       "<matplotlib.figure.Figure at 0x11a9c6790>"
      ]
     },
     "metadata": {},
     "output_type": "display_data"
    }
   ],
   "source": [
    "import matplotlib.pyplot as plt\n",
    "%matplotlib inline\n",
    "leg = []\n",
    "for i in range(len(T)):\n",
    "    curve = data.iloc[len(V)*i:len(V)*(i+1)]\n",
    "    plt.plot(curve['V'],curve['J'])\n",
    "    leg.append(curve['T'].iloc[0])\n",
    "plt.ylim([-0.05,0.1])\n",
    "plt.legend([str(t) for t in leg])\n",
    "plt.xlabel('Voltage [V]')\n",
    "plt.ylabel('Current')\n",
    "plt.show()"
   ]
  },
  {
   "cell_type": "code",
   "execution_count": 10,
   "metadata": {},
   "outputs": [],
   "source": [
    "#m.obs_data.head()"
   ]
  },
  {
   "cell_type": "markdown",
   "metadata": {},
   "source": [
    "## Attach model\n",
    "Now we add the function that gives the modeled data - in this case, the `compute_ID` function we just defined above."
   ]
  },
  {
   "cell_type": "code",
   "execution_count": 11,
   "metadata": {},
   "outputs": [],
   "source": [
    "m.attach_model(mode='function',func_name=compute_ID)\n",
    "#m.attach_model(mode='file',fpath='model_data.h5')"
   ]
  },
  {
   "cell_type": "markdown",
   "metadata": {},
   "source": [
    "That's it! When that function is called, `bayesim` also generates the full table of modeled data at all experimental conditions in the observed data we attached before. Check it out:"
   ]
  },
  {
   "cell_type": "code",
   "execution_count": 12,
   "metadata": {},
   "outputs": [
    {
     "data": {
      "text/html": [
       "<div>\n",
       "<style scoped>\n",
       "    .dataframe tbody tr th:only-of-type {\n",
       "        vertical-align: middle;\n",
       "    }\n",
       "\n",
       "    .dataframe tbody tr th {\n",
       "        vertical-align: top;\n",
       "    }\n",
       "\n",
       "    .dataframe thead th {\n",
       "        text-align: right;\n",
       "    }\n",
       "</style>\n",
       "<table border=\"1\" class=\"dataframe\">\n",
       "  <thead>\n",
       "    <tr style=\"text-align: right;\">\n",
       "      <th></th>\n",
       "      <th>Bp</th>\n",
       "      <th>J</th>\n",
       "      <th>T</th>\n",
       "      <th>V</th>\n",
       "      <th>n</th>\n",
       "    </tr>\n",
       "  </thead>\n",
       "  <tbody>\n",
       "    <tr>\n",
       "      <th>0</th>\n",
       "      <td>11.659144</td>\n",
       "      <td>-0.03</td>\n",
       "      <td>150.0</td>\n",
       "      <td>0.00</td>\n",
       "      <td>1.033333</td>\n",
       "    </tr>\n",
       "    <tr>\n",
       "      <th>1</th>\n",
       "      <td>11.659144</td>\n",
       "      <td>-0.03</td>\n",
       "      <td>150.0</td>\n",
       "      <td>0.05</td>\n",
       "      <td>1.033333</td>\n",
       "    </tr>\n",
       "    <tr>\n",
       "      <th>2</th>\n",
       "      <td>11.659144</td>\n",
       "      <td>-0.03</td>\n",
       "      <td>150.0</td>\n",
       "      <td>0.10</td>\n",
       "      <td>1.033333</td>\n",
       "    </tr>\n",
       "    <tr>\n",
       "      <th>3</th>\n",
       "      <td>11.659144</td>\n",
       "      <td>-0.03</td>\n",
       "      <td>150.0</td>\n",
       "      <td>0.15</td>\n",
       "      <td>1.033333</td>\n",
       "    </tr>\n",
       "    <tr>\n",
       "      <th>4</th>\n",
       "      <td>11.659144</td>\n",
       "      <td>-0.03</td>\n",
       "      <td>150.0</td>\n",
       "      <td>0.20</td>\n",
       "      <td>1.033333</td>\n",
       "    </tr>\n",
       "    <tr>\n",
       "      <th>5</th>\n",
       "      <td>11.659144</td>\n",
       "      <td>-0.03</td>\n",
       "      <td>150.0</td>\n",
       "      <td>0.25</td>\n",
       "      <td>1.033333</td>\n",
       "    </tr>\n",
       "    <tr>\n",
       "      <th>6</th>\n",
       "      <td>11.659144</td>\n",
       "      <td>-0.03</td>\n",
       "      <td>150.0</td>\n",
       "      <td>0.30</td>\n",
       "      <td>1.033333</td>\n",
       "    </tr>\n",
       "    <tr>\n",
       "      <th>7</th>\n",
       "      <td>11.659144</td>\n",
       "      <td>-0.03</td>\n",
       "      <td>150.0</td>\n",
       "      <td>0.35</td>\n",
       "      <td>1.033333</td>\n",
       "    </tr>\n",
       "    <tr>\n",
       "      <th>8</th>\n",
       "      <td>11.659144</td>\n",
       "      <td>-0.03</td>\n",
       "      <td>150.0</td>\n",
       "      <td>0.40</td>\n",
       "      <td>1.033333</td>\n",
       "    </tr>\n",
       "    <tr>\n",
       "      <th>9</th>\n",
       "      <td>11.659144</td>\n",
       "      <td>-0.03</td>\n",
       "      <td>150.0</td>\n",
       "      <td>0.45</td>\n",
       "      <td>1.033333</td>\n",
       "    </tr>\n",
       "  </tbody>\n",
       "</table>\n",
       "</div>"
      ],
      "text/plain": [
       "          Bp     J      T     V         n\n",
       "0  11.659144 -0.03  150.0  0.00  1.033333\n",
       "1  11.659144 -0.03  150.0  0.05  1.033333\n",
       "2  11.659144 -0.03  150.0  0.10  1.033333\n",
       "3  11.659144 -0.03  150.0  0.15  1.033333\n",
       "4  11.659144 -0.03  150.0  0.20  1.033333\n",
       "5  11.659144 -0.03  150.0  0.25  1.033333\n",
       "6  11.659144 -0.03  150.0  0.30  1.033333\n",
       "7  11.659144 -0.03  150.0  0.35  1.033333\n",
       "8  11.659144 -0.03  150.0  0.40  1.033333\n",
       "9  11.659144 -0.03  150.0  0.45  1.033333"
      ]
     },
     "execution_count": 12,
     "metadata": {},
     "output_type": "execute_result"
    }
   ],
   "source": [
    "m.model_data.head(10)"
   ]
  },
  {
   "cell_type": "code",
   "execution_count": 13,
   "metadata": {},
   "outputs": [],
   "source": [
    "m.calc_model_gradients()"
   ]
  },
  {
   "cell_type": "markdown",
   "metadata": {},
   "source": [
    "## Drop that Bayes!"
   ]
  },
  {
   "cell_type": "code",
   "execution_count": 14,
   "metadata": {},
   "outputs": [
    {
     "name": "stdout",
     "output_type": "stream",
     "text": [
      "(0, V       0.850000\n",
      "T     300.000000\n",
      "J    3568.727199\n",
      "Name: 77, dtype: float64)\n",
      "(1, V      0.30\n",
      "T    200.00\n",
      "J     -0.03\n",
      "Name: 26, dtype: float64)\n",
      "(2, V      0.05\n",
      "T    200.00\n",
      "J     -0.03\n",
      "Name: 21, dtype: float64)\n",
      "(3, V      0.00\n",
      "T    200.00\n",
      "J     -0.03\n",
      "Name: 20, dtype: float64)\n",
      "(4, V      0.700000\n",
      "T    200.000000\n",
      "J     -0.013284\n",
      "Name: 34, dtype: float64)\n",
      "(5, V      0.20\n",
      "T    150.00\n",
      "J     -0.03\n",
      "Name: 4, dtype: float64)\n",
      "(6, V      0.05\n",
      "T    250.00\n",
      "J     -0.03\n",
      "Name: 41, dtype: float64)\n",
      "(7, V      0.550000\n",
      "T    200.000000\n",
      "J     -0.029972\n",
      "Name: 31, dtype: float64)\n",
      "Fed in 8 points and now time to subdivide!\n"
     ]
    }
   ],
   "source": [
    "m.probs.uniformize() #not actually necessary but good for rerunning when numerics problems strike\n",
    "m.run()"
   ]
  },
  {
   "cell_type": "code",
   "execution_count": 15,
   "metadata": {},
   "outputs": [
    {
     "data": {
      "image/png": "[encoded data removed]",
      "text/plain": [
       "<matplotlib.figure.Figure at 0x11d269d10>"
      ]
     },
     "metadata": {},
     "output_type": "display_data"
    }
   ],
   "source": [
    "m.visualize_probs(true_vals=params)"
   ]
  },
  {
   "cell_type": "code",
   "execution_count": 16,
   "metadata": {},
   "outputs": [
    {
     "data": {
      "text/html": [
       "<div>\n",
       "<style scoped>\n",
       "    .dataframe tbody tr th:only-of-type {\n",
       "        vertical-align: middle;\n",
       "    }\n",
       "\n",
       "    .dataframe tbody tr th {\n",
       "        vertical-align: top;\n",
       "    }\n",
       "\n",
       "    .dataframe thead th {\n",
       "        text-align: right;\n",
       "    }\n",
       "</style>\n",
       "<table border=\"1\" class=\"dataframe\">\n",
       "  <thead>\n",
       "    <tr style=\"text-align: right;\">\n",
       "      <th></th>\n",
       "      <th>Bp</th>\n",
       "      <th>Bp_min</th>\n",
       "      <th>Bp_max</th>\n",
       "      <th>n</th>\n",
       "      <th>n_min</th>\n",
       "      <th>n_max</th>\n",
       "      <th>new</th>\n",
       "      <th>prob</th>\n",
       "      <th>num_sub</th>\n",
       "      <th>start_ind</th>\n",
       "      <th>end_ind</th>\n",
       "    </tr>\n",
       "  </thead>\n",
       "  <tbody>\n",
       "    <tr>\n",
       "      <th>140</th>\n",
       "      <td>184.784980</td>\n",
       "      <td>158.489319</td>\n",
       "      <td>215.443469</td>\n",
       "      <td>1.366667</td>\n",
       "      <td>1.333333</td>\n",
       "      <td>1.400000</td>\n",
       "      <td>1.0</td>\n",
       "      <td>0.163872</td>\n",
       "      <td>0</td>\n",
       "      <td>11200</td>\n",
       "      <td>11279</td>\n",
       "    </tr>\n",
       "    <tr>\n",
       "      <th>125</th>\n",
       "      <td>135.935639</td>\n",
       "      <td>116.591440</td>\n",
       "      <td>158.489319</td>\n",
       "      <td>1.366667</td>\n",
       "      <td>1.333333</td>\n",
       "      <td>1.400000</td>\n",
       "      <td>1.0</td>\n",
       "      <td>0.163460</td>\n",
       "      <td>0</td>\n",
       "      <td>10000</td>\n",
       "      <td>10079</td>\n",
       "    </tr>\n",
       "    <tr>\n",
       "      <th>154</th>\n",
       "      <td>251.188643</td>\n",
       "      <td>215.443469</td>\n",
       "      <td>292.864456</td>\n",
       "      <td>1.300000</td>\n",
       "      <td>1.266667</td>\n",
       "      <td>1.333333</td>\n",
       "      <td>1.0</td>\n",
       "      <td>0.161821</td>\n",
       "      <td>0</td>\n",
       "      <td>12320</td>\n",
       "      <td>12399</td>\n",
       "    </tr>\n",
       "    <tr>\n",
       "      <th>155</th>\n",
       "      <td>251.188643</td>\n",
       "      <td>215.443469</td>\n",
       "      <td>292.864456</td>\n",
       "      <td>1.366667</td>\n",
       "      <td>1.333333</td>\n",
       "      <td>1.400000</td>\n",
       "      <td>1.0</td>\n",
       "      <td>0.080997</td>\n",
       "      <td>0</td>\n",
       "      <td>12400</td>\n",
       "      <td>12479</td>\n",
       "    </tr>\n",
       "    <tr>\n",
       "      <th>169</th>\n",
       "      <td>341.454887</td>\n",
       "      <td>292.864456</td>\n",
       "      <td>398.107171</td>\n",
       "      <td>1.300000</td>\n",
       "      <td>1.266667</td>\n",
       "      <td>1.333333</td>\n",
       "      <td>1.0</td>\n",
       "      <td>0.069891</td>\n",
       "      <td>0</td>\n",
       "      <td>13520</td>\n",
       "      <td>13599</td>\n",
       "    </tr>\n",
       "    <tr>\n",
       "      <th>141</th>\n",
       "      <td>184.784980</td>\n",
       "      <td>158.489319</td>\n",
       "      <td>215.443469</td>\n",
       "      <td>1.433333</td>\n",
       "      <td>1.400000</td>\n",
       "      <td>1.466667</td>\n",
       "      <td>1.0</td>\n",
       "      <td>0.061473</td>\n",
       "      <td>0</td>\n",
       "      <td>11280</td>\n",
       "      <td>11359</td>\n",
       "    </tr>\n",
       "    <tr>\n",
       "      <th>126</th>\n",
       "      <td>135.935639</td>\n",
       "      <td>116.591440</td>\n",
       "      <td>158.489319</td>\n",
       "      <td>1.433333</td>\n",
       "      <td>1.400000</td>\n",
       "      <td>1.466667</td>\n",
       "      <td>1.0</td>\n",
       "      <td>0.058672</td>\n",
       "      <td>0</td>\n",
       "      <td>10080</td>\n",
       "      <td>10159</td>\n",
       "    </tr>\n",
       "    <tr>\n",
       "      <th>156</th>\n",
       "      <td>251.188643</td>\n",
       "      <td>215.443469</td>\n",
       "      <td>292.864456</td>\n",
       "      <td>1.433333</td>\n",
       "      <td>1.400000</td>\n",
       "      <td>1.466667</td>\n",
       "      <td>1.0</td>\n",
       "      <td>0.031018</td>\n",
       "      <td>0</td>\n",
       "      <td>12480</td>\n",
       "      <td>12559</td>\n",
       "    </tr>\n",
       "    <tr>\n",
       "      <th>170</th>\n",
       "      <td>341.454887</td>\n",
       "      <td>292.864456</td>\n",
       "      <td>398.107171</td>\n",
       "      <td>1.366667</td>\n",
       "      <td>1.333333</td>\n",
       "      <td>1.400000</td>\n",
       "      <td>1.0</td>\n",
       "      <td>0.029428</td>\n",
       "      <td>0</td>\n",
       "      <td>13600</td>\n",
       "      <td>13679</td>\n",
       "    </tr>\n",
       "    <tr>\n",
       "      <th>184</th>\n",
       "      <td>464.158883</td>\n",
       "      <td>398.107171</td>\n",
       "      <td>541.169527</td>\n",
       "      <td>1.300000</td>\n",
       "      <td>1.266667</td>\n",
       "      <td>1.333333</td>\n",
       "      <td>1.0</td>\n",
       "      <td>0.024811</td>\n",
       "      <td>0</td>\n",
       "      <td>14720</td>\n",
       "      <td>14799</td>\n",
       "    </tr>\n",
       "  </tbody>\n",
       "</table>\n",
       "</div>"
      ],
      "text/plain": [
       "             Bp      Bp_min      Bp_max         n     n_min     n_max  new  \\\n",
       "140  184.784980  158.489319  215.443469  1.366667  1.333333  1.400000  1.0   \n",
       "125  135.935639  116.591440  158.489319  1.366667  1.333333  1.400000  1.0   \n",
       "154  251.188643  215.443469  292.864456  1.300000  1.266667  1.333333  1.0   \n",
       "155  251.188643  215.443469  292.864456  1.366667  1.333333  1.400000  1.0   \n",
       "169  341.454887  292.864456  398.107171  1.300000  1.266667  1.333333  1.0   \n",
       "141  184.784980  158.489319  215.443469  1.433333  1.400000  1.466667  1.0   \n",
       "126  135.935639  116.591440  158.489319  1.433333  1.400000  1.466667  1.0   \n",
       "156  251.188643  215.443469  292.864456  1.433333  1.400000  1.466667  1.0   \n",
       "170  341.454887  292.864456  398.107171  1.366667  1.333333  1.400000  1.0   \n",
       "184  464.158883  398.107171  541.169527  1.300000  1.266667  1.333333  1.0   \n",
       "\n",
       "         prob  num_sub  start_ind  end_ind  \n",
       "140  0.163872        0      11200    11279  \n",
       "125  0.163460        0      10000    10079  \n",
       "154  0.161821        0      12320    12399  \n",
       "155  0.080997        0      12400    12479  \n",
       "169  0.069891        0      13520    13599  \n",
       "141  0.061473        0      11280    11359  \n",
       "126  0.058672        0      10080    10159  \n",
       "156  0.031018        0      12480    12559  \n",
       "170  0.029428        0      13600    13679  \n",
       "184  0.024811        0      14720    14799  "
      ]
     },
     "execution_count": 16,
     "metadata": {},
     "output_type": "execute_result"
    }
   ],
   "source": [
    "m.probs.most_probable(10)"
   ]
  },
  {
   "cell_type": "code",
   "execution_count": 17,
   "metadata": {},
   "outputs": [
    {
     "name": "stdout",
     "output_type": "stream",
     "text": [
      "32 box(es) with probability > 0.001 and 19 neighboring boxes subdivided!\n",
      "New model points to simulate are saved in the file new_sim_points_1.h5.\n"
     ]
    }
   ],
   "source": [
    "m.subdivide()"
   ]
  },
  {
   "cell_type": "code",
   "execution_count": 18,
   "metadata": {},
   "outputs": [
    {
     "data": {
      "image/png": "[encoded data removed]",
      "text/plain": [
       "<matplotlib.figure.Figure at 0x11d3a73d0>"
      ]
     },
     "metadata": {},
     "output_type": "display_data"
    }
   ],
   "source": [
    "m.visualize_grid(true_vals=params)"
   ]
  },
  {
   "cell_type": "code",
   "execution_count": 19,
   "metadata": {},
   "outputs": [],
   "source": [
    "new_sims = dd.io.load('new_sim_points_1.h5')"
   ]
  },
  {
   "cell_type": "code",
   "execution_count": 20,
   "metadata": {},
   "outputs": [],
   "source": [
    "data = []\n",
    "for sim in new_sims.iterrows():\n",
    "    v = sim[1]['V']\n",
    "    t = sim[1]['T']\n",
    "    this_pt = [v,t,compute_ID({'V':v,'T':t},sim[1])]\n",
    "    this_pt.extend([sim[1][n] for n in m.param_names])\n",
    "    data.append(this_pt)\n",
    "columns = ['V','T','J']\n",
    "columns.extend(m.param_names)\n",
    "new_sim_data = pd.DataFrame.from_records(data=data,columns=columns)\n",
    "dd.io.save('new_sim_data_1.h5',new_sim_data)"
   ]
  },
  {
   "cell_type": "code",
   "execution_count": 21,
   "metadata": {},
   "outputs": [],
   "source": [
    "m.attach_model(mode='add',fpath='new_sim_data_1.h5')"
   ]
  },
  {
   "cell_type": "code",
   "execution_count": 22,
   "metadata": {},
   "outputs": [],
   "source": [
    "m.calc_model_gradients()"
   ]
  },
  {
   "cell_type": "code",
   "execution_count": 23,
   "metadata": {},
   "outputs": [
    {
     "name": "stdout",
     "output_type": "stream",
     "text": [
      "(0, V      0.30\n",
      "T    200.00\n",
      "J     -0.03\n",
      "Name: 26, dtype: float64)\n",
      "(1, V      0.50\n",
      "T    150.00\n",
      "J     -0.03\n",
      "Name: 10, dtype: float64)\n",
      "(2, V      0.05\n",
      "T    200.00\n",
      "J     -0.03\n",
      "Name: 21, dtype: float64)\n",
      "(3, V      0.55\n",
      "T    150.00\n",
      "J     -0.03\n",
      "Name: 11, dtype: float64)\n",
      "(4, V      0.250000\n",
      "T    300.000000\n",
      "J     -0.029862\n",
      "Name: 65, dtype: float64)\n",
      "(5, V      0.200000\n",
      "T    300.000000\n",
      "J     -0.029967\n",
      "Name: 64, dtype: float64)\n",
      "(6, V      0.750000\n",
      "T    300.000000\n",
      "J    207.593631\n",
      "Name: 75, dtype: float64)\n",
      "(7, V      0.350000\n",
      "T    300.000000\n",
      "J     -0.027622\n",
      "Name: 67, dtype: float64)\n",
      "(8, V      0.40\n",
      "T    200.00\n",
      "J     -0.03\n",
      "Name: 28, dtype: float64)\n",
      "(9, V      0.700000\n",
      "T    150.000000\n",
      "J     -0.029993\n",
      "Name: 14, dtype: float64)\n",
      "Fed in 10 points and now time to subdivide!\n"
     ]
    }
   ],
   "source": [
    "m.probs.uniformize()\n",
    "m.run(th_pm=0.95,th_pv=0.02)"
   ]
  },
  {
   "cell_type": "code",
   "execution_count": 24,
   "metadata": {},
   "outputs": [
    {
     "data": {
      "image/png": "[encoded data removed]",
      "text/plain": [
       "<matplotlib.figure.Figure at 0x11d3bb390>"
      ]
     },
     "metadata": {},
     "output_type": "display_data"
    }
   ],
   "source": [
    "m.visualize_probs(true_vals=params)"
   ]
  },
  {
   "cell_type": "code",
   "execution_count": 25,
   "metadata": {},
   "outputs": [
    {
     "data": {
      "text/html": [
       "<div>\n",
       "<style scoped>\n",
       "    .dataframe tbody tr th:only-of-type {\n",
       "        vertical-align: middle;\n",
       "    }\n",
       "\n",
       "    .dataframe tbody tr th {\n",
       "        vertical-align: top;\n",
       "    }\n",
       "\n",
       "    .dataframe thead th {\n",
       "        text-align: right;\n",
       "    }\n",
       "</style>\n",
       "<table border=\"1\" class=\"dataframe\">\n",
       "  <thead>\n",
       "    <tr style=\"text-align: right;\">\n",
       "      <th></th>\n",
       "      <th>Bp</th>\n",
       "      <th>Bp_max</th>\n",
       "      <th>Bp_min</th>\n",
       "      <th>end_ind</th>\n",
       "      <th>n</th>\n",
       "      <th>n_max</th>\n",
       "      <th>n_min</th>\n",
       "      <th>new</th>\n",
       "      <th>num_sub</th>\n",
       "      <th>prob</th>\n",
       "      <th>start_ind</th>\n",
       "    </tr>\n",
       "  </thead>\n",
       "  <tbody>\n",
       "    <tr>\n",
       "      <th>270</th>\n",
       "      <td>368.694506</td>\n",
       "      <td>398.107171</td>\n",
       "      <td>341.454887</td>\n",
       "      <td>23919</td>\n",
       "      <td>1.283333</td>\n",
       "      <td>1.300000</td>\n",
       "      <td>1.266667</td>\n",
       "      <td>1.0</td>\n",
       "      <td>1</td>\n",
       "      <td>0.575875</td>\n",
       "      <td>23840</td>\n",
       "    </tr>\n",
       "    <tr>\n",
       "      <th>350</th>\n",
       "      <td>794.328235</td>\n",
       "      <td>857.695899</td>\n",
       "      <td>735.642254</td>\n",
       "      <td>28879</td>\n",
       "      <td>1.216667</td>\n",
       "      <td>1.233333</td>\n",
       "      <td>1.200000</td>\n",
       "      <td>1.0</td>\n",
       "      <td>1</td>\n",
       "      <td>0.380125</td>\n",
       "      <td>28800</td>\n",
       "    </tr>\n",
       "    <tr>\n",
       "      <th>286</th>\n",
       "      <td>429.866235</td>\n",
       "      <td>464.158883</td>\n",
       "      <td>398.107171</td>\n",
       "      <td>25199</td>\n",
       "      <td>1.350000</td>\n",
       "      <td>1.366667</td>\n",
       "      <td>1.333333</td>\n",
       "      <td>1.0</td>\n",
       "      <td>1</td>\n",
       "      <td>0.024067</td>\n",
       "      <td>25120</td>\n",
       "    </tr>\n",
       "    <tr>\n",
       "      <th>214</th>\n",
       "      <td>232.630507</td>\n",
       "      <td>251.188643</td>\n",
       "      <td>215.443469</td>\n",
       "      <td>20639</td>\n",
       "      <td>1.450000</td>\n",
       "      <td>1.466667</td>\n",
       "      <td>1.433333</td>\n",
       "      <td>1.0</td>\n",
       "      <td>1</td>\n",
       "      <td>0.007040</td>\n",
       "      <td>20560</td>\n",
       "    </tr>\n",
       "    <tr>\n",
       "      <th>285</th>\n",
       "      <td>429.866235</td>\n",
       "      <td>464.158883</td>\n",
       "      <td>398.107171</td>\n",
       "      <td>25119</td>\n",
       "      <td>1.316667</td>\n",
       "      <td>1.333333</td>\n",
       "      <td>1.300000</td>\n",
       "      <td>1.0</td>\n",
       "      <td>1</td>\n",
       "      <td>0.005312</td>\n",
       "      <td>25040</td>\n",
       "    </tr>\n",
       "    <tr>\n",
       "      <th>213</th>\n",
       "      <td>232.630507</td>\n",
       "      <td>251.188643</td>\n",
       "      <td>215.443469</td>\n",
       "      <td>20559</td>\n",
       "      <td>1.416667</td>\n",
       "      <td>1.433333</td>\n",
       "      <td>1.400000</td>\n",
       "      <td>1.0</td>\n",
       "      <td>1</td>\n",
       "      <td>0.005142</td>\n",
       "      <td>20480</td>\n",
       "    </tr>\n",
       "    <tr>\n",
       "      <th>238</th>\n",
       "      <td>271.227258</td>\n",
       "      <td>292.864456</td>\n",
       "      <td>251.188643</td>\n",
       "      <td>21999</td>\n",
       "      <td>1.483333</td>\n",
       "      <td>1.500000</td>\n",
       "      <td>1.466667</td>\n",
       "      <td>1.0</td>\n",
       "      <td>1</td>\n",
       "      <td>0.000447</td>\n",
       "      <td>21920</td>\n",
       "    </tr>\n",
       "    <tr>\n",
       "      <th>371</th>\n",
       "      <td>926.118728</td>\n",
       "      <td>1000.000000</td>\n",
       "      <td>857.695899</td>\n",
       "      <td>29759</td>\n",
       "      <td>1.250000</td>\n",
       "      <td>1.266667</td>\n",
       "      <td>1.233333</td>\n",
       "      <td>1.0</td>\n",
       "      <td>1</td>\n",
       "      <td>0.000316</td>\n",
       "      <td>29680</td>\n",
       "    </tr>\n",
       "    <tr>\n",
       "      <th>176</th>\n",
       "      <td>171.132830</td>\n",
       "      <td>184.784980</td>\n",
       "      <td>158.489319</td>\n",
       "      <td>18239</td>\n",
       "      <td>1.450000</td>\n",
       "      <td>1.466667</td>\n",
       "      <td>1.433333</td>\n",
       "      <td>1.0</td>\n",
       "      <td>1</td>\n",
       "      <td>0.000315</td>\n",
       "      <td>18160</td>\n",
       "    </tr>\n",
       "    <tr>\n",
       "      <th>193</th>\n",
       "      <td>199.526231</td>\n",
       "      <td>215.443469</td>\n",
       "      <td>184.784980</td>\n",
       "      <td>18959</td>\n",
       "      <td>1.283333</td>\n",
       "      <td>1.300000</td>\n",
       "      <td>1.266667</td>\n",
       "      <td>1.0</td>\n",
       "      <td>1</td>\n",
       "      <td>0.000252</td>\n",
       "      <td>18880</td>\n",
       "    </tr>\n",
       "  </tbody>\n",
       "</table>\n",
       "</div>"
      ],
      "text/plain": [
       "             Bp       Bp_max      Bp_min  end_ind         n     n_max  \\\n",
       "270  368.694506   398.107171  341.454887    23919  1.283333  1.300000   \n",
       "350  794.328235   857.695899  735.642254    28879  1.216667  1.233333   \n",
       "286  429.866235   464.158883  398.107171    25199  1.350000  1.366667   \n",
       "214  232.630507   251.188643  215.443469    20639  1.450000  1.466667   \n",
       "285  429.866235   464.158883  398.107171    25119  1.316667  1.333333   \n",
       "213  232.630507   251.188643  215.443469    20559  1.416667  1.433333   \n",
       "238  271.227258   292.864456  251.188643    21999  1.483333  1.500000   \n",
       "371  926.118728  1000.000000  857.695899    29759  1.250000  1.266667   \n",
       "176  171.132830   184.784980  158.489319    18239  1.450000  1.466667   \n",
       "193  199.526231   215.443469  184.784980    18959  1.283333  1.300000   \n",
       "\n",
       "        n_min  new  num_sub      prob  start_ind  \n",
       "270  1.266667  1.0        1  0.575875      23840  \n",
       "350  1.200000  1.0        1  0.380125      28800  \n",
       "286  1.333333  1.0        1  0.024067      25120  \n",
       "214  1.433333  1.0        1  0.007040      20560  \n",
       "285  1.300000  1.0        1  0.005312      25040  \n",
       "213  1.400000  1.0        1  0.005142      20480  \n",
       "238  1.466667  1.0        1  0.000447      21920  \n",
       "371  1.233333  1.0        1  0.000316      29680  \n",
       "176  1.433333  1.0        1  0.000315      18160  \n",
       "193  1.266667  1.0        1  0.000252      18880  "
      ]
     },
     "execution_count": 25,
     "metadata": {},
     "output_type": "execute_result"
    }
   ],
   "source": [
    "m.probs.most_probable(10)"
   ]
  },
  {
   "cell_type": "code",
   "execution_count": 26,
   "metadata": {},
   "outputs": [
    {
     "name": "stdout",
     "output_type": "stream",
     "text": [
      "6 box(es) with probability > 0.001 and 18 neighboring boxes subdivided!\n",
      "New model points to simulate are saved in the file new_sim_points_2.h5.\n"
     ]
    }
   ],
   "source": [
    "m.subdivide()"
   ]
  },
  {
   "cell_type": "code",
   "execution_count": 27,
   "metadata": {},
   "outputs": [
    {
     "data": {
      "image/png": "[encoded data removed]",
      "text/plain": [
       "<matplotlib.figure.Figure at 0x11dd4d310>"
      ]
     },
     "metadata": {},
     "output_type": "display_data"
    }
   ],
   "source": [
    "m.visualize_grid(true_vals=params)"
   ]
  },
  {
   "cell_type": "code",
   "execution_count": null,
   "metadata": {},
   "outputs": [],
   "source": [
    "new_sims = dd.io.load('new_sim_points_2.h5')\n",
    "data = []\n",
    "for sim in new_sims.iterrows():\n",
    "    v = sim[1]['V']\n",
    "    t = sim[1]['T']\n",
    "    this_pt = [v,t,compute_ID({'V':v,'T':t},sim[1])]\n",
    "    this_pt.extend([sim[1][n] for n in m.param_names])\n",
    "    data.append(this_pt)\n",
    "columns = ['V','T','J']\n",
    "columns.extend(m.param_names)\n",
    "new_sim_data = pd.DataFrame.from_records(data=data,columns=columns)\n",
    "dd.io.save('new_sim_data_2.h5',new_sim_data)\n",
    "m.attach_model(mode='add',fpath='new_sim_data_2.h5')\n",
    "m.calc_model_gradients()"
   ]
  },
  {
   "cell_type": "code",
   "execution_count": null,
   "metadata": {},
   "outputs": [],
   "source": [
    "m.probs.uniformize()\n",
    "m.run(th_pm=0.98,th_pv=0.015)"
   ]
  },
  {
   "cell_type": "code",
   "execution_count": null,
   "metadata": {
    "scrolled": true
   },
   "outputs": [],
   "source": [
    "m.visualize_probs(true_vals=params)"
   ]
  },
  {
   "cell_type": "code",
   "execution_count": null,
   "metadata": {},
   "outputs": [],
   "source": [
    "m.probs.most_probable(5)"
   ]
  },
  {
   "cell_type": "code",
   "execution_count": null,
   "metadata": {
    "scrolled": true
   },
   "outputs": [],
   "source": [
    "m.probs.params"
   ]
  },
  {
   "cell_type": "code",
   "execution_count": null,
   "metadata": {},
   "outputs": [],
   "source": []
  }
 ],
 "metadata": {
  "kernelspec": {
   "display_name": "Python [default]",
   "language": "python",
   "name": "python2"
  },
  "language_info": {
   "codemirror_mode": {
    "name": "ipython",
    "version": 2
   },
   "file_extension": ".py",
   "mimetype": "text/x-python",
   "name": "python",
   "nbconvert_exporter": "python",
   "pygments_lexer": "ipython2",
   "version": "2.7.14"
  }
 },
 "nbformat": 4,
 "nbformat_minor": 2
}
