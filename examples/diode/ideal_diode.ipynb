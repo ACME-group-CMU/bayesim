{
 "cells": [
  {
   "cell_type": "markdown",
   "metadata": {},
   "source": [
    "# Ideal Diode Example"
   ]
  },
  {
   "cell_type": "markdown",
   "metadata": {},
   "source": [
    "The simplest way to model a solar cell is as an **ideal diode**, described by the following equation:\n",
    "$$J(V,T) = J_L+J_0(\\exp{\\frac{qV}{nkT}}-1)$$\n",
    "where $k=8.61733\\times 10^{-5}$ eV/K is Boltzmann's constant, by convention $J_L$ (the light current) is negative and $J_0$ (the saturation current) is positive but strongly dependent on temperature, a dependence we can approximate as:\n",
    "$$J_0 \\approx B'T^{3/n}\\exp{\\frac{-E_{g0}}{nkT}}$$\n",
    "We'll use the silicon zero-temperature bandgap, $E_{g0}=1.2$ eV, meaning we just need to fit for $B'$ in this equation.\n",
    "$J_L$ is typically directly proportional to light intensity, which we will treat as fixed for this example, leaving us with two parameters to fit for: $B'$ and the ideality factor $n$."
   ]
  },
  {
   "cell_type": "code",
   "execution_count": 1,
   "metadata": {},
   "outputs": [],
   "source": [
    "import numpy as np\n",
    "import sys\n",
    "import math\n",
    "import pandas as pd\n",
    "sys.path.append('../../')\n",
    "import bayesim.model as bym\n",
    "import bayesim.params as byp\n",
    "import deepdish as dd\n",
    "from jupyterthemes import jtplot\n",
    "#jtplot.style('solarizedd')\n",
    "jtplot.style('default')"
   ]
  },
  {
   "cell_type": "markdown",
   "metadata": {},
   "source": [
    "## List the parameters\n",
    "First, we list our fitting parameters."
   ]
  },
  {
   "cell_type": "code",
   "execution_count": 2,
   "metadata": {},
   "outputs": [],
   "source": [
    "fp = byp.Param_list()\n",
    "fp.add_fit_param(name='Bp',val_range=[10,1000],spacing='log',length=15,units='arb.')\n",
    "fp.add_fit_param(name='n',val_range=[1,2],length=15)"
   ]
  },
  {
   "cell_type": "markdown",
   "metadata": {},
   "source": [
    "We can inspect the `Param_list` object and see what kind of information is inside..."
   ]
  },
  {
   "cell_type": "code",
   "execution_count": 3,
   "metadata": {},
   "outputs": [
    {
     "data": {
      "text/plain": [
       "{'ec_x_name': None,\n",
       " 'ecs': [],\n",
       " 'fit_params': [{'edges': array([   10.   ,    13.594,    18.478,    25.119,    34.15 ,    46.42 ,\n",
       "             63.1  ,    85.77 ,   116.59 ,   158.49 ,   215.44 ,   292.86 ,\n",
       "            398.1  ,   541.2  ,   735.6  ,  1000.   ]),\n",
       "   'length': 15,\n",
       "   'min_width': 1.0311772745930552,\n",
       "   'name': 'Bp',\n",
       "   'spacing': 'log',\n",
       "   'tolerance': 1.0030748310822917,\n",
       "   'units': 'arb.',\n",
       "   'val_range': [10, 1000],\n",
       "   'vals': array([  11.659,   15.849,   21.544,   29.286,   39.81 ,   54.12 ,\n",
       "            73.56 ,  100.   ,  135.94 ,  184.78 ,  251.19 ,  341.5  ,\n",
       "           464.2  ,  631.   ,  857.7  ])},\n",
       "  {'edges': [1.0,\n",
       "    1.06667,\n",
       "    1.13333,\n",
       "    1.2,\n",
       "    1.26667,\n",
       "    1.33333,\n",
       "    1.4,\n",
       "    1.46667,\n",
       "    1.53333,\n",
       "    1.6,\n",
       "    1.66667,\n",
       "    1.73333,\n",
       "    1.8,\n",
       "    1.86667,\n",
       "    1.93333,\n",
       "    2.0],\n",
       "   'length': 15,\n",
       "   'min_width': 0.006666666666666667,\n",
       "   'name': 'n',\n",
       "   'spacing': 'linear',\n",
       "   'tol_digits': 4,\n",
       "   'tolerance': 0.0007,\n",
       "   'units': 'unitless',\n",
       "   'val_range': [1, 2],\n",
       "   'vals': [1.03333,\n",
       "    1.1,\n",
       "    1.16667,\n",
       "    1.23333,\n",
       "    1.3,\n",
       "    1.36667,\n",
       "    1.43333,\n",
       "    1.5,\n",
       "    1.56667,\n",
       "    1.63333,\n",
       "    1.7,\n",
       "    1.76667,\n",
       "    1.83333,\n",
       "    1.9,\n",
       "    1.96667]}],\n",
       " 'output': []}"
      ]
     },
     "execution_count": 3,
     "metadata": {},
     "output_type": "execute_result"
    }
   ],
   "source": [
    "fp.as_dict()"
   ]
  },
  {
   "cell_type": "markdown",
   "metadata": {},
   "source": [
    "Note that there are both `edges` and `vals` computed - the `vals` will be the values at which computations will be done, while `edges` will be the edges of the grid, used in subdivision steps later on.\n",
    "\n",
    "Finally, we define the measurement conditions and output variable. We won't be varying light intensity here, so we only need voltage and temperature."
   ]
  },
  {
   "cell_type": "code",
   "execution_count": 4,
   "metadata": {},
   "outputs": [],
   "source": [
    "fp.add_ec(name='V', units='V', is_x=True) # this will be on the x-axis when we plot data\n",
    "fp.add_ec(name='T', units='K', tolerance=0.1)\n",
    "fp.add_output(name='J', units='A/cm^2')"
   ]
  },
  {
   "cell_type": "code",
   "execution_count": 5,
   "metadata": {},
   "outputs": [
    {
     "data": {
      "text/plain": [
       "{'ec_x_name': 'V',\n",
       " 'ecs': [{'name': 'V',\n",
       "   'param_type': 'input',\n",
       "   'tol_digits': 6,\n",
       "   'tolerance': 1e-06,\n",
       "   'units': 'V'},\n",
       "  {'name': 'T',\n",
       "   'param_type': 'input',\n",
       "   'tol_digits': 1,\n",
       "   'tolerance': 0.1,\n",
       "   'units': 'K'}],\n",
       " 'fit_params': [{'edges': array([   10.   ,    13.594,    18.478,    25.119,    34.15 ,    46.42 ,\n",
       "             63.1  ,    85.77 ,   116.59 ,   158.49 ,   215.44 ,   292.86 ,\n",
       "            398.1  ,   541.2  ,   735.6  ,  1000.   ]),\n",
       "   'length': 15,\n",
       "   'min_width': 1.0311772745930552,\n",
       "   'name': 'Bp',\n",
       "   'spacing': 'log',\n",
       "   'tolerance': 1.0030748310822917,\n",
       "   'units': 'arb.',\n",
       "   'val_range': [10, 1000],\n",
       "   'vals': array([  11.659,   15.849,   21.544,   29.286,   39.81 ,   54.12 ,\n",
       "            73.56 ,  100.   ,  135.94 ,  184.78 ,  251.19 ,  341.5  ,\n",
       "           464.2  ,  631.   ,  857.7  ])},\n",
       "  {'edges': [1.0,\n",
       "    1.06667,\n",
       "    1.13333,\n",
       "    1.2,\n",
       "    1.26667,\n",
       "    1.33333,\n",
       "    1.4,\n",
       "    1.46667,\n",
       "    1.53333,\n",
       "    1.6,\n",
       "    1.66667,\n",
       "    1.73333,\n",
       "    1.8,\n",
       "    1.86667,\n",
       "    1.93333,\n",
       "    2.0],\n",
       "   'length': 15,\n",
       "   'min_width': 0.006666666666666667,\n",
       "   'name': 'n',\n",
       "   'spacing': 'linear',\n",
       "   'tol_digits': 4,\n",
       "   'tolerance': 0.0007,\n",
       "   'units': 'unitless',\n",
       "   'val_range': [1, 2],\n",
       "   'vals': [1.03333,\n",
       "    1.1,\n",
       "    1.16667,\n",
       "    1.23333,\n",
       "    1.3,\n",
       "    1.36667,\n",
       "    1.43333,\n",
       "    1.5,\n",
       "    1.56667,\n",
       "    1.63333,\n",
       "    1.7,\n",
       "    1.76667,\n",
       "    1.83333,\n",
       "    1.9,\n",
       "    1.96667]}],\n",
       " 'output': [{'name': 'J',\n",
       "   'param_type': 'output',\n",
       "   'tol_digits': 6,\n",
       "   'tolerance': 1e-06,\n",
       "   'units': 'A/cm^2'}]}"
      ]
     },
     "execution_count": 5,
     "metadata": {},
     "output_type": "execute_result"
    }
   ],
   "source": [
    "fp.as_dict()"
   ]
  },
  {
   "cell_type": "code",
   "execution_count": 6,
   "metadata": {},
   "outputs": [],
   "source": [
    "#m = bym.Model(params=fp,ec_list=ec,output_var='J')\n",
    "m = bym.Model(params=fp)"
   ]
  },
  {
   "cell_type": "code",
   "execution_count": 7,
   "metadata": {
    "scrolled": true
   },
   "outputs": [
    {
     "data": {
      "text/html": [
       "<div>\n",
       "<style scoped>\n",
       "    .dataframe tbody tr th:only-of-type {\n",
       "        vertical-align: middle;\n",
       "    }\n",
       "\n",
       "    .dataframe tbody tr th {\n",
       "        vertical-align: top;\n",
       "    }\n",
       "\n",
       "    .dataframe thead th {\n",
       "        text-align: right;\n",
       "    }\n",
       "</style>\n",
       "<table border=\"1\" class=\"dataframe\">\n",
       "  <thead>\n",
       "    <tr style=\"text-align: right;\">\n",
       "      <th></th>\n",
       "      <th>Bp</th>\n",
       "      <th>Bp_min</th>\n",
       "      <th>Bp_max</th>\n",
       "      <th>n</th>\n",
       "      <th>n_min</th>\n",
       "      <th>n_max</th>\n",
       "      <th>prob</th>\n",
       "    </tr>\n",
       "  </thead>\n",
       "  <tbody>\n",
       "    <tr>\n",
       "      <th>0</th>\n",
       "      <td>11.659</td>\n",
       "      <td>10.0</td>\n",
       "      <td>13.594</td>\n",
       "      <td>1.03333</td>\n",
       "      <td>1.00000</td>\n",
       "      <td>1.06667</td>\n",
       "      <td>0.004444</td>\n",
       "    </tr>\n",
       "    <tr>\n",
       "      <th>1</th>\n",
       "      <td>11.659</td>\n",
       "      <td>10.0</td>\n",
       "      <td>13.594</td>\n",
       "      <td>1.10000</td>\n",
       "      <td>1.06667</td>\n",
       "      <td>1.13333</td>\n",
       "      <td>0.004444</td>\n",
       "    </tr>\n",
       "    <tr>\n",
       "      <th>2</th>\n",
       "      <td>11.659</td>\n",
       "      <td>10.0</td>\n",
       "      <td>13.594</td>\n",
       "      <td>1.16667</td>\n",
       "      <td>1.13333</td>\n",
       "      <td>1.20000</td>\n",
       "      <td>0.004444</td>\n",
       "    </tr>\n",
       "    <tr>\n",
       "      <th>3</th>\n",
       "      <td>11.659</td>\n",
       "      <td>10.0</td>\n",
       "      <td>13.594</td>\n",
       "      <td>1.23333</td>\n",
       "      <td>1.20000</td>\n",
       "      <td>1.26667</td>\n",
       "      <td>0.004444</td>\n",
       "    </tr>\n",
       "    <tr>\n",
       "      <th>4</th>\n",
       "      <td>11.659</td>\n",
       "      <td>10.0</td>\n",
       "      <td>13.594</td>\n",
       "      <td>1.30000</td>\n",
       "      <td>1.26667</td>\n",
       "      <td>1.33333</td>\n",
       "      <td>0.004444</td>\n",
       "    </tr>\n",
       "    <tr>\n",
       "      <th>5</th>\n",
       "      <td>11.659</td>\n",
       "      <td>10.0</td>\n",
       "      <td>13.594</td>\n",
       "      <td>1.36667</td>\n",
       "      <td>1.33333</td>\n",
       "      <td>1.40000</td>\n",
       "      <td>0.004444</td>\n",
       "    </tr>\n",
       "    <tr>\n",
       "      <th>6</th>\n",
       "      <td>11.659</td>\n",
       "      <td>10.0</td>\n",
       "      <td>13.594</td>\n",
       "      <td>1.43333</td>\n",
       "      <td>1.40000</td>\n",
       "      <td>1.46667</td>\n",
       "      <td>0.004444</td>\n",
       "    </tr>\n",
       "    <tr>\n",
       "      <th>7</th>\n",
       "      <td>11.659</td>\n",
       "      <td>10.0</td>\n",
       "      <td>13.594</td>\n",
       "      <td>1.50000</td>\n",
       "      <td>1.46667</td>\n",
       "      <td>1.53333</td>\n",
       "      <td>0.004444</td>\n",
       "    </tr>\n",
       "    <tr>\n",
       "      <th>8</th>\n",
       "      <td>11.659</td>\n",
       "      <td>10.0</td>\n",
       "      <td>13.594</td>\n",
       "      <td>1.56667</td>\n",
       "      <td>1.53333</td>\n",
       "      <td>1.60000</td>\n",
       "      <td>0.004444</td>\n",
       "    </tr>\n",
       "    <tr>\n",
       "      <th>9</th>\n",
       "      <td>11.659</td>\n",
       "      <td>10.0</td>\n",
       "      <td>13.594</td>\n",
       "      <td>1.63333</td>\n",
       "      <td>1.60000</td>\n",
       "      <td>1.66667</td>\n",
       "      <td>0.004444</td>\n",
       "    </tr>\n",
       "  </tbody>\n",
       "</table>\n",
       "</div>"
      ],
      "text/plain": [
       "       Bp  Bp_min  Bp_max        n    n_min    n_max      prob\n",
       "0  11.659    10.0  13.594  1.03333  1.00000  1.06667  0.004444\n",
       "1  11.659    10.0  13.594  1.10000  1.06667  1.13333  0.004444\n",
       "2  11.659    10.0  13.594  1.16667  1.13333  1.20000  0.004444\n",
       "3  11.659    10.0  13.594  1.23333  1.20000  1.26667  0.004444\n",
       "4  11.659    10.0  13.594  1.30000  1.26667  1.33333  0.004444\n",
       "5  11.659    10.0  13.594  1.36667  1.33333  1.40000  0.004444\n",
       "6  11.659    10.0  13.594  1.43333  1.40000  1.46667  0.004444\n",
       "7  11.659    10.0  13.594  1.50000  1.46667  1.53333  0.004444\n",
       "8  11.659    10.0  13.594  1.56667  1.53333  1.60000  0.004444\n",
       "9  11.659    10.0  13.594  1.63333  1.60000  1.66667  0.004444"
      ]
     },
     "execution_count": 7,
     "metadata": {},
     "output_type": "execute_result"
    }
   ],
   "source": [
    "m.probs.points.head(10)"
   ]
  },
  {
   "cell_type": "markdown",
   "metadata": {},
   "source": [
    "## Attach experimental data\n",
    "This is the next step that needs to be done before adding the model as it will use the experimental conditions we enumerate here to compute simulated outputs. For our \"experimental\" data here, we'll actually just simulate some ideal diodes so that we can directly see how good the Bayesian approach is at recovering true underlying parameters.\n",
    "\n",
    "We'll use $n=1.36$ and $B'=258$ as our \"true\" parameters. (I have no idea what \"realistic\" values for $B'$ would be...)"
   ]
  },
  {
   "cell_type": "code",
   "execution_count": 8,
   "metadata": {},
   "outputs": [],
   "source": [
    "def compute_ID(ec,params):\n",
    "    J_L = -0.03 # treat as fixed for now\n",
    "    V = ec['V']\n",
    "    T = ec['T']\n",
    "    V_th = 8.61733e-5 * T # thermal voltage, kT/q\n",
    "    n = params['n']\n",
    "    Bp = params['Bp']\n",
    "    J0 = Bp*T**(3/n)*math.exp(-1.2/V_th/n)\n",
    "    return J_L + J0*(math.exp(V/V_th/n)-1)\n",
    "\n",
    "V = np.arange(0,1.0,0.01)\n",
    "T = [float(t) for t in np.arange(150,301,50)]\n",
    "#V = np.arange(0,1.0,0.1)\n",
    "#T = [200.0,300.0]\n",
    "params = {'n':1.36,'Bp':258}\n",
    "\n",
    "data = []\n",
    "for t in T:\n",
    "    J0 = compute_ID({'V':V[0],'T':t},params)\n",
    "    for v in V:\n",
    "        J = compute_ID({'V':v,'T':t},params)\n",
    "        if abs(J)>0.1:\n",
    "            err = 0.05*abs(J)\n",
    "        else:\n",
    "            err = 0.005\n",
    "        # check for \"compliance\"\n",
    "        if not J > 2.0:\n",
    "            data.append([v,t,J,err])\n",
    "        \n",
    "data = pd.DataFrame.from_records(data=data,columns=['V','T','J','error'])\n",
    "dd.io.save('obs_data.h5',data)"
   ]
  },
  {
   "cell_type": "code",
   "execution_count": 9,
   "metadata": {},
   "outputs": [],
   "source": [
    "m.attach_observations(obs_data_path='obs_data.h5', keep_all=False, max_ec_x_step=0.2, fixed_err=0.0001)"
   ]
  },
  {
   "cell_type": "code",
   "execution_count": 10,
   "metadata": {
    "scrolled": false
   },
   "outputs": [
    {
     "data": {
      "image/png": "[encoded data removed]",
      "text/plain": [
       "<matplotlib.figure.Figure at 0x114b0a5d0>"
      ]
     },
     "metadata": {},
     "output_type": "display_data"
    }
   ],
   "source": [
    "import matplotlib.pyplot as plt\n",
    "%matplotlib inline\n",
    "leg = []\n",
    "for i in range(len(T)):\n",
    "    curve = data[data['T']==T[i]]\n",
    "    plt.plot(curve['V'],curve['J'])\n",
    "    leg.append(curve['T'].iloc[0])\n",
    "#plt.ylim([-0.05,0.1])\n",
    "plt.legend([str(t) for t in leg])\n",
    "plt.xlabel('Voltage [V]')\n",
    "plt.ylabel('Current')\n",
    "plt.show()"
   ]
  },
  {
   "cell_type": "markdown",
   "metadata": {},
   "source": [
    "## Attach model\n",
    "Now we add the function that gives the modeled data - in this case, the `compute_ID` function we just defined above."
   ]
  },
  {
   "cell_type": "code",
   "execution_count": 11,
   "metadata": {},
   "outputs": [],
   "source": [
    "m.attach_model(mode='function',func_name=compute_ID)\n",
    "#m.attach_model(mode='file',fpath='model_data.h5')"
   ]
  },
  {
   "cell_type": "markdown",
   "metadata": {},
   "source": [
    "That's it! When that function is called, `bayesim` also generates the full table of modeled data at all experimental conditions in the observed data we attached before. Check it out:"
   ]
  },
  {
   "cell_type": "code",
   "execution_count": 12,
   "metadata": {},
   "outputs": [],
   "source": [
    "m.calc_model_errors()"
   ]
  },
  {
   "cell_type": "markdown",
   "metadata": {},
   "source": [
    "## Drop that Bayes!\n",
    "### First Bayes\n",
    "rewrite explanation here"
   ]
  },
  {
   "cell_type": "code",
   "execution_count": 13,
   "metadata": {
    "scrolled": true
   },
   "outputs": [
    {
     "name": "stdout",
     "output_type": "stream",
     "text": [
      "Did a total of 35 runs to use a total of 41 observations.\n",
      "\n",
      "An average of 134 / 225 probability points used model errors (rather than experimental errors) during this run.\n"
     ]
    }
   ],
   "source": [
    "#m.run(min_num_pts=1,th_pv=.5,th_pm=0.5)\n",
    "#m.run(th_pv=0.1,th_pm=0.7)\n",
    "m.run()\n",
    "#m.run(force_exp_err=True)"
   ]
  },
  {
   "cell_type": "markdown",
   "metadata": {},
   "source": [
    "We can visualize the distribution and add markers for the real values to compare..."
   ]
  },
  {
   "cell_type": "code",
   "execution_count": 14,
   "metadata": {
    "scrolled": false
   },
   "outputs": [
    {
     "data": {
      "image/png": "[encoded data removed]",
      "text/plain": [
       "<matplotlib.figure.Figure at 0x1173c3250>"
      ]
     },
     "metadata": {},
     "output_type": "display_data"
    }
   ],
   "source": [
    "m.visualize_probs(true_vals=params)"
   ]
  },
  {
   "cell_type": "code",
   "execution_count": 15,
   "metadata": {
    "scrolled": true
   },
   "outputs": [
    {
     "data": {
      "image/png": "[encoded data removed]",
      "text/plain": [
       "<matplotlib.figure.Figure at 0x117539890>"
      ]
     },
     "metadata": {},
     "output_type": "display_data"
    }
   ],
   "source": [
    "#m.comparison_plot(ecs=[{'T':t} for t in list(set(list(m.ec_pts['T'])))])\n",
    "m.comparison_plot(num_param_pts=3)"
   ]
  },
  {
   "cell_type": "markdown",
   "metadata": {},
   "source": [
    "Not too bad. We can also look at the probabilities directly."
   ]
  },
  {
   "cell_type": "code",
   "execution_count": 16,
   "metadata": {},
   "outputs": [
    {
     "data": {
      "text/html": [
       "<div>\n",
       "<style scoped>\n",
       "    .dataframe tbody tr th:only-of-type {\n",
       "        vertical-align: middle;\n",
       "    }\n",
       "\n",
       "    .dataframe tbody tr th {\n",
       "        vertical-align: top;\n",
       "    }\n",
       "\n",
       "    .dataframe thead th {\n",
       "        text-align: right;\n",
       "    }\n",
       "</style>\n",
       "<table border=\"1\" class=\"dataframe\">\n",
       "  <thead>\n",
       "    <tr style=\"text-align: right;\">\n",
       "      <th></th>\n",
       "      <th>Bp</th>\n",
       "      <th>Bp_min</th>\n",
       "      <th>Bp_max</th>\n",
       "      <th>n</th>\n",
       "      <th>n_min</th>\n",
       "      <th>n_max</th>\n",
       "      <th>prob</th>\n",
       "      <th>start_ind</th>\n",
       "      <th>end_ind</th>\n",
       "    </tr>\n",
       "  </thead>\n",
       "  <tbody>\n",
       "    <tr>\n",
       "      <th>127</th>\n",
       "      <td>135.94</td>\n",
       "      <td>116.59</td>\n",
       "      <td>158.49</td>\n",
       "      <td>1.50000</td>\n",
       "      <td>1.46667</td>\n",
       "      <td>1.53333</td>\n",
       "      <td>0.251699</td>\n",
       "      <td>7493</td>\n",
       "      <td>7551</td>\n",
       "    </tr>\n",
       "    <tr>\n",
       "      <th>141</th>\n",
       "      <td>184.78</td>\n",
       "      <td>158.49</td>\n",
       "      <td>215.44</td>\n",
       "      <td>1.43333</td>\n",
       "      <td>1.40000</td>\n",
       "      <td>1.46667</td>\n",
       "      <td>0.230714</td>\n",
       "      <td>8319</td>\n",
       "      <td>8377</td>\n",
       "    </tr>\n",
       "    <tr>\n",
       "      <th>155</th>\n",
       "      <td>251.19</td>\n",
       "      <td>215.44</td>\n",
       "      <td>292.86</td>\n",
       "      <td>1.36667</td>\n",
       "      <td>1.33333</td>\n",
       "      <td>1.40000</td>\n",
       "      <td>0.146286</td>\n",
       "      <td>9145</td>\n",
       "      <td>9203</td>\n",
       "    </tr>\n",
       "    <tr>\n",
       "      <th>113</th>\n",
       "      <td>100.00</td>\n",
       "      <td>85.77</td>\n",
       "      <td>116.59</td>\n",
       "      <td>1.56667</td>\n",
       "      <td>1.53333</td>\n",
       "      <td>1.60000</td>\n",
       "      <td>0.131198</td>\n",
       "      <td>6667</td>\n",
       "      <td>6725</td>\n",
       "    </tr>\n",
       "    <tr>\n",
       "      <th>169</th>\n",
       "      <td>341.50</td>\n",
       "      <td>292.86</td>\n",
       "      <td>398.10</td>\n",
       "      <td>1.30000</td>\n",
       "      <td>1.26667</td>\n",
       "      <td>1.33333</td>\n",
       "      <td>0.074956</td>\n",
       "      <td>9971</td>\n",
       "      <td>10029</td>\n",
       "    </tr>\n",
       "  </tbody>\n",
       "</table>\n",
       "</div>"
      ],
      "text/plain": [
       "         Bp  Bp_min  Bp_max        n    n_min    n_max      prob  start_ind  \\\n",
       "127  135.94  116.59  158.49  1.50000  1.46667  1.53333  0.251699       7493   \n",
       "141  184.78  158.49  215.44  1.43333  1.40000  1.46667  0.230714       8319   \n",
       "155  251.19  215.44  292.86  1.36667  1.33333  1.40000  0.146286       9145   \n",
       "113  100.00   85.77  116.59  1.56667  1.53333  1.60000  0.131198       6667   \n",
       "169  341.50  292.86  398.10  1.30000  1.26667  1.33333  0.074956       9971   \n",
       "\n",
       "     end_ind  \n",
       "127     7551  \n",
       "141     8377  \n",
       "155     9203  \n",
       "113     6725  \n",
       "169    10029  "
      ]
     },
     "execution_count": 16,
     "metadata": {},
     "output_type": "execute_result"
    }
   ],
   "source": [
    "m.probs.most_probable(5)"
   ]
  },
  {
   "cell_type": "markdown",
   "metadata": {},
   "source": [
    "### Let's subdivide!\n",
    "Again we'll use the default options, which will subdivide all grid boxes with probability > 0.001 as well as any immediately adjacent boxes."
   ]
  },
  {
   "cell_type": "code",
   "execution_count": 17,
   "metadata": {},
   "outputs": [
    {
     "name": "stdout",
     "output_type": "stream",
     "text": [
      "22 box(es) with probability > 0.001 and 24 neighboring boxes subdivided!\n",
      "Overwriting metadata for fitting parameter Bp with new info.\n",
      "Overwriting metadata for fitting parameter n with new info.\n",
      "New model points to simulate are saved in the file new_sim_points_1.h5.\n"
     ]
    }
   ],
   "source": [
    "m.subdivide()"
   ]
  },
  {
   "cell_type": "markdown",
   "metadata": {},
   "source": [
    "Let's take a look at the grid."
   ]
  },
  {
   "cell_type": "code",
   "execution_count": 18,
   "metadata": {},
   "outputs": [
    {
     "data": {
      "image/png": "[encoded data removed]",
      "text/plain": [
       "<matplotlib.figure.Figure at 0x117e0c410>"
      ]
     },
     "metadata": {},
     "output_type": "display_data"
    }
   ],
   "source": [
    "m.visualize_grid(true_vals=params)"
   ]
  },
  {
   "cell_type": "markdown",
   "metadata": {},
   "source": [
    "### Compute and attach new model data\n",
    "We've added new model points to the grid so we have to compute the modeled values and attach that data."
   ]
  },
  {
   "cell_type": "code",
   "execution_count": 19,
   "metadata": {},
   "outputs": [],
   "source": [
    "new_sims = dd.io.load('new_sim_points_1.h5')"
   ]
  },
  {
   "cell_type": "code",
   "execution_count": 20,
   "metadata": {},
   "outputs": [],
   "source": [
    "data = []\n",
    "for sim in new_sims.iterrows():\n",
    "    v = sim[1]['V']\n",
    "    t = sim[1]['T']\n",
    "    this_pt = [v,t,compute_ID({'V':v,'T':t},sim[1])]\n",
    "    this_pt.extend([sim[1][n] for n in m.fit_param_names()])\n",
    "    data.append(this_pt)\n",
    "columns = ['V','T','J']\n",
    "columns.extend(m.fit_param_names())\n",
    "new_sim_data = pd.DataFrame.from_records(data=data,columns=columns)\n",
    "dd.io.save('new_sim_data_1.h5',new_sim_data)"
   ]
  },
  {
   "cell_type": "code",
   "execution_count": 21,
   "metadata": {},
   "outputs": [],
   "source": [
    "m.attach_model(mode='file',fpath='new_sim_data_1.h5')"
   ]
  },
  {
   "cell_type": "code",
   "execution_count": 22,
   "metadata": {},
   "outputs": [],
   "source": [
    "m.calc_model_errors()"
   ]
  },
  {
   "cell_type": "markdown",
   "metadata": {},
   "source": [
    "### Second Bayes!\n",
    "Let's do it again!"
   ]
  },
  {
   "cell_type": "code",
   "execution_count": 23,
   "metadata": {},
   "outputs": [
    {
     "name": "stdout",
     "output_type": "stream",
     "text": [
      "Did a total of 36 runs to use a total of 41 observations.\n",
      "\n",
      "An average of 132 / 184 probability points used model errors (rather than experimental errors) during this run.\n"
     ]
    }
   ],
   "source": [
    "m.run()\n",
    "#m.run(force_exp_err=True,min_num_pts=1)"
   ]
  },
  {
   "cell_type": "code",
   "execution_count": 24,
   "metadata": {},
   "outputs": [
    {
     "data": {
      "image/png": "[encoded data removed]",
      "text/plain": [
       "<matplotlib.figure.Figure at 0x11764da50>"
      ]
     },
     "metadata": {},
     "output_type": "display_data"
    }
   ],
   "source": [
    "m.visualize_probs(true_vals=params)"
   ]
  },
  {
   "cell_type": "code",
   "execution_count": 25,
   "metadata": {},
   "outputs": [
    {
     "data": {
      "text/html": [
       "<div>\n",
       "<style scoped>\n",
       "    .dataframe tbody tr th:only-of-type {\n",
       "        vertical-align: middle;\n",
       "    }\n",
       "\n",
       "    .dataframe tbody tr th {\n",
       "        vertical-align: top;\n",
       "    }\n",
       "\n",
       "    .dataframe thead th {\n",
       "        text-align: right;\n",
       "    }\n",
       "</style>\n",
       "<table border=\"1\" class=\"dataframe\">\n",
       "  <thead>\n",
       "    <tr style=\"text-align: right;\">\n",
       "      <th></th>\n",
       "      <th>Bp</th>\n",
       "      <th>Bp_min</th>\n",
       "      <th>Bp_max</th>\n",
       "      <th>n</th>\n",
       "      <th>n_min</th>\n",
       "      <th>n_max</th>\n",
       "      <th>prob</th>\n",
       "      <th>start_ind</th>\n",
       "      <th>end_ind</th>\n",
       "    </tr>\n",
       "  </thead>\n",
       "  <tbody>\n",
       "    <tr>\n",
       "      <th>102</th>\n",
       "      <td>199.52</td>\n",
       "      <td>184.78</td>\n",
       "      <td>215.44</td>\n",
       "      <td>1.41667</td>\n",
       "      <td>1.40000</td>\n",
       "      <td>1.43334</td>\n",
       "      <td>0.262428</td>\n",
       "      <td>6018</td>\n",
       "      <td>6076</td>\n",
       "    </tr>\n",
       "    <tr>\n",
       "      <th>113</th>\n",
       "      <td>232.63</td>\n",
       "      <td>215.44</td>\n",
       "      <td>251.18</td>\n",
       "      <td>1.38333</td>\n",
       "      <td>1.36666</td>\n",
       "      <td>1.40000</td>\n",
       "      <td>0.201397</td>\n",
       "      <td>6667</td>\n",
       "      <td>6725</td>\n",
       "    </tr>\n",
       "    <tr>\n",
       "      <th>93</th>\n",
       "      <td>171.13</td>\n",
       "      <td>158.49</td>\n",
       "      <td>184.78</td>\n",
       "      <td>1.45000</td>\n",
       "      <td>1.43334</td>\n",
       "      <td>1.46667</td>\n",
       "      <td>0.165136</td>\n",
       "      <td>5487</td>\n",
       "      <td>5545</td>\n",
       "    </tr>\n",
       "    <tr>\n",
       "      <th>122</th>\n",
       "      <td>271.22</td>\n",
       "      <td>251.18</td>\n",
       "      <td>292.86</td>\n",
       "      <td>1.35000</td>\n",
       "      <td>1.33333</td>\n",
       "      <td>1.36666</td>\n",
       "      <td>0.162790</td>\n",
       "      <td>7198</td>\n",
       "      <td>7256</td>\n",
       "    </tr>\n",
       "    <tr>\n",
       "      <th>82</th>\n",
       "      <td>146.78</td>\n",
       "      <td>135.94</td>\n",
       "      <td>158.49</td>\n",
       "      <td>1.48333</td>\n",
       "      <td>1.46667</td>\n",
       "      <td>1.50000</td>\n",
       "      <td>0.082648</td>\n",
       "      <td>4838</td>\n",
       "      <td>4896</td>\n",
       "    </tr>\n",
       "    <tr>\n",
       "      <th>133</th>\n",
       "      <td>316.22</td>\n",
       "      <td>292.86</td>\n",
       "      <td>341.40</td>\n",
       "      <td>1.31666</td>\n",
       "      <td>1.30000</td>\n",
       "      <td>1.33333</td>\n",
       "      <td>0.045165</td>\n",
       "      <td>7847</td>\n",
       "      <td>7905</td>\n",
       "    </tr>\n",
       "    <tr>\n",
       "      <th>73</th>\n",
       "      <td>125.89</td>\n",
       "      <td>116.59</td>\n",
       "      <td>135.94</td>\n",
       "      <td>1.51667</td>\n",
       "      <td>1.50000</td>\n",
       "      <td>1.53333</td>\n",
       "      <td>0.027330</td>\n",
       "      <td>4307</td>\n",
       "      <td>4365</td>\n",
       "    </tr>\n",
       "    <tr>\n",
       "      <th>140</th>\n",
       "      <td>368.70</td>\n",
       "      <td>341.40</td>\n",
       "      <td>398.10</td>\n",
       "      <td>1.28333</td>\n",
       "      <td>1.26667</td>\n",
       "      <td>1.30000</td>\n",
       "      <td>0.016074</td>\n",
       "      <td>8260</td>\n",
       "      <td>8318</td>\n",
       "    </tr>\n",
       "    <tr>\n",
       "      <th>92</th>\n",
       "      <td>171.13</td>\n",
       "      <td>158.49</td>\n",
       "      <td>184.78</td>\n",
       "      <td>1.41667</td>\n",
       "      <td>1.40000</td>\n",
       "      <td>1.43334</td>\n",
       "      <td>0.011649</td>\n",
       "      <td>5428</td>\n",
       "      <td>5486</td>\n",
       "    </tr>\n",
       "    <tr>\n",
       "      <th>112</th>\n",
       "      <td>232.63</td>\n",
       "      <td>215.44</td>\n",
       "      <td>251.18</td>\n",
       "      <td>1.35000</td>\n",
       "      <td>1.33333</td>\n",
       "      <td>1.36666</td>\n",
       "      <td>0.006306</td>\n",
       "      <td>6608</td>\n",
       "      <td>6666</td>\n",
       "    </tr>\n",
       "  </tbody>\n",
       "</table>\n",
       "</div>"
      ],
      "text/plain": [
       "         Bp  Bp_min  Bp_max        n    n_min    n_max      prob  start_ind  \\\n",
       "102  199.52  184.78  215.44  1.41667  1.40000  1.43334  0.262428       6018   \n",
       "113  232.63  215.44  251.18  1.38333  1.36666  1.40000  0.201397       6667   \n",
       "93   171.13  158.49  184.78  1.45000  1.43334  1.46667  0.165136       5487   \n",
       "122  271.22  251.18  292.86  1.35000  1.33333  1.36666  0.162790       7198   \n",
       "82   146.78  135.94  158.49  1.48333  1.46667  1.50000  0.082648       4838   \n",
       "133  316.22  292.86  341.40  1.31666  1.30000  1.33333  0.045165       7847   \n",
       "73   125.89  116.59  135.94  1.51667  1.50000  1.53333  0.027330       4307   \n",
       "140  368.70  341.40  398.10  1.28333  1.26667  1.30000  0.016074       8260   \n",
       "92   171.13  158.49  184.78  1.41667  1.40000  1.43334  0.011649       5428   \n",
       "112  232.63  215.44  251.18  1.35000  1.33333  1.36666  0.006306       6608   \n",
       "\n",
       "     end_ind  \n",
       "102     6076  \n",
       "113     6725  \n",
       "93      5545  \n",
       "122     7256  \n",
       "82      4896  \n",
       "133     7905  \n",
       "73      4365  \n",
       "140     8318  \n",
       "92      5486  \n",
       "112     6666  "
      ]
     },
     "execution_count": 25,
     "metadata": {},
     "output_type": "execute_result"
    }
   ],
   "source": [
    "m.probs.most_probable(10)"
   ]
  },
  {
   "cell_type": "code",
   "execution_count": 26,
   "metadata": {},
   "outputs": [
    {
     "data": {
      "image/png": "[encoded data removed]",
      "text/plain": [
       "<matplotlib.figure.Figure at 0x117b72b10>"
      ]
     },
     "metadata": {},
     "output_type": "display_data"
    }
   ],
   "source": [
    "m.comparison_plot(num_param_pts=3)"
   ]
  },
  {
   "cell_type": "code",
   "execution_count": 27,
   "metadata": {},
   "outputs": [
    {
     "name": "stdout",
     "output_type": "stream",
     "text": [
      "16 box(es) with probability > 0.001 and 26 neighboring boxes subdivided!\n",
      "Overwriting metadata for fitting parameter Bp with new info.\n",
      "Overwriting metadata for fitting parameter n with new info.\n",
      "New model points to simulate are saved in the file new_sim_points_2.h5.\n"
     ]
    }
   ],
   "source": [
    "m.subdivide()"
   ]
  },
  {
   "cell_type": "code",
   "execution_count": 28,
   "metadata": {},
   "outputs": [
    {
     "data": {
      "image/png": "[encoded data removed]",
      "text/plain": [
       "<matplotlib.figure.Figure at 0x117536f50>"
      ]
     },
     "metadata": {},
     "output_type": "display_data"
    }
   ],
   "source": [
    "m.visualize_grid(true_vals=params)"
   ]
  },
  {
   "cell_type": "code",
   "execution_count": 29,
   "metadata": {},
   "outputs": [],
   "source": [
    "new_sims = dd.io.load('new_sim_points_2.h5')\n",
    "data = []\n",
    "for sim in new_sims.iterrows():\n",
    "    v = sim[1]['V']\n",
    "    t = sim[1]['T']\n",
    "    this_pt = [v,t,compute_ID({'V':v,'T':t},sim[1])]\n",
    "    this_pt.extend([sim[1][n] for n in m.fit_param_names()])\n",
    "    data.append(this_pt)\n",
    "columns = ['V','T','J']\n",
    "columns.extend(m.fit_param_names())\n",
    "new_sim_data = pd.DataFrame.from_records(data=data,columns=columns)\n",
    "dd.io.save('new_sim_data_2.h5',new_sim_data)\n",
    "m.attach_model(mode='file',fpath='new_sim_data_2.h5')\n",
    "m.calc_model_errors()"
   ]
  },
  {
   "cell_type": "code",
   "execution_count": 30,
   "metadata": {},
   "outputs": [
    {
     "name": "stdout",
     "output_type": "stream",
     "text": [
      "Did a total of 37 runs to use a total of 41 observations.\n",
      "\n",
      "An average of 114 / 168 probability points used model errors (rather than experimental errors) during this run.\n"
     ]
    }
   ],
   "source": [
    "m.run()\n",
    "#m.run(force_exp_err=True)"
   ]
  },
  {
   "cell_type": "code",
   "execution_count": 31,
   "metadata": {
    "scrolled": false
   },
   "outputs": [
    {
     "data": {
      "image/png": "[encoded data removed]",
      "text/plain": [
       "<matplotlib.figure.Figure at 0x114af66d0>"
      ]
     },
     "metadata": {},
     "output_type": "display_data"
    }
   ],
   "source": [
    "m.visualize_probs(true_vals=params)"
   ]
  },
  {
   "cell_type": "code",
   "execution_count": 32,
   "metadata": {
    "scrolled": true
   },
   "outputs": [
    {
     "data": {
      "text/html": [
       "<div>\n",
       "<style scoped>\n",
       "    .dataframe tbody tr th:only-of-type {\n",
       "        vertical-align: middle;\n",
       "    }\n",
       "\n",
       "    .dataframe tbody tr th {\n",
       "        vertical-align: top;\n",
       "    }\n",
       "\n",
       "    .dataframe thead th {\n",
       "        text-align: right;\n",
       "    }\n",
       "</style>\n",
       "<table border=\"1\" class=\"dataframe\">\n",
       "  <thead>\n",
       "    <tr style=\"text-align: right;\">\n",
       "      <th></th>\n",
       "      <th>Bp</th>\n",
       "      <th>Bp_min</th>\n",
       "      <th>Bp_max</th>\n",
       "      <th>n</th>\n",
       "      <th>n_min</th>\n",
       "      <th>n_max</th>\n",
       "      <th>prob</th>\n",
       "      <th>start_ind</th>\n",
       "      <th>end_ind</th>\n",
       "    </tr>\n",
       "  </thead>\n",
       "  <tbody>\n",
       "    <tr>\n",
       "      <th>110</th>\n",
       "      <td>241.72</td>\n",
       "      <td>232.62</td>\n",
       "      <td>251.18</td>\n",
       "      <td>1.37499</td>\n",
       "      <td>1.36666</td>\n",
       "      <td>1.38333</td>\n",
       "      <td>0.262073</td>\n",
       "      <td>6490</td>\n",
       "      <td>6548</td>\n",
       "    </tr>\n",
       "    <tr>\n",
       "      <th>119</th>\n",
       "      <td>261.01</td>\n",
       "      <td>251.18</td>\n",
       "      <td>271.22</td>\n",
       "      <td>1.35833</td>\n",
       "      <td>1.34999</td>\n",
       "      <td>1.36666</td>\n",
       "      <td>0.221063</td>\n",
       "      <td>7021</td>\n",
       "      <td>7079</td>\n",
       "    </tr>\n",
       "    <tr>\n",
       "      <th>101</th>\n",
       "      <td>223.87</td>\n",
       "      <td>215.44</td>\n",
       "      <td>232.62</td>\n",
       "      <td>1.39166</td>\n",
       "      <td>1.38333</td>\n",
       "      <td>1.40000</td>\n",
       "      <td>0.167909</td>\n",
       "      <td>5959</td>\n",
       "      <td>6017</td>\n",
       "    </tr>\n",
       "    <tr>\n",
       "      <th>124</th>\n",
       "      <td>281.83</td>\n",
       "      <td>271.22</td>\n",
       "      <td>292.86</td>\n",
       "      <td>1.34166</td>\n",
       "      <td>1.33333</td>\n",
       "      <td>1.34999</td>\n",
       "      <td>0.143588</td>\n",
       "      <td>7316</td>\n",
       "      <td>7374</td>\n",
       "    </tr>\n",
       "    <tr>\n",
       "      <th>90</th>\n",
       "      <td>207.33</td>\n",
       "      <td>199.52</td>\n",
       "      <td>215.44</td>\n",
       "      <td>1.40833</td>\n",
       "      <td>1.40000</td>\n",
       "      <td>1.41667</td>\n",
       "      <td>0.099975</td>\n",
       "      <td>5310</td>\n",
       "      <td>5368</td>\n",
       "    </tr>\n",
       "  </tbody>\n",
       "</table>\n",
       "</div>"
      ],
      "text/plain": [
       "         Bp  Bp_min  Bp_max        n    n_min    n_max      prob  start_ind  \\\n",
       "110  241.72  232.62  251.18  1.37499  1.36666  1.38333  0.262073       6490   \n",
       "119  261.01  251.18  271.22  1.35833  1.34999  1.36666  0.221063       7021   \n",
       "101  223.87  215.44  232.62  1.39166  1.38333  1.40000  0.167909       5959   \n",
       "124  281.83  271.22  292.86  1.34166  1.33333  1.34999  0.143588       7316   \n",
       "90   207.33  199.52  215.44  1.40833  1.40000  1.41667  0.099975       5310   \n",
       "\n",
       "     end_ind  \n",
       "110     6548  \n",
       "119     7079  \n",
       "101     6017  \n",
       "124     7374  \n",
       "90      5368  "
      ]
     },
     "execution_count": 32,
     "metadata": {},
     "output_type": "execute_result"
    }
   ],
   "source": [
    "m.probs.most_probable(5)"
   ]
  },
  {
   "cell_type": "code",
   "execution_count": 33,
   "metadata": {},
   "outputs": [
    {
     "data": {
      "text/html": [
       "<div>\n",
       "<style scoped>\n",
       "    .dataframe tbody tr th:only-of-type {\n",
       "        vertical-align: middle;\n",
       "    }\n",
       "\n",
       "    .dataframe tbody tr th {\n",
       "        vertical-align: top;\n",
       "    }\n",
       "\n",
       "    .dataframe thead th {\n",
       "        text-align: right;\n",
       "    }\n",
       "</style>\n",
       "<table border=\"1\" class=\"dataframe\">\n",
       "  <thead>\n",
       "    <tr style=\"text-align: right;\">\n",
       "      <th></th>\n",
       "      <th>V</th>\n",
       "      <th>T</th>\n",
       "      <th>J</th>\n",
       "      <th>Bp</th>\n",
       "      <th>n</th>\n",
       "      <th>deltas</th>\n",
       "      <th>error</th>\n",
       "    </tr>\n",
       "  </thead>\n",
       "  <tbody>\n",
       "    <tr>\n",
       "      <th>6596</th>\n",
       "      <td>0.79</td>\n",
       "      <td>200.0</td>\n",
       "      <td>0.801261</td>\n",
       "      <td>241.72</td>\n",
       "      <td>1.39166</td>\n",
       "      <td>6.633717e-02</td>\n",
       "      <td>6.633717e-02</td>\n",
       "    </tr>\n",
       "    <tr>\n",
       "      <th>2082</th>\n",
       "      <td>0.50</td>\n",
       "      <td>300.0</td>\n",
       "      <td>0.188404</td>\n",
       "      <td>130.82</td>\n",
       "      <td>1.55833</td>\n",
       "      <td>1.742961e-02</td>\n",
       "      <td>1.742961e-02</td>\n",
       "    </tr>\n",
       "    <tr>\n",
       "      <th>9183</th>\n",
       "      <td>0.69</td>\n",
       "      <td>250.0</td>\n",
       "      <td>1.425996</td>\n",
       "      <td>413.69</td>\n",
       "      <td>1.25833</td>\n",
       "      <td>1.162150e-01</td>\n",
       "      <td>1.162150e-01</td>\n",
       "    </tr>\n",
       "    <tr>\n",
       "      <th>2580</th>\n",
       "      <td>0.75</td>\n",
       "      <td>200.0</td>\n",
       "      <td>0.144138</td>\n",
       "      <td>141.26</td>\n",
       "      <td>1.52500</td>\n",
       "      <td>1.388077e-02</td>\n",
       "      <td>1.388077e-02</td>\n",
       "    </tr>\n",
       "    <tr>\n",
       "      <th>9898</th>\n",
       "      <td>0.77</td>\n",
       "      <td>200.0</td>\n",
       "      <td>0.360456</td>\n",
       "      <td>520.83</td>\n",
       "      <td>1.25833</td>\n",
       "      <td>3.593577e-02</td>\n",
       "      <td>3.593577e-02</td>\n",
       "    </tr>\n",
       "    <tr>\n",
       "      <th>9672</th>\n",
       "      <td>0.89</td>\n",
       "      <td>150.0</td>\n",
       "      <td>0.407052</td>\n",
       "      <td>446.71</td>\n",
       "      <td>1.29167</td>\n",
       "      <td>3.785662e-02</td>\n",
       "      <td>3.785662e-02</td>\n",
       "    </tr>\n",
       "    <tr>\n",
       "      <th>7644</th>\n",
       "      <td>0.64</td>\n",
       "      <td>250.0</td>\n",
       "      <td>0.175485</td>\n",
       "      <td>304.31</td>\n",
       "      <td>1.29167</td>\n",
       "      <td>2.001835e-02</td>\n",
       "      <td>2.001835e-02</td>\n",
       "    </tr>\n",
       "    <tr>\n",
       "      <th>6926</th>\n",
       "      <td>0.56</td>\n",
       "      <td>300.0</td>\n",
       "      <td>0.784462</td>\n",
       "      <td>261.01</td>\n",
       "      <td>1.32500</td>\n",
       "      <td>6.496721e-02</td>\n",
       "      <td>6.496721e-02</td>\n",
       "    </tr>\n",
       "    <tr>\n",
       "      <th>6063</th>\n",
       "      <td>0.77</td>\n",
       "      <td>200.0</td>\n",
       "      <td>0.331182</td>\n",
       "      <td>223.87</td>\n",
       "      <td>1.40833</td>\n",
       "      <td>2.879841e-02</td>\n",
       "      <td>2.879841e-02</td>\n",
       "    </tr>\n",
       "    <tr>\n",
       "      <th>8030</th>\n",
       "      <td>0.20</td>\n",
       "      <td>250.0</td>\n",
       "      <td>-0.030000</td>\n",
       "      <td>328.56</td>\n",
       "      <td>1.30833</td>\n",
       "      <td>1.343199e-08</td>\n",
       "      <td>1.343199e-08</td>\n",
       "    </tr>\n",
       "  </tbody>\n",
       "</table>\n",
       "</div>"
      ],
      "text/plain": [
       "         V      T         J      Bp        n        deltas         error\n",
       "6596  0.79  200.0  0.801261  241.72  1.39166  6.633717e-02  6.633717e-02\n",
       "2082  0.50  300.0  0.188404  130.82  1.55833  1.742961e-02  1.742961e-02\n",
       "9183  0.69  250.0  1.425996  413.69  1.25833  1.162150e-01  1.162150e-01\n",
       "2580  0.75  200.0  0.144138  141.26  1.52500  1.388077e-02  1.388077e-02\n",
       "9898  0.77  200.0  0.360456  520.83  1.25833  3.593577e-02  3.593577e-02\n",
       "9672  0.89  150.0  0.407052  446.71  1.29167  3.785662e-02  3.785662e-02\n",
       "7644  0.64  250.0  0.175485  304.31  1.29167  2.001835e-02  2.001835e-02\n",
       "6926  0.56  300.0  0.784462  261.01  1.32500  6.496721e-02  6.496721e-02\n",
       "6063  0.77  200.0  0.331182  223.87  1.40833  2.879841e-02  2.879841e-02\n",
       "8030  0.20  250.0 -0.030000  328.56  1.30833  1.343199e-08  1.343199e-08"
      ]
     },
     "execution_count": 33,
     "metadata": {},
     "output_type": "execute_result"
    }
   ],
   "source": [
    "m.model_data.sample(10)"
   ]
  },
  {
   "cell_type": "code",
   "execution_count": 34,
   "metadata": {},
   "outputs": [
    {
     "data": {
      "image/png": "[encoded data removed]",
      "text/plain": [
       "<matplotlib.figure.Figure at 0x118079310>"
      ]
     },
     "metadata": {},
     "output_type": "display_data"
    }
   ],
   "source": [
    "m.comparison_plot(num_param_pts=3, num_ecs=3)"
   ]
  },
  {
   "cell_type": "code",
   "execution_count": null,
   "metadata": {},
   "outputs": [],
   "source": []
  }
 ],
 "metadata": {
  "kernelspec": {
   "display_name": "py36",
   "language": "python",
   "name": "py36"
  },
  "language_info": {
   "codemirror_mode": {
    "name": "ipython",
    "version": 2
   },
   "file_extension": ".py",
   "mimetype": "text/x-python",
   "name": "python",
   "nbconvert_exporter": "python",
   "pygments_lexer": "ipython2",
   "version": "2.7.14"
  }
 },
 "nbformat": 4,
 "nbformat_minor": 2
}
