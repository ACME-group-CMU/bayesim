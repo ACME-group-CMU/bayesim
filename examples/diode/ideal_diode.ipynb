{
 "cells": [
  {
   "cell_type": "markdown",
   "metadata": {},
   "source": [
    "# Ideal Diode Example\n",
    "\n",
    "## Introduction\n",
    "This is meant to be a (relatively) self-contained example of using `bayesim` to perform a fit - in this case, fitting solar cell outputs to a simple diode model. In this case, we use the same model function to generate our \"observed\" data as the one we use to fit; this allows us to confirm that `bayesim` can retrieve the same input parameters and get the right answer under a very controlled setting.\n",
    "\n",
    "The overall procedure is:\n",
    "1. Define parameters to be fit (starting on a 20 x 20 grid) and initialize a uniform prior probability distribution\n",
    "2. Generate the \"observed\" data and import it (there will be 59 different observation conditions)\n",
    "3. Generate the modeled data to compare to observations - this will be done at every set of experimental conditions that were observed and at every point in the space defined by the fitting parameters (20 x 20 x 59 model computations)\n",
    "4. Use Bayesian inference to compute the posterior probability distribution over the fitting parameters.\n",
    "5. Choose a region of the fitting parameter space exceeding some threshold probability density and resample this region more densely (subdivide each grid box), discarding points outside the region.\n",
    "6. Compute the new modeled data over this new fitting parameter space.\n",
    "7. Repeat steps 4-6 until desired fit precision is reached.\n",
    "\n",
    "## How to use this notebook\n",
    "In many of the code cells, I've included commented-out lines representing alternative options to try. I suggest you step through the whole notebook once (evaluate each cell using <kbd>Shift</kbd>+<kbd>Enter</kbd>) without changing these to understand what's going on, then go back to the beginning and start tweaking them to see how the different options impact the progress and results of the fitting process.\n",
    "\n",
    "## The ideal diode model\n",
    "\n",
    "The simplest way to model a solar cell (current density $J$ as a function of voltage $V$ and temperature $T$) is as an **ideal diode**, described by the following equation:\n",
    "$$J(V,T) = J_L+J_0(\\exp{\\frac{qV}{nkT}}-1)$$\n",
    "where $k=8.61733\\times 10^{-5}$ eV/K is Boltzmann's constant, by convention $J_L$ (the light current) is negative and $J_0$ (the saturation current) is positive but strongly dependent on temperature, a dependence we can approximate as:\n",
    "$$J_0 \\approx B'T^{3/n}\\exp{\\frac{-E_{g0}}{nkT}}$$\n",
    "We'll use the silicon zero-temperature bandgap, $E_{g0}=1.2$ eV, meaning we just need to fit for $B'$ in this equation.\n",
    "$J_L$ is typically directly proportional to light intensity, which we will treat as fixed for this example, leaving us with two parameters to fit for: $B'$ and the ideality factor $n$."
   ]
  },
  {
   "cell_type": "code",
   "execution_count": 1,
   "metadata": {},
   "outputs": [],
   "source": [
    "# import some code that we'll need\n",
    "import numpy as np\n",
    "import sys\n",
    "import math\n",
    "import pandas as pd\n",
    "sys.path.append('../../')\n",
    "import bayesim.model as bym\n",
    "import bayesim.params as byp\n",
    "import deepdish as dd\n",
    "import matplotlib.pyplot as plt\n",
    "%matplotlib inline"
   ]
  },
  {
   "cell_type": "markdown",
   "metadata": {},
   "source": [
    "## 1. List the parameters\n",
    "First, we list our fitting parameters, specifying their names, ranges of values, spacing, lengths, and units."
   ]
  },
  {
   "cell_type": "code",
   "execution_count": 2,
   "metadata": {},
   "outputs": [
    {
     "name": "stdout",
     "output_type": "stream",
     "text": [
      "Setting min_width automatically for Bp.\n"
     ]
    }
   ],
   "source": [
    "pl = byp.Param_list()\n",
    "pl.add_fit_param(name='Bp',val_range=[10,1000],spacing='log',length=20,units='arb.')\n",
    "pl.add_fit_param(name='n',val_range=[1,2],length=20, min_width=0.01)"
   ]
  },
  {
   "cell_type": "markdown",
   "metadata": {},
   "source": [
    "We can inspect the `Param_list` object and see what kind of information is inside..."
   ]
  },
  {
   "cell_type": "code",
   "execution_count": 3,
   "metadata": {},
   "outputs": [
    {
     "name": "stdout",
     "output_type": "stream",
     "text": [
      "{\n",
      "    \"fit_params\": [\n",
      "        {\n",
      "            \"units\": \"arb.\", \n",
      "            \"name\": \"Bp\", \n",
      "            \"spacing\": \"log\", \n",
      "            \"val_range\": \"[10, 1000]\", \n",
      "            \"vals\": \"[  11.22    14.125   17.783   22.387   28.184   35.481   44.67    56.2...\", \n",
      "            \"length\": 20, \n",
      "            \"edges\": \"[   10.       12.589    15.849    19.953    25.119    31.623    39.811...\", \n",
      "            \"min_width\": 1.023292992280754, \n",
      "            \"tolerance\": 1.0023052380778996\n",
      "        }, \n",
      "        {\n",
      "            \"units\": \"unitless\", \n",
      "            \"name\": \"n\", \n",
      "            \"tol_digits\": 3, \n",
      "            \"spacing\": \"linear\", \n",
      "            \"val_range\": \"[1, 2]\", \n",
      "            \"vals\": \"[1.025, 1.075, 1.125, 1.175, 1.225, 1.275, 1.325, 1.375, 1.425, 1.475,...\", \n",
      "            \"length\": 20, \n",
      "            \"edges\": \"[1.0, 1.05, 1.1, 1.15, 1.2, 1.25, 1.3, 1.35, 1.4, 1.45, 1.5, 1.55, 1.6...\", \n",
      "            \"min_width\": 0.01, \n",
      "            \"tolerance\": 0.001\n",
      "        }\n",
      "    ], \n",
      "    \"ec_x_name\": null, \n",
      "    \"ecs\": [], \n",
      "    \"output\": []\n",
      "}\n"
     ]
    }
   ],
   "source": [
    "print(pl)"
   ]
  },
  {
   "cell_type": "markdown",
   "metadata": {},
   "source": [
    "Note that there are both `edges` and `vals` computed - the `vals` will be the values at which computations will be done, while `edges` will be the edges of the grid, used in subdivision steps later on.\n",
    "\n",
    "Finally, we define the experimental conditions (EC's for short) and output variable. We won't be varying light intensity here, so we only need voltage and temperature. We also set voltage as the parameter to be plotted on the x-axis when visualizing data."
   ]
  },
  {
   "cell_type": "code",
   "execution_count": 4,
   "metadata": {},
   "outputs": [],
   "source": [
    "pl.add_ec(name='V', units='V', is_x=True) # this will be on the x-axis when we plot data\n",
    "pl.add_ec(name='T', units='K', tolerance=0.1)\n",
    "pl.add_output(name='J', units='A/cm^2')"
   ]
  },
  {
   "cell_type": "code",
   "execution_count": 5,
   "metadata": {},
   "outputs": [
    {
     "name": "stdout",
     "output_type": "stream",
     "text": [
      "{\n",
      "    \"fit_params\": [\n",
      "        {\n",
      "            \"units\": \"arb.\", \n",
      "            \"name\": \"Bp\", \n",
      "            \"spacing\": \"log\", \n",
      "            \"val_range\": \"[10, 1000]\", \n",
      "            \"vals\": \"[  11.22    14.125   17.783   22.387   28.184   35.481   44.67    56.2...\", \n",
      "            \"length\": 20, \n",
      "            \"edges\": \"[   10.       12.589    15.849    19.953    25.119    31.623    39.811...\", \n",
      "            \"min_width\": 1.023292992280754, \n",
      "            \"tolerance\": 1.0023052380778996\n",
      "        }, \n",
      "        {\n",
      "            \"units\": \"unitless\", \n",
      "            \"name\": \"n\", \n",
      "            \"tol_digits\": 3, \n",
      "            \"spacing\": \"linear\", \n",
      "            \"val_range\": \"[1, 2]\", \n",
      "            \"vals\": \"[1.025, 1.075, 1.125, 1.175, 1.225, 1.275, 1.325, 1.375, 1.425, 1.475,...\", \n",
      "            \"length\": 20, \n",
      "            \"edges\": \"[1.0, 1.05, 1.1, 1.15, 1.2, 1.25, 1.3, 1.35, 1.4, 1.45, 1.5, 1.55, 1.6...\", \n",
      "            \"min_width\": 0.01, \n",
      "            \"tolerance\": 0.001\n",
      "        }\n",
      "    ], \n",
      "    \"ec_x_name\": \"V\", \n",
      "    \"ecs\": [\n",
      "        {\n",
      "            \"units\": \"V\", \n",
      "            \"tolerance\": 1e-06, \n",
      "            \"param_type\": \"input\", \n",
      "            \"name\": \"V\", \n",
      "            \"tol_digits\": 6\n",
      "        }, \n",
      "        {\n",
      "            \"units\": \"K\", \n",
      "            \"param_type\": \"input\", \n",
      "            \"tolerance\": 0.1, \n",
      "            \"name\": \"T\", \n",
      "            \"tol_digits\": 1\n",
      "        }\n",
      "    ], \n",
      "    \"output\": [\n",
      "        {\n",
      "            \"units\": \"A/cm^2\", \n",
      "            \"tolerance\": 1e-06, \n",
      "            \"param_type\": \"output\", \n",
      "            \"name\": \"J\", \n",
      "            \"tol_digits\": 6\n",
      "        }\n",
      "    ]\n",
      "}\n"
     ]
    }
   ],
   "source": [
    "print(pl)"
   ]
  },
  {
   "cell_type": "markdown",
   "metadata": {},
   "source": [
    "## Initialize the model\n",
    "Now we're ready to initialize our bayesim Model object."
   ]
  },
  {
   "cell_type": "code",
   "execution_count": 6,
   "metadata": {},
   "outputs": [],
   "source": [
    "m = bym.Model(params=pl)"
   ]
  },
  {
   "cell_type": "markdown",
   "metadata": {},
   "source": [
    "By default, a uniform probability distribution is created..."
   ]
  },
  {
   "cell_type": "code",
   "execution_count": 7,
   "metadata": {
    "scrolled": false
   },
   "outputs": [
    {
     "data": {
      "text/html": [
       "<div>\n",
       "<style scoped>\n",
       "    .dataframe tbody tr th:only-of-type {\n",
       "        vertical-align: middle;\n",
       "    }\n",
       "\n",
       "    .dataframe tbody tr th {\n",
       "        vertical-align: top;\n",
       "    }\n",
       "\n",
       "    .dataframe thead th {\n",
       "        text-align: right;\n",
       "    }\n",
       "</style>\n",
       "<table border=\"1\" class=\"dataframe\">\n",
       "  <thead>\n",
       "    <tr style=\"text-align: right;\">\n",
       "      <th></th>\n",
       "      <th>Bp</th>\n",
       "      <th>Bp_min</th>\n",
       "      <th>Bp_max</th>\n",
       "      <th>n</th>\n",
       "      <th>n_min</th>\n",
       "      <th>n_max</th>\n",
       "      <th>prob</th>\n",
       "    </tr>\n",
       "  </thead>\n",
       "  <tbody>\n",
       "    <tr>\n",
       "      <th>0</th>\n",
       "      <td>11.22</td>\n",
       "      <td>10.0</td>\n",
       "      <td>12.589</td>\n",
       "      <td>1.025</td>\n",
       "      <td>1.00</td>\n",
       "      <td>1.05</td>\n",
       "      <td>0.0025</td>\n",
       "    </tr>\n",
       "    <tr>\n",
       "      <th>1</th>\n",
       "      <td>11.22</td>\n",
       "      <td>10.0</td>\n",
       "      <td>12.589</td>\n",
       "      <td>1.075</td>\n",
       "      <td>1.05</td>\n",
       "      <td>1.10</td>\n",
       "      <td>0.0025</td>\n",
       "    </tr>\n",
       "    <tr>\n",
       "      <th>2</th>\n",
       "      <td>11.22</td>\n",
       "      <td>10.0</td>\n",
       "      <td>12.589</td>\n",
       "      <td>1.125</td>\n",
       "      <td>1.10</td>\n",
       "      <td>1.15</td>\n",
       "      <td>0.0025</td>\n",
       "    </tr>\n",
       "    <tr>\n",
       "      <th>3</th>\n",
       "      <td>11.22</td>\n",
       "      <td>10.0</td>\n",
       "      <td>12.589</td>\n",
       "      <td>1.175</td>\n",
       "      <td>1.15</td>\n",
       "      <td>1.20</td>\n",
       "      <td>0.0025</td>\n",
       "    </tr>\n",
       "    <tr>\n",
       "      <th>4</th>\n",
       "      <td>11.22</td>\n",
       "      <td>10.0</td>\n",
       "      <td>12.589</td>\n",
       "      <td>1.225</td>\n",
       "      <td>1.20</td>\n",
       "      <td>1.25</td>\n",
       "      <td>0.0025</td>\n",
       "    </tr>\n",
       "    <tr>\n",
       "      <th>5</th>\n",
       "      <td>11.22</td>\n",
       "      <td>10.0</td>\n",
       "      <td>12.589</td>\n",
       "      <td>1.275</td>\n",
       "      <td>1.25</td>\n",
       "      <td>1.30</td>\n",
       "      <td>0.0025</td>\n",
       "    </tr>\n",
       "    <tr>\n",
       "      <th>6</th>\n",
       "      <td>11.22</td>\n",
       "      <td>10.0</td>\n",
       "      <td>12.589</td>\n",
       "      <td>1.325</td>\n",
       "      <td>1.30</td>\n",
       "      <td>1.35</td>\n",
       "      <td>0.0025</td>\n",
       "    </tr>\n",
       "    <tr>\n",
       "      <th>7</th>\n",
       "      <td>11.22</td>\n",
       "      <td>10.0</td>\n",
       "      <td>12.589</td>\n",
       "      <td>1.375</td>\n",
       "      <td>1.35</td>\n",
       "      <td>1.40</td>\n",
       "      <td>0.0025</td>\n",
       "    </tr>\n",
       "    <tr>\n",
       "      <th>8</th>\n",
       "      <td>11.22</td>\n",
       "      <td>10.0</td>\n",
       "      <td>12.589</td>\n",
       "      <td>1.425</td>\n",
       "      <td>1.40</td>\n",
       "      <td>1.45</td>\n",
       "      <td>0.0025</td>\n",
       "    </tr>\n",
       "    <tr>\n",
       "      <th>9</th>\n",
       "      <td>11.22</td>\n",
       "      <td>10.0</td>\n",
       "      <td>12.589</td>\n",
       "      <td>1.475</td>\n",
       "      <td>1.45</td>\n",
       "      <td>1.50</td>\n",
       "      <td>0.0025</td>\n",
       "    </tr>\n",
       "  </tbody>\n",
       "</table>\n",
       "</div>"
      ],
      "text/plain": [
       "      Bp  Bp_min  Bp_max      n  n_min  n_max    prob\n",
       "0  11.22    10.0  12.589  1.025   1.00   1.05  0.0025\n",
       "1  11.22    10.0  12.589  1.075   1.05   1.10  0.0025\n",
       "2  11.22    10.0  12.589  1.125   1.10   1.15  0.0025\n",
       "3  11.22    10.0  12.589  1.175   1.15   1.20  0.0025\n",
       "4  11.22    10.0  12.589  1.225   1.20   1.25  0.0025\n",
       "5  11.22    10.0  12.589  1.275   1.25   1.30  0.0025\n",
       "6  11.22    10.0  12.589  1.325   1.30   1.35  0.0025\n",
       "7  11.22    10.0  12.589  1.375   1.35   1.40  0.0025\n",
       "8  11.22    10.0  12.589  1.425   1.40   1.45  0.0025\n",
       "9  11.22    10.0  12.589  1.475   1.45   1.50  0.0025"
      ]
     },
     "execution_count": 7,
     "metadata": {},
     "output_type": "execute_result"
    }
   ],
   "source": [
    "m.probs.points.head(10) # \"head(10) just shows the first ten lines in the DataFrame"
   ]
  },
  {
   "cell_type": "markdown",
   "metadata": {},
   "source": [
    "## 2. Attach experimental data\n",
    "This is the next step that needs to be done before adding the model as it will use the experimental conditions we enumerate here to compute simulated outputs. For our \"experimental\" data here, we'll actually just simulate some ideal diodes so that we can directly see how good the Bayesian approach is at recovering true underlying parameters.\n",
    "\n",
    "We'll use $n=1.36$ and $B'=258$ as our \"true\" parameters. (I have no idea what \"realistic\" values for $B'$ would be...)\n",
    "\n",
    "Here we generate and save the synthetic data as well as plot it."
   ]
  },
  {
   "cell_type": "code",
   "execution_count": 8,
   "metadata": {},
   "outputs": [
    {
     "data": {
      "image/png": "[encoded data removed]",
      "text/plain": [
       "<matplotlib.figure.Figure at 0x10f29ef90>"
      ]
     },
     "metadata": {},
     "output_type": "display_data"
    }
   ],
   "source": [
    "# implement the diode model in a function we can call\n",
    "def compute_ID(ec,params):\n",
    "    J_L = -0.03 # treat as fixed for now\n",
    "    V = ec['V']\n",
    "    T = ec['T']\n",
    "    V_th = 8.61733e-5 * T # thermal voltage, kT/q\n",
    "    n = params['n']\n",
    "    Bp = params['Bp']\n",
    "    J0 = Bp*T**(3/n)*math.exp(-1.2/V_th/n)\n",
    "    return J_L + J0*(math.exp(V/V_th/n)-1)\n",
    "\n",
    "# define the vectors of experimental conditions\n",
    "V = np.arange(0,1.0,0.01)\n",
    "T = [float(t) for t in np.arange(150,301,50)]\n",
    "\n",
    "# set the \"true\" values for the parameters\n",
    "params = {'n':1.36,'Bp':258}\n",
    "\n",
    "# generate the \"observations\"\n",
    "data = []\n",
    "for t in T:\n",
    "    J0 = compute_ID({'V':V[0],'T':t},params)\n",
    "    for v in V:\n",
    "        J = compute_ID({'V':v,'T':t},params)\n",
    "        if abs(J)>0.1:\n",
    "            err = 0.05*abs(J)\n",
    "        else:\n",
    "            err = 0.005\n",
    "        # check for \"compliance\"\n",
    "        if not J > 2.0:\n",
    "            data.append([v,t,J,err])\n",
    "\n",
    "# save them to HDF5\n",
    "data = pd.DataFrame.from_records(data=data,columns=['V','T','J','error'])\n",
    "dd.io.save('obs_data.h5',data)\n",
    "\n",
    "# these next few lines are for generating the plot\n",
    "leg = []\n",
    "for i in range(len(T)):\n",
    "    curve = data[data['T']==T[i]]\n",
    "    plt.plot(curve['V'],curve['J'])\n",
    "    leg.append(curve['T'].iloc[0])\n",
    "plt.legend([str(t) for t in leg])\n",
    "plt.xlabel('Voltage [V]')\n",
    "plt.ylabel('Current')\n",
    "plt.show()"
   ]
  },
  {
   "cell_type": "markdown",
   "metadata": {},
   "source": [
    "Let's see how many data points we generated."
   ]
  },
  {
   "cell_type": "code",
   "execution_count": 9,
   "metadata": {},
   "outputs": [
    {
     "data": {
      "text/plain": [
       "305"
      ]
     },
     "execution_count": 9,
     "metadata": {},
     "output_type": "execute_result"
    }
   ],
   "source": [
    "len(data)"
   ]
  },
  {
   "cell_type": "markdown",
   "metadata": {},
   "source": [
    "Now that we've generated our \"observations,\" we can attach them to `bayesim`. There are some options when we attach the observations, notably `keep_all` and `max_ec_x_step`. If `keep_all` is set to False, `attach_observations` will only import data points that differ from each other by more than 1% of the full y-axis range (this 1% threshold can be modified with the `thresh_dif_frac` option) in the output variable (J) along the defined x-axis variable (V). However, `max_ec_x_step` tells it to only skip a maximum of 0.2 V before saving a point even if it differs by $<1$% from the previous one.\n",
    "\n",
    "This allows us to sample more densely in regions where the output variable is changing rapidly and save simulation load in regions where it changes more slowly.\n",
    "\n",
    "Finally, we define the experimental error. We could define custom errors at each measurement point by including an 'error' column in the file with the observed data. If you would rather use a fixed value of experimental error for all measurements, use the `fixed_err` keyword as we do here."
   ]
  },
  {
   "cell_type": "code",
   "execution_count": 10,
   "metadata": {},
   "outputs": [],
   "source": [
    "m.attach_observations(obs_data_path='obs_data.h5', keep_all=False, max_ec_x_step=0.2, fixed_err=0.0001)\n",
    "\n",
    "# ---------- alternative options ------------\n",
    "\n",
    "# don't discard any data\n",
    "#m.attach_observations(obs_data_path='obs_data.h5', fixed_err=0.0001)\n",
    "\n",
    "# changing max_ec_x_step\n",
    "#m.attach_observations(obs_data_path='obs_data.h5', keep_all=False, max_ec_x_step=0.1, fixed_err=0.0001)\n",
    "\n",
    "# changing thresh_dif_frac\n",
    "#m.attach_observations(obs_data_path='obs_data.h5', keep_all=False, max_ec_x_step=0.1, thresh_dif_frac=0.001, fixed_err=0.0001)\n",
    "\n",
    "# using error values from file rather than fixed value\n",
    "#m.attach_observations(obs_data_path='obs_data.h5', keep_all=False, max_ec_x_step=0.2)"
   ]
  },
  {
   "cell_type": "markdown",
   "metadata": {},
   "source": [
    "How many data points of those 305 from before were kept?"
   ]
  },
  {
   "cell_type": "code",
   "execution_count": 11,
   "metadata": {},
   "outputs": [
    {
     "data": {
      "text/plain": [
       "59"
      ]
     },
     "execution_count": 11,
     "metadata": {},
     "output_type": "execute_result"
    }
   ],
   "source": [
    "len(m.obs_data)"
   ]
  },
  {
   "cell_type": "markdown",
   "metadata": {},
   "source": [
    "Let's take a look at what the data looks like once we've trimmed and imported it - we'll show both the full current range as well as a zoomed-in one to see the impact of discarding some data points."
   ]
  },
  {
   "cell_type": "code",
   "execution_count": 12,
   "metadata": {},
   "outputs": [
    {
     "data": {
      "image/png": "[encoded data removed]",
      "text/plain": [
       "<matplotlib.figure.Figure at 0x111c7a250>"
      ]
     },
     "metadata": {},
     "output_type": "display_data"
    }
   ],
   "source": [
    "# code for plotting, not critical to understand\n",
    "fig, ax = plt.subplots(1,2,figsize=(11,5))\n",
    "leg = []\n",
    "plt.subplot(1,2,1)\n",
    "for i in range(len(T)):\n",
    "    curve = m.obs_data[m.obs_data['T']==T[i]]\n",
    "    plt.plot(curve['V'],curve['J'])\n",
    "    leg.append(curve['T'].iloc[0])\n",
    "plt.legend([str(t) for t in leg])\n",
    "plt.xlabel('Voltage [V]')\n",
    "plt.ylabel('Current')\n",
    "plt.subplot(1,2,2)\n",
    "for i in range(len(T)):\n",
    "    curve = m.obs_data[m.obs_data['T']==T[i]]\n",
    "    plt.plot(curve['V'],curve['J'])\n",
    "    leg.append(curve['T'].iloc[0])\n",
    "plt.ylim([-0.04,0.1])\n",
    "plt.legend([str(t) for t in leg])\n",
    "plt.xlabel('Voltage [V]')\n",
    "plt.ylabel('Current')\n",
    "plt.tight_layout()\n",
    "plt.show()"
   ]
  },
  {
   "cell_type": "markdown",
   "metadata": {},
   "source": [
    "## 3. Attach modeled data\n",
    "Now we add the function that gives the modeled data - in this case, the `compute_ID` function we just defined above."
   ]
  },
  {
   "cell_type": "code",
   "execution_count": 14,
   "metadata": {},
   "outputs": [
    {
     "name": "stdout",
     "output_type": "stream",
     "text": [
      "before rounding\n",
      "      Bp     J      T    V      n\n",
      "0  11.22 -0.03  150.0  0.0  1.025\n",
      "1  11.22 -0.03  200.0  0.0  1.025\n",
      "2  11.22 -0.03  250.0  0.0  1.025\n",
      "3  11.22 -0.03  300.0  0.0  1.025\n",
      "4  11.22 -0.03  150.0  0.2  1.025\n",
      "{'T': 1, 'V': 6}\n",
      "before index calc\n",
      "      Bp     J      T    V      n\n",
      "0  11.22 -0.03  150.0  0.0  1.025\n",
      "1  11.22 -0.03  200.0  0.0  1.025\n",
      "2  11.22 -0.03  250.0  0.0  1.025\n",
      "3  11.22 -0.03  300.0  0.0  1.025\n",
      "4  11.22 -0.03  150.0  0.2  1.025\n"
     ]
    }
   ],
   "source": [
    "m.attach_model(mode='function',func_name=compute_ID)\n",
    "\n",
    "# how to attach from a file instead\n",
    "#m.attach_model(mode='file',fpath='model_data.h5')"
   ]
  },
  {
   "cell_type": "markdown",
   "metadata": {},
   "source": [
    "When that function is called, `bayesim` also generates the full table of modeled data at all experimental conditions in the observed data we attached before. Check it out:"
   ]
  },
  {
   "cell_type": "code",
   "execution_count": 15,
   "metadata": {},
   "outputs": [
    {
     "data": {
      "text/html": [
       "<div>\n",
       "<style scoped>\n",
       "    .dataframe tbody tr th:only-of-type {\n",
       "        vertical-align: middle;\n",
       "    }\n",
       "\n",
       "    .dataframe tbody tr th {\n",
       "        vertical-align: top;\n",
       "    }\n",
       "\n",
       "    .dataframe thead th {\n",
       "        text-align: right;\n",
       "    }\n",
       "</style>\n",
       "<table border=\"1\" class=\"dataframe\">\n",
       "  <thead>\n",
       "    <tr style=\"text-align: right;\">\n",
       "      <th></th>\n",
       "      <th>Bp</th>\n",
       "      <th>J</th>\n",
       "      <th>T</th>\n",
       "      <th>V</th>\n",
       "      <th>n</th>\n",
       "    </tr>\n",
       "  </thead>\n",
       "  <tbody>\n",
       "    <tr>\n",
       "      <th>0</th>\n",
       "      <td>11.22</td>\n",
       "      <td>-0.03</td>\n",
       "      <td>150.0</td>\n",
       "      <td>0.0</td>\n",
       "      <td>1.025</td>\n",
       "    </tr>\n",
       "    <tr>\n",
       "      <th>1</th>\n",
       "      <td>11.22</td>\n",
       "      <td>-0.03</td>\n",
       "      <td>200.0</td>\n",
       "      <td>0.0</td>\n",
       "      <td>1.025</td>\n",
       "    </tr>\n",
       "    <tr>\n",
       "      <th>2</th>\n",
       "      <td>11.22</td>\n",
       "      <td>-0.03</td>\n",
       "      <td>250.0</td>\n",
       "      <td>0.0</td>\n",
       "      <td>1.025</td>\n",
       "    </tr>\n",
       "    <tr>\n",
       "      <th>3</th>\n",
       "      <td>11.22</td>\n",
       "      <td>-0.03</td>\n",
       "      <td>300.0</td>\n",
       "      <td>0.0</td>\n",
       "      <td>1.025</td>\n",
       "    </tr>\n",
       "    <tr>\n",
       "      <th>4</th>\n",
       "      <td>11.22</td>\n",
       "      <td>-0.03</td>\n",
       "      <td>150.0</td>\n",
       "      <td>0.2</td>\n",
       "      <td>1.025</td>\n",
       "    </tr>\n",
       "  </tbody>\n",
       "</table>\n",
       "</div>"
      ],
      "text/plain": [
       "      Bp     J      T    V      n\n",
       "0  11.22 -0.03  150.0  0.0  1.025\n",
       "1  11.22 -0.03  200.0  0.0  1.025\n",
       "2  11.22 -0.03  250.0  0.0  1.025\n",
       "3  11.22 -0.03  300.0  0.0  1.025\n",
       "4  11.22 -0.03  150.0  0.2  1.025"
      ]
     },
     "execution_count": 15,
     "metadata": {},
     "output_type": "execute_result"
    }
   ],
   "source": [
    "m.model_data.head()"
   ]
  },
  {
   "cell_type": "markdown",
   "metadata": {},
   "source": [
    "We'll also compute the \"model errors\" - the difference in output variable (at a fixed set of experimental conditions) when one moves around the fitting parameter space. For each point, the likelihood will be calculated with a standard deviation equal to the maximum of the experimental error and the model error."
   ]
  },
  {
   "cell_type": "code",
   "execution_count": 16,
   "metadata": {},
   "outputs": [],
   "source": [
    "m.calc_model_errors()"
   ]
  },
  {
   "cell_type": "code",
   "execution_count": 17,
   "metadata": {},
   "outputs": [
    {
     "data": {
      "text/html": [
       "<div>\n",
       "<style scoped>\n",
       "    .dataframe tbody tr th:only-of-type {\n",
       "        vertical-align: middle;\n",
       "    }\n",
       "\n",
       "    .dataframe tbody tr th {\n",
       "        vertical-align: top;\n",
       "    }\n",
       "\n",
       "    .dataframe thead th {\n",
       "        text-align: right;\n",
       "    }\n",
       "</style>\n",
       "<table border=\"1\" class=\"dataframe\">\n",
       "  <thead>\n",
       "    <tr style=\"text-align: right;\">\n",
       "      <th></th>\n",
       "      <th>Bp</th>\n",
       "      <th>J</th>\n",
       "      <th>T</th>\n",
       "      <th>V</th>\n",
       "      <th>n</th>\n",
       "      <th>error</th>\n",
       "    </tr>\n",
       "  </thead>\n",
       "  <tbody>\n",
       "    <tr>\n",
       "      <th>2390</th>\n",
       "      <td>17.783</td>\n",
       "      <td>-0.029538</td>\n",
       "      <td>250.0</td>\n",
       "      <td>0.61</td>\n",
       "      <td>1.025</td>\n",
       "      <td>0.000293</td>\n",
       "    </tr>\n",
       "    <tr>\n",
       "      <th>6364</th>\n",
       "      <td>35.481</td>\n",
       "      <td>-0.024435</td>\n",
       "      <td>150.0</td>\n",
       "      <td>0.85</td>\n",
       "      <td>1.375</td>\n",
       "      <td>0.002003</td>\n",
       "    </tr>\n",
       "    <tr>\n",
       "      <th>4351</th>\n",
       "      <td>22.387</td>\n",
       "      <td>0.041094</td>\n",
       "      <td>200.0</td>\n",
       "      <td>0.76</td>\n",
       "      <td>1.675</td>\n",
       "      <td>0.018409</td>\n",
       "    </tr>\n",
       "    <tr>\n",
       "      <th>9933</th>\n",
       "      <td>70.790</td>\n",
       "      <td>0.162420</td>\n",
       "      <td>300.0</td>\n",
       "      <td>0.54</td>\n",
       "      <td>1.425</td>\n",
       "      <td>0.049851</td>\n",
       "    </tr>\n",
       "    <tr>\n",
       "      <th>19654</th>\n",
       "      <td>446.700</td>\n",
       "      <td>-0.028870</td>\n",
       "      <td>300.0</td>\n",
       "      <td>0.20</td>\n",
       "      <td>1.675</td>\n",
       "      <td>0.000509</td>\n",
       "    </tr>\n",
       "  </tbody>\n",
       "</table>\n",
       "</div>"
      ],
      "text/plain": [
       "            Bp         J      T     V      n     error\n",
       "2390    17.783 -0.029538  250.0  0.61  1.025  0.000293\n",
       "6364    35.481 -0.024435  150.0  0.85  1.375  0.002003\n",
       "4351    22.387  0.041094  200.0  0.76  1.675  0.018409\n",
       "9933    70.790  0.162420  300.0  0.54  1.425  0.049851\n",
       "19654  446.700 -0.028870  300.0  0.20  1.675  0.000509"
      ]
     },
     "execution_count": 17,
     "metadata": {},
     "output_type": "execute_result"
    }
   ],
   "source": [
    "m.model_data.sample(5)"
   ]
  },
  {
   "cell_type": "markdown",
   "metadata": {},
   "source": [
    "## 4. Drop that Bayes!\n",
    "We're ready to do our Bayesian inference! The `run` function has many options we can set but can also be called with no arguments to run in the default way. In this case, the default is:\n",
    "\n",
    "A threshold probability concentration is defined by an amount of probability mass (`th_pm`, defaults to 0.8) and a fraction of the fitting parameter space volume (`th_pv`, defaults to 0.05). `bayesim` chooses observation points randomly (without replacement) for Bayesian updates until at least `th_pm` of the probability resides in at most `th_pv` of the parameter space.\n",
    "\n",
    "However, depending on the thresholds set, data sampling and other factors, this threshold could potentially take very few observation points to reach, meaning we will inevitably be sampling our experimental conditions unevenly. To address this, a parameter `min_num_pts` is defined (with a default value of 0.7 * the number of observed data points). The procedure just described is repeated until that number of points has been used, and the resulting probability distributions from each cycle are averaged together to produce the final result."
   ]
  },
  {
   "cell_type": "code",
   "execution_count": 18,
   "metadata": {
    "scrolled": true
   },
   "outputs": [
    {
     "name": "stdout",
     "output_type": "stream",
     "text": [
      "Did a total of 35 runs to use a total of 41 observations.\n",
      "\n",
      "An average of 207 / 400 probability points used model errors (rather than experimental errors) during this run.\n"
     ]
    }
   ],
   "source": [
    "m.run()\n",
    "\n",
    "# ------- alternative options ------\n",
    "\n",
    "# different thresholding conditions\n",
    "#m.run(th_pm=0.9, th_pv=0.02)\n",
    "\n",
    "# use all the observed data\n",
    "#m.run(min_num_pts=len(m.obs_data))"
   ]
  },
  {
   "cell_type": "markdown",
   "metadata": {},
   "source": [
    "We can visualize the distribution and add markers for the real values to compare..."
   ]
  },
  {
   "cell_type": "code",
   "execution_count": 19,
   "metadata": {
    "scrolled": false
   },
   "outputs": [
    {
     "data": {
      "image/png": "[encoded data removed]",
      "text/plain": [
       "<matplotlib.figure.Figure at 0x111b59290>"
      ]
     },
     "metadata": {},
     "output_type": "display_data"
    }
   ],
   "source": [
    "m.visualize_probs(true_vals=params)"
   ]
  },
  {
   "cell_type": "markdown",
   "metadata": {},
   "source": [
    "We can see that there are multiple points in the parameter space that give similarly good fits to the data - in particular, we see a tradeoff between the $B'$ and $n$ parameters, where we can get a similar fit quality by increasing $B'$ and decreasing $n$. Comfortingly, the locus of high-probability points generally centers about the \"true\" values.\n",
    "\n",
    "We can also plot the simulated data corresponding to the most probable points (in this case, three of them) in parameter space and compare to the observed data at the same conditions."
   ]
  },
  {
   "cell_type": "code",
   "execution_count": 20,
   "metadata": {
    "scrolled": true
   },
   "outputs": [
    {
     "data": {
      "image/png": "[encoded data removed]",
      "text/plain": [
       "<matplotlib.figure.Figure at 0x112230810>"
      ]
     },
     "metadata": {},
     "output_type": "display_data"
    }
   ],
   "source": [
    "m.comparison_plot(num_param_pts=3)"
   ]
  },
  {
   "cell_type": "markdown",
   "metadata": {},
   "source": [
    "Not too bad. We can also of course look at the probabilities directly..."
   ]
  },
  {
   "cell_type": "code",
   "execution_count": 21,
   "metadata": {},
   "outputs": [
    {
     "data": {
      "text/html": [
       "<div>\n",
       "<style scoped>\n",
       "    .dataframe tbody tr th:only-of-type {\n",
       "        vertical-align: middle;\n",
       "    }\n",
       "\n",
       "    .dataframe tbody tr th {\n",
       "        vertical-align: top;\n",
       "    }\n",
       "\n",
       "    .dataframe thead th {\n",
       "        text-align: right;\n",
       "    }\n",
       "</style>\n",
       "<table border=\"1\" class=\"dataframe\">\n",
       "  <thead>\n",
       "    <tr style=\"text-align: right;\">\n",
       "      <th></th>\n",
       "      <th>prob</th>\n",
       "      <th>Bp</th>\n",
       "      <th>Bp_min</th>\n",
       "      <th>Bp_max</th>\n",
       "      <th>n</th>\n",
       "      <th>n_min</th>\n",
       "      <th>n_max</th>\n",
       "    </tr>\n",
       "  </thead>\n",
       "  <tbody>\n",
       "    <tr>\n",
       "      <th>248</th>\n",
       "      <td>0.293761</td>\n",
       "      <td>177.83</td>\n",
       "      <td>158.49</td>\n",
       "      <td>199.53</td>\n",
       "      <td>1.425</td>\n",
       "      <td>1.40</td>\n",
       "      <td>1.45</td>\n",
       "    </tr>\n",
       "    <tr>\n",
       "      <th>267</th>\n",
       "      <td>0.243246</td>\n",
       "      <td>223.87</td>\n",
       "      <td>199.53</td>\n",
       "      <td>251.19</td>\n",
       "      <td>1.375</td>\n",
       "      <td>1.35</td>\n",
       "      <td>1.40</td>\n",
       "    </tr>\n",
       "    <tr>\n",
       "      <th>229</th>\n",
       "      <td>0.161788</td>\n",
       "      <td>141.25</td>\n",
       "      <td>125.89</td>\n",
       "      <td>158.49</td>\n",
       "      <td>1.475</td>\n",
       "      <td>1.45</td>\n",
       "      <td>1.50</td>\n",
       "    </tr>\n",
       "    <tr>\n",
       "      <th>286</th>\n",
       "      <td>0.119735</td>\n",
       "      <td>281.84</td>\n",
       "      <td>251.19</td>\n",
       "      <td>316.23</td>\n",
       "      <td>1.325</td>\n",
       "      <td>1.30</td>\n",
       "      <td>1.35</td>\n",
       "    </tr>\n",
       "    <tr>\n",
       "      <th>305</th>\n",
       "      <td>0.038057</td>\n",
       "      <td>354.81</td>\n",
       "      <td>316.23</td>\n",
       "      <td>398.11</td>\n",
       "      <td>1.275</td>\n",
       "      <td>1.25</td>\n",
       "      <td>1.30</td>\n",
       "    </tr>\n",
       "  </tbody>\n",
       "</table>\n",
       "</div>"
      ],
      "text/plain": [
       "         prob      Bp  Bp_min  Bp_max      n  n_min  n_max\n",
       "248  0.293761  177.83  158.49  199.53  1.425   1.40   1.45\n",
       "267  0.243246  223.87  199.53  251.19  1.375   1.35   1.40\n",
       "229  0.161788  141.25  125.89  158.49  1.475   1.45   1.50\n",
       "286  0.119735  281.84  251.19  316.23  1.325   1.30   1.35\n",
       "305  0.038057  354.81  316.23  398.11  1.275   1.25   1.30"
      ]
     },
     "execution_count": 21,
     "metadata": {},
     "output_type": "execute_result"
    }
   ],
   "source": [
    "m.top_probs(5)"
   ]
  },
  {
   "cell_type": "markdown",
   "metadata": {},
   "source": [
    "## 5. Let's subdivide!\n",
    "Again we'll use the default options, which will subdivide all grid boxes with probability > 0.001 as well as any immediately adjacent boxes. It will discard any boxes with probability < 0.001. This threshold can be modified with the `threshold_prob` argument."
   ]
  },
  {
   "cell_type": "code",
   "execution_count": 22,
   "metadata": {},
   "outputs": [
    {
     "name": "stdout",
     "output_type": "stream",
     "text": [
      "28 box(es) with probability > 0.001 and 36 neighboring boxes subdivided!\n",
      "Overwriting metadata for fitting parameter Bp with new info.\n",
      "Overwriting metadata for fitting parameter n with new info.\n",
      "New model points to simulate are saved in the file new_sim_points_1.h5.\n"
     ]
    }
   ],
   "source": [
    "m.subdivide()\n",
    "\n",
    "# try a different threshold probability\n",
    "# m.subdivide(threshold_prob = 0.01)"
   ]
  },
  {
   "cell_type": "markdown",
   "metadata": {},
   "source": [
    "Let's take a look at the grid."
   ]
  },
  {
   "cell_type": "code",
   "execution_count": 23,
   "metadata": {},
   "outputs": [
    {
     "data": {
      "image/png": "[encoded data removed]",
      "text/plain": [
       "<matplotlib.figure.Figure at 0x1123c1650>"
      ]
     },
     "metadata": {},
     "output_type": "display_data"
    }
   ],
   "source": [
    "m.visualize_grid(true_vals=params)"
   ]
  },
  {
   "cell_type": "markdown",
   "metadata": {},
   "source": [
    "## 6. Compute and attach new model data\n",
    "We've added new model points to the grid so we have to compute the modeled values and attach that data."
   ]
  },
  {
   "cell_type": "code",
   "execution_count": 24,
   "metadata": {},
   "outputs": [],
   "source": [
    "new_sims = dd.io.load('new_sim_points_1.h5')"
   ]
  },
  {
   "cell_type": "code",
   "execution_count": 25,
   "metadata": {},
   "outputs": [],
   "source": [
    "data = []\n",
    "for sim in new_sims.iterrows():\n",
    "    v = sim[1]['V']\n",
    "    t = sim[1]['T']\n",
    "    this_pt = [v,t,compute_ID({'V':v,'T':t},sim[1])]\n",
    "    this_pt.extend([sim[1][n] for n in m.fit_param_names()])\n",
    "    data.append(this_pt)\n",
    "columns = ['V','T','J']\n",
    "columns.extend(m.fit_param_names())\n",
    "new_sim_data = pd.DataFrame.from_records(data=data,columns=columns)\n",
    "dd.io.save('new_sim_data_1.h5',new_sim_data)"
   ]
  },
  {
   "cell_type": "code",
   "execution_count": 26,
   "metadata": {},
   "outputs": [
    {
     "name": "stdout",
     "output_type": "stream",
     "text": [
      "before rounding\n",
      "     V      T     J      Bp       n\n",
      "0  0.0  150.0 -0.03  33.497  1.9125\n",
      "1  0.0  200.0 -0.03  33.497  1.9125\n",
      "2  0.0  250.0 -0.03  33.497  1.9125\n",
      "3  0.0  300.0 -0.03  33.497  1.9125\n",
      "4  0.2  150.0 -0.03  33.497  1.9125\n",
      "{'T': 1, 'V': 6}\n",
      "before index calc\n",
      "     V      T     J      Bp       n\n",
      "0  0.0  150.0 -0.03  33.497  1.9125\n",
      "1  0.0  200.0 -0.03  33.497  1.9125\n",
      "2  0.0  250.0 -0.03  33.497  1.9125\n",
      "3  0.0  300.0 -0.03  33.497  1.9125\n",
      "4  0.2  150.0 -0.03  33.497  1.9125\n"
     ]
    }
   ],
   "source": [
    "# calc_errors=True runs the model error calculation without having to make a separate function call\n",
    "m.attach_model(mode='file', model_data_path='new_sim_data_1.h5', calc_errors=True)"
   ]
  },
  {
   "cell_type": "markdown",
   "metadata": {},
   "source": [
    "## 7. Onward!\n",
    "Let's do it again!"
   ]
  },
  {
   "cell_type": "code",
   "execution_count": 27,
   "metadata": {},
   "outputs": [
    {
     "name": "stdout",
     "output_type": "stream",
     "text": [
      "Did a total of 35 runs to use a total of 41 observations.\n",
      "\n",
      "An average of 179 / 256 probability points used model errors (rather than experimental errors) during this run.\n"
     ]
    }
   ],
   "source": [
    "m.run()"
   ]
  },
  {
   "cell_type": "code",
   "execution_count": 28,
   "metadata": {},
   "outputs": [
    {
     "data": {
      "image/png": "[encoded data removed]",
      "text/plain": [
       "<matplotlib.figure.Figure at 0x112152d50>"
      ]
     },
     "metadata": {},
     "output_type": "display_data"
    }
   ],
   "source": [
    "m.visualize_probs(true_vals=params)"
   ]
  },
  {
   "cell_type": "markdown",
   "metadata": {},
   "source": [
    "Note that the parameter ranges have narrowed slightly..."
   ]
  },
  {
   "cell_type": "code",
   "execution_count": 29,
   "metadata": {},
   "outputs": [
    {
     "data": {
      "text/html": [
       "<div>\n",
       "<style scoped>\n",
       "    .dataframe tbody tr th:only-of-type {\n",
       "        vertical-align: middle;\n",
       "    }\n",
       "\n",
       "    .dataframe tbody tr th {\n",
       "        vertical-align: top;\n",
       "    }\n",
       "\n",
       "    .dataframe thead th {\n",
       "        text-align: right;\n",
       "    }\n",
       "</style>\n",
       "<table border=\"1\" class=\"dataframe\">\n",
       "  <thead>\n",
       "    <tr style=\"text-align: right;\">\n",
       "      <th></th>\n",
       "      <th>prob</th>\n",
       "      <th>Bp</th>\n",
       "      <th>Bp_min</th>\n",
       "      <th>Bp_max</th>\n",
       "      <th>n</th>\n",
       "      <th>n_min</th>\n",
       "      <th>n_max</th>\n",
       "    </tr>\n",
       "  </thead>\n",
       "  <tbody>\n",
       "    <tr>\n",
       "      <th>172</th>\n",
       "      <td>0.124909</td>\n",
       "      <td>266.07</td>\n",
       "      <td>251.19</td>\n",
       "      <td>281.84</td>\n",
       "      <td>1.3625</td>\n",
       "      <td>1.350</td>\n",
       "      <td>1.375</td>\n",
       "    </tr>\n",
       "    <tr>\n",
       "      <th>163</th>\n",
       "      <td>0.121193</td>\n",
       "      <td>237.14</td>\n",
       "      <td>223.87</td>\n",
       "      <td>251.19</td>\n",
       "      <td>1.3875</td>\n",
       "      <td>1.375</td>\n",
       "      <td>1.400</td>\n",
       "    </tr>\n",
       "    <tr>\n",
       "      <th>162</th>\n",
       "      <td>0.118635</td>\n",
       "      <td>237.14</td>\n",
       "      <td>223.87</td>\n",
       "      <td>251.19</td>\n",
       "      <td>1.3625</td>\n",
       "      <td>1.350</td>\n",
       "      <td>1.375</td>\n",
       "    </tr>\n",
       "    <tr>\n",
       "      <th>155</th>\n",
       "      <td>0.114923</td>\n",
       "      <td>211.35</td>\n",
       "      <td>199.53</td>\n",
       "      <td>223.87</td>\n",
       "      <td>1.3875</td>\n",
       "      <td>1.375</td>\n",
       "      <td>1.400</td>\n",
       "    </tr>\n",
       "    <tr>\n",
       "      <th>179</th>\n",
       "      <td>0.099207</td>\n",
       "      <td>298.54</td>\n",
       "      <td>281.84</td>\n",
       "      <td>316.23</td>\n",
       "      <td>1.3375</td>\n",
       "      <td>1.325</td>\n",
       "      <td>1.350</td>\n",
       "    </tr>\n",
       "    <tr>\n",
       "      <th>156</th>\n",
       "      <td>0.088245</td>\n",
       "      <td>211.35</td>\n",
       "      <td>199.53</td>\n",
       "      <td>223.87</td>\n",
       "      <td>1.4125</td>\n",
       "      <td>1.400</td>\n",
       "      <td>1.425</td>\n",
       "    </tr>\n",
       "    <tr>\n",
       "      <th>188</th>\n",
       "      <td>0.058611</td>\n",
       "      <td>334.97</td>\n",
       "      <td>316.23</td>\n",
       "      <td>354.82</td>\n",
       "      <td>1.3125</td>\n",
       "      <td>1.300</td>\n",
       "      <td>1.325</td>\n",
       "    </tr>\n",
       "    <tr>\n",
       "      <th>171</th>\n",
       "      <td>0.056228</td>\n",
       "      <td>266.07</td>\n",
       "      <td>251.19</td>\n",
       "      <td>281.84</td>\n",
       "      <td>1.3375</td>\n",
       "      <td>1.325</td>\n",
       "      <td>1.350</td>\n",
       "    </tr>\n",
       "    <tr>\n",
       "      <th>146</th>\n",
       "      <td>0.053240</td>\n",
       "      <td>188.37</td>\n",
       "      <td>177.83</td>\n",
       "      <td>199.53</td>\n",
       "      <td>1.4125</td>\n",
       "      <td>1.400</td>\n",
       "      <td>1.425</td>\n",
       "    </tr>\n",
       "    <tr>\n",
       "      <th>147</th>\n",
       "      <td>0.051814</td>\n",
       "      <td>188.37</td>\n",
       "      <td>177.83</td>\n",
       "      <td>199.53</td>\n",
       "      <td>1.4375</td>\n",
       "      <td>1.425</td>\n",
       "      <td>1.450</td>\n",
       "    </tr>\n",
       "  </tbody>\n",
       "</table>\n",
       "</div>"
      ],
      "text/plain": [
       "         prob      Bp  Bp_min  Bp_max       n  n_min  n_max\n",
       "172  0.124909  266.07  251.19  281.84  1.3625  1.350  1.375\n",
       "163  0.121193  237.14  223.87  251.19  1.3875  1.375  1.400\n",
       "162  0.118635  237.14  223.87  251.19  1.3625  1.350  1.375\n",
       "155  0.114923  211.35  199.53  223.87  1.3875  1.375  1.400\n",
       "179  0.099207  298.54  281.84  316.23  1.3375  1.325  1.350\n",
       "156  0.088245  211.35  199.53  223.87  1.4125  1.400  1.425\n",
       "188  0.058611  334.97  316.23  354.82  1.3125  1.300  1.325\n",
       "171  0.056228  266.07  251.19  281.84  1.3375  1.325  1.350\n",
       "146  0.053240  188.37  177.83  199.53  1.4125  1.400  1.425\n",
       "147  0.051814  188.37  177.83  199.53  1.4375  1.425  1.450"
      ]
     },
     "execution_count": 29,
     "metadata": {},
     "output_type": "execute_result"
    }
   ],
   "source": [
    "m.top_probs(10)"
   ]
  },
  {
   "cell_type": "markdown",
   "metadata": {},
   "source": [
    "Here's a cool trick with the `comparison_plot` function - we can choose more of the other experimental conditions to plot at!"
   ]
  },
  {
   "cell_type": "code",
   "execution_count": 30,
   "metadata": {},
   "outputs": [
    {
     "data": {
      "image/png": "[encoded data removed]",
      "text/plain": [
       "<matplotlib.figure.Figure at 0x1122ad210>"
      ]
     },
     "metadata": {},
     "output_type": "display_data"
    }
   ],
   "source": [
    "m.comparison_plot(num_param_pts=3, num_ecs=2)"
   ]
  },
  {
   "cell_type": "code",
   "execution_count": 31,
   "metadata": {},
   "outputs": [
    {
     "name": "stdout",
     "output_type": "stream",
     "text": [
      "21 box(es) with probability > 0.001 and 27 neighboring boxes subdivided!\n",
      "Overwriting metadata for fitting parameter Bp with new info.\n",
      "Overwriting metadata for fitting parameter n with new info.\n",
      "New model points to simulate are saved in the file new_sim_points_2.h5.\n"
     ]
    }
   ],
   "source": [
    "m.subdivide()"
   ]
  },
  {
   "cell_type": "code",
   "execution_count": 32,
   "metadata": {},
   "outputs": [
    {
     "data": {
      "image/png": "[encoded data removed]",
      "text/plain": [
       "<matplotlib.figure.Figure at 0x112236c50>"
      ]
     },
     "metadata": {},
     "output_type": "display_data"
    }
   ],
   "source": [
    "m.visualize_grid(true_vals=params)"
   ]
  },
  {
   "cell_type": "code",
   "execution_count": 33,
   "metadata": {},
   "outputs": [
    {
     "data": {
      "text/html": [
       "<div>\n",
       "<style scoped>\n",
       "    .dataframe tbody tr th:only-of-type {\n",
       "        vertical-align: middle;\n",
       "    }\n",
       "\n",
       "    .dataframe tbody tr th {\n",
       "        vertical-align: top;\n",
       "    }\n",
       "\n",
       "    .dataframe thead th {\n",
       "        text-align: right;\n",
       "    }\n",
       "</style>\n",
       "<table border=\"1\" class=\"dataframe\">\n",
       "  <thead>\n",
       "    <tr style=\"text-align: right;\">\n",
       "      <th></th>\n",
       "      <th>Bp</th>\n",
       "      <th>Bp_min</th>\n",
       "      <th>Bp_max</th>\n",
       "      <th>n</th>\n",
       "      <th>n_min</th>\n",
       "      <th>n_max</th>\n",
       "      <th>prob</th>\n",
       "    </tr>\n",
       "  </thead>\n",
       "  <tbody>\n",
       "    <tr>\n",
       "      <th>33</th>\n",
       "      <td>153.99</td>\n",
       "      <td>149.62</td>\n",
       "      <td>158.49</td>\n",
       "      <td>1.4438</td>\n",
       "      <td>1.4375</td>\n",
       "      <td>1.4500</td>\n",
       "      <td>0.000001</td>\n",
       "    </tr>\n",
       "    <tr>\n",
       "      <th>149</th>\n",
       "      <td>344.75</td>\n",
       "      <td>334.97</td>\n",
       "      <td>354.82</td>\n",
       "      <td>1.3188</td>\n",
       "      <td>1.3125</td>\n",
       "      <td>1.3250</td>\n",
       "      <td>0.014681</td>\n",
       "    </tr>\n",
       "    <tr>\n",
       "      <th>56</th>\n",
       "      <td>183.02</td>\n",
       "      <td>177.83</td>\n",
       "      <td>188.37</td>\n",
       "      <td>1.3813</td>\n",
       "      <td>1.3750</td>\n",
       "      <td>1.3875</td>\n",
       "      <td>0.000004</td>\n",
       "    </tr>\n",
       "    <tr>\n",
       "      <th>110</th>\n",
       "      <td>258.52</td>\n",
       "      <td>251.19</td>\n",
       "      <td>266.07</td>\n",
       "      <td>1.3813</td>\n",
       "      <td>1.3750</td>\n",
       "      <td>1.3875</td>\n",
       "      <td>0.000013</td>\n",
       "    </tr>\n",
       "    <tr>\n",
       "      <th>89</th>\n",
       "      <td>230.41</td>\n",
       "      <td>223.87</td>\n",
       "      <td>237.14</td>\n",
       "      <td>1.3438</td>\n",
       "      <td>1.3375</td>\n",
       "      <td>1.3500</td>\n",
       "      <td>0.000002</td>\n",
       "    </tr>\n",
       "    <tr>\n",
       "      <th>11</th>\n",
       "      <td>129.57</td>\n",
       "      <td>125.89</td>\n",
       "      <td>133.35</td>\n",
       "      <td>1.4937</td>\n",
       "      <td>1.4875</td>\n",
       "      <td>1.5000</td>\n",
       "      <td>0.000302</td>\n",
       "    </tr>\n",
       "    <tr>\n",
       "      <th>82</th>\n",
       "      <td>217.52</td>\n",
       "      <td>211.35</td>\n",
       "      <td>223.87</td>\n",
       "      <td>1.3813</td>\n",
       "      <td>1.3750</td>\n",
       "      <td>1.3875</td>\n",
       "      <td>0.028786</td>\n",
       "    </tr>\n",
       "    <tr>\n",
       "      <th>39</th>\n",
       "      <td>153.99</td>\n",
       "      <td>149.62</td>\n",
       "      <td>158.49</td>\n",
       "      <td>1.5187</td>\n",
       "      <td>1.5125</td>\n",
       "      <td>1.5250</td>\n",
       "      <td>0.000004</td>\n",
       "    </tr>\n",
       "    <tr>\n",
       "      <th>169</th>\n",
       "      <td>409.74</td>\n",
       "      <td>398.11</td>\n",
       "      <td>421.71</td>\n",
       "      <td>1.2937</td>\n",
       "      <td>1.2875</td>\n",
       "      <td>1.3000</td>\n",
       "      <td>0.000097</td>\n",
       "    </tr>\n",
       "    <tr>\n",
       "      <th>153</th>\n",
       "      <td>365.18</td>\n",
       "      <td>354.82</td>\n",
       "      <td>375.84</td>\n",
       "      <td>1.2687</td>\n",
       "      <td>1.2625</td>\n",
       "      <td>1.2750</td>\n",
       "      <td>0.000079</td>\n",
       "    </tr>\n",
       "  </tbody>\n",
       "</table>\n",
       "</div>"
      ],
      "text/plain": [
       "         Bp  Bp_min  Bp_max       n   n_min   n_max      prob\n",
       "33   153.99  149.62  158.49  1.4438  1.4375  1.4500  0.000001\n",
       "149  344.75  334.97  354.82  1.3188  1.3125  1.3250  0.014681\n",
       "56   183.02  177.83  188.37  1.3813  1.3750  1.3875  0.000004\n",
       "110  258.52  251.19  266.07  1.3813  1.3750  1.3875  0.000013\n",
       "89   230.41  223.87  237.14  1.3438  1.3375  1.3500  0.000002\n",
       "11   129.57  125.89  133.35  1.4937  1.4875  1.5000  0.000302\n",
       "82   217.52  211.35  223.87  1.3813  1.3750  1.3875  0.028786\n",
       "39   153.99  149.62  158.49  1.5187  1.5125  1.5250  0.000004\n",
       "169  409.74  398.11  421.71  1.2937  1.2875  1.3000  0.000097\n",
       "153  365.18  354.82  375.84  1.2687  1.2625  1.2750  0.000079"
      ]
     },
     "execution_count": 33,
     "metadata": {},
     "output_type": "execute_result"
    }
   ],
   "source": [
    "m.probs.points.sample(10)"
   ]
  },
  {
   "cell_type": "code",
   "execution_count": 35,
   "metadata": {},
   "outputs": [
    {
     "name": "stdout",
     "output_type": "stream",
     "text": [
      "before rounding\n",
      "     V      T     J      Bp       n\n",
      "0  0.0  150.0 -0.03  115.48  1.4813\n",
      "1  0.0  200.0 -0.03  115.48  1.4813\n",
      "2  0.0  250.0 -0.03  115.48  1.4813\n",
      "3  0.0  300.0 -0.03  115.48  1.4813\n",
      "4  0.2  150.0 -0.03  115.48  1.4813\n",
      "{'T': 1, 'V': 6}\n",
      "before index calc\n",
      "     V      T     J      Bp       n\n",
      "0  0.0  150.0 -0.03  115.48  1.4813\n",
      "1  0.0  200.0 -0.03  115.48  1.4813\n",
      "2  0.0  250.0 -0.03  115.48  1.4813\n",
      "3  0.0  300.0 -0.03  115.48  1.4813\n",
      "4  0.2  150.0 -0.03  115.48  1.4813\n"
     ]
    }
   ],
   "source": [
    "new_sims = dd.io.load('new_sim_points_2.h5')\n",
    "data = []\n",
    "for sim in new_sims.iterrows():\n",
    "    v = sim[1]['V']\n",
    "    t = sim[1]['T']\n",
    "    this_pt = [v,t,compute_ID({'V':v,'T':t},sim[1])]\n",
    "    this_pt.extend([sim[1][n] for n in m.fit_param_names()])\n",
    "    data.append(this_pt)\n",
    "columns = ['V','T','J']\n",
    "columns.extend(m.fit_param_names())\n",
    "new_sim_data = pd.DataFrame.from_records(data=data,columns=columns)\n",
    "dd.io.save('new_sim_data_2.h5',new_sim_data)\n",
    "m.attach_model(mode='file', model_data_path='new_sim_data_2.h5', calc_errors=True)"
   ]
  },
  {
   "cell_type": "code",
   "execution_count": 36,
   "metadata": {},
   "outputs": [
    {
     "name": "stdout",
     "output_type": "stream",
     "text": [
      "Did a total of 25 runs to use a total of 41 observations.\n",
      "\n",
      "An average of 96 / 192 probability points used model errors (rather than experimental errors) during this run.\n"
     ]
    }
   ],
   "source": [
    "m.run()"
   ]
  },
  {
   "cell_type": "code",
   "execution_count": 37,
   "metadata": {
    "scrolled": false
   },
   "outputs": [
    {
     "data": {
      "image/png": "[encoded data removed]",
      "text/plain": [
       "<matplotlib.figure.Figure at 0x11359b710>"
      ]
     },
     "metadata": {},
     "output_type": "display_data"
    }
   ],
   "source": [
    "m.visualize_probs(true_vals=params)"
   ]
  },
  {
   "cell_type": "code",
   "execution_count": 38,
   "metadata": {
    "scrolled": true
   },
   "outputs": [
    {
     "data": {
      "text/html": [
       "<div>\n",
       "<style scoped>\n",
       "    .dataframe tbody tr th:only-of-type {\n",
       "        vertical-align: middle;\n",
       "    }\n",
       "\n",
       "    .dataframe tbody tr th {\n",
       "        vertical-align: top;\n",
       "    }\n",
       "\n",
       "    .dataframe thead th {\n",
       "        text-align: right;\n",
       "    }\n",
       "</style>\n",
       "<table border=\"1\" class=\"dataframe\">\n",
       "  <thead>\n",
       "    <tr style=\"text-align: right;\">\n",
       "      <th></th>\n",
       "      <th>prob</th>\n",
       "      <th>Bp</th>\n",
       "      <th>Bp_min</th>\n",
       "      <th>Bp_max</th>\n",
       "      <th>n</th>\n",
       "      <th>n_min</th>\n",
       "      <th>n_max</th>\n",
       "    </tr>\n",
       "  </thead>\n",
       "  <tbody>\n",
       "    <tr>\n",
       "      <th>108</th>\n",
       "      <td>0.228686</td>\n",
       "      <td>258.52</td>\n",
       "      <td>251.19</td>\n",
       "      <td>266.07</td>\n",
       "      <td>1.3563</td>\n",
       "      <td>1.3500</td>\n",
       "      <td>1.3625</td>\n",
       "    </tr>\n",
       "    <tr>\n",
       "      <th>99</th>\n",
       "      <td>0.225589</td>\n",
       "      <td>244.06</td>\n",
       "      <td>237.14</td>\n",
       "      <td>251.19</td>\n",
       "      <td>1.3687</td>\n",
       "      <td>1.3625</td>\n",
       "      <td>1.3750</td>\n",
       "    </tr>\n",
       "    <tr>\n",
       "      <th>92</th>\n",
       "      <td>0.200066</td>\n",
       "      <td>230.41</td>\n",
       "      <td>223.87</td>\n",
       "      <td>237.14</td>\n",
       "      <td>1.3813</td>\n",
       "      <td>1.3750</td>\n",
       "      <td>1.3875</td>\n",
       "    </tr>\n",
       "    <tr>\n",
       "      <th>115</th>\n",
       "      <td>0.118299</td>\n",
       "      <td>273.84</td>\n",
       "      <td>266.07</td>\n",
       "      <td>281.84</td>\n",
       "      <td>1.3438</td>\n",
       "      <td>1.3375</td>\n",
       "      <td>1.3500</td>\n",
       "    </tr>\n",
       "    <tr>\n",
       "      <th>83</th>\n",
       "      <td>0.088787</td>\n",
       "      <td>217.52</td>\n",
       "      <td>211.35</td>\n",
       "      <td>223.87</td>\n",
       "      <td>1.3937</td>\n",
       "      <td>1.3875</td>\n",
       "      <td>1.4000</td>\n",
       "    </tr>\n",
       "  </tbody>\n",
       "</table>\n",
       "</div>"
      ],
      "text/plain": [
       "         prob      Bp  Bp_min  Bp_max       n   n_min   n_max\n",
       "108  0.228686  258.52  251.19  266.07  1.3563  1.3500  1.3625\n",
       "99   0.225589  244.06  237.14  251.19  1.3687  1.3625  1.3750\n",
       "92   0.200066  230.41  223.87  237.14  1.3813  1.3750  1.3875\n",
       "115  0.118299  273.84  266.07  281.84  1.3438  1.3375  1.3500\n",
       "83   0.088787  217.52  211.35  223.87  1.3937  1.3875  1.4000"
      ]
     },
     "execution_count": 38,
     "metadata": {},
     "output_type": "execute_result"
    }
   ],
   "source": [
    "m.top_probs(5)"
   ]
  },
  {
   "cell_type": "code",
   "execution_count": 39,
   "metadata": {},
   "outputs": [
    {
     "data": {
      "image/png": "[encoded data removed]",
      "text/plain": [
       "<matplotlib.figure.Figure at 0x11282cb50>"
      ]
     },
     "metadata": {},
     "output_type": "display_data"
    }
   ],
   "source": [
    "m.comparison_plot(num_param_pts=3, num_ecs=3)"
   ]
  },
  {
   "cell_type": "code",
   "execution_count": null,
   "metadata": {},
   "outputs": [],
   "source": []
  }
 ],
 "metadata": {
  "kernelspec": {
   "display_name": "py36",
   "language": "python",
   "name": "py36"
  },
  "language_info": {
   "codemirror_mode": {
    "name": "ipython",
    "version": 2
   },
   "file_extension": ".py",
   "mimetype": "text/x-python",
   "name": "python",
   "nbconvert_exporter": "python",
   "pygments_lexer": "ipython2",
   "version": "2.7.14"
  }
 },
 "nbformat": 4,
 "nbformat_minor": 2
}
