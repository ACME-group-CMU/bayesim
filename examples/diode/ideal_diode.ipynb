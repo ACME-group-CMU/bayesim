{
 "cells": [
  {
   "cell_type": "markdown",
   "metadata": {},
   "source": [
    "# Ideal Diode Example"
   ]
  },
  {
   "cell_type": "markdown",
   "metadata": {},
   "source": [
    "The simplest way to model a solar cell is as an **ideal diode**, described by the following equation:\n",
    "$$J(V,T) = J_L+J_0(\\exp{\\frac{qV}{nkT}}-1)$$\n",
    "where $k=8.61733\\times 10^{-5}$ eV/K is Boltzmann's constant, by convention $J_L$ (the light current) is negative and $J_0$ (the saturation current) is positive but strongly dependent on temperature, a dependence we can approximate as:\n",
    "$$J_0 \\approx B'T^{3/n}\\exp{\\frac{-E_{g0}}{nkT}}$$\n",
    "We'll use the silicon zero-temperature bandgap, $E_{g0}=1.2$ eV, meaning we just need to fit for $B'$ in this equation.\n",
    "$J_L$ is typically directly proportional to light intensity, which we will treat as fixed for this example, leaving us with two parameters to fit for: $B'$ and the ideality factor $n$."
   ]
  },
  {
   "cell_type": "code",
   "execution_count": 1,
   "metadata": {},
   "outputs": [],
   "source": [
    "import numpy as np\n",
    "import sys\n",
    "import math\n",
    "import pandas as pd\n",
    "sys.path.append('../../')\n",
    "import bayesim.model as bym\n",
    "import bayesim.params as byp\n",
    "import deepdish as dd\n",
    "from jupyterthemes import jtplot\n",
    "#jtplot.style('solarizedd')\n",
    "jtplot.style('default')"
   ]
  },
  {
   "cell_type": "markdown",
   "metadata": {},
   "source": [
    "## List the parameters\n",
    "First, we list our fitting parameters."
   ]
  },
  {
   "cell_type": "code",
   "execution_count": 2,
   "metadata": {},
   "outputs": [
    {
     "name": "stdout",
     "output_type": "stream",
     "text": [
      "Setting min_width automatically for Bp.\n"
     ]
    }
   ],
   "source": [
    "fp = byp.Param_list()\n",
    "fp.add_fit_param(name='Bp',val_range=[10,1000],spacing='log',length=20,units='arb.')\n",
    "fp.add_fit_param(name='n',val_range=[1,2],length=20, min_width=0.01)"
   ]
  },
  {
   "cell_type": "markdown",
   "metadata": {},
   "source": [
    "We can inspect the `Param_list` object and see what kind of information is inside..."
   ]
  },
  {
   "cell_type": "code",
   "execution_count": 3,
   "metadata": {},
   "outputs": [
    {
     "data": {
      "text/plain": [
       "{'ec_x_name': None,\n",
       " 'ecs': [],\n",
       " 'fit_params': [{'edges': array([   10.   ,    12.589,    15.849,    19.953,    25.119,    31.623,\n",
       "             39.811,    50.12 ,    63.1  ,    79.43 ,   100.   ,   125.89 ,\n",
       "            158.49 ,   199.53 ,   251.19 ,   316.23 ,   398.11 ,   501.2  ,\n",
       "            631.   ,   794.3  ,  1000.   ]),\n",
       "   'length': 20,\n",
       "   'min_width': 1.023292992280754,\n",
       "   'name': 'Bp',\n",
       "   'spacing': 'log',\n",
       "   'tolerance': 1.0023052380778996,\n",
       "   'units': 'arb.',\n",
       "   'val_range': [10, 1000],\n",
       "   'vals': array([  11.22 ,   14.125,   17.783,   22.387,   28.184,   35.481,\n",
       "            44.67 ,   56.23 ,   70.79 ,   89.13 ,  112.2  ,  141.25 ,\n",
       "           177.83 ,  223.87 ,  281.84 ,  354.81 ,  446.7  ,  562.3  ,\n",
       "           707.9  ,  891.3  ])},\n",
       "  {'edges': [1.0,\n",
       "    1.05,\n",
       "    1.1,\n",
       "    1.15,\n",
       "    1.2,\n",
       "    1.25,\n",
       "    1.3,\n",
       "    1.35,\n",
       "    1.4,\n",
       "    1.45,\n",
       "    1.5,\n",
       "    1.55,\n",
       "    1.6,\n",
       "    1.65,\n",
       "    1.7,\n",
       "    1.75,\n",
       "    1.8,\n",
       "    1.85,\n",
       "    1.9,\n",
       "    1.95,\n",
       "    2.0],\n",
       "   'length': 20,\n",
       "   'min_width': 0.01,\n",
       "   'name': 'n',\n",
       "   'spacing': 'linear',\n",
       "   'tol_digits': 3,\n",
       "   'tolerance': 0.001,\n",
       "   'units': 'unitless',\n",
       "   'val_range': [1, 2],\n",
       "   'vals': [1.025,\n",
       "    1.075,\n",
       "    1.125,\n",
       "    1.175,\n",
       "    1.225,\n",
       "    1.275,\n",
       "    1.325,\n",
       "    1.375,\n",
       "    1.425,\n",
       "    1.475,\n",
       "    1.525,\n",
       "    1.575,\n",
       "    1.625,\n",
       "    1.675,\n",
       "    1.725,\n",
       "    1.775,\n",
       "    1.825,\n",
       "    1.875,\n",
       "    1.925,\n",
       "    1.975]}],\n",
       " 'output': []}"
      ]
     },
     "execution_count": 3,
     "metadata": {},
     "output_type": "execute_result"
    }
   ],
   "source": [
    "fp.as_dict()"
   ]
  },
  {
   "cell_type": "markdown",
   "metadata": {},
   "source": [
    "Note that there are both `edges` and `vals` computed - the `vals` will be the values at which computations will be done, while `edges` will be the edges of the grid, used in subdivision steps later on.\n",
    "\n",
    "Finally, we define the measurement conditions and output variable. We won't be varying light intensity here, so we only need voltage and temperature."
   ]
  },
  {
   "cell_type": "code",
   "execution_count": 4,
   "metadata": {},
   "outputs": [],
   "source": [
    "fp.add_ec(name='V', units='V', is_x=True) # this will be on the x-axis when we plot data\n",
    "fp.add_ec(name='T', units='K', tolerance=0.1)\n",
    "fp.add_output(name='J', units='A/cm^2')"
   ]
  },
  {
   "cell_type": "code",
   "execution_count": 5,
   "metadata": {},
   "outputs": [
    {
     "data": {
      "text/plain": [
       "{'ec_x_name': 'V',\n",
       " 'ecs': [{'name': 'V',\n",
       "   'param_type': 'input',\n",
       "   'tol_digits': 6,\n",
       "   'tolerance': 1e-06,\n",
       "   'units': 'V'},\n",
       "  {'name': 'T',\n",
       "   'param_type': 'input',\n",
       "   'tol_digits': 1,\n",
       "   'tolerance': 0.1,\n",
       "   'units': 'K'}],\n",
       " 'fit_params': [{'edges': array([   10.   ,    12.589,    15.849,    19.953,    25.119,    31.623,\n",
       "             39.811,    50.12 ,    63.1  ,    79.43 ,   100.   ,   125.89 ,\n",
       "            158.49 ,   199.53 ,   251.19 ,   316.23 ,   398.11 ,   501.2  ,\n",
       "            631.   ,   794.3  ,  1000.   ]),\n",
       "   'length': 20,\n",
       "   'min_width': 1.023292992280754,\n",
       "   'name': 'Bp',\n",
       "   'spacing': 'log',\n",
       "   'tolerance': 1.0023052380778996,\n",
       "   'units': 'arb.',\n",
       "   'val_range': [10, 1000],\n",
       "   'vals': array([  11.22 ,   14.125,   17.783,   22.387,   28.184,   35.481,\n",
       "            44.67 ,   56.23 ,   70.79 ,   89.13 ,  112.2  ,  141.25 ,\n",
       "           177.83 ,  223.87 ,  281.84 ,  354.81 ,  446.7  ,  562.3  ,\n",
       "           707.9  ,  891.3  ])},\n",
       "  {'edges': [1.0,\n",
       "    1.05,\n",
       "    1.1,\n",
       "    1.15,\n",
       "    1.2,\n",
       "    1.25,\n",
       "    1.3,\n",
       "    1.35,\n",
       "    1.4,\n",
       "    1.45,\n",
       "    1.5,\n",
       "    1.55,\n",
       "    1.6,\n",
       "    1.65,\n",
       "    1.7,\n",
       "    1.75,\n",
       "    1.8,\n",
       "    1.85,\n",
       "    1.9,\n",
       "    1.95,\n",
       "    2.0],\n",
       "   'length': 20,\n",
       "   'min_width': 0.01,\n",
       "   'name': 'n',\n",
       "   'spacing': 'linear',\n",
       "   'tol_digits': 3,\n",
       "   'tolerance': 0.001,\n",
       "   'units': 'unitless',\n",
       "   'val_range': [1, 2],\n",
       "   'vals': [1.025,\n",
       "    1.075,\n",
       "    1.125,\n",
       "    1.175,\n",
       "    1.225,\n",
       "    1.275,\n",
       "    1.325,\n",
       "    1.375,\n",
       "    1.425,\n",
       "    1.475,\n",
       "    1.525,\n",
       "    1.575,\n",
       "    1.625,\n",
       "    1.675,\n",
       "    1.725,\n",
       "    1.775,\n",
       "    1.825,\n",
       "    1.875,\n",
       "    1.925,\n",
       "    1.975]}],\n",
       " 'output': [{'name': 'J',\n",
       "   'param_type': 'output',\n",
       "   'tol_digits': 6,\n",
       "   'tolerance': 1e-06,\n",
       "   'units': 'A/cm^2'}]}"
      ]
     },
     "execution_count": 5,
     "metadata": {},
     "output_type": "execute_result"
    }
   ],
   "source": [
    "fp.as_dict()"
   ]
  },
  {
   "cell_type": "code",
   "execution_count": 6,
   "metadata": {},
   "outputs": [],
   "source": [
    "#m = bym.Model(params=fp,ec_list=ec,output_var='J')\n",
    "m = bym.Model(params=fp)"
   ]
  },
  {
   "cell_type": "code",
   "execution_count": 7,
   "metadata": {
    "scrolled": true
   },
   "outputs": [
    {
     "data": {
      "text/html": [
       "<div>\n",
       "<style scoped>\n",
       "    .dataframe tbody tr th:only-of-type {\n",
       "        vertical-align: middle;\n",
       "    }\n",
       "\n",
       "    .dataframe tbody tr th {\n",
       "        vertical-align: top;\n",
       "    }\n",
       "\n",
       "    .dataframe thead th {\n",
       "        text-align: right;\n",
       "    }\n",
       "</style>\n",
       "<table border=\"1\" class=\"dataframe\">\n",
       "  <thead>\n",
       "    <tr style=\"text-align: right;\">\n",
       "      <th></th>\n",
       "      <th>Bp</th>\n",
       "      <th>Bp_min</th>\n",
       "      <th>Bp_max</th>\n",
       "      <th>n</th>\n",
       "      <th>n_min</th>\n",
       "      <th>n_max</th>\n",
       "      <th>prob</th>\n",
       "    </tr>\n",
       "  </thead>\n",
       "  <tbody>\n",
       "    <tr>\n",
       "      <th>0</th>\n",
       "      <td>11.22</td>\n",
       "      <td>10.0</td>\n",
       "      <td>12.589</td>\n",
       "      <td>1.025</td>\n",
       "      <td>1.00</td>\n",
       "      <td>1.05</td>\n",
       "      <td>0.0025</td>\n",
       "    </tr>\n",
       "    <tr>\n",
       "      <th>1</th>\n",
       "      <td>11.22</td>\n",
       "      <td>10.0</td>\n",
       "      <td>12.589</td>\n",
       "      <td>1.075</td>\n",
       "      <td>1.05</td>\n",
       "      <td>1.10</td>\n",
       "      <td>0.0025</td>\n",
       "    </tr>\n",
       "    <tr>\n",
       "      <th>2</th>\n",
       "      <td>11.22</td>\n",
       "      <td>10.0</td>\n",
       "      <td>12.589</td>\n",
       "      <td>1.125</td>\n",
       "      <td>1.10</td>\n",
       "      <td>1.15</td>\n",
       "      <td>0.0025</td>\n",
       "    </tr>\n",
       "    <tr>\n",
       "      <th>3</th>\n",
       "      <td>11.22</td>\n",
       "      <td>10.0</td>\n",
       "      <td>12.589</td>\n",
       "      <td>1.175</td>\n",
       "      <td>1.15</td>\n",
       "      <td>1.20</td>\n",
       "      <td>0.0025</td>\n",
       "    </tr>\n",
       "    <tr>\n",
       "      <th>4</th>\n",
       "      <td>11.22</td>\n",
       "      <td>10.0</td>\n",
       "      <td>12.589</td>\n",
       "      <td>1.225</td>\n",
       "      <td>1.20</td>\n",
       "      <td>1.25</td>\n",
       "      <td>0.0025</td>\n",
       "    </tr>\n",
       "    <tr>\n",
       "      <th>5</th>\n",
       "      <td>11.22</td>\n",
       "      <td>10.0</td>\n",
       "      <td>12.589</td>\n",
       "      <td>1.275</td>\n",
       "      <td>1.25</td>\n",
       "      <td>1.30</td>\n",
       "      <td>0.0025</td>\n",
       "    </tr>\n",
       "    <tr>\n",
       "      <th>6</th>\n",
       "      <td>11.22</td>\n",
       "      <td>10.0</td>\n",
       "      <td>12.589</td>\n",
       "      <td>1.325</td>\n",
       "      <td>1.30</td>\n",
       "      <td>1.35</td>\n",
       "      <td>0.0025</td>\n",
       "    </tr>\n",
       "    <tr>\n",
       "      <th>7</th>\n",
       "      <td>11.22</td>\n",
       "      <td>10.0</td>\n",
       "      <td>12.589</td>\n",
       "      <td>1.375</td>\n",
       "      <td>1.35</td>\n",
       "      <td>1.40</td>\n",
       "      <td>0.0025</td>\n",
       "    </tr>\n",
       "    <tr>\n",
       "      <th>8</th>\n",
       "      <td>11.22</td>\n",
       "      <td>10.0</td>\n",
       "      <td>12.589</td>\n",
       "      <td>1.425</td>\n",
       "      <td>1.40</td>\n",
       "      <td>1.45</td>\n",
       "      <td>0.0025</td>\n",
       "    </tr>\n",
       "    <tr>\n",
       "      <th>9</th>\n",
       "      <td>11.22</td>\n",
       "      <td>10.0</td>\n",
       "      <td>12.589</td>\n",
       "      <td>1.475</td>\n",
       "      <td>1.45</td>\n",
       "      <td>1.50</td>\n",
       "      <td>0.0025</td>\n",
       "    </tr>\n",
       "  </tbody>\n",
       "</table>\n",
       "</div>"
      ],
      "text/plain": [
       "      Bp  Bp_min  Bp_max      n  n_min  n_max    prob\n",
       "0  11.22    10.0  12.589  1.025   1.00   1.05  0.0025\n",
       "1  11.22    10.0  12.589  1.075   1.05   1.10  0.0025\n",
       "2  11.22    10.0  12.589  1.125   1.10   1.15  0.0025\n",
       "3  11.22    10.0  12.589  1.175   1.15   1.20  0.0025\n",
       "4  11.22    10.0  12.589  1.225   1.20   1.25  0.0025\n",
       "5  11.22    10.0  12.589  1.275   1.25   1.30  0.0025\n",
       "6  11.22    10.0  12.589  1.325   1.30   1.35  0.0025\n",
       "7  11.22    10.0  12.589  1.375   1.35   1.40  0.0025\n",
       "8  11.22    10.0  12.589  1.425   1.40   1.45  0.0025\n",
       "9  11.22    10.0  12.589  1.475   1.45   1.50  0.0025"
      ]
     },
     "execution_count": 7,
     "metadata": {},
     "output_type": "execute_result"
    }
   ],
   "source": [
    "m.probs.points.head(10)"
   ]
  },
  {
   "cell_type": "markdown",
   "metadata": {},
   "source": [
    "## Attach experimental data\n",
    "This is the next step that needs to be done before adding the model as it will use the experimental conditions we enumerate here to compute simulated outputs. For our \"experimental\" data here, we'll actually just simulate some ideal diodes so that we can directly see how good the Bayesian approach is at recovering true underlying parameters.\n",
    "\n",
    "We'll use $n=1.36$ and $B'=258$ as our \"true\" parameters. (I have no idea what \"realistic\" values for $B'$ would be...)"
   ]
  },
  {
   "cell_type": "code",
   "execution_count": 8,
   "metadata": {},
   "outputs": [],
   "source": [
    "def compute_ID(ec,params):\n",
    "    J_L = -0.03 # treat as fixed for now\n",
    "    V = ec['V']\n",
    "    T = ec['T']\n",
    "    V_th = 8.61733e-5 * T # thermal voltage, kT/q\n",
    "    n = params['n']\n",
    "    Bp = params['Bp']\n",
    "    J0 = Bp*T**(3/n)*math.exp(-1.2/V_th/n)\n",
    "    return J_L + J0*(math.exp(V/V_th/n)-1)\n",
    "\n",
    "V = np.arange(0,1.0,0.01)\n",
    "T = [float(t) for t in np.arange(150,301,50)]\n",
    "#V = np.arange(0,1.0,0.1)\n",
    "#T = [200.0,300.0]\n",
    "params = {'n':1.36,'Bp':258}\n",
    "\n",
    "data = []\n",
    "for t in T:\n",
    "    J0 = compute_ID({'V':V[0],'T':t},params)\n",
    "    for v in V:\n",
    "        J = compute_ID({'V':v,'T':t},params)\n",
    "        if abs(J)>0.1:\n",
    "            err = 0.05*abs(J)\n",
    "        else:\n",
    "            err = 0.005\n",
    "        # check for \"compliance\"\n",
    "        if not J > 2.0:\n",
    "            data.append([v,t,J,err])\n",
    "        \n",
    "data = pd.DataFrame.from_records(data=data,columns=['V','T','J','error'])\n",
    "dd.io.save('obs_data.h5',data)"
   ]
  },
  {
   "cell_type": "code",
   "execution_count": 9,
   "metadata": {},
   "outputs": [],
   "source": [
    "m.attach_observations(obs_data_path='obs_data.h5', keep_all=False, max_ec_x_step=0.2, fixed_err=0.0001)"
   ]
  },
  {
   "cell_type": "code",
   "execution_count": 10,
   "metadata": {
    "scrolled": false
   },
   "outputs": [
    {
     "data": {
      "image/png": "[encoded data removed]",
      "text/plain": [
       "<matplotlib.figure.Figure at 0x119e56550>"
      ]
     },
     "metadata": {},
     "output_type": "display_data"
    }
   ],
   "source": [
    "import matplotlib.pyplot as plt\n",
    "%matplotlib inline\n",
    "leg = []\n",
    "for i in range(len(T)):\n",
    "    curve = data[data['T']==T[i]]\n",
    "    plt.plot(curve['V'],curve['J'])\n",
    "    leg.append(curve['T'].iloc[0])\n",
    "#plt.ylim([-0.05,0.1])\n",
    "plt.legend([str(t) for t in leg])\n",
    "plt.xlabel('Voltage [V]')\n",
    "plt.ylabel('Current')\n",
    "plt.show()"
   ]
  },
  {
   "cell_type": "markdown",
   "metadata": {},
   "source": [
    "## Attach model\n",
    "Now we add the function that gives the modeled data - in this case, the `compute_ID` function we just defined above."
   ]
  },
  {
   "cell_type": "code",
   "execution_count": 11,
   "metadata": {},
   "outputs": [],
   "source": [
    "m.attach_model(mode='function',func_name=compute_ID)\n",
    "#m.attach_model(mode='file',fpath='model_data.h5')"
   ]
  },
  {
   "cell_type": "markdown",
   "metadata": {},
   "source": [
    "That's it! When that function is called, `bayesim` also generates the full table of modeled data at all experimental conditions in the observed data we attached before. Check it out:"
   ]
  },
  {
   "cell_type": "code",
   "execution_count": 12,
   "metadata": {},
   "outputs": [],
   "source": [
    "m.calc_model_errors()"
   ]
  },
  {
   "cell_type": "markdown",
   "metadata": {},
   "source": [
    "## Drop that Bayes!\n",
    "### First Bayes\n",
    "rewrite explanation here"
   ]
  },
  {
   "cell_type": "code",
   "execution_count": 13,
   "metadata": {
    "scrolled": true
   },
   "outputs": [
    {
     "name": "stdout",
     "output_type": "stream",
     "text": [
      "Did a total of 37 runs to use a total of 41 observations.\n",
      "\n",
      "An average of 235 / 400 probability points used model errors (rather than experimental errors) during this run.\n"
     ]
    }
   ],
   "source": [
    "#m.run(min_num_pts=1,th_pv=.5,th_pm=0.5)\n",
    "#m.run(th_pv=0.1,th_pm=0.7)\n",
    "m.run()\n",
    "#m.run(force_exp_err=True)"
   ]
  },
  {
   "cell_type": "markdown",
   "metadata": {},
   "source": [
    "We can visualize the distribution and add markers for the real values to compare..."
   ]
  },
  {
   "cell_type": "code",
   "execution_count": 14,
   "metadata": {
    "scrolled": false
   },
   "outputs": [
    {
     "data": {
      "image/png": "[encoded data removed]",
      "text/plain": [
       "<matplotlib.figure.Figure at 0x119d8ee10>"
      ]
     },
     "metadata": {},
     "output_type": "display_data"
    }
   ],
   "source": [
    "m.visualize_probs(true_vals=params)"
   ]
  },
  {
   "cell_type": "code",
   "execution_count": 15,
   "metadata": {
    "scrolled": true
   },
   "outputs": [
    {
     "data": {
      "image/png": "[encoded data removed]",
      "text/plain": [
       "<matplotlib.figure.Figure at 0x10ec5f6d0>"
      ]
     },
     "metadata": {},
     "output_type": "display_data"
    }
   ],
   "source": [
    "#m.comparison_plot(ecs=[{'T':t} for t in list(set(list(m.ec_pts['T'])))])\n",
    "m.comparison_plot(num_param_pts=3)"
   ]
  },
  {
   "cell_type": "markdown",
   "metadata": {},
   "source": [
    "Not too bad. We can also look at the probabilities directly."
   ]
  },
  {
   "cell_type": "code",
   "execution_count": 16,
   "metadata": {},
   "outputs": [
    {
     "data": {
      "text/html": [
       "<div>\n",
       "<style scoped>\n",
       "    .dataframe tbody tr th:only-of-type {\n",
       "        vertical-align: middle;\n",
       "    }\n",
       "\n",
       "    .dataframe tbody tr th {\n",
       "        vertical-align: top;\n",
       "    }\n",
       "\n",
       "    .dataframe thead th {\n",
       "        text-align: right;\n",
       "    }\n",
       "</style>\n",
       "<table border=\"1\" class=\"dataframe\">\n",
       "  <thead>\n",
       "    <tr style=\"text-align: right;\">\n",
       "      <th></th>\n",
       "      <th>Bp</th>\n",
       "      <th>Bp_min</th>\n",
       "      <th>Bp_max</th>\n",
       "      <th>n</th>\n",
       "      <th>n_min</th>\n",
       "      <th>n_max</th>\n",
       "      <th>prob</th>\n",
       "      <th>start_ind</th>\n",
       "      <th>end_ind</th>\n",
       "    </tr>\n",
       "  </thead>\n",
       "  <tbody>\n",
       "    <tr>\n",
       "      <th>267</th>\n",
       "      <td>223.87</td>\n",
       "      <td>199.53</td>\n",
       "      <td>251.19</td>\n",
       "      <td>1.375</td>\n",
       "      <td>1.35</td>\n",
       "      <td>1.40</td>\n",
       "      <td>0.300685</td>\n",
       "      <td>15753</td>\n",
       "      <td>15811</td>\n",
       "    </tr>\n",
       "    <tr>\n",
       "      <th>248</th>\n",
       "      <td>177.83</td>\n",
       "      <td>158.49</td>\n",
       "      <td>199.53</td>\n",
       "      <td>1.425</td>\n",
       "      <td>1.40</td>\n",
       "      <td>1.45</td>\n",
       "      <td>0.294410</td>\n",
       "      <td>14632</td>\n",
       "      <td>14690</td>\n",
       "    </tr>\n",
       "    <tr>\n",
       "      <th>286</th>\n",
       "      <td>281.84</td>\n",
       "      <td>251.19</td>\n",
       "      <td>316.23</td>\n",
       "      <td>1.325</td>\n",
       "      <td>1.30</td>\n",
       "      <td>1.35</td>\n",
       "      <td>0.151527</td>\n",
       "      <td>16874</td>\n",
       "      <td>16932</td>\n",
       "    </tr>\n",
       "    <tr>\n",
       "      <th>229</th>\n",
       "      <td>141.25</td>\n",
       "      <td>125.89</td>\n",
       "      <td>158.49</td>\n",
       "      <td>1.475</td>\n",
       "      <td>1.45</td>\n",
       "      <td>1.50</td>\n",
       "      <td>0.128204</td>\n",
       "      <td>13511</td>\n",
       "      <td>13569</td>\n",
       "    </tr>\n",
       "    <tr>\n",
       "      <th>305</th>\n",
       "      <td>354.81</td>\n",
       "      <td>316.23</td>\n",
       "      <td>398.11</td>\n",
       "      <td>1.275</td>\n",
       "      <td>1.25</td>\n",
       "      <td>1.30</td>\n",
       "      <td>0.039598</td>\n",
       "      <td>17995</td>\n",
       "      <td>18053</td>\n",
       "    </tr>\n",
       "  </tbody>\n",
       "</table>\n",
       "</div>"
      ],
      "text/plain": [
       "         Bp  Bp_min  Bp_max      n  n_min  n_max      prob  start_ind  end_ind\n",
       "267  223.87  199.53  251.19  1.375   1.35   1.40  0.300685      15753    15811\n",
       "248  177.83  158.49  199.53  1.425   1.40   1.45  0.294410      14632    14690\n",
       "286  281.84  251.19  316.23  1.325   1.30   1.35  0.151527      16874    16932\n",
       "229  141.25  125.89  158.49  1.475   1.45   1.50  0.128204      13511    13569\n",
       "305  354.81  316.23  398.11  1.275   1.25   1.30  0.039598      17995    18053"
      ]
     },
     "execution_count": 16,
     "metadata": {},
     "output_type": "execute_result"
    }
   ],
   "source": [
    "m.probs.most_probable(5)"
   ]
  },
  {
   "cell_type": "markdown",
   "metadata": {},
   "source": [
    "### Let's subdivide!\n",
    "Again we'll use the default options, which will subdivide all grid boxes with probability > 0.001 as well as any immediately adjacent boxes."
   ]
  },
  {
   "cell_type": "code",
   "execution_count": 17,
   "metadata": {},
   "outputs": [
    {
     "name": "stdout",
     "output_type": "stream",
     "text": [
      "20 box(es) with probability > 0.001 and 26 neighboring boxes subdivided!\n",
      "Overwriting metadata for fitting parameter Bp with new info.\n",
      "Overwriting metadata for fitting parameter n with new info.\n",
      "New model points to simulate are saved in the file new_sim_points_1.h5.\n"
     ]
    }
   ],
   "source": [
    "m.subdivide()"
   ]
  },
  {
   "cell_type": "markdown",
   "metadata": {},
   "source": [
    "Let's take a look at the grid."
   ]
  },
  {
   "cell_type": "code",
   "execution_count": 18,
   "metadata": {},
   "outputs": [
    {
     "data": {
      "image/png": "[encoded data removed]",
      "text/plain": [
       "<matplotlib.figure.Figure at 0x11cfc5ad0>"
      ]
     },
     "metadata": {},
     "output_type": "display_data"
    }
   ],
   "source": [
    "m.visualize_grid(true_vals=params)"
   ]
  },
  {
   "cell_type": "markdown",
   "metadata": {},
   "source": [
    "### Compute and attach new model data\n",
    "We've added new model points to the grid so we have to compute the modeled values and attach that data."
   ]
  },
  {
   "cell_type": "code",
   "execution_count": 19,
   "metadata": {},
   "outputs": [],
   "source": [
    "new_sims = dd.io.load('new_sim_points_1.h5')"
   ]
  },
  {
   "cell_type": "code",
   "execution_count": 20,
   "metadata": {},
   "outputs": [],
   "source": [
    "data = []\n",
    "for sim in new_sims.iterrows():\n",
    "    v = sim[1]['V']\n",
    "    t = sim[1]['T']\n",
    "    this_pt = [v,t,compute_ID({'V':v,'T':t},sim[1])]\n",
    "    this_pt.extend([sim[1][n] for n in m.fit_param_names()])\n",
    "    data.append(this_pt)\n",
    "columns = ['V','T','J']\n",
    "columns.extend(m.fit_param_names())\n",
    "new_sim_data = pd.DataFrame.from_records(data=data,columns=columns)\n",
    "dd.io.save('new_sim_data_1.h5',new_sim_data)"
   ]
  },
  {
   "cell_type": "code",
   "execution_count": 21,
   "metadata": {},
   "outputs": [],
   "source": [
    "m.attach_model(mode='file',fpath='new_sim_data_1.h5')"
   ]
  },
  {
   "cell_type": "code",
   "execution_count": 22,
   "metadata": {},
   "outputs": [],
   "source": [
    "m.calc_model_errors()"
   ]
  },
  {
   "cell_type": "markdown",
   "metadata": {},
   "source": [
    "### Second Bayes!\n",
    "Let's do it again!"
   ]
  },
  {
   "cell_type": "code",
   "execution_count": 23,
   "metadata": {},
   "outputs": [
    {
     "name": "stdout",
     "output_type": "stream",
     "text": [
      "Did a total of 35 runs to use a total of 41 observations.\n",
      "\n",
      "An average of 127 / 184 probability points used model errors (rather than experimental errors) during this run.\n"
     ]
    }
   ],
   "source": [
    "m.run()\n",
    "#m.run(force_exp_err=True,min_num_pts=1)"
   ]
  },
  {
   "cell_type": "code",
   "execution_count": 24,
   "metadata": {},
   "outputs": [
    {
     "data": {
      "image/png": "[encoded data removed]",
      "text/plain": [
       "<matplotlib.figure.Figure at 0x11d95ce50>"
      ]
     },
     "metadata": {},
     "output_type": "display_data"
    }
   ],
   "source": [
    "m.visualize_probs(true_vals=params)"
   ]
  },
  {
   "cell_type": "code",
   "execution_count": 25,
   "metadata": {},
   "outputs": [
    {
     "data": {
      "text/html": [
       "<div>\n",
       "<style scoped>\n",
       "    .dataframe tbody tr th:only-of-type {\n",
       "        vertical-align: middle;\n",
       "    }\n",
       "\n",
       "    .dataframe tbody tr th {\n",
       "        vertical-align: top;\n",
       "    }\n",
       "\n",
       "    .dataframe thead th {\n",
       "        text-align: right;\n",
       "    }\n",
       "</style>\n",
       "<table border=\"1\" class=\"dataframe\">\n",
       "  <thead>\n",
       "    <tr style=\"text-align: right;\">\n",
       "      <th></th>\n",
       "      <th>Bp</th>\n",
       "      <th>Bp_min</th>\n",
       "      <th>Bp_max</th>\n",
       "      <th>n</th>\n",
       "      <th>n_min</th>\n",
       "      <th>n_max</th>\n",
       "      <th>prob</th>\n",
       "      <th>start_ind</th>\n",
       "      <th>end_ind</th>\n",
       "    </tr>\n",
       "  </thead>\n",
       "  <tbody>\n",
       "    <tr>\n",
       "      <th>102</th>\n",
       "      <td>237.14</td>\n",
       "      <td>223.87</td>\n",
       "      <td>251.19</td>\n",
       "      <td>1.3625</td>\n",
       "      <td>1.350</td>\n",
       "      <td>1.375</td>\n",
       "      <td>0.196113</td>\n",
       "      <td>6018</td>\n",
       "      <td>6076</td>\n",
       "    </tr>\n",
       "    <tr>\n",
       "      <th>95</th>\n",
       "      <td>211.35</td>\n",
       "      <td>199.53</td>\n",
       "      <td>223.87</td>\n",
       "      <td>1.3875</td>\n",
       "      <td>1.375</td>\n",
       "      <td>1.400</td>\n",
       "      <td>0.182919</td>\n",
       "      <td>5605</td>\n",
       "      <td>5663</td>\n",
       "    </tr>\n",
       "    <tr>\n",
       "      <th>103</th>\n",
       "      <td>237.14</td>\n",
       "      <td>223.87</td>\n",
       "      <td>251.19</td>\n",
       "      <td>1.3875</td>\n",
       "      <td>1.375</td>\n",
       "      <td>1.400</td>\n",
       "      <td>0.168843</td>\n",
       "      <td>6077</td>\n",
       "      <td>6135</td>\n",
       "    </tr>\n",
       "    <tr>\n",
       "      <th>119</th>\n",
       "      <td>298.54</td>\n",
       "      <td>281.84</td>\n",
       "      <td>316.23</td>\n",
       "      <td>1.3375</td>\n",
       "      <td>1.325</td>\n",
       "      <td>1.350</td>\n",
       "      <td>0.104001</td>\n",
       "      <td>7021</td>\n",
       "      <td>7079</td>\n",
       "    </tr>\n",
       "    <tr>\n",
       "      <th>86</th>\n",
       "      <td>188.37</td>\n",
       "      <td>177.83</td>\n",
       "      <td>199.53</td>\n",
       "      <td>1.4125</td>\n",
       "      <td>1.400</td>\n",
       "      <td>1.425</td>\n",
       "      <td>0.084070</td>\n",
       "      <td>5074</td>\n",
       "      <td>5132</td>\n",
       "    </tr>\n",
       "    <tr>\n",
       "      <th>111</th>\n",
       "      <td>266.07</td>\n",
       "      <td>251.19</td>\n",
       "      <td>281.84</td>\n",
       "      <td>1.3375</td>\n",
       "      <td>1.325</td>\n",
       "      <td>1.350</td>\n",
       "      <td>0.057825</td>\n",
       "      <td>6549</td>\n",
       "      <td>6607</td>\n",
       "    </tr>\n",
       "    <tr>\n",
       "      <th>112</th>\n",
       "      <td>266.07</td>\n",
       "      <td>251.19</td>\n",
       "      <td>281.84</td>\n",
       "      <td>1.3625</td>\n",
       "      <td>1.350</td>\n",
       "      <td>1.375</td>\n",
       "      <td>0.046899</td>\n",
       "      <td>6608</td>\n",
       "      <td>6666</td>\n",
       "    </tr>\n",
       "    <tr>\n",
       "      <th>87</th>\n",
       "      <td>188.37</td>\n",
       "      <td>177.83</td>\n",
       "      <td>199.53</td>\n",
       "      <td>1.4375</td>\n",
       "      <td>1.425</td>\n",
       "      <td>1.450</td>\n",
       "      <td>0.043127</td>\n",
       "      <td>5133</td>\n",
       "      <td>5191</td>\n",
       "    </tr>\n",
       "    <tr>\n",
       "      <th>77</th>\n",
       "      <td>167.88</td>\n",
       "      <td>158.49</td>\n",
       "      <td>177.83</td>\n",
       "      <td>1.4375</td>\n",
       "      <td>1.425</td>\n",
       "      <td>1.450</td>\n",
       "      <td>0.026672</td>\n",
       "      <td>4543</td>\n",
       "      <td>4601</td>\n",
       "    </tr>\n",
       "    <tr>\n",
       "      <th>96</th>\n",
       "      <td>211.35</td>\n",
       "      <td>199.53</td>\n",
       "      <td>223.87</td>\n",
       "      <td>1.4125</td>\n",
       "      <td>1.400</td>\n",
       "      <td>1.425</td>\n",
       "      <td>0.023524</td>\n",
       "      <td>5664</td>\n",
       "      <td>5722</td>\n",
       "    </tr>\n",
       "  </tbody>\n",
       "</table>\n",
       "</div>"
      ],
      "text/plain": [
       "         Bp  Bp_min  Bp_max       n  n_min  n_max      prob  start_ind  \\\n",
       "102  237.14  223.87  251.19  1.3625  1.350  1.375  0.196113       6018   \n",
       "95   211.35  199.53  223.87  1.3875  1.375  1.400  0.182919       5605   \n",
       "103  237.14  223.87  251.19  1.3875  1.375  1.400  0.168843       6077   \n",
       "119  298.54  281.84  316.23  1.3375  1.325  1.350  0.104001       7021   \n",
       "86   188.37  177.83  199.53  1.4125  1.400  1.425  0.084070       5074   \n",
       "111  266.07  251.19  281.84  1.3375  1.325  1.350  0.057825       6549   \n",
       "112  266.07  251.19  281.84  1.3625  1.350  1.375  0.046899       6608   \n",
       "87   188.37  177.83  199.53  1.4375  1.425  1.450  0.043127       5133   \n",
       "77   167.88  158.49  177.83  1.4375  1.425  1.450  0.026672       4543   \n",
       "96   211.35  199.53  223.87  1.4125  1.400  1.425  0.023524       5664   \n",
       "\n",
       "     end_ind  \n",
       "102     6076  \n",
       "95      5663  \n",
       "103     6135  \n",
       "119     7079  \n",
       "86      5132  \n",
       "111     6607  \n",
       "112     6666  \n",
       "87      5191  \n",
       "77      4601  \n",
       "96      5722  "
      ]
     },
     "execution_count": 25,
     "metadata": {},
     "output_type": "execute_result"
    }
   ],
   "source": [
    "m.probs.most_probable(10)"
   ]
  },
  {
   "cell_type": "code",
   "execution_count": 26,
   "metadata": {},
   "outputs": [
    {
     "data": {
      "image/png": "[encoded data removed]",
      "text/plain": [
       "<matplotlib.figure.Figure at 0x11cf361d0>"
      ]
     },
     "metadata": {},
     "output_type": "display_data"
    }
   ],
   "source": [
    "m.comparison_plot(num_param_pts=3)"
   ]
  },
  {
   "cell_type": "code",
   "execution_count": 27,
   "metadata": {},
   "outputs": [
    {
     "name": "stdout",
     "output_type": "stream",
     "text": [
      "18 box(es) with probability > 0.001 and 23 neighboring boxes subdivided!\n",
      "Overwriting metadata for fitting parameter Bp with new info.\n",
      "Overwriting metadata for fitting parameter n with new info.\n",
      "New model points to simulate are saved in the file new_sim_points_2.h5.\n"
     ]
    }
   ],
   "source": [
    "m.subdivide()"
   ]
  },
  {
   "cell_type": "code",
   "execution_count": 28,
   "metadata": {},
   "outputs": [
    {
     "data": {
      "image/png": "[encoded data removed]",
      "text/plain": [
       "<matplotlib.figure.Figure at 0x11d949f50>"
      ]
     },
     "metadata": {},
     "output_type": "display_data"
    }
   ],
   "source": [
    "m.visualize_grid(true_vals=params)"
   ]
  },
  {
   "cell_type": "code",
   "execution_count": 29,
   "metadata": {},
   "outputs": [
    {
     "data": {
      "text/html": [
       "<div>\n",
       "<style scoped>\n",
       "    .dataframe tbody tr th:only-of-type {\n",
       "        vertical-align: middle;\n",
       "    }\n",
       "\n",
       "    .dataframe tbody tr th {\n",
       "        vertical-align: top;\n",
       "    }\n",
       "\n",
       "    .dataframe thead th {\n",
       "        text-align: right;\n",
       "    }\n",
       "</style>\n",
       "<table border=\"1\" class=\"dataframe\">\n",
       "  <thead>\n",
       "    <tr style=\"text-align: right;\">\n",
       "      <th></th>\n",
       "      <th>Bp</th>\n",
       "      <th>Bp_min</th>\n",
       "      <th>Bp_max</th>\n",
       "      <th>n</th>\n",
       "      <th>n_min</th>\n",
       "      <th>n_max</th>\n",
       "      <th>prob</th>\n",
       "    </tr>\n",
       "  </thead>\n",
       "  <tbody>\n",
       "    <tr>\n",
       "      <th>111</th>\n",
       "      <td>290.07</td>\n",
       "      <td>281.84</td>\n",
       "      <td>298.54</td>\n",
       "      <td>1.3687</td>\n",
       "      <td>1.3625</td>\n",
       "      <td>1.3750</td>\n",
       "      <td>2.274968e-05</td>\n",
       "    </tr>\n",
       "    <tr>\n",
       "      <th>57</th>\n",
       "      <td>205.35</td>\n",
       "      <td>199.53</td>\n",
       "      <td>211.35</td>\n",
       "      <td>1.3687</td>\n",
       "      <td>1.3625</td>\n",
       "      <td>1.3750</td>\n",
       "      <td>2.552975e-05</td>\n",
       "    </tr>\n",
       "    <tr>\n",
       "      <th>134</th>\n",
       "      <td>344.75</td>\n",
       "      <td>334.97</td>\n",
       "      <td>354.82</td>\n",
       "      <td>1.3313</td>\n",
       "      <td>1.3250</td>\n",
       "      <td>1.3375</td>\n",
       "      <td>3.708665e-05</td>\n",
       "    </tr>\n",
       "    <tr>\n",
       "      <th>33</th>\n",
       "      <td>172.78</td>\n",
       "      <td>167.88</td>\n",
       "      <td>177.83</td>\n",
       "      <td>1.4187</td>\n",
       "      <td>1.4125</td>\n",
       "      <td>1.4250</td>\n",
       "      <td>1.596187e-05</td>\n",
       "    </tr>\n",
       "    <tr>\n",
       "      <th>60</th>\n",
       "      <td>205.35</td>\n",
       "      <td>199.53</td>\n",
       "      <td>211.35</td>\n",
       "      <td>1.4063</td>\n",
       "      <td>1.4000</td>\n",
       "      <td>1.4125</td>\n",
       "      <td>5.890482e-03</td>\n",
       "    </tr>\n",
       "    <tr>\n",
       "      <th>19</th>\n",
       "      <td>153.99</td>\n",
       "      <td>149.62</td>\n",
       "      <td>158.49</td>\n",
       "      <td>1.4688</td>\n",
       "      <td>1.4625</td>\n",
       "      <td>1.4750</td>\n",
       "      <td>1.035158e-03</td>\n",
       "    </tr>\n",
       "    <tr>\n",
       "      <th>83</th>\n",
       "      <td>244.06</td>\n",
       "      <td>237.14</td>\n",
       "      <td>251.19</td>\n",
       "      <td>1.3687</td>\n",
       "      <td>1.3625</td>\n",
       "      <td>1.3750</td>\n",
       "      <td>4.910660e-02</td>\n",
       "    </tr>\n",
       "    <tr>\n",
       "      <th>135</th>\n",
       "      <td>344.75</td>\n",
       "      <td>334.97</td>\n",
       "      <td>354.82</td>\n",
       "      <td>1.3438</td>\n",
       "      <td>1.3375</td>\n",
       "      <td>1.3500</td>\n",
       "      <td>3.708665e-05</td>\n",
       "    </tr>\n",
       "    <tr>\n",
       "      <th>105</th>\n",
       "      <td>290.07</td>\n",
       "      <td>281.84</td>\n",
       "      <td>298.54</td>\n",
       "      <td>1.2937</td>\n",
       "      <td>1.2875</td>\n",
       "      <td>1.3000</td>\n",
       "      <td>3.314012e-07</td>\n",
       "    </tr>\n",
       "    <tr>\n",
       "      <th>50</th>\n",
       "      <td>193.87</td>\n",
       "      <td>188.37</td>\n",
       "      <td>199.53</td>\n",
       "      <td>1.4063</td>\n",
       "      <td>1.4000</td>\n",
       "      <td>1.4125</td>\n",
       "      <td>2.105107e-02</td>\n",
       "    </tr>\n",
       "  </tbody>\n",
       "</table>\n",
       "</div>"
      ],
      "text/plain": [
       "         Bp  Bp_min  Bp_max       n   n_min   n_max          prob\n",
       "111  290.07  281.84  298.54  1.3687  1.3625  1.3750  2.274968e-05\n",
       "57   205.35  199.53  211.35  1.3687  1.3625  1.3750  2.552975e-05\n",
       "134  344.75  334.97  354.82  1.3313  1.3250  1.3375  3.708665e-05\n",
       "33   172.78  167.88  177.83  1.4187  1.4125  1.4250  1.596187e-05\n",
       "60   205.35  199.53  211.35  1.4063  1.4000  1.4125  5.890482e-03\n",
       "19   153.99  149.62  158.49  1.4688  1.4625  1.4750  1.035158e-03\n",
       "83   244.06  237.14  251.19  1.3687  1.3625  1.3750  4.910660e-02\n",
       "135  344.75  334.97  354.82  1.3438  1.3375  1.3500  3.708665e-05\n",
       "105  290.07  281.84  298.54  1.2937  1.2875  1.3000  3.314012e-07\n",
       "50   193.87  188.37  199.53  1.4063  1.4000  1.4125  2.105107e-02"
      ]
     },
     "execution_count": 29,
     "metadata": {},
     "output_type": "execute_result"
    }
   ],
   "source": [
    "m.probs.points.sample(10)"
   ]
  },
  {
   "cell_type": "code",
   "execution_count": 30,
   "metadata": {},
   "outputs": [],
   "source": [
    "new_sims = dd.io.load('new_sim_points_2.h5')\n",
    "data = []\n",
    "for sim in new_sims.iterrows():\n",
    "    v = sim[1]['V']\n",
    "    t = sim[1]['T']\n",
    "    this_pt = [v,t,compute_ID({'V':v,'T':t},sim[1])]\n",
    "    this_pt.extend([sim[1][n] for n in m.fit_param_names()])\n",
    "    data.append(this_pt)\n",
    "columns = ['V','T','J']\n",
    "columns.extend(m.fit_param_names())\n",
    "new_sim_data = pd.DataFrame.from_records(data=data,columns=columns)\n",
    "dd.io.save('new_sim_data_2.h5',new_sim_data)\n",
    "m.attach_model(mode='file',fpath='new_sim_data_2.h5')\n",
    "m.calc_model_errors()"
   ]
  },
  {
   "cell_type": "code",
   "execution_count": 31,
   "metadata": {},
   "outputs": [
    {
     "name": "stdout",
     "output_type": "stream",
     "text": [
      "Did a total of 30 runs to use a total of 41 observations.\n",
      "\n",
      "An average of 105 / 164 probability points used model errors (rather than experimental errors) during this run.\n"
     ]
    }
   ],
   "source": [
    "m.run()\n",
    "#m.run(force_exp_err=True)"
   ]
  },
  {
   "cell_type": "code",
   "execution_count": 32,
   "metadata": {
    "scrolled": false
   },
   "outputs": [
    {
     "data": {
      "image/png": "[encoded data removed]",
      "text/plain": [
       "<matplotlib.figure.Figure at 0x11d5ff050>"
      ]
     },
     "metadata": {},
     "output_type": "display_data"
    }
   ],
   "source": [
    "m.visualize_probs(true_vals=params)"
   ]
  },
  {
   "cell_type": "code",
   "execution_count": 33,
   "metadata": {
    "scrolled": true
   },
   "outputs": [
    {
     "data": {
      "text/html": [
       "<div>\n",
       "<style scoped>\n",
       "    .dataframe tbody tr th:only-of-type {\n",
       "        vertical-align: middle;\n",
       "    }\n",
       "\n",
       "    .dataframe tbody tr th {\n",
       "        vertical-align: top;\n",
       "    }\n",
       "\n",
       "    .dataframe thead th {\n",
       "        text-align: right;\n",
       "    }\n",
       "</style>\n",
       "<table border=\"1\" class=\"dataframe\">\n",
       "  <thead>\n",
       "    <tr style=\"text-align: right;\">\n",
       "      <th></th>\n",
       "      <th>Bp</th>\n",
       "      <th>Bp_min</th>\n",
       "      <th>Bp_max</th>\n",
       "      <th>n</th>\n",
       "      <th>n_min</th>\n",
       "      <th>n_max</th>\n",
       "      <th>prob</th>\n",
       "      <th>start_ind</th>\n",
       "      <th>end_ind</th>\n",
       "    </tr>\n",
       "  </thead>\n",
       "  <tbody>\n",
       "    <tr>\n",
       "      <th>83</th>\n",
       "      <td>244.06</td>\n",
       "      <td>237.14</td>\n",
       "      <td>251.19</td>\n",
       "      <td>1.3687</td>\n",
       "      <td>1.3625</td>\n",
       "      <td>1.3750</td>\n",
       "      <td>0.295502</td>\n",
       "      <td>4897</td>\n",
       "      <td>4955</td>\n",
       "    </tr>\n",
       "    <tr>\n",
       "      <th>76</th>\n",
       "      <td>230.41</td>\n",
       "      <td>223.87</td>\n",
       "      <td>237.14</td>\n",
       "      <td>1.3813</td>\n",
       "      <td>1.3750</td>\n",
       "      <td>1.3875</td>\n",
       "      <td>0.213540</td>\n",
       "      <td>4484</td>\n",
       "      <td>4542</td>\n",
       "    </tr>\n",
       "    <tr>\n",
       "      <th>92</th>\n",
       "      <td>258.52</td>\n",
       "      <td>251.19</td>\n",
       "      <td>266.07</td>\n",
       "      <td>1.3563</td>\n",
       "      <td>1.3500</td>\n",
       "      <td>1.3625</td>\n",
       "      <td>0.160401</td>\n",
       "      <td>5428</td>\n",
       "      <td>5486</td>\n",
       "    </tr>\n",
       "    <tr>\n",
       "      <th>99</th>\n",
       "      <td>273.84</td>\n",
       "      <td>266.07</td>\n",
       "      <td>281.84</td>\n",
       "      <td>1.3438</td>\n",
       "      <td>1.3375</td>\n",
       "      <td>1.3500</td>\n",
       "      <td>0.100576</td>\n",
       "      <td>5841</td>\n",
       "      <td>5899</td>\n",
       "    </tr>\n",
       "    <tr>\n",
       "      <th>67</th>\n",
       "      <td>217.52</td>\n",
       "      <td>211.35</td>\n",
       "      <td>223.87</td>\n",
       "      <td>1.3937</td>\n",
       "      <td>1.3875</td>\n",
       "      <td>1.4000</td>\n",
       "      <td>0.085314</td>\n",
       "      <td>3953</td>\n",
       "      <td>4011</td>\n",
       "    </tr>\n",
       "  </tbody>\n",
       "</table>\n",
       "</div>"
      ],
      "text/plain": [
       "        Bp  Bp_min  Bp_max       n   n_min   n_max      prob  start_ind  \\\n",
       "83  244.06  237.14  251.19  1.3687  1.3625  1.3750  0.295502       4897   \n",
       "76  230.41  223.87  237.14  1.3813  1.3750  1.3875  0.213540       4484   \n",
       "92  258.52  251.19  266.07  1.3563  1.3500  1.3625  0.160401       5428   \n",
       "99  273.84  266.07  281.84  1.3438  1.3375  1.3500  0.100576       5841   \n",
       "67  217.52  211.35  223.87  1.3937  1.3875  1.4000  0.085314       3953   \n",
       "\n",
       "    end_ind  \n",
       "83     4955  \n",
       "76     4542  \n",
       "92     5486  \n",
       "99     5899  \n",
       "67     4011  "
      ]
     },
     "execution_count": 33,
     "metadata": {},
     "output_type": "execute_result"
    }
   ],
   "source": [
    "m.probs.most_probable(5)"
   ]
  },
  {
   "cell_type": "code",
   "execution_count": 34,
   "metadata": {},
   "outputs": [
    {
     "data": {
      "text/html": [
       "<div>\n",
       "<style scoped>\n",
       "    .dataframe tbody tr th:only-of-type {\n",
       "        vertical-align: middle;\n",
       "    }\n",
       "\n",
       "    .dataframe tbody tr th {\n",
       "        vertical-align: top;\n",
       "    }\n",
       "\n",
       "    .dataframe thead th {\n",
       "        text-align: right;\n",
       "    }\n",
       "</style>\n",
       "<table border=\"1\" class=\"dataframe\">\n",
       "  <thead>\n",
       "    <tr style=\"text-align: right;\">\n",
       "      <th></th>\n",
       "      <th>V</th>\n",
       "      <th>T</th>\n",
       "      <th>J</th>\n",
       "      <th>Bp</th>\n",
       "      <th>n</th>\n",
       "      <th>error</th>\n",
       "    </tr>\n",
       "  </thead>\n",
       "  <tbody>\n",
       "    <tr>\n",
       "      <th>4710</th>\n",
       "      <td>0.81</td>\n",
       "      <td>150.0</td>\n",
       "      <td>-0.024656</td>\n",
       "      <td>230.41</td>\n",
       "      <td>1.4187</td>\n",
       "      <td>4.799213e-04</td>\n",
       "    </tr>\n",
       "    <tr>\n",
       "      <th>4805</th>\n",
       "      <td>0.58</td>\n",
       "      <td>300.0</td>\n",
       "      <td>1.438226</td>\n",
       "      <td>244.06</td>\n",
       "      <td>1.3438</td>\n",
       "      <td>8.698903e-02</td>\n",
       "    </tr>\n",
       "    <tr>\n",
       "      <th>9603</th>\n",
       "      <td>0.77</td>\n",
       "      <td>200.0</td>\n",
       "      <td>0.330874</td>\n",
       "      <td>487.00</td>\n",
       "      <td>1.2563</td>\n",
       "      <td>2.633836e-02</td>\n",
       "    </tr>\n",
       "    <tr>\n",
       "      <th>70</th>\n",
       "      <td>0.40</td>\n",
       "      <td>300.0</td>\n",
       "      <td>-0.019479</td>\n",
       "      <td>129.57</td>\n",
       "      <td>1.4688</td>\n",
       "      <td>8.702770e-04</td>\n",
       "    </tr>\n",
       "    <tr>\n",
       "      <th>1287</th>\n",
       "      <td>0.80</td>\n",
       "      <td>200.0</td>\n",
       "      <td>1.120573</td>\n",
       "      <td>153.99</td>\n",
       "      <td>1.4937</td>\n",
       "      <td>6.821696e-02</td>\n",
       "    </tr>\n",
       "    <tr>\n",
       "      <th>3277</th>\n",
       "      <td>0.63</td>\n",
       "      <td>250.0</td>\n",
       "      <td>0.200184</td>\n",
       "      <td>193.87</td>\n",
       "      <td>1.4688</td>\n",
       "      <td>1.293143e-02</td>\n",
       "    </tr>\n",
       "    <tr>\n",
       "      <th>8261</th>\n",
       "      <td>0.00</td>\n",
       "      <td>200.0</td>\n",
       "      <td>-0.030000</td>\n",
       "      <td>365.18</td>\n",
       "      <td>1.3062</td>\n",
       "      <td>0.000000e+00</td>\n",
       "    </tr>\n",
       "    <tr>\n",
       "      <th>5333</th>\n",
       "      <td>0.56</td>\n",
       "      <td>300.0</td>\n",
       "      <td>0.799021</td>\n",
       "      <td>258.52</td>\n",
       "      <td>1.3313</td>\n",
       "      <td>4.912812e-02</td>\n",
       "    </tr>\n",
       "    <tr>\n",
       "      <th>8446</th>\n",
       "      <td>0.40</td>\n",
       "      <td>200.0</td>\n",
       "      <td>-0.030000</td>\n",
       "      <td>386.82</td>\n",
       "      <td>1.2687</td>\n",
       "      <td>3.675961e-09</td>\n",
       "    </tr>\n",
       "    <tr>\n",
       "      <th>5049</th>\n",
       "      <td>0.65</td>\n",
       "      <td>250.0</td>\n",
       "      <td>0.362386</td>\n",
       "      <td>244.06</td>\n",
       "      <td>1.3937</td>\n",
       "      <td>2.328037e-02</td>\n",
       "    </tr>\n",
       "  </tbody>\n",
       "</table>\n",
       "</div>"
      ],
      "text/plain": [
       "         V      T         J      Bp       n         error\n",
       "4710  0.81  150.0 -0.024656  230.41  1.4187  4.799213e-04\n",
       "4805  0.58  300.0  1.438226  244.06  1.3438  8.698903e-02\n",
       "9603  0.77  200.0  0.330874  487.00  1.2563  2.633836e-02\n",
       "70    0.40  300.0 -0.019479  129.57  1.4688  8.702770e-04\n",
       "1287  0.80  200.0  1.120573  153.99  1.4937  6.821696e-02\n",
       "3277  0.63  250.0  0.200184  193.87  1.4688  1.293143e-02\n",
       "8261  0.00  200.0 -0.030000  365.18  1.3062  0.000000e+00\n",
       "5333  0.56  300.0  0.799021  258.52  1.3313  4.912812e-02\n",
       "8446  0.40  200.0 -0.030000  386.82  1.2687  3.675961e-09\n",
       "5049  0.65  250.0  0.362386  244.06  1.3937  2.328037e-02"
      ]
     },
     "execution_count": 34,
     "metadata": {},
     "output_type": "execute_result"
    }
   ],
   "source": [
    "m.model_data.sample(10)"
   ]
  },
  {
   "cell_type": "code",
   "execution_count": 35,
   "metadata": {},
   "outputs": [
    {
     "data": {
      "image/png": "[encoded data removed]",
      "text/plain": [
       "<matplotlib.figure.Figure at 0x11cfba090>"
      ]
     },
     "metadata": {},
     "output_type": "display_data"
    }
   ],
   "source": [
    "m.comparison_plot(num_param_pts=3, num_ecs=3)"
   ]
  },
  {
   "cell_type": "code",
   "execution_count": null,
   "metadata": {},
   "outputs": [],
   "source": []
  }
 ],
 "metadata": {
  "kernelspec": {
   "display_name": "py36",
   "language": "python",
   "name": "py36"
  },
  "language_info": {
   "codemirror_mode": {
    "name": "ipython",
    "version": 2
   },
   "file_extension": ".py",
   "mimetype": "text/x-python",
   "name": "python",
   "nbconvert_exporter": "python",
   "pygments_lexer": "ipython2",
   "version": "2.7.14"
  }
 },
 "nbformat": 4,
 "nbformat_minor": 2
}
