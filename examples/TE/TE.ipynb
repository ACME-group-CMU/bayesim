{
 "cells": [
  {
   "cell_type": "markdown",
   "metadata": {},
   "source": [
    "# Fitting Thermoelectric data\n",
    "Models and data are from Danny/Kedar."
   ]
  },
  {
   "cell_type": "markdown",
   "metadata": {},
   "source": [
    "## Import Modules, Functions, and Data"
   ]
  },
  {
   "cell_type": "markdown",
   "metadata": {},
   "source": [
    "`functions.py` has the Python implementations of all the helper functions (I used a previously written package, `fdint`, for the Fermi-Dirac integrals)."
   ]
  },
  {
   "cell_type": "code",
   "execution_count": 1,
   "metadata": {},
   "outputs": [],
   "source": [
    "import numpy as np\n",
    "from functions import *"
   ]
  },
  {
   "cell_type": "code",
   "execution_count": 2,
   "metadata": {
    "collapsed": true
   },
   "outputs": [],
   "source": [
    "celldata = {}\n",
    "celldata['xdata'] = np.loadtxt('xdata.csv',delimiter=',')\n",
    "celldata['ydata'] = np.loadtxt('ydata.csv',delimiter=',')\n",
    "celldata['n'] = 40"
   ]
  },
  {
   "cell_type": "markdown",
   "metadata": {},
   "source": [
    "## Validate Python implementation\n",
    "I did a test evaluation in Matlab and Python with the same input parameters. Let's import the results and compare to make sure we're getting the same thing."
   ]
  },
  {
   "cell_type": "code",
   "execution_count": 3,
   "metadata": {
    "collapsed": true
   },
   "outputs": [],
   "source": [
    "test_in = [-2.499946233286e1,1.833885014595e-3,-2.2588468610036e-3,8.6217332036812e-4]\n",
    "test_y,test_S,test_Rou=tefunnew(celldata,test_in)\n",
    "matlab_y = np.loadtxt('matlab_y.csv',delimiter=',')\n",
    "matlab_S = np.loadtxt('matlab_S.csv',delimiter=',')\n",
    "matlab_Rou = np.loadtxt('matlab_Rou.csv',delimiter=',')"
   ]
  },
  {
   "cell_type": "code",
   "execution_count": 4,
   "metadata": {},
   "outputs": [
    {
     "name": "stdout",
     "output_type": "stream",
     "text": [
      "There is an average of a 0.27% difference (with a standard deviation of 0.00%) between the Matlab and Python implementations in the y output.\n"
     ]
    }
   ],
   "source": [
    "y_pct_diff=(test_y-matlab_y)/matlab_y\n",
    "print('There is an average of a %.2f%% difference (with a standard deviation of %.2f%%) between the Matlab and Python implementations in the y output.'%(round(100.0*np.mean(y_pct_diff),2),round(100.0*np.std(y_pct_diff),2)))"
   ]
  },
  {
   "cell_type": "code",
   "execution_count": 5,
   "metadata": {},
   "outputs": [
    {
     "name": "stdout",
     "output_type": "stream",
     "text": [
      "There is an average of a 0.13% difference (with a standard deviation of 0.00%) between the Matlab and Python implementations in the S output.\n"
     ]
    }
   ],
   "source": [
    "S_pct_diff=(test_S-matlab_S)/matlab_S\n",
    "print('There is an average of a %.2f%% difference (with a standard deviation of %.2f%%) between the Matlab and Python implementations in the S output.'%(round(100.0*np.mean(S_pct_diff),2),round(100.0*np.std(S_pct_diff),2)))"
   ]
  },
  {
   "cell_type": "code",
   "execution_count": 6,
   "metadata": {},
   "outputs": [
    {
     "name": "stdout",
     "output_type": "stream",
     "text": [
      "There is an average of a -0.051% difference (with a standard deviation of 0.002%) between the Matlab and Python implementations in the Rou output.\n"
     ]
    }
   ],
   "source": [
    "Rou_pct_diff=(test_Rou-matlab_Rou)/matlab_Rou\n",
    "print('There is an average of a %.3f%% difference (with a standard deviation of %.3f%%) between the Matlab and Python implementations in the Rou output.'%(round(100.0*np.mean(Rou_pct_diff),3),round(100.0*np.std(Rou_pct_diff),3)))"
   ]
  },
  {
   "cell_type": "markdown",
   "metadata": {},
   "source": [
    "Okay, so the differences aren't nothing, but they're small enough that I think we can work with them."
   ]
  },
  {
   "cell_type": "markdown",
   "metadata": {},
   "source": [
    "## Fitting with Bayesim\n",
    "Now let's do a fit to the data using the grid approach implemented in the `bayesim` code.\n",
    "### Import Things"
   ]
  },
  {
   "cell_type": "code",
   "execution_count": 7,
   "metadata": {},
   "outputs": [],
   "source": [
    "import sys\n",
    "sys.path.append('../../')\n",
    "import bayesim.model as bym\n",
    "import bayesim.param_list as byp\n",
    "import functions as tefcns # model functions implemented in a separate file to keep this notebook tidy\n",
    "import deepdish as dd # for interacting with HDF5 files\n",
    "from joblib import Parallel, delayed # to parallelize model computations"
   ]
  },
  {
   "cell_type": "markdown",
   "metadata": {},
   "source": [
    "### Initialize\n",
    "First, we set up the list of parameters to be fit and their ranges."
   ]
  },
  {
   "cell_type": "code",
   "execution_count": 8,
   "metadata": {
    "collapsed": true
   },
   "outputs": [],
   "source": [
    "fp = byp.param_list()\n",
    "\"\"\"\n",
    "fp.add_fit_param(name='P0', val_range=[1e-34,1e-20], spacing='log', length=28, units='sec.')\n",
    "fp.add_fit_param(name='fs', val_range=[-1,2], length=21, units='eV')\n",
    "fp.add_fit_param(name='r', val_range=[-1,2], length=21)\n",
    "fp.add_fit_param(name='Z', val_range=[-10,10], length=20)\n",
    "\"\"\"\n",
    "fp.add_fit_param(name='P0', val_range=[1e-34,1e-20], spacing='log', length=7, units='sec.')\n",
    "fp.add_fit_param(name='fs', val_range=[-1,2], length=5, units='eV')\n",
    "fp.add_fit_param(name='r', val_range=[-1,2], length=5)\n",
    "fp.add_fit_param(name='Z', val_range=[-10,10], length=5)\n"
   ]
  },
  {
   "cell_type": "markdown",
   "metadata": {},
   "source": [
    "Next, define the experimental conditions."
   ]
  },
  {
   "cell_type": "code",
   "execution_count": 9,
   "metadata": {
    "collapsed": true
   },
   "outputs": [],
   "source": [
    "ec = ['T','R','n']"
   ]
  },
  {
   "cell_type": "markdown",
   "metadata": {},
   "source": [
    "Now, set up the `bayesim.model` object. All we need to feed in are the parameters, experimental conditions, and name of the output variable."
   ]
  },
  {
   "cell_type": "code",
   "execution_count": 10,
   "metadata": {},
   "outputs": [],
   "source": [
    "m = bym.model(params=fp,ec=ec,output_var='P')"
   ]
  },
  {
   "cell_type": "markdown",
   "metadata": {},
   "source": [
    "### Attach Experimental Observations\n",
    "The next thing to do is to attach the observed data. I reformatted it to work with `bayesim` and saved an HDF5 file. You can see the format in the Excel sheet `TE_expt_data.xlsx`. Here I use only every third point (integer values of resistances) to speed up model computation and also because that's probably enough data."
   ]
  },
  {
   "cell_type": "code",
   "execution_count": 11,
   "metadata": {},
   "outputs": [
    {
     "name": "stdout",
     "output_type": "stream",
     "text": [
      "Identified experimental conditions as ['n', 'T', 'R']. If this is wrong, rerun and explicitly specify them with attach_ec (make sure they match data file columns) or remove extra columns from data file.\n"
     ]
    }
   ],
   "source": [
    "#m.attach_observations(fpath='TE_expt_data.h5')\n",
    "m.attach_observations(fpath='TE_expt_data_sparse.h5')"
   ]
  },
  {
   "cell_type": "markdown",
   "metadata": {},
   "source": [
    "### Attaching the Model\n",
    "Next, we attach the model. In this example I'll precompute the modeled data and attach a file with the outputs. You could also attach the function used to do the modeling, but the code can't currently parallelize those computations so I do it outside `bayesim` to take advantage of both cores on my laptop.\n",
    "First we write out a file with the list of all simulation points. (it's good practice to write this out rather than keep it only as a Python object so we can pick up where we left off later)\n",
    "\n",
    "This next cell should take about 30 seconds to evaluate, but if you don't want to do the model computations yourself you can skip it."
   ]
  },
  {
   "cell_type": "code",
   "execution_count": 12,
   "metadata": {
    "collapsed": true
   },
   "outputs": [],
   "source": [
    "#m.list_model_pts_to_run('./sim_list.h5')"
   ]
  },
  {
   "cell_type": "markdown",
   "metadata": {},
   "source": [
    "The code in the next cell will actually do the model computations. On my two-core laptop, it takes about 24 minutes to evaluate. Assuming your processor supports multithreading (almost all modern ones do), you should set `n_jobs` to be twice the number of cores on your machine if you want to run this cell efficiently.\n",
    "\n",
    "You can also just skip this cell and instead evaluate the following one to just load in the results of the computation that I did. :)"
   ]
  },
  {
   "cell_type": "code",
   "execution_count": 13,
   "metadata": {
    "collapsed": true
   },
   "outputs": [],
   "source": [
    "#sim_list = dd.io.load('./sim_list.h5')\n",
    "#outputs=Parallel(n_jobs=4,verbose=7)(delayed(tefunnew_singlept)(sim[1][m.ec_names],sim[1][m.param_names]) for sim in sim_list.iterrows())\n",
    "#sim_list['P'] = outputs\n",
    "#dd.io.save('sim_outputs.h5',sim_list)"
   ]
  },
  {
   "cell_type": "code",
   "execution_count": 14,
   "metadata": {},
   "outputs": [],
   "source": [
    "m.attach_model(mode='file',fpath='sim_outputs.h5')"
   ]
  },
  {
   "cell_type": "markdown",
   "metadata": {},
   "source": [
    "On a sparse grid like this, it's important that the error values we use (i.e. standard deviation of Gaussians used for likelihood) are big enough to reach between boxes. This function computes the distance in output variable between model boxes at every experimental condition point and adds it to a column in model_data called 'deltas.'"
   ]
  },
  {
   "cell_type": "code",
   "execution_count": 15,
   "metadata": {},
   "outputs": [
    {
     "data": {
      "text/html": [
       "<div>\n",
       "<style>\n",
       "    .dataframe thead tr:only-child th {\n",
       "        text-align: right;\n",
       "    }\n",
       "\n",
       "    .dataframe thead th {\n",
       "        text-align: left;\n",
       "    }\n",
       "\n",
       "    .dataframe tbody tr th {\n",
       "        vertical-align: top;\n",
       "    }\n",
       "</style>\n",
       "<table border=\"1\" class=\"dataframe\">\n",
       "  <thead>\n",
       "    <tr style=\"text-align: right;\">\n",
       "      <th></th>\n",
       "      <th>P0</th>\n",
       "      <th>fs</th>\n",
       "      <th>r</th>\n",
       "      <th>Z</th>\n",
       "      <th>n</th>\n",
       "      <th>T</th>\n",
       "      <th>R</th>\n",
       "      <th>P</th>\n",
       "      <th>deltas</th>\n",
       "    </tr>\n",
       "  </thead>\n",
       "  <tbody>\n",
       "    <tr>\n",
       "      <th>202753</th>\n",
       "      <td>1.000000e-23</td>\n",
       "      <td>0.5</td>\n",
       "      <td>1.7</td>\n",
       "      <td>8.0</td>\n",
       "      <td>40.0</td>\n",
       "      <td>30.0</td>\n",
       "      <td>5.33333</td>\n",
       "      <td>1.165169e-50</td>\n",
       "      <td>1.418742e-27</td>\n",
       "    </tr>\n",
       "    <tr>\n",
       "      <th>238385</th>\n",
       "      <td>1.000000e-21</td>\n",
       "      <td>0.5</td>\n",
       "      <td>1.7</td>\n",
       "      <td>0.0</td>\n",
       "      <td>40.0</td>\n",
       "      <td>10.0</td>\n",
       "      <td>6.00000</td>\n",
       "      <td>7.270325e-48</td>\n",
       "      <td>8.937367e-25</td>\n",
       "    </tr>\n",
       "    <tr>\n",
       "      <th>89102</th>\n",
       "      <td>1.000000e-29</td>\n",
       "      <td>0.5</td>\n",
       "      <td>-0.1</td>\n",
       "      <td>0.0</td>\n",
       "      <td>40.0</td>\n",
       "      <td>40.0</td>\n",
       "      <td>15.00000</td>\n",
       "      <td>7.503511e-03</td>\n",
       "      <td>3.261520e-02</td>\n",
       "    </tr>\n",
       "    <tr>\n",
       "      <th>102154</th>\n",
       "      <td>1.000000e-29</td>\n",
       "      <td>1.7</td>\n",
       "      <td>-0.7</td>\n",
       "      <td>0.0</td>\n",
       "      <td>40.0</td>\n",
       "      <td>40.0</td>\n",
       "      <td>17.00000</td>\n",
       "      <td>2.649353e-01</td>\n",
       "      <td>1.791273e-01</td>\n",
       "    </tr>\n",
       "    <tr>\n",
       "      <th>64340</th>\n",
       "      <td>1.000000e-31</td>\n",
       "      <td>1.1</td>\n",
       "      <td>1.7</td>\n",
       "      <td>-4.0</td>\n",
       "      <td>40.0</td>\n",
       "      <td>130.0</td>\n",
       "      <td>19.00000</td>\n",
       "      <td>6.664889e-63</td>\n",
       "      <td>3.722397e-40</td>\n",
       "    </tr>\n",
       "    <tr>\n",
       "      <th>97157</th>\n",
       "      <td>1.000000e-29</td>\n",
       "      <td>1.1</td>\n",
       "      <td>0.5</td>\n",
       "      <td>-8.0</td>\n",
       "      <td>40.0</td>\n",
       "      <td>10.0</td>\n",
       "      <td>8.00000</td>\n",
       "      <td>3.174828e-15</td>\n",
       "      <td>5.183615e-03</td>\n",
       "    </tr>\n",
       "    <tr>\n",
       "      <th>43285</th>\n",
       "      <td>1.000000e-31</td>\n",
       "      <td>-0.7</td>\n",
       "      <td>1.7</td>\n",
       "      <td>8.0</td>\n",
       "      <td>40.0</td>\n",
       "      <td>40.0</td>\n",
       "      <td>18.00000</td>\n",
       "      <td>3.156895e-94</td>\n",
       "      <td>2.250892e-70</td>\n",
       "    </tr>\n",
       "    <tr>\n",
       "      <th>236798</th>\n",
       "      <td>1.000000e-21</td>\n",
       "      <td>0.5</td>\n",
       "      <td>1.1</td>\n",
       "      <td>-4.0</td>\n",
       "      <td>40.0</td>\n",
       "      <td>90.0</td>\n",
       "      <td>4.33333</td>\n",
       "      <td>1.189119e-23</td>\n",
       "      <td>8.916574e-01</td>\n",
       "    </tr>\n",
       "    <tr>\n",
       "      <th>18565</th>\n",
       "      <td>1.000000e-33</td>\n",
       "      <td>0.5</td>\n",
       "      <td>0.5</td>\n",
       "      <td>8.0</td>\n",
       "      <td>40.0</td>\n",
       "      <td>10.0</td>\n",
       "      <td>6.00000</td>\n",
       "      <td>1.328020e-25</td>\n",
       "      <td>5.747557e-06</td>\n",
       "    </tr>\n",
       "    <tr>\n",
       "      <th>113189</th>\n",
       "      <td>1.000000e-27</td>\n",
       "      <td>-0.7</td>\n",
       "      <td>1.1</td>\n",
       "      <td>-8.0</td>\n",
       "      <td>40.0</td>\n",
       "      <td>50.0</td>\n",
       "      <td>12.66670</td>\n",
       "      <td>5.646188e-63</td>\n",
       "      <td>4.547598e-39</td>\n",
       "    </tr>\n",
       "  </tbody>\n",
       "</table>\n",
       "</div>"
      ],
      "text/plain": [
       "                  P0   fs    r    Z     n      T         R             P  \\\n",
       "202753  1.000000e-23  0.5  1.7  8.0  40.0   30.0   5.33333  1.165169e-50   \n",
       "238385  1.000000e-21  0.5  1.7  0.0  40.0   10.0   6.00000  7.270325e-48   \n",
       "89102   1.000000e-29  0.5 -0.1  0.0  40.0   40.0  15.00000  7.503511e-03   \n",
       "102154  1.000000e-29  1.7 -0.7  0.0  40.0   40.0  17.00000  2.649353e-01   \n",
       "64340   1.000000e-31  1.1  1.7 -4.0  40.0  130.0  19.00000  6.664889e-63   \n",
       "97157   1.000000e-29  1.1  0.5 -8.0  40.0   10.0   8.00000  3.174828e-15   \n",
       "43285   1.000000e-31 -0.7  1.7  8.0  40.0   40.0  18.00000  3.156895e-94   \n",
       "236798  1.000000e-21  0.5  1.1 -4.0  40.0   90.0   4.33333  1.189119e-23   \n",
       "18565   1.000000e-33  0.5  0.5  8.0  40.0   10.0   6.00000  1.328020e-25   \n",
       "113189  1.000000e-27 -0.7  1.1 -8.0  40.0   50.0  12.66670  5.646188e-63   \n",
       "\n",
       "              deltas  \n",
       "202753  1.418742e-27  \n",
       "238385  8.937367e-25  \n",
       "89102   3.261520e-02  \n",
       "102154  1.791273e-01  \n",
       "64340   3.722397e-40  \n",
       "97157   5.183615e-03  \n",
       "43285   2.250892e-70  \n",
       "236798  8.916574e-01  \n",
       "18565   5.747557e-06  \n",
       "113189  4.547598e-39  "
      ]
     },
     "execution_count": 15,
     "metadata": {},
     "output_type": "execute_result"
    }
   ],
   "source": [
    "m.calc_model_gradients()\n",
    "m.model_data.sample(10)"
   ]
  },
  {
   "cell_type": "markdown",
   "metadata": {},
   "source": [
    "As you can see, because our grid is super sparse, the deltas are actually larger than the actual output values right now!"
   ]
  },
  {
   "cell_type": "markdown",
   "metadata": {},
   "source": [
    "### First Bayes!\n",
    "The `run` function randomizes the order of observations and stops feeding them in by default when 80% of the probability mass resides in 5% of the parameter space. These parameters can be tuned using the input parameters `th_pm` (default 0.8) and `th_pv` (default 0.05).\n",
    "\n",
    "__If you don't want to have to run the new simulations yourself (they'll take longer than the first batch), don't run the code in this cell - I just left it so you can see what *was* run.__\n",
    "\n",
    "(Because the `run` function randomizes observations, if you run it, the subdivided cells will likely not match exactly and you'll get an error if you try to just load in the results from my new simulation run)"
   ]
  },
  {
   "cell_type": "code",
   "execution_count": 16,
   "metadata": {},
   "outputs": [],
   "source": [
    "#m.run()\n",
    "#m.save_state(filename='bayesim_states/state_1.h5')"
   ]
  },
  {
   "cell_type": "markdown",
   "metadata": {},
   "source": [
    "Here we just load the model state that I saved and carry onward."
   ]
  },
  {
   "cell_type": "code",
   "execution_count": 17,
   "metadata": {},
   "outputs": [
    {
     "data": {
      "image/png": "[encoded data removed]",
      "text/plain": [
       "<Figure size 720x648 with 10 Axes>"
      ]
     },
     "metadata": {},
     "output_type": "display_data"
    }
   ],
   "source": [
    "m = bym.model(load_state=True, state_file='bayesim_states/state_1.h5')\n",
    "%matplotlib inline\n",
    "m.probs.visualize()"
   ]
  },
  {
   "cell_type": "markdown",
   "metadata": {},
   "source": [
    "I'm not sure what's going on with the upper left box right now. I'll fix it..."
   ]
  },
  {
   "cell_type": "markdown",
   "metadata": {},
   "source": [
    "### Subdivide!\n",
    "I've found that 0.001 seems to be a reasonable threshold probability for boxes to subdivide on the first round so that's the default value, but you can feed in other numbers for `threshold_prob` to this function.\n",
    "\n",
    "Note that the `subdivide` function divides not only boxes meeting the threshold but any boxes immediately neighboring those. It will also write out an HDF5 of the new simulations that need to be run; that step can take awhile (this cell takes a few minutes on my computer) because it's writing every combination of new parameter points AND experimental condition points.\n",
    "\n",
    "Again, if you don't want to run it, you can skip this cell and just use the `load_state` line in the next cell to start where I left off."
   ]
  },
  {
   "cell_type": "code",
   "execution_count": 18,
   "metadata": {},
   "outputs": [],
   "source": [
    "#m.subdivide()\n",
    "#m.save_state('bayesim_states/state_2.h5')"
   ]
  },
  {
   "cell_type": "markdown",
   "metadata": {},
   "source": [
    "It's worth noting that there were originally 875 boxes in our super sparse grid, so in this case a majority of them were subdivided, which isn't too surprising."
   ]
  },
  {
   "cell_type": "markdown",
   "metadata": {},
   "source": [
    "### Run (more simulations and then) more inference!\n",
    "I ran the batch of new simulations on Peregrine; the results are in the file `new_sim_outputs_.h5` which we'll load in here to do the next round of inference.\n",
    "\n",
    "This cell takes about a minute to run."
   ]
  },
  {
   "cell_type": "code",
   "execution_count": 19,
   "metadata": {},
   "outputs": [
    {
     "name": "stdout",
     "output_type": "stream",
     "text": [
      "62.54\n"
     ]
    }
   ],
   "source": [
    "m = bym.model(load_state=True,state_file='bayesim_states/state_2.h5')\n",
    "m.attach_model(mode='add',fpath='new_sim_outputs_1.h5')\n",
    "m.save_state('bayesim_states/state_3.h5')"
   ]
  },
  {
   "cell_type": "code",
   "execution_count": 34,
   "metadata": {
    "collapsed": true
   },
   "outputs": [],
   "source": [
    "#m = bym.model(load_state=True,state_file='bayesim_states/state_3.h5')\n",
    "#m.run()"
   ]
  },
  {
   "cell_type": "code",
   "execution_count": null,
   "metadata": {
    "collapsed": true
   },
   "outputs": [],
   "source": []
  },
  {
   "cell_type": "code",
   "execution_count": null,
   "metadata": {
    "collapsed": true
   },
   "outputs": [],
   "source": []
  },
  {
   "cell_type": "code",
   "execution_count": null,
   "metadata": {
    "collapsed": true
   },
   "outputs": [],
   "source": [
    "m.probs.points[m.probs.points['new']==True]."
   ]
  }
 ],
 "metadata": {
  "kernelspec": {
   "display_name": "Python 3",
   "language": "python",
   "name": "python3"
  },
  "language_info": {
   "codemirror_mode": {
    "name": "ipython",
    "version": 3
   },
   "file_extension": ".py",
   "mimetype": "text/x-python",
   "name": "python",
   "nbconvert_exporter": "python",
   "pygments_lexer": "ipython3",
   "version": "3.6.0"
  }
 },
 "nbformat": 4,
 "nbformat_minor": 2
}
