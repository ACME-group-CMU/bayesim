{
 "cells": [
  {
   "cell_type": "markdown",
   "metadata": {},
   "source": [
    "# Ideal Diode Example"
   ]
  },
  {
   "cell_type": "markdown",
   "metadata": {},
   "source": [
    "The simplest way to model a solar cell is as an **ideal diode**, described by the following equation:\n",
    "$$J(V,T) = J_L+J_0(\\exp{\\frac{qV}{nkT}}-1)$$\n",
    "where by convention, $J_L$ (the light current) is negative and $J_0$ (the leakage current) is positive. $J_L$ is typically directly proportional to light intensity, which we will treat as fixed for this example, leaving us with two parameters to fit for: $J_0$ and the ideality factor $n$."
   ]
  },
  {
   "cell_type": "code",
   "execution_count": 12,
   "metadata": {},
   "outputs": [],
   "source": [
    "import numpy as np\n",
    "import sys\n",
    "import math\n",
    "import pandas as pd\n",
    "sys.path.append('../')\n",
    "import bayesim.model as bym\n",
    "import bayesim.param_list as byp"
   ]
  },
  {
   "cell_type": "markdown",
   "metadata": {},
   "source": [
    "## List the parameters\n",
    "First, we list our fitting parameters. We'll space $J_0$ logarithmically and $n$ linearly..."
   ]
  },
  {
   "cell_type": "code",
   "execution_count": 2,
   "metadata": {},
   "outputs": [],
   "source": [
    "pl = byp.param_list()\n",
    "pl.add_fit_param(name='J0',val_range=[1e-12,1e-7],length=20,spacing='log',units='mA/cm^2')\n",
    "pl.add_fit_param(name='n',val_range=[1,2])"
   ]
  },
  {
   "cell_type": "markdown",
   "metadata": {},
   "source": [
    "We can inspect the `param_list` object and see what kind of information is inside..."
   ]
  },
  {
   "cell_type": "code",
   "execution_count": 3,
   "metadata": {},
   "outputs": [
    {
     "data": {
      "text/plain": [
       "[{'edges': array([  1.00000000e-12,   1.77827941e-12,   3.16227766e-12,\n",
       "           5.62341325e-12,   1.00000000e-11,   1.77827941e-11,\n",
       "           3.16227766e-11,   5.62341325e-11,   1.00000000e-10,\n",
       "           1.77827941e-10,   3.16227766e-10,   5.62341325e-10,\n",
       "           1.00000000e-09,   1.77827941e-09,   3.16227766e-09,\n",
       "           5.62341325e-09,   1.00000000e-08,   1.77827941e-08,\n",
       "           3.16227766e-08,   5.62341325e-08,   1.00000000e-07]),\n",
       "  'length': 20,\n",
       "  'min_width': 1.0592537251772889,\n",
       "  'name': 'J0',\n",
       "  'spacing': 'log',\n",
       "  'units': 'mA/cm^2',\n",
       "  'val_range': [1e-12, 1e-07],\n",
       "  'vals': array([  1.33352143e-12,   2.37137371e-12,   4.21696503e-12,\n",
       "           7.49894209e-12,   1.33352143e-11,   2.37137371e-11,\n",
       "           4.21696503e-11,   7.49894209e-11,   1.33352143e-10,\n",
       "           2.37137371e-10,   4.21696503e-10,   7.49894209e-10,\n",
       "           1.33352143e-09,   2.37137371e-09,   4.21696503e-09,\n",
       "           7.49894209e-09,   1.33352143e-08,   2.37137371e-08,\n",
       "           4.21696503e-08,   7.49894209e-08])},\n",
       " {'edges': array([ 1. ,  1.1,  1.2,  1.3,  1.4,  1.5,  1.6,  1.7,  1.8,  1.9,  2. ]),\n",
       "  'length': 10,\n",
       "  'min_width': 0.01,\n",
       "  'name': 'n',\n",
       "  'spacing': 'linear',\n",
       "  'units': 'unitless',\n",
       "  'val_range': [1, 2],\n",
       "  'vals': array([ 1.05,  1.15,  1.25,  1.35,  1.45,  1.55,  1.65,  1.75,  1.85,  1.95])}]"
      ]
     },
     "execution_count": 3,
     "metadata": {},
     "output_type": "execute_result"
    }
   ],
   "source": [
    "pl.fit_params"
   ]
  },
  {
   "cell_type": "markdown",
   "metadata": {},
   "source": [
    "Note that there are both `edges` and `vals` computed - the `vals` will be the values at which computations will be done, while `edges` will be the edges of the grid, used in subdivision steps later on."
   ]
  },
  {
   "cell_type": "markdown",
   "metadata": {},
   "source": [
    "Finally, we define the measurement conditions. We won't be varying light intensity here, so we only need voltage and temperature."
   ]
  },
  {
   "cell_type": "code",
   "execution_count": 5,
   "metadata": {},
   "outputs": [],
   "source": [
    "ec = ['V','T']"
   ]
  },
  {
   "cell_type": "markdown",
   "metadata": {},
   "source": [
    "## Attach experimental data\n",
    "This is the next step that needs to be done before adding the model as it will use the experimental conditions we enumerate here to compute simulated outputs. For our \"experimental\" data here, we'll actually just simulate some ideal diodes so that we can directly see how good the Bayesian approach is at recovering true underlying parameters.\n",
    "\n",
    "We'll use $n=1.37$ and $J_0=6.3\\times 10^{-11}$ as our \"true\" parameters."
   ]
  },
  {
   "cell_type": "code",
   "execution_count": 38,
   "metadata": {},
   "outputs": [],
   "source": [
    "def compute_ID(ec,params):\n",
    "    J_L = -0.03 # treat as fixed for now\n",
    "    V = ec['V']\n",
    "    T = ec['T']\n",
    "    V_th = 8.61733e-5 * T # thermal voltage, kT/q\n",
    "    n = params['n']\n",
    "    J0 = params['J0']\n",
    "    return J_L + J0*(math.exp(V/V_th/n)-1)\n",
    "\n",
    "V = np.arange(-0.5,1.0,0.1)\n",
    "T = np.arange(150,301,50)\n",
    "params = {'n':1.37,'J0':6.3e-11}\n",
    "\n",
    "data = []\n",
    "for t in T:\n",
    "    for v in V:\n",
    "        data.append([v,t,compute_ID({'V':v,'T':t},params)])\n",
    "        \n",
    "data = pd.DataFrame.from_records(data=data,columns=['V','T','J'])\n",
    "data.to_hdf('obs_data.h5','data',format='table',append=False)"
   ]
  },
  {
   "cell_type": "code",
   "execution_count": 39,
   "metadata": {},
   "outputs": [
    {
     "name": "stdout",
     "output_type": "stream",
     "text": [
      "               V    T             J\n",
      "0  -5.000000e-01  150 -3.000000e-02\n",
      "1  -4.000000e-01  150 -3.000000e-02\n",
      "2  -3.000000e-01  150 -3.000000e-02\n",
      "3  -2.000000e-01  150 -3.000000e-02\n",
      "4  -1.000000e-01  150 -3.000000e-02\n",
      "5  -1.110223e-16  150 -3.000000e-02\n",
      "6   1.000000e-01  150 -2.999998e-02\n",
      "7   2.000000e-01  150 -2.999494e-02\n",
      "8   3.000000e-01  150 -2.856556e-02\n",
      "9   4.000000e-01  150  3.765664e-01\n",
      "10  5.000000e-01  150  1.152036e+02\n",
      "11  6.000000e-01  150  3.266078e+04\n",
      "12  7.000000e-01  150  9.257094e+06\n",
      "13  8.000000e-01  150  2.623750e+09\n",
      "14  9.000000e-01  150  7.436527e+11\n",
      "15 -5.000000e-01  200 -3.000000e-02\n",
      "16 -4.000000e-01  200 -3.000000e-02\n",
      "17 -3.000000e-01  200 -3.000000e-02\n",
      "18 -2.000000e-01  200 -3.000000e-02\n",
      "19 -1.000000e-01  200 -3.000000e-02\n",
      "20 -1.110223e-16  200 -3.000000e-02\n",
      "21  1.000000e-01  200 -3.000000e-02\n",
      "22  2.000000e-01  200 -2.999970e-02\n",
      "23  3.000000e-01  200 -2.997923e-02\n",
      "24  4.000000e-01  200 -2.856556e-02\n",
      "25  5.000000e-01  200  6.908766e-02\n",
      "26  6.000000e-01  200  6.814715e+00\n",
      "27  7.000000e-01  200  4.727849e+02\n",
      "28  8.000000e-01  200  3.266078e+04\n",
      "29  9.000000e-01  200  2.256123e+06\n",
      "30 -5.000000e-01  250 -3.000000e-02\n",
      "31 -4.000000e-01  250 -3.000000e-02\n",
      "32 -3.000000e-01  250 -3.000000e-02\n",
      "33 -2.000000e-01  250 -3.000000e-02\n",
      "34 -1.000000e-01  250 -3.000000e-02\n",
      "35 -1.110223e-16  250 -3.000000e-02\n",
      "36  1.000000e-01  250 -3.000000e-02\n",
      "37  2.000000e-01  250 -2.999994e-02\n",
      "38  3.000000e-01  250 -2.999836e-02\n",
      "39  4.000000e-01  250 -2.995156e-02\n",
      "40  5.000000e-01  250 -2.856556e-02\n",
      "41  6.000000e-01  250  1.247686e-02\n",
      "42  7.000000e-01  250  1.227827e+00\n",
      "43  8.000000e-01  250  3.721686e+01\n",
      "44  9.000000e-01  250  1.102926e+03\n",
      "45 -5.000000e-01  300 -3.000000e-02\n",
      "46 -4.000000e-01  300 -3.000000e-02\n",
      "47 -3.000000e-01  300 -3.000000e-02\n",
      "48 -2.000000e-01  300 -3.000000e-02\n",
      "49 -1.000000e-01  300 -3.000000e-02\n",
      "50 -1.110223e-16  300 -3.000000e-02\n",
      "51  1.000000e-01  300 -3.000000e-02\n",
      "52  2.000000e-01  300 -2.999998e-02\n",
      "53  3.000000e-01  300 -2.999970e-02\n",
      "54  4.000000e-01  300 -2.999494e-02\n",
      "55  5.000000e-01  300 -2.991480e-02\n",
      "56  6.000000e-01  300 -2.856556e-02\n",
      "57  7.000000e-01  300 -5.850529e-03\n",
      "58  8.000000e-01  300  3.765664e-01\n",
      "59  9.000000e-01  300  6.814715e+00\n"
     ]
    }
   ],
   "source": [
    "#pd.read_hdf('obs_data.h5','data')\n",
    "import deepdish as dd\n",
    "print(dd.io.load('obs_data.h5')['data'])"
   ]
  },
  {
   "cell_type": "code",
   "execution_count": null,
   "metadata": {},
   "outputs": [],
   "source": []
  }
 ],
 "metadata": {
  "kernelspec": {
   "display_name": "py36",
   "language": "python",
   "name": "py36"
  },
  "language_info": {
   "codemirror_mode": {
    "name": "ipython",
    "version": 2
   },
   "file_extension": ".py",
   "mimetype": "text/x-python",
   "name": "python",
   "nbconvert_exporter": "python",
   "pygments_lexer": "ipython2",
   "version": "2.7.14"
  }
 },
 "nbformat": 4,
 "nbformat_minor": 2
}
