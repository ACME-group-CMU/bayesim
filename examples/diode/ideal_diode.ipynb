{
 "cells": [
  {
   "cell_type": "markdown",
   "metadata": {},
   "source": [
    "# Ideal Diode Example"
   ]
  },
  {
   "cell_type": "markdown",
   "metadata": {},
   "source": [
    "The simplest way to model a solar cell is as an **ideal diode**, described by the following equation:\n",
    "$$J(V,T) = J_L+J_0(\\exp{\\frac{qV}{nkT}}-1)$$\n",
    "where $k=8.61733\\times 10^{-5}$ eV/K is Boltzmann's constant, by convention $J_L$ (the light current) is negative and $J_0$ (the saturation current) is positive but strongly dependent on temperature, a dependence we can approximate as:\n",
    "$$J_0 \\approx B'T^{3/n}\\exp{\\frac{-E_{g0}}{nkT}}$$\n",
    "We'll use the silicon zero-temperature bandgap, $E_{g0}=1.2$ eV, meaning we just need to fit for $B'$ in this equation.\n",
    "$J_L$ is typically directly proportional to light intensity, which we will treat as fixed for this example, leaving us with two parameters to fit for: $B'$ and the ideality factor $n$."
   ]
  },
  {
   "cell_type": "code",
   "execution_count": 1,
   "metadata": {},
   "outputs": [],
   "source": [
    "import numpy as np\n",
    "import sys\n",
    "import math\n",
    "import pandas as pd\n",
    "sys.path.append('../../')\n",
    "import bayesim.model as bym\n",
    "import bayesim.params as byp\n",
    "import deepdish as dd\n",
    "from jupyterthemes import jtplot\n",
    "#jtplot.style('solarizedd')\n",
    "jtplot.style('default')"
   ]
  },
  {
   "cell_type": "markdown",
   "metadata": {},
   "source": [
    "## List the parameters\n",
    "First, we list our fitting parameters."
   ]
  },
  {
   "cell_type": "code",
   "execution_count": 2,
   "metadata": {},
   "outputs": [
    {
     "name": "stdout",
     "output_type": "stream",
     "text": [
      "Setting min_width automatically for Bp.\n"
     ]
    }
   ],
   "source": [
    "fp = byp.Param_list()\n",
    "fp.add_fit_param(name='Bp',val_range=[10,1000],spacing='log',length=10,units='arb.')\n",
    "fp.add_fit_param(name='n',val_range=[1,2],length=10, min_width=0.06)"
   ]
  },
  {
   "cell_type": "markdown",
   "metadata": {},
   "source": [
    "We can inspect the `Param_list` object and see what kind of information is inside..."
   ]
  },
  {
   "cell_type": "code",
   "execution_count": 3,
   "metadata": {},
   "outputs": [
    {
     "data": {
      "text/plain": [
       "{'ec_x_name': None,\n",
       " 'ecs': [],\n",
       " 'fit_params': [{'edges': array([   10.   ,    15.849,    25.12 ,    39.81 ,    63.1  ,   100.   ,\n",
       "            158.49 ,   251.2  ,   398.1  ,   631.   ,  1000.   ]),\n",
       "   'length': 10,\n",
       "   'min_width': 1.0471285480508996,\n",
       "   'name': 'Bp',\n",
       "   'spacing': 'log',\n",
       "   'tolerance': 1.0046157902783952,\n",
       "   'units': 'arb.',\n",
       "   'val_range': [10, 1000],\n",
       "   'vals': array([  12.589,   19.953,   31.62 ,   50.12 ,   79.43 ,  125.89 ,\n",
       "           199.53 ,  316.2  ,  501.2  ,  794.3  ])},\n",
       "  {'edges': [1.0, 1.1, 1.2, 1.3, 1.4, 1.5, 1.6, 1.7, 1.8, 1.9, 2.0],\n",
       "   'length': 10,\n",
       "   'min_width': 0.06,\n",
       "   'name': 'n',\n",
       "   'spacing': 'linear',\n",
       "   'tol_digits': 3,\n",
       "   'tolerance': 0.006,\n",
       "   'units': 'unitless',\n",
       "   'val_range': [1, 2],\n",
       "   'vals': [1.05, 1.15, 1.25, 1.35, 1.45, 1.55, 1.65, 1.75, 1.85, 1.95]}],\n",
       " 'output': []}"
      ]
     },
     "execution_count": 3,
     "metadata": {},
     "output_type": "execute_result"
    }
   ],
   "source": [
    "fp.as_dict()"
   ]
  },
  {
   "cell_type": "markdown",
   "metadata": {},
   "source": [
    "Note that there are both `edges` and `vals` computed - the `vals` will be the values at which computations will be done, while `edges` will be the edges of the grid, used in subdivision steps later on.\n",
    "\n",
    "Finally, we define the measurement conditions and output variable. We won't be varying light intensity here, so we only need voltage and temperature."
   ]
  },
  {
   "cell_type": "code",
   "execution_count": 4,
   "metadata": {},
   "outputs": [],
   "source": [
    "fp.add_ec(name='V', units='V', is_x=True) # this will be on the x-axis when we plot data\n",
    "fp.add_ec(name='T', units='K', tolerance=0.1)\n",
    "fp.add_output(name='J', units='A/cm^2')"
   ]
  },
  {
   "cell_type": "code",
   "execution_count": 5,
   "metadata": {},
   "outputs": [
    {
     "data": {
      "text/plain": [
       "{'ec_x_name': 'V',\n",
       " 'ecs': [{'name': 'V',\n",
       "   'param_type': 'input',\n",
       "   'tol_digits': 6,\n",
       "   'tolerance': 1e-06,\n",
       "   'units': 'V'},\n",
       "  {'name': 'T',\n",
       "   'param_type': 'input',\n",
       "   'tol_digits': 1,\n",
       "   'tolerance': 0.1,\n",
       "   'units': 'K'}],\n",
       " 'fit_params': [{'edges': array([   10.   ,    15.849,    25.12 ,    39.81 ,    63.1  ,   100.   ,\n",
       "            158.49 ,   251.2  ,   398.1  ,   631.   ,  1000.   ]),\n",
       "   'length': 10,\n",
       "   'min_width': 1.0471285480508996,\n",
       "   'name': 'Bp',\n",
       "   'spacing': 'log',\n",
       "   'tolerance': 1.0046157902783952,\n",
       "   'units': 'arb.',\n",
       "   'val_range': [10, 1000],\n",
       "   'vals': array([  12.589,   19.953,   31.62 ,   50.12 ,   79.43 ,  125.89 ,\n",
       "           199.53 ,  316.2  ,  501.2  ,  794.3  ])},\n",
       "  {'edges': [1.0, 1.1, 1.2, 1.3, 1.4, 1.5, 1.6, 1.7, 1.8, 1.9, 2.0],\n",
       "   'length': 10,\n",
       "   'min_width': 0.06,\n",
       "   'name': 'n',\n",
       "   'spacing': 'linear',\n",
       "   'tol_digits': 3,\n",
       "   'tolerance': 0.006,\n",
       "   'units': 'unitless',\n",
       "   'val_range': [1, 2],\n",
       "   'vals': [1.05, 1.15, 1.25, 1.35, 1.45, 1.55, 1.65, 1.75, 1.85, 1.95]}],\n",
       " 'output': [{'name': 'J',\n",
       "   'param_type': 'output',\n",
       "   'tol_digits': 6,\n",
       "   'tolerance': 1e-06,\n",
       "   'units': 'A/cm^2'}]}"
      ]
     },
     "execution_count": 5,
     "metadata": {},
     "output_type": "execute_result"
    }
   ],
   "source": [
    "fp.as_dict()"
   ]
  },
  {
   "cell_type": "code",
   "execution_count": 6,
   "metadata": {},
   "outputs": [],
   "source": [
    "#m = bym.Model(params=fp,ec_list=ec,output_var='J')\n",
    "m = bym.Model(params=fp)"
   ]
  },
  {
   "cell_type": "code",
   "execution_count": 7,
   "metadata": {
    "scrolled": true
   },
   "outputs": [
    {
     "data": {
      "text/html": [
       "<div>\n",
       "<style scoped>\n",
       "    .dataframe tbody tr th:only-of-type {\n",
       "        vertical-align: middle;\n",
       "    }\n",
       "\n",
       "    .dataframe tbody tr th {\n",
       "        vertical-align: top;\n",
       "    }\n",
       "\n",
       "    .dataframe thead th {\n",
       "        text-align: right;\n",
       "    }\n",
       "</style>\n",
       "<table border=\"1\" class=\"dataframe\">\n",
       "  <thead>\n",
       "    <tr style=\"text-align: right;\">\n",
       "      <th></th>\n",
       "      <th>Bp</th>\n",
       "      <th>Bp_min</th>\n",
       "      <th>Bp_max</th>\n",
       "      <th>n</th>\n",
       "      <th>n_min</th>\n",
       "      <th>n_max</th>\n",
       "      <th>prob</th>\n",
       "    </tr>\n",
       "  </thead>\n",
       "  <tbody>\n",
       "    <tr>\n",
       "      <th>0</th>\n",
       "      <td>12.589</td>\n",
       "      <td>10.0</td>\n",
       "      <td>15.849</td>\n",
       "      <td>1.05</td>\n",
       "      <td>1.0</td>\n",
       "      <td>1.1</td>\n",
       "      <td>0.01</td>\n",
       "    </tr>\n",
       "    <tr>\n",
       "      <th>1</th>\n",
       "      <td>12.589</td>\n",
       "      <td>10.0</td>\n",
       "      <td>15.849</td>\n",
       "      <td>1.15</td>\n",
       "      <td>1.1</td>\n",
       "      <td>1.2</td>\n",
       "      <td>0.01</td>\n",
       "    </tr>\n",
       "    <tr>\n",
       "      <th>2</th>\n",
       "      <td>12.589</td>\n",
       "      <td>10.0</td>\n",
       "      <td>15.849</td>\n",
       "      <td>1.25</td>\n",
       "      <td>1.2</td>\n",
       "      <td>1.3</td>\n",
       "      <td>0.01</td>\n",
       "    </tr>\n",
       "    <tr>\n",
       "      <th>3</th>\n",
       "      <td>12.589</td>\n",
       "      <td>10.0</td>\n",
       "      <td>15.849</td>\n",
       "      <td>1.35</td>\n",
       "      <td>1.3</td>\n",
       "      <td>1.4</td>\n",
       "      <td>0.01</td>\n",
       "    </tr>\n",
       "    <tr>\n",
       "      <th>4</th>\n",
       "      <td>12.589</td>\n",
       "      <td>10.0</td>\n",
       "      <td>15.849</td>\n",
       "      <td>1.45</td>\n",
       "      <td>1.4</td>\n",
       "      <td>1.5</td>\n",
       "      <td>0.01</td>\n",
       "    </tr>\n",
       "    <tr>\n",
       "      <th>5</th>\n",
       "      <td>12.589</td>\n",
       "      <td>10.0</td>\n",
       "      <td>15.849</td>\n",
       "      <td>1.55</td>\n",
       "      <td>1.5</td>\n",
       "      <td>1.6</td>\n",
       "      <td>0.01</td>\n",
       "    </tr>\n",
       "    <tr>\n",
       "      <th>6</th>\n",
       "      <td>12.589</td>\n",
       "      <td>10.0</td>\n",
       "      <td>15.849</td>\n",
       "      <td>1.65</td>\n",
       "      <td>1.6</td>\n",
       "      <td>1.7</td>\n",
       "      <td>0.01</td>\n",
       "    </tr>\n",
       "    <tr>\n",
       "      <th>7</th>\n",
       "      <td>12.589</td>\n",
       "      <td>10.0</td>\n",
       "      <td>15.849</td>\n",
       "      <td>1.75</td>\n",
       "      <td>1.7</td>\n",
       "      <td>1.8</td>\n",
       "      <td>0.01</td>\n",
       "    </tr>\n",
       "    <tr>\n",
       "      <th>8</th>\n",
       "      <td>12.589</td>\n",
       "      <td>10.0</td>\n",
       "      <td>15.849</td>\n",
       "      <td>1.85</td>\n",
       "      <td>1.8</td>\n",
       "      <td>1.9</td>\n",
       "      <td>0.01</td>\n",
       "    </tr>\n",
       "    <tr>\n",
       "      <th>9</th>\n",
       "      <td>12.589</td>\n",
       "      <td>10.0</td>\n",
       "      <td>15.849</td>\n",
       "      <td>1.95</td>\n",
       "      <td>1.9</td>\n",
       "      <td>2.0</td>\n",
       "      <td>0.01</td>\n",
       "    </tr>\n",
       "  </tbody>\n",
       "</table>\n",
       "</div>"
      ],
      "text/plain": [
       "       Bp  Bp_min  Bp_max     n  n_min  n_max  prob\n",
       "0  12.589    10.0  15.849  1.05    1.0    1.1  0.01\n",
       "1  12.589    10.0  15.849  1.15    1.1    1.2  0.01\n",
       "2  12.589    10.0  15.849  1.25    1.2    1.3  0.01\n",
       "3  12.589    10.0  15.849  1.35    1.3    1.4  0.01\n",
       "4  12.589    10.0  15.849  1.45    1.4    1.5  0.01\n",
       "5  12.589    10.0  15.849  1.55    1.5    1.6  0.01\n",
       "6  12.589    10.0  15.849  1.65    1.6    1.7  0.01\n",
       "7  12.589    10.0  15.849  1.75    1.7    1.8  0.01\n",
       "8  12.589    10.0  15.849  1.85    1.8    1.9  0.01\n",
       "9  12.589    10.0  15.849  1.95    1.9    2.0  0.01"
      ]
     },
     "execution_count": 7,
     "metadata": {},
     "output_type": "execute_result"
    }
   ],
   "source": [
    "m.probs.points.head(10)"
   ]
  },
  {
   "cell_type": "markdown",
   "metadata": {},
   "source": [
    "## Attach experimental data\n",
    "This is the next step that needs to be done before adding the model as it will use the experimental conditions we enumerate here to compute simulated outputs. For our \"experimental\" data here, we'll actually just simulate some ideal diodes so that we can directly see how good the Bayesian approach is at recovering true underlying parameters.\n",
    "\n",
    "We'll use $n=1.36$ and $B'=258$ as our \"true\" parameters. (I have no idea what \"realistic\" values for $B'$ would be...)"
   ]
  },
  {
   "cell_type": "code",
   "execution_count": 8,
   "metadata": {},
   "outputs": [],
   "source": [
    "def compute_ID(ec,params):\n",
    "    J_L = -0.03 # treat as fixed for now\n",
    "    V = ec['V']\n",
    "    T = ec['T']\n",
    "    V_th = 8.61733e-5 * T # thermal voltage, kT/q\n",
    "    n = params['n']\n",
    "    Bp = params['Bp']\n",
    "    J0 = Bp*T**(3/n)*math.exp(-1.2/V_th/n)\n",
    "    return J_L + J0*(math.exp(V/V_th/n)-1)\n",
    "\n",
    "V = np.arange(0,1.0,0.01)\n",
    "T = [float(t) for t in np.arange(150,301,50)]\n",
    "#V = np.arange(0,1.0,0.1)\n",
    "#T = [200.0,300.0]\n",
    "params = {'n':1.36,'Bp':258}\n",
    "\n",
    "data = []\n",
    "for t in T:\n",
    "    J0 = compute_ID({'V':V[0],'T':t},params)\n",
    "    for v in V:\n",
    "        J = compute_ID({'V':v,'T':t},params)\n",
    "        if abs(J)>0.1:\n",
    "            err = 0.05*abs(J)\n",
    "        else:\n",
    "            err = 0.005\n",
    "        # check for \"compliance\"\n",
    "        if not J > 2.0:\n",
    "            data.append([v,t,J,err])\n",
    "        \n",
    "data = pd.DataFrame.from_records(data=data,columns=['V','T','J','error'])\n",
    "dd.io.save('obs_data.h5',data)"
   ]
  },
  {
   "cell_type": "code",
   "execution_count": 9,
   "metadata": {},
   "outputs": [],
   "source": [
    "m.attach_observations(obs_data_path='obs_data.h5', keep_all=False, max_ec_x_step=0.2, fixed_err=0.0001)"
   ]
  },
  {
   "cell_type": "code",
   "execution_count": 10,
   "metadata": {
    "scrolled": false
   },
   "outputs": [
    {
     "data": {
      "image/png": "[encoded data removed]",
      "text/plain": [
       "<matplotlib.figure.Figure at 0x10ffa65d0>"
      ]
     },
     "metadata": {},
     "output_type": "display_data"
    }
   ],
   "source": [
    "import matplotlib.pyplot as plt\n",
    "%matplotlib inline\n",
    "leg = []\n",
    "for i in range(len(T)):\n",
    "    curve = data[data['T']==T[i]]\n",
    "    plt.plot(curve['V'],curve['J'])\n",
    "    leg.append(curve['T'].iloc[0])\n",
    "#plt.ylim([-0.05,0.1])\n",
    "plt.legend([str(t) for t in leg])\n",
    "plt.xlabel('Voltage [V]')\n",
    "plt.ylabel('Current')\n",
    "plt.show()"
   ]
  },
  {
   "cell_type": "markdown",
   "metadata": {},
   "source": [
    "## Attach model\n",
    "Now we add the function that gives the modeled data - in this case, the `compute_ID` function we just defined above."
   ]
  },
  {
   "cell_type": "code",
   "execution_count": 11,
   "metadata": {},
   "outputs": [],
   "source": [
    "m.attach_model(mode='function',func_name=compute_ID)\n",
    "#m.attach_model(mode='file',fpath='model_data.h5')"
   ]
  },
  {
   "cell_type": "markdown",
   "metadata": {},
   "source": [
    "That's it! When that function is called, `bayesim` also generates the full table of modeled data at all experimental conditions in the observed data we attached before. Check it out:"
   ]
  },
  {
   "cell_type": "code",
   "execution_count": 12,
   "metadata": {},
   "outputs": [],
   "source": [
    "m.calc_model_errors()"
   ]
  },
  {
   "cell_type": "markdown",
   "metadata": {},
   "source": [
    "## Drop that Bayes!\n",
    "### First Bayes\n",
    "rewrite explanation here"
   ]
  },
  {
   "cell_type": "code",
   "execution_count": 13,
   "metadata": {
    "scrolled": true
   },
   "outputs": [
    {
     "name": "stdout",
     "output_type": "stream",
     "text": [
      "Did a total of 32 runs to use a total of 41 observations.\n",
      "\n",
      "An average of 67 / 100 probability points used model errors (rather than experimental errors) during this run.\n"
     ]
    }
   ],
   "source": [
    "#m.run(min_num_pts=1,th_pv=.5,th_pm=0.5)\n",
    "#m.run(th_pv=0.1,th_pm=0.7)\n",
    "m.run()\n",
    "#m.run(force_exp_err=True)"
   ]
  },
  {
   "cell_type": "markdown",
   "metadata": {},
   "source": [
    "We can visualize the distribution and add markers for the real values to compare..."
   ]
  },
  {
   "cell_type": "code",
   "execution_count": 14,
   "metadata": {
    "scrolled": false
   },
   "outputs": [
    {
     "data": {
      "image/png": "[encoded data removed]",
      "text/plain": [
       "<matplotlib.figure.Figure at 0x1129b35d0>"
      ]
     },
     "metadata": {},
     "output_type": "display_data"
    }
   ],
   "source": [
    "m.visualize_probs(true_vals=params)"
   ]
  },
  {
   "cell_type": "code",
   "execution_count": 15,
   "metadata": {
    "scrolled": true
   },
   "outputs": [
    {
     "data": {
      "image/png": "[encoded data removed]",
      "text/plain": [
       "<matplotlib.figure.Figure at 0x1129b3a10>"
      ]
     },
     "metadata": {},
     "output_type": "display_data"
    }
   ],
   "source": [
    "#m.comparison_plot(ecs=[{'T':t} for t in list(set(list(m.ec_pts['T'])))])\n",
    "m.comparison_plot(num_param_pts=3)"
   ]
  },
  {
   "cell_type": "markdown",
   "metadata": {},
   "source": [
    "Not too bad. We can also look at the probabilities directly."
   ]
  },
  {
   "cell_type": "code",
   "execution_count": 16,
   "metadata": {},
   "outputs": [
    {
     "data": {
      "text/html": [
       "<div>\n",
       "<style scoped>\n",
       "    .dataframe tbody tr th:only-of-type {\n",
       "        vertical-align: middle;\n",
       "    }\n",
       "\n",
       "    .dataframe tbody tr th {\n",
       "        vertical-align: top;\n",
       "    }\n",
       "\n",
       "    .dataframe thead th {\n",
       "        text-align: right;\n",
       "    }\n",
       "</style>\n",
       "<table border=\"1\" class=\"dataframe\">\n",
       "  <thead>\n",
       "    <tr style=\"text-align: right;\">\n",
       "      <th></th>\n",
       "      <th>Bp</th>\n",
       "      <th>Bp_min</th>\n",
       "      <th>Bp_max</th>\n",
       "      <th>n</th>\n",
       "      <th>n_min</th>\n",
       "      <th>n_max</th>\n",
       "      <th>prob</th>\n",
       "      <th>start_ind</th>\n",
       "      <th>end_ind</th>\n",
       "    </tr>\n",
       "  </thead>\n",
       "  <tbody>\n",
       "    <tr>\n",
       "      <th>54</th>\n",
       "      <td>125.89</td>\n",
       "      <td>100.00</td>\n",
       "      <td>158.49</td>\n",
       "      <td>1.45</td>\n",
       "      <td>1.4</td>\n",
       "      <td>1.5</td>\n",
       "      <td>0.465235</td>\n",
       "      <td>3186</td>\n",
       "      <td>3244</td>\n",
       "    </tr>\n",
       "    <tr>\n",
       "      <th>63</th>\n",
       "      <td>199.53</td>\n",
       "      <td>158.49</td>\n",
       "      <td>251.20</td>\n",
       "      <td>1.35</td>\n",
       "      <td>1.3</td>\n",
       "      <td>1.4</td>\n",
       "      <td>0.255602</td>\n",
       "      <td>3717</td>\n",
       "      <td>3775</td>\n",
       "    </tr>\n",
       "    <tr>\n",
       "      <th>45</th>\n",
       "      <td>79.43</td>\n",
       "      <td>63.10</td>\n",
       "      <td>100.00</td>\n",
       "      <td>1.55</td>\n",
       "      <td>1.5</td>\n",
       "      <td>1.6</td>\n",
       "      <td>0.167433</td>\n",
       "      <td>2655</td>\n",
       "      <td>2713</td>\n",
       "    </tr>\n",
       "    <tr>\n",
       "      <th>72</th>\n",
       "      <td>316.20</td>\n",
       "      <td>251.20</td>\n",
       "      <td>398.10</td>\n",
       "      <td>1.25</td>\n",
       "      <td>1.2</td>\n",
       "      <td>1.3</td>\n",
       "      <td>0.046519</td>\n",
       "      <td>4248</td>\n",
       "      <td>4306</td>\n",
       "    </tr>\n",
       "    <tr>\n",
       "      <th>37</th>\n",
       "      <td>50.12</td>\n",
       "      <td>39.81</td>\n",
       "      <td>63.10</td>\n",
       "      <td>1.75</td>\n",
       "      <td>1.7</td>\n",
       "      <td>1.8</td>\n",
       "      <td>0.019703</td>\n",
       "      <td>2183</td>\n",
       "      <td>2241</td>\n",
       "    </tr>\n",
       "  </tbody>\n",
       "</table>\n",
       "</div>"
      ],
      "text/plain": [
       "        Bp  Bp_min  Bp_max     n  n_min  n_max      prob  start_ind  end_ind\n",
       "54  125.89  100.00  158.49  1.45    1.4    1.5  0.465235       3186     3244\n",
       "63  199.53  158.49  251.20  1.35    1.3    1.4  0.255602       3717     3775\n",
       "45   79.43   63.10  100.00  1.55    1.5    1.6  0.167433       2655     2713\n",
       "72  316.20  251.20  398.10  1.25    1.2    1.3  0.046519       4248     4306\n",
       "37   50.12   39.81   63.10  1.75    1.7    1.8  0.019703       2183     2241"
      ]
     },
     "execution_count": 16,
     "metadata": {},
     "output_type": "execute_result"
    }
   ],
   "source": [
    "m.probs.most_probable(5)"
   ]
  },
  {
   "cell_type": "markdown",
   "metadata": {},
   "source": [
    "### Let's subdivide!\n",
    "Again we'll use the default options, which will subdivide all grid boxes with probability > 0.001 as well as any immediately adjacent boxes."
   ]
  },
  {
   "cell_type": "code",
   "execution_count": 17,
   "metadata": {},
   "outputs": [
    {
     "name": "stdout",
     "output_type": "stream",
     "text": [
      "15 box(es) with probability > 0.001 and 19 neighboring boxes subdivided!\n",
      "Overwriting metadata for fitting parameter Bp with new info.\n",
      "Overwriting metadata for fitting parameter n with new info.\n",
      "New model points to simulate are saved in the file new_sim_points_1.h5.\n"
     ]
    }
   ],
   "source": [
    "m.subdivide()"
   ]
  },
  {
   "cell_type": "markdown",
   "metadata": {},
   "source": [
    "Let's take a look at the grid."
   ]
  },
  {
   "cell_type": "code",
   "execution_count": 18,
   "metadata": {},
   "outputs": [
    {
     "data": {
      "image/png": "[encoded data removed]",
      "text/plain": [
       "<matplotlib.figure.Figure at 0x113119a10>"
      ]
     },
     "metadata": {},
     "output_type": "display_data"
    }
   ],
   "source": [
    "m.visualize_grid(true_vals=params)"
   ]
  },
  {
   "cell_type": "markdown",
   "metadata": {},
   "source": [
    "### Compute and attach new model data\n",
    "We've added new model points to the grid so we have to compute the modeled values and attach that data."
   ]
  },
  {
   "cell_type": "code",
   "execution_count": 19,
   "metadata": {},
   "outputs": [],
   "source": [
    "new_sims = dd.io.load('new_sim_points_1.h5')"
   ]
  },
  {
   "cell_type": "code",
   "execution_count": 20,
   "metadata": {},
   "outputs": [],
   "source": [
    "data = []\n",
    "for sim in new_sims.iterrows():\n",
    "    v = sim[1]['V']\n",
    "    t = sim[1]['T']\n",
    "    this_pt = [v,t,compute_ID({'V':v,'T':t},sim[1])]\n",
    "    this_pt.extend([sim[1][n] for n in m.fit_param_names()])\n",
    "    data.append(this_pt)\n",
    "columns = ['V','T','J']\n",
    "columns.extend(m.fit_param_names())\n",
    "new_sim_data = pd.DataFrame.from_records(data=data,columns=columns)\n",
    "dd.io.save('new_sim_data_1.h5',new_sim_data)"
   ]
  },
  {
   "cell_type": "code",
   "execution_count": 21,
   "metadata": {},
   "outputs": [],
   "source": [
    "m.attach_model(mode='file',fpath='new_sim_data_1.h5')"
   ]
  },
  {
   "cell_type": "code",
   "execution_count": 23,
   "metadata": {},
   "outputs": [],
   "source": [
    "m.calc_model_errors()"
   ]
  },
  {
   "cell_type": "markdown",
   "metadata": {},
   "source": [
    "### Second Bayes!\n",
    "Let's do it again!"
   ]
  },
  {
   "cell_type": "code",
   "execution_count": 24,
   "metadata": {},
   "outputs": [
    {
     "name": "stdout",
     "output_type": "stream",
     "text": [
      "Did a total of 38 runs to use a total of 41 observations.\n",
      "\n",
      "An average of 108 / 136 probability points used model errors (rather than experimental errors) during this run.\n"
     ]
    }
   ],
   "source": [
    "m.run()\n",
    "#m.run(force_exp_err=True,min_num_pts=1)"
   ]
  },
  {
   "cell_type": "code",
   "execution_count": 25,
   "metadata": {},
   "outputs": [
    {
     "data": {
      "image/png": "[encoded data removed]",
      "text/plain": [
       "<matplotlib.figure.Figure at 0x1135521d0>"
      ]
     },
     "metadata": {},
     "output_type": "display_data"
    }
   ],
   "source": [
    "m.visualize_probs(true_vals=params)"
   ]
  },
  {
   "cell_type": "code",
   "execution_count": 26,
   "metadata": {},
   "outputs": [
    {
     "data": {
      "text/html": [
       "<div>\n",
       "<style scoped>\n",
       "    .dataframe tbody tr th:only-of-type {\n",
       "        vertical-align: middle;\n",
       "    }\n",
       "\n",
       "    .dataframe tbody tr th {\n",
       "        vertical-align: top;\n",
       "    }\n",
       "\n",
       "    .dataframe thead th {\n",
       "        text-align: right;\n",
       "    }\n",
       "</style>\n",
       "<table border=\"1\" class=\"dataframe\">\n",
       "  <thead>\n",
       "    <tr style=\"text-align: right;\">\n",
       "      <th></th>\n",
       "      <th>Bp</th>\n",
       "      <th>Bp_min</th>\n",
       "      <th>Bp_max</th>\n",
       "      <th>n</th>\n",
       "      <th>n_min</th>\n",
       "      <th>n_max</th>\n",
       "      <th>prob</th>\n",
       "      <th>start_ind</th>\n",
       "      <th>end_ind</th>\n",
       "    </tr>\n",
       "  </thead>\n",
       "  <tbody>\n",
       "    <tr>\n",
       "      <th>87</th>\n",
       "      <td>223.90</td>\n",
       "      <td>199.53</td>\n",
       "      <td>251.20</td>\n",
       "      <td>1.375</td>\n",
       "      <td>1.35</td>\n",
       "      <td>1.40</td>\n",
       "      <td>0.529243</td>\n",
       "      <td>5133</td>\n",
       "      <td>5191</td>\n",
       "    </tr>\n",
       "    <tr>\n",
       "      <th>71</th>\n",
       "      <td>141.25</td>\n",
       "      <td>125.89</td>\n",
       "      <td>158.49</td>\n",
       "      <td>1.475</td>\n",
       "      <td>1.45</td>\n",
       "      <td>1.50</td>\n",
       "      <td>0.389187</td>\n",
       "      <td>4189</td>\n",
       "      <td>4247</td>\n",
       "    </tr>\n",
       "    <tr>\n",
       "      <th>103</th>\n",
       "      <td>354.80</td>\n",
       "      <td>316.20</td>\n",
       "      <td>398.10</td>\n",
       "      <td>1.275</td>\n",
       "      <td>1.25</td>\n",
       "      <td>1.30</td>\n",
       "      <td>0.023317</td>\n",
       "      <td>6077</td>\n",
       "      <td>6135</td>\n",
       "    </tr>\n",
       "    <tr>\n",
       "      <th>80</th>\n",
       "      <td>177.83</td>\n",
       "      <td>158.49</td>\n",
       "      <td>199.53</td>\n",
       "      <td>1.425</td>\n",
       "      <td>1.40</td>\n",
       "      <td>1.45</td>\n",
       "      <td>0.018474</td>\n",
       "      <td>4720</td>\n",
       "      <td>4778</td>\n",
       "    </tr>\n",
       "    <tr>\n",
       "      <th>96</th>\n",
       "      <td>281.80</td>\n",
       "      <td>251.20</td>\n",
       "      <td>316.20</td>\n",
       "      <td>1.325</td>\n",
       "      <td>1.30</td>\n",
       "      <td>1.35</td>\n",
       "      <td>0.009573</td>\n",
       "      <td>5664</td>\n",
       "      <td>5722</td>\n",
       "    </tr>\n",
       "    <tr>\n",
       "      <th>86</th>\n",
       "      <td>223.90</td>\n",
       "      <td>199.53</td>\n",
       "      <td>251.20</td>\n",
       "      <td>1.325</td>\n",
       "      <td>1.30</td>\n",
       "      <td>1.35</td>\n",
       "      <td>0.005533</td>\n",
       "      <td>5074</td>\n",
       "      <td>5132</td>\n",
       "    </tr>\n",
       "    <tr>\n",
       "      <th>79</th>\n",
       "      <td>177.83</td>\n",
       "      <td>158.49</td>\n",
       "      <td>199.53</td>\n",
       "      <td>1.375</td>\n",
       "      <td>1.35</td>\n",
       "      <td>1.40</td>\n",
       "      <td>0.003844</td>\n",
       "      <td>4661</td>\n",
       "      <td>4719</td>\n",
       "    </tr>\n",
       "    <tr>\n",
       "      <th>70</th>\n",
       "      <td>141.25</td>\n",
       "      <td>125.89</td>\n",
       "      <td>158.49</td>\n",
       "      <td>1.425</td>\n",
       "      <td>1.40</td>\n",
       "      <td>1.45</td>\n",
       "      <td>0.002683</td>\n",
       "      <td>4130</td>\n",
       "      <td>4188</td>\n",
       "    </tr>\n",
       "    <tr>\n",
       "      <th>55</th>\n",
       "      <td>89.13</td>\n",
       "      <td>79.44</td>\n",
       "      <td>100.00</td>\n",
       "      <td>1.575</td>\n",
       "      <td>1.55</td>\n",
       "      <td>1.60</td>\n",
       "      <td>0.002163</td>\n",
       "      <td>3245</td>\n",
       "      <td>3303</td>\n",
       "    </tr>\n",
       "    <tr>\n",
       "      <th>64</th>\n",
       "      <td>112.20</td>\n",
       "      <td>100.00</td>\n",
       "      <td>125.89</td>\n",
       "      <td>1.525</td>\n",
       "      <td>1.50</td>\n",
       "      <td>1.55</td>\n",
       "      <td>0.001801</td>\n",
       "      <td>3776</td>\n",
       "      <td>3834</td>\n",
       "    </tr>\n",
       "  </tbody>\n",
       "</table>\n",
       "</div>"
      ],
      "text/plain": [
       "         Bp  Bp_min  Bp_max      n  n_min  n_max      prob  start_ind  end_ind\n",
       "87   223.90  199.53  251.20  1.375   1.35   1.40  0.529243       5133     5191\n",
       "71   141.25  125.89  158.49  1.475   1.45   1.50  0.389187       4189     4247\n",
       "103  354.80  316.20  398.10  1.275   1.25   1.30  0.023317       6077     6135\n",
       "80   177.83  158.49  199.53  1.425   1.40   1.45  0.018474       4720     4778\n",
       "96   281.80  251.20  316.20  1.325   1.30   1.35  0.009573       5664     5722\n",
       "86   223.90  199.53  251.20  1.325   1.30   1.35  0.005533       5074     5132\n",
       "79   177.83  158.49  199.53  1.375   1.35   1.40  0.003844       4661     4719\n",
       "70   141.25  125.89  158.49  1.425   1.40   1.45  0.002683       4130     4188\n",
       "55    89.13   79.44  100.00  1.575   1.55   1.60  0.002163       3245     3303\n",
       "64   112.20  100.00  125.89  1.525   1.50   1.55  0.001801       3776     3834"
      ]
     },
     "execution_count": 26,
     "metadata": {},
     "output_type": "execute_result"
    }
   ],
   "source": [
    "m.probs.most_probable(10)"
   ]
  },
  {
   "cell_type": "code",
   "execution_count": 27,
   "metadata": {},
   "outputs": [
    {
     "data": {
      "image/png": "[encoded data removed]",
      "text/plain": [
       "<matplotlib.figure.Figure at 0x1134d6dd0>"
      ]
     },
     "metadata": {},
     "output_type": "display_data"
    }
   ],
   "source": [
    "m.comparison_plot(num_param_pts=3)"
   ]
  },
  {
   "cell_type": "code",
   "execution_count": 28,
   "metadata": {},
   "outputs": [
    {
     "name": "stdout",
     "output_type": "stream",
     "text": [
      "Minimum width/factor of 0.06 already satisfied for n at point: \n",
      "Bp             89.130000\n",
      "Bp_min         79.440000\n",
      "Bp_max        100.000000\n",
      "n               1.575000\n",
      "n_min           1.550000\n",
      "n_max           1.600000\n",
      "prob            0.002163\n",
      "start_ind    3245.000000\n",
      "end_ind      3303.000000\n",
      "Name: 55, dtype: float64\n",
      "Minimum width/factor of 0.06 already satisfied for n at point: \n",
      "Bp             89.130000\n",
      "Bp_min         79.440000\n",
      "Bp_max        100.000000\n",
      "n               1.625000\n",
      "n_min           1.600000\n",
      "n_max           1.650000\n",
      "prob            0.001212\n",
      "start_ind    3304.000000\n",
      "end_ind      3362.000000\n",
      "Name: 56, dtype: float64\n",
      "Minimum width/factor of 0.06 already satisfied for n at point: \n",
      "Bp            112.200000\n",
      "Bp_min        100.000000\n",
      "Bp_max        125.890000\n",
      "n               1.525000\n",
      "n_min           1.500000\n",
      "n_max           1.550000\n",
      "prob            0.001801\n",
      "start_ind    3776.000000\n",
      "end_ind      3834.000000\n",
      "Name: 64, dtype: float64\n",
      "Minimum width/factor of 0.06 already satisfied for n at point: \n",
      "Bp            112.200000\n",
      "Bp_min        100.000000\n",
      "Bp_max        125.890000\n",
      "n               1.575000\n",
      "n_min           1.550000\n",
      "n_max           1.600000\n",
      "prob            0.001515\n",
      "start_ind    3835.000000\n",
      "end_ind      3893.000000\n",
      "Name: 65, dtype: float64\n",
      "Minimum width/factor of 0.06 already satisfied for n at point: \n",
      "Bp            141.250000\n",
      "Bp_min        125.890000\n",
      "Bp_max        158.490000\n",
      "n               1.425000\n",
      "n_min           1.400000\n",
      "n_max           1.450000\n",
      "prob            0.002683\n",
      "start_ind    4130.000000\n",
      "end_ind      4188.000000\n",
      "Name: 70, dtype: float64\n",
      "Minimum width/factor of 0.06 already satisfied for n at point: \n",
      "Bp            141.250000\n",
      "Bp_min        125.890000\n",
      "Bp_max        158.490000\n",
      "n               1.475000\n",
      "n_min           1.450000\n",
      "n_max           1.500000\n",
      "prob            0.389187\n",
      "start_ind    4189.000000\n",
      "end_ind      4247.000000\n",
      "Name: 71, dtype: float64\n",
      "Minimum width/factor of 0.06 already satisfied for n at point: \n",
      "Bp            141.250000\n",
      "Bp_min        125.890000\n",
      "Bp_max        158.490000\n",
      "n               1.525000\n",
      "n_min           1.500000\n",
      "n_max           1.550000\n",
      "prob            0.001741\n",
      "start_ind    4248.000000\n",
      "end_ind      4306.000000\n",
      "Name: 72, dtype: float64\n",
      "Minimum width/factor of 0.06 already satisfied for n at point: \n",
      "Bp            177.830000\n",
      "Bp_min        158.490000\n",
      "Bp_max        199.530000\n",
      "n               1.375000\n",
      "n_min           1.350000\n",
      "n_max           1.400000\n",
      "prob            0.003844\n",
      "start_ind    4661.000000\n",
      "end_ind      4719.000000\n",
      "Name: 79, dtype: float64\n",
      "Minimum width/factor of 0.06 already satisfied for n at point: \n",
      "Bp            177.830000\n",
      "Bp_min        158.490000\n",
      "Bp_max        199.530000\n",
      "n               1.425000\n",
      "n_min           1.400000\n",
      "n_max           1.450000\n",
      "prob            0.018474\n",
      "start_ind    4720.000000\n",
      "end_ind      4778.000000\n",
      "Name: 80, dtype: float64\n",
      "Minimum width/factor of 0.06 already satisfied for n at point: \n",
      "Bp            177.830000\n",
      "Bp_min        158.490000\n",
      "Bp_max        199.530000\n",
      "n               1.475000\n",
      "n_min           1.450000\n",
      "n_max           1.500000\n",
      "prob            0.001112\n",
      "start_ind    4779.000000\n",
      "end_ind      4837.000000\n",
      "Name: 81, dtype: float64\n",
      "Minimum width/factor of 0.06 already satisfied for n at point: \n",
      "Bp            223.900000\n",
      "Bp_min        199.530000\n",
      "Bp_max        251.200000\n",
      "n               1.325000\n",
      "n_min           1.300000\n",
      "n_max           1.350000\n",
      "prob            0.005533\n",
      "start_ind    5074.000000\n",
      "end_ind      5132.000000\n",
      "Name: 86, dtype: float64\n",
      "Minimum width/factor of 0.06 already satisfied for n at point: \n",
      "Bp            223.900000\n",
      "Bp_min        199.530000\n",
      "Bp_max        251.200000\n",
      "n               1.375000\n",
      "n_min           1.350000\n",
      "n_max           1.400000\n",
      "prob            0.529243\n",
      "start_ind    5133.000000\n",
      "end_ind      5191.000000\n",
      "Name: 87, dtype: float64\n",
      "Minimum width/factor of 0.06 already satisfied for n at point: \n",
      "Bp            281.800000\n",
      "Bp_min        251.200000\n",
      "Bp_max        316.200000\n",
      "n               1.325000\n",
      "n_min           1.300000\n",
      "n_max           1.350000\n",
      "prob            0.009573\n",
      "start_ind    5664.000000\n",
      "end_ind      5722.000000\n",
      "Name: 96, dtype: float64\n",
      "Minimum width/factor of 0.06 already satisfied for n at point: \n",
      "Bp            354.800000\n",
      "Bp_min        316.200000\n",
      "Bp_max        398.100000\n",
      "n               1.275000\n",
      "n_min           1.250000\n",
      "n_max           1.300000\n",
      "prob            0.023317\n",
      "start_ind    6077.000000\n",
      "end_ind      6135.000000\n",
      "Name: 103, dtype: float64\n",
      "Minimum width/factor of 0.06 already satisfied for n at point: \n",
      "Bp            446.700000\n",
      "Bp_min        398.100000\n",
      "Bp_max        501.200000\n",
      "n               1.225000\n",
      "n_min           1.200000\n",
      "n_max           1.250000\n",
      "prob            0.001458\n",
      "start_ind    6608.000000\n",
      "end_ind      6666.000000\n",
      "Name: 112, dtype: float64\n",
      "Minimum width/factor of 0.06 already satisfied for n at point: \n",
      "Bp           7.080000e+01\n",
      "Bp_min       6.310000e+01\n",
      "Bp_max       7.944000e+01\n",
      "n            1.575000e+00\n",
      "n_min        1.550000e+00\n",
      "n_max        1.600000e+00\n",
      "prob         8.663097e-07\n",
      "start_ind    2.773000e+03\n",
      "end_ind      2.831000e+03\n",
      "Name: 47, dtype: float64\n",
      "Minimum width/factor of 0.06 already satisfied for n at point: \n",
      "Bp             89.130000\n",
      "Bp_min         79.440000\n",
      "Bp_max        100.000000\n",
      "n               1.525000\n",
      "n_min           1.500000\n",
      "n_max           1.550000\n",
      "prob            0.000022\n",
      "start_ind    3186.000000\n",
      "end_ind      3244.000000\n",
      "Name: 54, dtype: float64\n",
      "Minimum width/factor of 0.06 already satisfied for n at point: \n",
      "Bp             70.800000\n",
      "Bp_min         63.100000\n",
      "Bp_max         79.440000\n",
      "n               1.625000\n",
      "n_min           1.600000\n",
      "n_max           1.650000\n",
      "prob            0.000013\n",
      "start_ind    2832.000000\n",
      "end_ind      2890.000000\n",
      "Name: 48, dtype: float64\n",
      "Minimum width/factor of 0.06 already satisfied for n at point: \n",
      "Bp             89.130000\n",
      "Bp_min         79.440000\n",
      "Bp_max        100.000000\n",
      "n               1.675000\n",
      "n_min           1.650000\n",
      "n_max           1.700000\n",
      "prob            0.000443\n",
      "start_ind    3363.000000\n",
      "end_ind      3421.000000\n",
      "Name: 57, dtype: float64\n",
      "Minimum width/factor of 0.06 already satisfied for n at point: \n",
      "Bp            112.200000\n",
      "Bp_min        100.000000\n",
      "Bp_max        125.890000\n",
      "n               1.625000\n",
      "n_min           1.600000\n",
      "n_max           1.650000\n",
      "prob            0.000121\n",
      "start_ind    3894.000000\n",
      "end_ind      3952.000000\n",
      "Name: 66, dtype: float64\n",
      "Minimum width/factor of 0.06 already satisfied for n at point: \n",
      "Bp            112.200000\n",
      "Bp_min        100.000000\n",
      "Bp_max        125.890000\n",
      "n               1.475000\n",
      "n_min           1.450000\n",
      "n_max           1.500000\n",
      "prob            0.000563\n",
      "start_ind    3717.000000\n",
      "end_ind      3775.000000\n",
      "Name: 63, dtype: float64\n",
      "Minimum width/factor of 0.06 already satisfied for n at point: \n",
      "Bp            141.250000\n",
      "Bp_min        125.890000\n",
      "Bp_max        158.490000\n",
      "n               1.575000\n",
      "n_min           1.550000\n",
      "n_max           1.600000\n",
      "prob            0.000121\n",
      "start_ind    4307.000000\n",
      "end_ind      4365.000000\n",
      "Name: 73, dtype: float64\n",
      "Minimum width/factor of 0.06 already satisfied for n at point: \n",
      "Bp           1.122000e+02\n",
      "Bp_min       1.000000e+02\n",
      "Bp_max       1.258900e+02\n",
      "n            1.425000e+00\n",
      "n_min        1.400000e+00\n",
      "n_max        1.450000e+00\n",
      "prob         5.169494e-07\n",
      "start_ind    3.658000e+03\n",
      "end_ind      3.716000e+03\n",
      "Name: 62, dtype: float64\n",
      "Minimum width/factor of 0.06 already satisfied for n at point: \n",
      "Bp           1.412500e+02\n",
      "Bp_min       1.258900e+02\n",
      "Bp_max       1.584900e+02\n",
      "n            1.375000e+00\n",
      "n_min        1.350000e+00\n",
      "n_max        1.400000e+00\n",
      "prob         4.877148e-08\n",
      "start_ind    4.071000e+03\n",
      "end_ind      4.129000e+03\n",
      "Name: 69, dtype: float64\n",
      "Minimum width/factor of 0.06 already satisfied for n at point: \n",
      "Bp            177.83000\n",
      "Bp_min        158.49000\n",
      "Bp_max        199.53000\n",
      "n               1.52500\n",
      "n_min           1.50000\n",
      "n_max           1.55000\n",
      "prob            0.00004\n",
      "start_ind    4838.00000\n",
      "end_ind      4896.00000\n",
      "Name: 82, dtype: float64\n",
      "Minimum width/factor of 0.06 already satisfied for n at point: \n",
      "Bp            177.830000\n",
      "Bp_min        158.490000\n",
      "Bp_max        199.530000\n",
      "n               1.325000\n",
      "n_min           1.300000\n",
      "n_max           1.350000\n",
      "prob            0.000004\n",
      "start_ind    4602.000000\n",
      "end_ind      4660.000000\n",
      "Name: 78, dtype: float64\n",
      "Minimum width/factor of 0.06 already satisfied for n at point: \n",
      "Bp            223.900000\n",
      "Bp_min        199.530000\n",
      "Bp_max        251.200000\n",
      "n               1.425000\n",
      "n_min           1.400000\n",
      "n_max           1.450000\n",
      "prob            0.000832\n",
      "start_ind    5192.000000\n",
      "end_ind      5250.000000\n",
      "Name: 88, dtype: float64\n",
      "Minimum width/factor of 0.06 already satisfied for n at point: \n",
      "Bp            223.900000\n",
      "Bp_min        199.530000\n",
      "Bp_max        251.200000\n",
      "n               1.475000\n",
      "n_min           1.450000\n",
      "n_max           1.500000\n",
      "prob            0.000033\n",
      "start_ind    5251.000000\n",
      "end_ind      5309.000000\n",
      "Name: 89, dtype: float64\n",
      "Minimum width/factor of 0.06 already satisfied for n at point: \n",
      "Bp           2.239000e+02\n",
      "Bp_min       1.995300e+02\n",
      "Bp_max       2.512000e+02\n",
      "n            1.275000e+00\n",
      "n_min        1.250000e+00\n",
      "n_max        1.300000e+00\n",
      "prob         1.112437e-07\n",
      "start_ind    5.015000e+03\n",
      "end_ind      5.073000e+03\n",
      "Name: 85, dtype: float64\n",
      "Minimum width/factor of 0.06 already satisfied for n at point: \n",
      "Bp            281.800000\n",
      "Bp_min        251.200000\n",
      "Bp_max        316.200000\n",
      "n               1.375000\n",
      "n_min           1.350000\n",
      "n_max           1.400000\n",
      "prob            0.000566\n",
      "start_ind    5723.000000\n",
      "end_ind      5781.000000\n",
      "Name: 97, dtype: float64\n"
     ]
    },
    {
     "name": "stdout",
     "output_type": "stream",
     "text": [
      "Minimum width/factor of 0.06 already satisfied for n at point: \n",
      "Bp            281.800000\n",
      "Bp_min        251.200000\n",
      "Bp_max        316.200000\n",
      "n               1.275000\n",
      "n_min           1.250000\n",
      "n_max           1.300000\n",
      "prob            0.000973\n",
      "start_ind    5605.000000\n",
      "end_ind      5663.000000\n",
      "Name: 95, dtype: float64\n",
      "Minimum width/factor of 0.06 already satisfied for n at point: \n",
      "Bp            354.800000\n",
      "Bp_min        316.200000\n",
      "Bp_max        398.100000\n",
      "n               1.325000\n",
      "n_min           1.300000\n",
      "n_max           1.350000\n",
      "prob            0.000447\n",
      "start_ind    6136.000000\n",
      "end_ind      6194.000000\n",
      "Name: 104, dtype: float64\n",
      "Minimum width/factor of 0.06 already satisfied for n at point: \n",
      "Bp            354.800000\n",
      "Bp_min        316.200000\n",
      "Bp_max        398.100000\n",
      "n               1.225000\n",
      "n_min           1.200000\n",
      "n_max           1.250000\n",
      "prob            0.000515\n",
      "start_ind    6018.000000\n",
      "end_ind      6076.000000\n",
      "Name: 102, dtype: float64\n",
      "Minimum width/factor of 0.06 already satisfied for n at point: \n",
      "Bp            446.700000\n",
      "Bp_min        398.100000\n",
      "Bp_max        501.200000\n",
      "n               1.275000\n",
      "n_min           1.250000\n",
      "n_max           1.300000\n",
      "prob            0.000377\n",
      "start_ind    6667.000000\n",
      "end_ind      6725.000000\n",
      "Name: 113, dtype: float64\n",
      "Minimum width/factor of 0.06 already satisfied for n at point: \n",
      "Bp            446.700000\n",
      "Bp_min        398.100000\n",
      "Bp_max        501.200000\n",
      "n               1.175000\n",
      "n_min           1.150000\n",
      "n_max           1.200000\n",
      "prob            0.000027\n",
      "start_ind    6549.000000\n",
      "end_ind      6607.000000\n",
      "Name: 111, dtype: float64\n",
      "Minimum width/factor of 0.06 already satisfied for n at point: \n",
      "Bp            562.400000\n",
      "Bp_min        501.200000\n",
      "Bp_max        631.000000\n",
      "n               1.225000\n",
      "n_min           1.200000\n",
      "n_max           1.250000\n",
      "prob            0.000335\n",
      "start_ind    7080.000000\n",
      "end_ind      7138.000000\n",
      "Name: 120, dtype: float64\n",
      "15 box(es) with probability > 0.001 and 21 neighboring boxes subdivided!\n",
      "Overwriting metadata for fitting parameter Bp with new info.\n",
      "Overwriting metadata for fitting parameter n with new info.\n",
      "New model points to simulate are saved in the file new_sim_points_2.h5.\n"
     ]
    }
   ],
   "source": [
    "m.subdivide()"
   ]
  },
  {
   "cell_type": "code",
   "execution_count": 29,
   "metadata": {},
   "outputs": [
    {
     "data": {
      "image/png": "[encoded data removed]",
      "text/plain": [
       "<matplotlib.figure.Figure at 0x1134d6f10>"
      ]
     },
     "metadata": {},
     "output_type": "display_data"
    }
   ],
   "source": [
    "m.visualize_grid(true_vals=params)"
   ]
  },
  {
   "cell_type": "code",
   "execution_count": 34,
   "metadata": {},
   "outputs": [
    {
     "data": {
      "text/html": [
       "<div>\n",
       "<style scoped>\n",
       "    .dataframe tbody tr th:only-of-type {\n",
       "        vertical-align: middle;\n",
       "    }\n",
       "\n",
       "    .dataframe tbody tr th {\n",
       "        vertical-align: top;\n",
       "    }\n",
       "\n",
       "    .dataframe thead th {\n",
       "        text-align: right;\n",
       "    }\n",
       "</style>\n",
       "<table border=\"1\" class=\"dataframe\">\n",
       "  <thead>\n",
       "    <tr style=\"text-align: right;\">\n",
       "      <th></th>\n",
       "      <th>Bp</th>\n",
       "      <th>Bp_min</th>\n",
       "      <th>Bp_max</th>\n",
       "      <th>n</th>\n",
       "      <th>n_min</th>\n",
       "      <th>n_max</th>\n",
       "      <th>prob</th>\n",
       "      <th>start_ind</th>\n",
       "      <th>end_ind</th>\n",
       "    </tr>\n",
       "  </thead>\n",
       "  <tbody>\n",
       "    <tr>\n",
       "      <th>59</th>\n",
       "      <td>334.90</td>\n",
       "      <td>316.20</td>\n",
       "      <td>354.80</td>\n",
       "      <td>1.275</td>\n",
       "      <td>1.25</td>\n",
       "      <td>1.30</td>\n",
       "      <td>0.009853</td>\n",
       "      <td>3481</td>\n",
       "      <td>3539</td>\n",
       "    </tr>\n",
       "    <tr>\n",
       "      <th>30</th>\n",
       "      <td>149.62</td>\n",
       "      <td>141.25</td>\n",
       "      <td>158.49</td>\n",
       "      <td>1.525</td>\n",
       "      <td>1.50</td>\n",
       "      <td>1.55</td>\n",
       "      <td>0.001708</td>\n",
       "      <td>1770</td>\n",
       "      <td>1828</td>\n",
       "    </tr>\n",
       "    <tr>\n",
       "      <th>44</th>\n",
       "      <td>211.35</td>\n",
       "      <td>199.53</td>\n",
       "      <td>223.90</td>\n",
       "      <td>1.375</td>\n",
       "      <td>1.35</td>\n",
       "      <td>1.40</td>\n",
       "      <td>0.234750</td>\n",
       "      <td>2596</td>\n",
       "      <td>2654</td>\n",
       "    </tr>\n",
       "    <tr>\n",
       "      <th>21</th>\n",
       "      <td>118.85</td>\n",
       "      <td>112.20</td>\n",
       "      <td>125.89</td>\n",
       "      <td>1.625</td>\n",
       "      <td>1.60</td>\n",
       "      <td>1.65</td>\n",
       "      <td>0.000239</td>\n",
       "      <td>1239</td>\n",
       "      <td>1297</td>\n",
       "    </tr>\n",
       "    <tr>\n",
       "      <th>17</th>\n",
       "      <td>118.85</td>\n",
       "      <td>112.20</td>\n",
       "      <td>125.89</td>\n",
       "      <td>1.425</td>\n",
       "      <td>1.40</td>\n",
       "      <td>1.45</td>\n",
       "      <td>0.001326</td>\n",
       "      <td>1003</td>\n",
       "      <td>1061</td>\n",
       "    </tr>\n",
       "    <tr>\n",
       "      <th>63</th>\n",
       "      <td>375.80</td>\n",
       "      <td>354.80</td>\n",
       "      <td>398.10</td>\n",
       "      <td>1.325</td>\n",
       "      <td>1.30</td>\n",
       "      <td>1.35</td>\n",
       "      <td>0.002707</td>\n",
       "      <td>3717</td>\n",
       "      <td>3775</td>\n",
       "    </tr>\n",
       "    <tr>\n",
       "      <th>69</th>\n",
       "      <td>473.20</td>\n",
       "      <td>446.70</td>\n",
       "      <td>501.20</td>\n",
       "      <td>1.275</td>\n",
       "      <td>1.25</td>\n",
       "      <td>1.30</td>\n",
       "      <td>0.003128</td>\n",
       "      <td>4071</td>\n",
       "      <td>4129</td>\n",
       "    </tr>\n",
       "    <tr>\n",
       "      <th>53</th>\n",
       "      <td>266.10</td>\n",
       "      <td>251.20</td>\n",
       "      <td>281.80</td>\n",
       "      <td>1.325</td>\n",
       "      <td>1.30</td>\n",
       "      <td>1.35</td>\n",
       "      <td>0.006486</td>\n",
       "      <td>3127</td>\n",
       "      <td>3185</td>\n",
       "    </tr>\n",
       "    <tr>\n",
       "      <th>45</th>\n",
       "      <td>211.35</td>\n",
       "      <td>199.53</td>\n",
       "      <td>223.90</td>\n",
       "      <td>1.425</td>\n",
       "      <td>1.40</td>\n",
       "      <td>1.45</td>\n",
       "      <td>0.002546</td>\n",
       "      <td>2655</td>\n",
       "      <td>2713</td>\n",
       "    </tr>\n",
       "    <tr>\n",
       "      <th>49</th>\n",
       "      <td>237.10</td>\n",
       "      <td>223.90</td>\n",
       "      <td>251.20</td>\n",
       "      <td>1.375</td>\n",
       "      <td>1.35</td>\n",
       "      <td>1.40</td>\n",
       "      <td>0.222102</td>\n",
       "      <td>2891</td>\n",
       "      <td>2949</td>\n",
       "    </tr>\n",
       "  </tbody>\n",
       "</table>\n",
       "</div>"
      ],
      "text/plain": [
       "        Bp  Bp_min  Bp_max      n  n_min  n_max      prob  start_ind  end_ind\n",
       "59  334.90  316.20  354.80  1.275   1.25   1.30  0.009853       3481     3539\n",
       "30  149.62  141.25  158.49  1.525   1.50   1.55  0.001708       1770     1828\n",
       "44  211.35  199.53  223.90  1.375   1.35   1.40  0.234750       2596     2654\n",
       "21  118.85  112.20  125.89  1.625   1.60   1.65  0.000239       1239     1297\n",
       "17  118.85  112.20  125.89  1.425   1.40   1.45  0.001326       1003     1061\n",
       "63  375.80  354.80  398.10  1.325   1.30   1.35  0.002707       3717     3775\n",
       "69  473.20  446.70  501.20  1.275   1.25   1.30  0.003128       4071     4129\n",
       "53  266.10  251.20  281.80  1.325   1.30   1.35  0.006486       3127     3185\n",
       "45  211.35  199.53  223.90  1.425   1.40   1.45  0.002546       2655     2713\n",
       "49  237.10  223.90  251.20  1.375   1.35   1.40  0.222102       2891     2949"
      ]
     },
     "execution_count": 34,
     "metadata": {},
     "output_type": "execute_result"
    }
   ],
   "source": [
    "m.probs.points.sample(10)"
   ]
  },
  {
   "cell_type": "code",
   "execution_count": 30,
   "metadata": {},
   "outputs": [
    {
     "name": "stderr",
     "output_type": "stream",
     "text": [
      "../../bayesim/model.py:770: RuntimeWarning: invalid value encountered in absolute\n",
      "  deltas_here = np.absolute(np.diff(mat,axis=i))\n"
     ]
    }
   ],
   "source": [
    "new_sims = dd.io.load('new_sim_points_2.h5')\n",
    "data = []\n",
    "for sim in new_sims.iterrows():\n",
    "    v = sim[1]['V']\n",
    "    t = sim[1]['T']\n",
    "    this_pt = [v,t,compute_ID({'V':v,'T':t},sim[1])]\n",
    "    this_pt.extend([sim[1][n] for n in m.fit_param_names()])\n",
    "    data.append(this_pt)\n",
    "columns = ['V','T','J']\n",
    "columns.extend(m.fit_param_names())\n",
    "new_sim_data = pd.DataFrame.from_records(data=data,columns=columns)\n",
    "dd.io.save('new_sim_data_2.h5',new_sim_data)\n",
    "m.attach_model(mode='file',fpath='new_sim_data_2.h5')\n",
    "m.calc_model_errors()"
   ]
  },
  {
   "cell_type": "code",
   "execution_count": 31,
   "metadata": {},
   "outputs": [
    {
     "ename": "ValueError",
     "evalue": "Uh-oh, some probability is NaN!",
     "output_type": "error",
     "traceback": [
      "\u001b[0;31m---------------------------------------------------------------------------\u001b[0m",
      "\u001b[0;31mValueError\u001b[0m                                Traceback (most recent call last)",
      "\u001b[0;32m<ipython-input-31-9026bd111e30>\u001b[0m in \u001b[0;36m<module>\u001b[0;34m()\u001b[0m\n\u001b[0;32m----> 1\u001b[0;31m \u001b[0mm\u001b[0m\u001b[0;34m.\u001b[0m\u001b[0mrun\u001b[0m\u001b[0;34m(\u001b[0m\u001b[0;34m)\u001b[0m\u001b[0;34m\u001b[0m\u001b[0m\n\u001b[0m\u001b[1;32m      2\u001b[0m \u001b[0;31m#m.run(force_exp_err=True)\u001b[0m\u001b[0;34m\u001b[0m\u001b[0;34m\u001b[0m\u001b[0m\n",
      "\u001b[0;32m/Users/rachelkurchin/Dropbox (MIT)/MIT/Bayes_Project/bayesim/bayesim/model.pyc\u001b[0m in \u001b[0;36mrun\u001b[0;34m(self, **argv)\u001b[0m\n\u001b[1;32m    636\u001b[0m \u001b[0;34m\u001b[0m\u001b[0m\n\u001b[1;32m    637\u001b[0m                     \u001b[0;31m# compute likelihood and do a Bayesian update\u001b[0m\u001b[0;34m\u001b[0m\u001b[0;34m\u001b[0m\u001b[0m\n\u001b[0;32m--> 638\u001b[0;31m                     \u001b[0mlkl\u001b[0m\u001b[0;34m,\u001b[0m \u001b[0mdelta_count\u001b[0m \u001b[0;34m=\u001b[0m \u001b[0mself\u001b[0m\u001b[0;34m.\u001b[0m\u001b[0mprobs\u001b[0m\u001b[0;34m.\u001b[0m\u001b[0mlikelihood\u001b[0m\u001b[0;34m(\u001b[0m\u001b[0mmeas\u001b[0m\u001b[0;34m=\u001b[0m\u001b[0mobs\u001b[0m\u001b[0;34m,\u001b[0m \u001b[0mmodel_at_ec\u001b[0m\u001b[0;34m=\u001b[0m\u001b[0mmodel_here\u001b[0m\u001b[0;34m,\u001b[0m\u001b[0moutput_col\u001b[0m\u001b[0;34m=\u001b[0m\u001b[0mself\u001b[0m\u001b[0;34m.\u001b[0m\u001b[0moutput_var\u001b[0m\u001b[0;34m,\u001b[0m\u001b[0mforce_exp_err\u001b[0m\u001b[0;34m=\u001b[0m\u001b[0mforce_exp_err\u001b[0m\u001b[0;34m)\u001b[0m\u001b[0;34m\u001b[0m\u001b[0m\n\u001b[0m\u001b[1;32m    639\u001b[0m                     \u001b[0mself\u001b[0m\u001b[0;34m.\u001b[0m\u001b[0mprobs\u001b[0m\u001b[0;34m.\u001b[0m\u001b[0mmultiply\u001b[0m\u001b[0;34m(\u001b[0m\u001b[0mlkl\u001b[0m\u001b[0;34m)\u001b[0m\u001b[0;34m\u001b[0m\u001b[0m\n\u001b[1;32m    640\u001b[0m                     \u001b[0mnum_pts_used\u001b[0m \u001b[0;34m=\u001b[0m \u001b[0mnum_pts_used\u001b[0m \u001b[0;34m+\u001b[0m \u001b[0;36m1\u001b[0m\u001b[0;34m\u001b[0m\u001b[0m\n",
      "\u001b[0;32m/Users/rachelkurchin/Dropbox (MIT)/MIT/Bayes_Project/bayesim/bayesim/pmf.py\u001b[0m in \u001b[0;36mlikelihood\u001b[0;34m(self, **argv)\u001b[0m\n\u001b[1;32m    384\u001b[0m             \u001b[0;32mprint\u001b[0m\u001b[0;34m(\u001b[0m\u001b[0;34m'likelihood has no probability! :('\u001b[0m\u001b[0;34m)\u001b[0m\u001b[0;34m\u001b[0m\u001b[0m\n\u001b[1;32m    385\u001b[0m         \u001b[0;32mif\u001b[0m \u001b[0many\u001b[0m\u001b[0;34m(\u001b[0m\u001b[0mnp\u001b[0m\u001b[0;34m.\u001b[0m\u001b[0misnan\u001b[0m\u001b[0;34m(\u001b[0m\u001b[0mnp\u001b[0m\u001b[0;34m.\u001b[0m\u001b[0marray\u001b[0m\u001b[0;34m(\u001b[0m\u001b[0mself\u001b[0m\u001b[0;34m.\u001b[0m\u001b[0mpoints\u001b[0m\u001b[0;34m[\u001b[0m\u001b[0;34m'prob'\u001b[0m\u001b[0;34m]\u001b[0m\u001b[0;34m)\u001b[0m\u001b[0;34m)\u001b[0m\u001b[0;34m)\u001b[0m\u001b[0;34m:\u001b[0m\u001b[0;34m\u001b[0m\u001b[0m\n\u001b[0;32m--> 386\u001b[0;31m             \u001b[0;32mraise\u001b[0m \u001b[0mValueError\u001b[0m\u001b[0;34m(\u001b[0m\u001b[0;34m'Uh-oh, some probability is NaN!'\u001b[0m\u001b[0;34m)\u001b[0m\u001b[0;34m\u001b[0m\u001b[0m\n\u001b[0m\u001b[1;32m    387\u001b[0m         \u001b[0mlkl\u001b[0m\u001b[0;34m.\u001b[0m\u001b[0mnormalize\u001b[0m\u001b[0;34m(\u001b[0m\u001b[0;34m)\u001b[0m\u001b[0;34m\u001b[0m\u001b[0m\n\u001b[1;32m    388\u001b[0m         \u001b[0;32mreturn\u001b[0m \u001b[0mlkl\u001b[0m\u001b[0;34m,\u001b[0m \u001b[0mdelta_count\u001b[0m\u001b[0;34m\u001b[0m\u001b[0m\n",
      "\u001b[0;31mValueError\u001b[0m: Uh-oh, some probability is NaN!"
     ]
    }
   ],
   "source": [
    "m.run()\n",
    "#m.run(force_exp_err=True)"
   ]
  },
  {
   "cell_type": "code",
   "execution_count": null,
   "metadata": {
    "scrolled": false
   },
   "outputs": [],
   "source": [
    "m.visualize_probs(true_vals=params)"
   ]
  },
  {
   "cell_type": "code",
   "execution_count": null,
   "metadata": {
    "scrolled": true
   },
   "outputs": [],
   "source": [
    "m.probs.most_probable(5)"
   ]
  },
  {
   "cell_type": "code",
   "execution_count": null,
   "metadata": {},
   "outputs": [],
   "source": [
    "m.model_data.sample(10)"
   ]
  },
  {
   "cell_type": "code",
   "execution_count": null,
   "metadata": {},
   "outputs": [],
   "source": [
    "m.comparison_plot(num_param_pts=3, num_ecs=3)"
   ]
  },
  {
   "cell_type": "code",
   "execution_count": null,
   "metadata": {},
   "outputs": [],
   "source": []
  }
 ],
 "metadata": {
  "kernelspec": {
   "display_name": "py36",
   "language": "python",
   "name": "py36"
  },
  "language_info": {
   "codemirror_mode": {
    "name": "ipython",
    "version": 2
   },
   "file_extension": ".py",
   "mimetype": "text/x-python",
   "name": "python",
   "nbconvert_exporter": "python",
   "pygments_lexer": "ipython2",
   "version": "2.7.14"
  }
 },
 "nbformat": 4,
 "nbformat_minor": 2
}
