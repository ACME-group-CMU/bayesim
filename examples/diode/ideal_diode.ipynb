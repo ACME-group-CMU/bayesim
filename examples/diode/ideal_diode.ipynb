{
 "cells": [
  {
   "cell_type": "markdown",
   "metadata": {},
   "source": [
    "# Ideal Diode Example"
   ]
  },
  {
   "cell_type": "markdown",
   "metadata": {},
   "source": [
    "The simplest way to model a solar cell is as an **ideal diode**, described by the following equation:\n",
    "$$J(V,T) = J_L+J_0(\\exp{\\frac{qV}{nkT}}-1)$$\n",
    "where $k=8.61733\\times 10^{-5}$ eV/K is Boltzmann's constant, by convention $J_L$ (the light current) is negative and $J_0$ (the saturation current) is positive but strongly dependent on temperature, a dependence we can approximate as:\n",
    "$$J_0 \\approx B'T^{3/n}\\exp{\\frac{-E_{g0}}{nkT}}$$\n",
    "We'll use the silicon zero-temperature bandgap, $E_{g0}=1.2$ eV, meaning we just need to fit for $B'$ in this equation.\n",
    "$J_L$ is typically directly proportional to light intensity, which we will treat as fixed for this example, leaving us with two parameters to fit for: $B'$ and the ideality factor $n$."
   ]
  },
  {
   "cell_type": "code",
   "execution_count": 1,
   "metadata": {},
   "outputs": [],
   "source": [
    "import numpy as np\n",
    "import sys\n",
    "import math\n",
    "import pandas as pd\n",
    "sys.path.append('../../')\n",
    "import bayesim.model as bym\n",
    "import bayesim.params as byp\n",
    "import deepdish as dd"
   ]
  },
  {
   "cell_type": "markdown",
   "metadata": {},
   "source": [
    "## List the parameters\n",
    "First, we list our fitting parameters."
   ]
  },
  {
   "cell_type": "code",
   "execution_count": 2,
   "metadata": {},
   "outputs": [
    {
     "name": "stdout",
     "output_type": "stream",
     "text": [
      "Setting min_width automatically for Bp.\n"
     ]
    }
   ],
   "source": [
    "pl = byp.Param_list()\n",
    "pl.add_fit_param(name='Bp',val_range=[10,1000],spacing='log',length=20,units='arb.')\n",
    "pl.add_fit_param(name='n',val_range=[1,2],length=20, min_width=0.01)"
   ]
  },
  {
   "cell_type": "markdown",
   "metadata": {},
   "source": [
    "We can inspect the `Param_list` object and see what kind of information is inside..."
   ]
  },
  {
   "cell_type": "code",
   "execution_count": 3,
   "metadata": {},
   "outputs": [
    {
     "name": "stdout",
     "output_type": "stream",
     "text": [
      "{\n",
      "    \"fit_params\": [\n",
      "        {\n",
      "            \"units\": \"arb.\", \n",
      "            \"name\": \"Bp\", \n",
      "            \"spacing\": \"log\", \n",
      "            \"val_range\": \"[10, 1000]\", \n",
      "            \"vals\": \"[  11.22    14.125   17.783   22.387   28.184   35.481   44.67    56.2...\", \n",
      "            \"length\": 20, \n",
      "            \"edges\": \"[   10.       12.589    15.849    19.953    25.119    31.623    39.811...\", \n",
      "            \"min_width\": 1.023292992280754, \n",
      "            \"tolerance\": 1.0023052380778996\n",
      "        }, \n",
      "        {\n",
      "            \"units\": \"unitless\", \n",
      "            \"name\": \"n\", \n",
      "            \"tol_digits\": 3, \n",
      "            \"spacing\": \"linear\", \n",
      "            \"val_range\": \"[1, 2]\", \n",
      "            \"vals\": \"[1.025, 1.075, 1.125, 1.175, 1.225, 1.275, 1.325, 1.375, 1.425, 1.475,...\", \n",
      "            \"length\": 20, \n",
      "            \"edges\": \"[1.0, 1.05, 1.1, 1.15, 1.2, 1.25, 1.3, 1.35, 1.4, 1.45, 1.5, 1.55, 1.6...\", \n",
      "            \"min_width\": 0.01, \n",
      "            \"tolerance\": 0.001\n",
      "        }\n",
      "    ], \n",
      "    \"ec_x_name\": null, \n",
      "    \"ecs\": [], \n",
      "    \"output\": []\n",
      "}\n"
     ]
    }
   ],
   "source": [
    "print(pl)"
   ]
  },
  {
   "cell_type": "markdown",
   "metadata": {},
   "source": [
    "Note that there are both `edges` and `vals` computed - the `vals` will be the values at which computations will be done, while `edges` will be the edges of the grid, used in subdivision steps later on.\n",
    "\n",
    "Finally, we define the measurement conditions and output variable. We won't be varying light intensity here, so we only need voltage and temperature. We also set voltage as the parameter to be plotted on the x-axis when visualizing data."
   ]
  },
  {
   "cell_type": "code",
   "execution_count": 4,
   "metadata": {},
   "outputs": [],
   "source": [
    "pl.add_ec(name='V', units='V', is_x=True) # this will be on the x-axis when we plot data\n",
    "pl.add_ec(name='T', units='K', tolerance=0.1)\n",
    "pl.add_output(name='J', units='A/cm^2')"
   ]
  },
  {
   "cell_type": "code",
   "execution_count": 5,
   "metadata": {},
   "outputs": [
    {
     "name": "stdout",
     "output_type": "stream",
     "text": [
      "{\n",
      "    \"fit_params\": [\n",
      "        {\n",
      "            \"units\": \"arb.\", \n",
      "            \"name\": \"Bp\", \n",
      "            \"spacing\": \"log\", \n",
      "            \"val_range\": \"[10, 1000]\", \n",
      "            \"vals\": \"[  11.22    14.125   17.783   22.387   28.184   35.481   44.67    56.2...\", \n",
      "            \"length\": 20, \n",
      "            \"edges\": \"[   10.       12.589    15.849    19.953    25.119    31.623    39.811...\", \n",
      "            \"min_width\": 1.023292992280754, \n",
      "            \"tolerance\": 1.0023052380778996\n",
      "        }, \n",
      "        {\n",
      "            \"units\": \"unitless\", \n",
      "            \"name\": \"n\", \n",
      "            \"tol_digits\": 3, \n",
      "            \"spacing\": \"linear\", \n",
      "            \"val_range\": \"[1, 2]\", \n",
      "            \"vals\": \"[1.025, 1.075, 1.125, 1.175, 1.225, 1.275, 1.325, 1.375, 1.425, 1.475,...\", \n",
      "            \"length\": 20, \n",
      "            \"edges\": \"[1.0, 1.05, 1.1, 1.15, 1.2, 1.25, 1.3, 1.35, 1.4, 1.45, 1.5, 1.55, 1.6...\", \n",
      "            \"min_width\": 0.01, \n",
      "            \"tolerance\": 0.001\n",
      "        }\n",
      "    ], \n",
      "    \"ec_x_name\": \"V\", \n",
      "    \"ecs\": [\n",
      "        {\n",
      "            \"units\": \"V\", \n",
      "            \"tolerance\": 1e-06, \n",
      "            \"param_type\": \"input\", \n",
      "            \"name\": \"V\", \n",
      "            \"tol_digits\": 6\n",
      "        }, \n",
      "        {\n",
      "            \"units\": \"K\", \n",
      "            \"param_type\": \"input\", \n",
      "            \"tolerance\": 0.1, \n",
      "            \"name\": \"T\", \n",
      "            \"tol_digits\": 1\n",
      "        }\n",
      "    ], \n",
      "    \"output\": [\n",
      "        {\n",
      "            \"units\": \"A/cm^2\", \n",
      "            \"tolerance\": 1e-06, \n",
      "            \"param_type\": \"output\", \n",
      "            \"name\": \"J\", \n",
      "            \"tol_digits\": 6\n",
      "        }\n",
      "    ]\n",
      "}\n"
     ]
    }
   ],
   "source": [
    "print(pl)"
   ]
  },
  {
   "cell_type": "markdown",
   "metadata": {},
   "source": [
    "## Initialize the model\n",
    "Now we're ready to initialize our bayesim Model object."
   ]
  },
  {
   "cell_type": "code",
   "execution_count": 6,
   "metadata": {},
   "outputs": [],
   "source": [
    "m = bym.Model(params=pl)"
   ]
  },
  {
   "cell_type": "markdown",
   "metadata": {},
   "source": [
    "By default, a uniform probability distribution is created..."
   ]
  },
  {
   "cell_type": "code",
   "execution_count": 7,
   "metadata": {
    "scrolled": true
   },
   "outputs": [
    {
     "data": {
      "text/html": [
       "<div>\n",
       "<style scoped>\n",
       "    .dataframe tbody tr th:only-of-type {\n",
       "        vertical-align: middle;\n",
       "    }\n",
       "\n",
       "    .dataframe tbody tr th {\n",
       "        vertical-align: top;\n",
       "    }\n",
       "\n",
       "    .dataframe thead th {\n",
       "        text-align: right;\n",
       "    }\n",
       "</style>\n",
       "<table border=\"1\" class=\"dataframe\">\n",
       "  <thead>\n",
       "    <tr style=\"text-align: right;\">\n",
       "      <th></th>\n",
       "      <th>Bp</th>\n",
       "      <th>Bp_min</th>\n",
       "      <th>Bp_max</th>\n",
       "      <th>n</th>\n",
       "      <th>n_min</th>\n",
       "      <th>n_max</th>\n",
       "      <th>prob</th>\n",
       "    </tr>\n",
       "  </thead>\n",
       "  <tbody>\n",
       "    <tr>\n",
       "      <th>0</th>\n",
       "      <td>11.22</td>\n",
       "      <td>10.0</td>\n",
       "      <td>12.589</td>\n",
       "      <td>1.025</td>\n",
       "      <td>1.00</td>\n",
       "      <td>1.05</td>\n",
       "      <td>0.0025</td>\n",
       "    </tr>\n",
       "    <tr>\n",
       "      <th>1</th>\n",
       "      <td>11.22</td>\n",
       "      <td>10.0</td>\n",
       "      <td>12.589</td>\n",
       "      <td>1.075</td>\n",
       "      <td>1.05</td>\n",
       "      <td>1.10</td>\n",
       "      <td>0.0025</td>\n",
       "    </tr>\n",
       "    <tr>\n",
       "      <th>2</th>\n",
       "      <td>11.22</td>\n",
       "      <td>10.0</td>\n",
       "      <td>12.589</td>\n",
       "      <td>1.125</td>\n",
       "      <td>1.10</td>\n",
       "      <td>1.15</td>\n",
       "      <td>0.0025</td>\n",
       "    </tr>\n",
       "    <tr>\n",
       "      <th>3</th>\n",
       "      <td>11.22</td>\n",
       "      <td>10.0</td>\n",
       "      <td>12.589</td>\n",
       "      <td>1.175</td>\n",
       "      <td>1.15</td>\n",
       "      <td>1.20</td>\n",
       "      <td>0.0025</td>\n",
       "    </tr>\n",
       "    <tr>\n",
       "      <th>4</th>\n",
       "      <td>11.22</td>\n",
       "      <td>10.0</td>\n",
       "      <td>12.589</td>\n",
       "      <td>1.225</td>\n",
       "      <td>1.20</td>\n",
       "      <td>1.25</td>\n",
       "      <td>0.0025</td>\n",
       "    </tr>\n",
       "    <tr>\n",
       "      <th>5</th>\n",
       "      <td>11.22</td>\n",
       "      <td>10.0</td>\n",
       "      <td>12.589</td>\n",
       "      <td>1.275</td>\n",
       "      <td>1.25</td>\n",
       "      <td>1.30</td>\n",
       "      <td>0.0025</td>\n",
       "    </tr>\n",
       "    <tr>\n",
       "      <th>6</th>\n",
       "      <td>11.22</td>\n",
       "      <td>10.0</td>\n",
       "      <td>12.589</td>\n",
       "      <td>1.325</td>\n",
       "      <td>1.30</td>\n",
       "      <td>1.35</td>\n",
       "      <td>0.0025</td>\n",
       "    </tr>\n",
       "    <tr>\n",
       "      <th>7</th>\n",
       "      <td>11.22</td>\n",
       "      <td>10.0</td>\n",
       "      <td>12.589</td>\n",
       "      <td>1.375</td>\n",
       "      <td>1.35</td>\n",
       "      <td>1.40</td>\n",
       "      <td>0.0025</td>\n",
       "    </tr>\n",
       "    <tr>\n",
       "      <th>8</th>\n",
       "      <td>11.22</td>\n",
       "      <td>10.0</td>\n",
       "      <td>12.589</td>\n",
       "      <td>1.425</td>\n",
       "      <td>1.40</td>\n",
       "      <td>1.45</td>\n",
       "      <td>0.0025</td>\n",
       "    </tr>\n",
       "    <tr>\n",
       "      <th>9</th>\n",
       "      <td>11.22</td>\n",
       "      <td>10.0</td>\n",
       "      <td>12.589</td>\n",
       "      <td>1.475</td>\n",
       "      <td>1.45</td>\n",
       "      <td>1.50</td>\n",
       "      <td>0.0025</td>\n",
       "    </tr>\n",
       "  </tbody>\n",
       "</table>\n",
       "</div>"
      ],
      "text/plain": [
       "      Bp  Bp_min  Bp_max      n  n_min  n_max    prob\n",
       "0  11.22    10.0  12.589  1.025   1.00   1.05  0.0025\n",
       "1  11.22    10.0  12.589  1.075   1.05   1.10  0.0025\n",
       "2  11.22    10.0  12.589  1.125   1.10   1.15  0.0025\n",
       "3  11.22    10.0  12.589  1.175   1.15   1.20  0.0025\n",
       "4  11.22    10.0  12.589  1.225   1.20   1.25  0.0025\n",
       "5  11.22    10.0  12.589  1.275   1.25   1.30  0.0025\n",
       "6  11.22    10.0  12.589  1.325   1.30   1.35  0.0025\n",
       "7  11.22    10.0  12.589  1.375   1.35   1.40  0.0025\n",
       "8  11.22    10.0  12.589  1.425   1.40   1.45  0.0025\n",
       "9  11.22    10.0  12.589  1.475   1.45   1.50  0.0025"
      ]
     },
     "execution_count": 7,
     "metadata": {},
     "output_type": "execute_result"
    }
   ],
   "source": [
    "m.probs.points.head(10)"
   ]
  },
  {
   "cell_type": "markdown",
   "metadata": {},
   "source": [
    "## Attach experimental data\n",
    "This is the next step that needs to be done before adding the model as it will use the experimental conditions we enumerate here to compute simulated outputs. For our \"experimental\" data here, we'll actually just simulate some ideal diodes so that we can directly see how good the Bayesian approach is at recovering true underlying parameters.\n",
    "\n",
    "We'll use $n=1.36$ and $B'=258$ as our \"true\" parameters. (I have no idea what \"realistic\" values for $B'$ would be...)\n",
    "\n",
    "Here we generate and save the data as well as plot it."
   ]
  },
  {
   "cell_type": "code",
   "execution_count": 8,
   "metadata": {},
   "outputs": [
    {
     "data": {
      "image/png": "[encoded data removed]",
      "text/plain": [
       "<matplotlib.figure.Figure at 0x1102b8610>"
      ]
     },
     "metadata": {},
     "output_type": "display_data"
    }
   ],
   "source": [
    "def compute_ID(ec,params):\n",
    "    J_L = -0.03 # treat as fixed for now\n",
    "    V = ec['V']\n",
    "    T = ec['T']\n",
    "    V_th = 8.61733e-5 * T # thermal voltage, kT/q\n",
    "    n = params['n']\n",
    "    Bp = params['Bp']\n",
    "    J0 = Bp*T**(3/n)*math.exp(-1.2/V_th/n)\n",
    "    return J_L + J0*(math.exp(V/V_th/n)-1)\n",
    "\n",
    "V = np.arange(0,1.0,0.01)\n",
    "T = [float(t) for t in np.arange(150,301,50)]\n",
    "#V = np.arange(0,1.0,0.1)\n",
    "#T = [200.0,300.0]\n",
    "params = {'n':1.36,'Bp':258}\n",
    "\n",
    "data = []\n",
    "for t in T:\n",
    "    J0 = compute_ID({'V':V[0],'T':t},params)\n",
    "    for v in V:\n",
    "        J = compute_ID({'V':v,'T':t},params)\n",
    "        if abs(J)>0.1:\n",
    "            err = 0.05*abs(J)\n",
    "        else:\n",
    "            err = 0.005\n",
    "        # check for \"compliance\"\n",
    "        if not J > 2.0:\n",
    "            data.append([v,t,J,err])\n",
    "        \n",
    "data = pd.DataFrame.from_records(data=data,columns=['V','T','J','error'])\n",
    "dd.io.save('obs_data.h5',data)\n",
    "\n",
    "import matplotlib.pyplot as plt\n",
    "%matplotlib inline\n",
    "leg = []\n",
    "for i in range(len(T)):\n",
    "    curve = data[data['T']==T[i]]\n",
    "    plt.plot(curve['V'],curve['J'])\n",
    "    leg.append(curve['T'].iloc[0])\n",
    "#plt.ylim([-0.05,0.1])\n",
    "plt.legend([str(t) for t in leg])\n",
    "plt.xlabel('Voltage [V]')\n",
    "plt.ylabel('Current')\n",
    "plt.show()"
   ]
  },
  {
   "cell_type": "markdown",
   "metadata": {},
   "source": [
    "Now that we've generated our \"observations,\" we can attach them to `bayesim`. There are some options when we attach the observations, notably `keep_all` and `max_ec_x_step`. If `keep_all` is set to False, `attach_observations` will only import data points that differ from each other by more than 1% (this 1% threshold can be modified with the `thresh_dif_frac` option) in the output variable (J) along the defined x-axis variable (V). However, `max_ec_x_step` tells it to only skip a maximum of 0.2 V before saving a point even if it differs by <1% from the previous one.\n",
    "\n",
    "Finally, we define the experimental error to be 0.0001 for all data points (one could also define errors at specific points by including an 'error' column in the file with the observed data)."
   ]
  },
  {
   "cell_type": "code",
   "execution_count": 9,
   "metadata": {},
   "outputs": [],
   "source": [
    "m.attach_observations(obs_data_path='obs_data.h5', keep_all=False, max_ec_x_step=0.2, fixed_err=0.0001)"
   ]
  },
  {
   "cell_type": "markdown",
   "metadata": {},
   "source": [
    "## Attach model\n",
    "Now we add the function that gives the modeled data - in this case, the `compute_ID` function we just defined above."
   ]
  },
  {
   "cell_type": "code",
   "execution_count": 10,
   "metadata": {},
   "outputs": [],
   "source": [
    "m.attach_model(mode='function',func_name=compute_ID)\n",
    "#m.attach_model(mode='file',fpath='model_data.h5')"
   ]
  },
  {
   "cell_type": "markdown",
   "metadata": {},
   "source": [
    "When that function is called, `bayesim` also generates the full table of modeled data at all experimental conditions in the observed data we attached before. Check it out:"
   ]
  },
  {
   "cell_type": "code",
   "execution_count": 11,
   "metadata": {},
   "outputs": [
    {
     "data": {
      "text/html": [
       "<div>\n",
       "<style scoped>\n",
       "    .dataframe tbody tr th:only-of-type {\n",
       "        vertical-align: middle;\n",
       "    }\n",
       "\n",
       "    .dataframe tbody tr th {\n",
       "        vertical-align: top;\n",
       "    }\n",
       "\n",
       "    .dataframe thead th {\n",
       "        text-align: right;\n",
       "    }\n",
       "</style>\n",
       "<table border=\"1\" class=\"dataframe\">\n",
       "  <thead>\n",
       "    <tr style=\"text-align: right;\">\n",
       "      <th></th>\n",
       "      <th>Bp</th>\n",
       "      <th>J</th>\n",
       "      <th>T</th>\n",
       "      <th>V</th>\n",
       "      <th>n</th>\n",
       "    </tr>\n",
       "  </thead>\n",
       "  <tbody>\n",
       "    <tr>\n",
       "      <th>0</th>\n",
       "      <td>11.22</td>\n",
       "      <td>-0.03</td>\n",
       "      <td>150.0</td>\n",
       "      <td>0.0</td>\n",
       "      <td>1.025</td>\n",
       "    </tr>\n",
       "    <tr>\n",
       "      <th>1</th>\n",
       "      <td>11.22</td>\n",
       "      <td>-0.03</td>\n",
       "      <td>200.0</td>\n",
       "      <td>0.0</td>\n",
       "      <td>1.025</td>\n",
       "    </tr>\n",
       "    <tr>\n",
       "      <th>2</th>\n",
       "      <td>11.22</td>\n",
       "      <td>-0.03</td>\n",
       "      <td>250.0</td>\n",
       "      <td>0.0</td>\n",
       "      <td>1.025</td>\n",
       "    </tr>\n",
       "    <tr>\n",
       "      <th>3</th>\n",
       "      <td>11.22</td>\n",
       "      <td>-0.03</td>\n",
       "      <td>300.0</td>\n",
       "      <td>0.0</td>\n",
       "      <td>1.025</td>\n",
       "    </tr>\n",
       "    <tr>\n",
       "      <th>4</th>\n",
       "      <td>11.22</td>\n",
       "      <td>-0.03</td>\n",
       "      <td>150.0</td>\n",
       "      <td>0.2</td>\n",
       "      <td>1.025</td>\n",
       "    </tr>\n",
       "  </tbody>\n",
       "</table>\n",
       "</div>"
      ],
      "text/plain": [
       "      Bp     J      T    V      n\n",
       "0  11.22 -0.03  150.0  0.0  1.025\n",
       "1  11.22 -0.03  200.0  0.0  1.025\n",
       "2  11.22 -0.03  250.0  0.0  1.025\n",
       "3  11.22 -0.03  300.0  0.0  1.025\n",
       "4  11.22 -0.03  150.0  0.2  1.025"
      ]
     },
     "execution_count": 11,
     "metadata": {},
     "output_type": "execute_result"
    }
   ],
   "source": [
    "m.model_data.head()"
   ]
  },
  {
   "cell_type": "markdown",
   "metadata": {},
   "source": [
    "We'll also compute the \"model errors\" - the difference in output variable (at a fixed set of experimental conditions) when one moves around the fitting parameter space. For each point, the likelihood will be calculated with a standard deviation equal to the maximum of the experimental error and the model error."
   ]
  },
  {
   "cell_type": "code",
   "execution_count": 12,
   "metadata": {},
   "outputs": [],
   "source": [
    "m.calc_model_errors()"
   ]
  },
  {
   "cell_type": "code",
   "execution_count": 13,
   "metadata": {},
   "outputs": [
    {
     "data": {
      "text/html": [
       "<div>\n",
       "<style scoped>\n",
       "    .dataframe tbody tr th:only-of-type {\n",
       "        vertical-align: middle;\n",
       "    }\n",
       "\n",
       "    .dataframe tbody tr th {\n",
       "        vertical-align: top;\n",
       "    }\n",
       "\n",
       "    .dataframe thead th {\n",
       "        text-align: right;\n",
       "    }\n",
       "</style>\n",
       "<table border=\"1\" class=\"dataframe\">\n",
       "  <thead>\n",
       "    <tr style=\"text-align: right;\">\n",
       "      <th></th>\n",
       "      <th>Bp</th>\n",
       "      <th>J</th>\n",
       "      <th>T</th>\n",
       "      <th>V</th>\n",
       "      <th>n</th>\n",
       "      <th>error</th>\n",
       "    </tr>\n",
       "  </thead>\n",
       "  <tbody>\n",
       "    <tr>\n",
       "      <th>565</th>\n",
       "      <td>11.22</td>\n",
       "      <td>-0.004284</td>\n",
       "      <td>250.0</td>\n",
       "      <td>0.65</td>\n",
       "      <td>1.475</td>\n",
       "      <td>0.006658</td>\n",
       "    </tr>\n",
       "    <tr>\n",
       "      <th>9781</th>\n",
       "      <td>70.79</td>\n",
       "      <td>0.061906</td>\n",
       "      <td>200.0</td>\n",
       "      <td>0.78</td>\n",
       "      <td>1.275</td>\n",
       "      <td>0.026200</td>\n",
       "    </tr>\n",
       "    <tr>\n",
       "      <th>19873</th>\n",
       "      <td>446.70</td>\n",
       "      <td>0.081479</td>\n",
       "      <td>150.0</td>\n",
       "      <td>0.81</td>\n",
       "      <td>1.825</td>\n",
       "      <td>0.028849</td>\n",
       "    </tr>\n",
       "    <tr>\n",
       "      <th>10768</th>\n",
       "      <td>89.13</td>\n",
       "      <td>-0.024082</td>\n",
       "      <td>250.0</td>\n",
       "      <td>0.61</td>\n",
       "      <td>1.125</td>\n",
       "      <td>0.002994</td>\n",
       "    </tr>\n",
       "    <tr>\n",
       "      <th>10071</th>\n",
       "      <td>70.79</td>\n",
       "      <td>0.010773</td>\n",
       "      <td>200.0</td>\n",
       "      <td>0.73</td>\n",
       "      <td>1.525</td>\n",
       "      <td>0.010894</td>\n",
       "    </tr>\n",
       "  </tbody>\n",
       "</table>\n",
       "</div>"
      ],
      "text/plain": [
       "           Bp         J      T     V      n     error\n",
       "565     11.22 -0.004284  250.0  0.65  1.475  0.006658\n",
       "9781    70.79  0.061906  200.0  0.78  1.275  0.026200\n",
       "19873  446.70  0.081479  150.0  0.81  1.825  0.028849\n",
       "10768   89.13 -0.024082  250.0  0.61  1.125  0.002994\n",
       "10071   70.79  0.010773  200.0  0.73  1.525  0.010894"
      ]
     },
     "execution_count": 13,
     "metadata": {},
     "output_type": "execute_result"
    }
   ],
   "source": [
    "m.model_data.sample(5)"
   ]
  },
  {
   "cell_type": "markdown",
   "metadata": {},
   "source": [
    "## Drop that Bayes!\n",
    "### First Bayes\n",
    "We're ready to do our Bayesian inference! The `run` function has many options one can set but can be called with no arguments to run in the default way, which is the following:\n",
    "\n",
    "A threshold probability concentration is defined by an amount of probability mass (`th_pm`, defaults to 0.8) and a fraction of the fitting parameter space volume (`th_pv`, defaults to 0.05). `bayesim` chooses observation points randomly for Bayesian updates until at least `th_pm` of the probability resides in at most `th_pv` of the parameter space.\n",
    "\n",
    "However, depending on the thresholds set, data sampling and other factors, this threshold could potentially take very few observation points to reach, meaning we will inevitably be sampling our experimental conditions unevenly. To address this, a parameter `min_num_pts` is defined (with a default value of 0.7 * the number of observed data points). The procedure just described is repeated until that number of points has been used, and the resulting probability distributions from each cycle are averaged together to produce the final result."
   ]
  },
  {
   "cell_type": "code",
   "execution_count": 14,
   "metadata": {
    "scrolled": true
   },
   "outputs": [
    {
     "name": "stdout",
     "output_type": "stream",
     "text": [
      "Did a total of 36 runs to use a total of 41 observations.\n",
      "\n",
      "An average of 226 / 400 probability points used model errors (rather than experimental errors) during this run.\n"
     ]
    }
   ],
   "source": [
    "m.run()"
   ]
  },
  {
   "cell_type": "markdown",
   "metadata": {},
   "source": [
    "We can visualize the distribution and add markers for the real values to compare..."
   ]
  },
  {
   "cell_type": "code",
   "execution_count": 15,
   "metadata": {
    "scrolled": false
   },
   "outputs": [
    {
     "data": {
      "image/png": "[encoded data removed]",
      "text/plain": [
       "<matplotlib.figure.Figure at 0x112b24a50>"
      ]
     },
     "metadata": {},
     "output_type": "display_data"
    }
   ],
   "source": [
    "m.visualize_probs(true_vals=params)"
   ]
  },
  {
   "cell_type": "markdown",
   "metadata": {},
   "source": [
    "We can also plot the simulated data corresponding to the most probable points in parameter space and compare to the observed data at the same conditions."
   ]
  },
  {
   "cell_type": "code",
   "execution_count": 16,
   "metadata": {
    "scrolled": true
   },
   "outputs": [
    {
     "data": {
      "image/png": "[encoded data removed]",
      "text/plain": [
       "<matplotlib.figure.Figure at 0x112b66410>"
      ]
     },
     "metadata": {},
     "output_type": "display_data"
    }
   ],
   "source": [
    "m.comparison_plot(num_param_pts=3)"
   ]
  },
  {
   "cell_type": "markdown",
   "metadata": {},
   "source": [
    "Not too bad. We can also of course look at the probabilities directly..."
   ]
  },
  {
   "cell_type": "code",
   "execution_count": 17,
   "metadata": {},
   "outputs": [
    {
     "data": {
      "text/html": [
       "<div>\n",
       "<style scoped>\n",
       "    .dataframe tbody tr th:only-of-type {\n",
       "        vertical-align: middle;\n",
       "    }\n",
       "\n",
       "    .dataframe tbody tr th {\n",
       "        vertical-align: top;\n",
       "    }\n",
       "\n",
       "    .dataframe thead th {\n",
       "        text-align: right;\n",
       "    }\n",
       "</style>\n",
       "<table border=\"1\" class=\"dataframe\">\n",
       "  <thead>\n",
       "    <tr style=\"text-align: right;\">\n",
       "      <th></th>\n",
       "      <th>prob</th>\n",
       "      <th>Bp</th>\n",
       "      <th>n</th>\n",
       "      <th>Bp_min</th>\n",
       "      <th>Bp_max</th>\n",
       "      <th>n_min</th>\n",
       "      <th>n_max</th>\n",
       "    </tr>\n",
       "  </thead>\n",
       "  <tbody>\n",
       "    <tr>\n",
       "      <th>248</th>\n",
       "      <td>0.283207</td>\n",
       "      <td>177.83</td>\n",
       "      <td>1.425</td>\n",
       "      <td>158.49</td>\n",
       "      <td>199.53</td>\n",
       "      <td>1.40</td>\n",
       "      <td>1.45</td>\n",
       "    </tr>\n",
       "    <tr>\n",
       "      <th>267</th>\n",
       "      <td>0.273689</td>\n",
       "      <td>223.87</td>\n",
       "      <td>1.375</td>\n",
       "      <td>199.53</td>\n",
       "      <td>251.19</td>\n",
       "      <td>1.35</td>\n",
       "      <td>1.40</td>\n",
       "    </tr>\n",
       "    <tr>\n",
       "      <th>229</th>\n",
       "      <td>0.151829</td>\n",
       "      <td>141.25</td>\n",
       "      <td>1.475</td>\n",
       "      <td>125.89</td>\n",
       "      <td>158.49</td>\n",
       "      <td>1.45</td>\n",
       "      <td>1.50</td>\n",
       "    </tr>\n",
       "    <tr>\n",
       "      <th>286</th>\n",
       "      <td>0.129522</td>\n",
       "      <td>281.84</td>\n",
       "      <td>1.325</td>\n",
       "      <td>251.19</td>\n",
       "      <td>316.23</td>\n",
       "      <td>1.30</td>\n",
       "      <td>1.35</td>\n",
       "    </tr>\n",
       "    <tr>\n",
       "      <th>210</th>\n",
       "      <td>0.045317</td>\n",
       "      <td>112.20</td>\n",
       "      <td>1.525</td>\n",
       "      <td>100.00</td>\n",
       "      <td>125.89</td>\n",
       "      <td>1.50</td>\n",
       "      <td>1.55</td>\n",
       "    </tr>\n",
       "  </tbody>\n",
       "</table>\n",
       "</div>"
      ],
      "text/plain": [
       "         prob      Bp      n  Bp_min  Bp_max  n_min  n_max\n",
       "248  0.283207  177.83  1.425  158.49  199.53   1.40   1.45\n",
       "267  0.273689  223.87  1.375  199.53  251.19   1.35   1.40\n",
       "229  0.151829  141.25  1.475  125.89  158.49   1.45   1.50\n",
       "286  0.129522  281.84  1.325  251.19  316.23   1.30   1.35\n",
       "210  0.045317  112.20  1.525  100.00  125.89   1.50   1.55"
      ]
     },
     "execution_count": 17,
     "metadata": {},
     "output_type": "execute_result"
    }
   ],
   "source": [
    "m.top_probs(5)"
   ]
  },
  {
   "cell_type": "markdown",
   "metadata": {},
   "source": [
    "### Let's subdivide!\n",
    "Again we'll use the default options, which will subdivide all grid boxes with probability > 0.001 as well as any immediately adjacent boxes. It will discard any boxes with probability < 0.001. This threshold can be modified with the `threshold_prob` argument."
   ]
  },
  {
   "cell_type": "code",
   "execution_count": 18,
   "metadata": {},
   "outputs": [
    {
     "name": "stdout",
     "output_type": "stream",
     "text": [
      "22 box(es) with probability > 0.001 and 26 neighboring boxes subdivided!\n",
      "Overwriting metadata for fitting parameter Bp with new info.\n",
      "Overwriting metadata for fitting parameter n with new info.\n",
      "New model points to simulate are saved in the file new_sim_points_1.h5.\n"
     ]
    }
   ],
   "source": [
    "m.subdivide()"
   ]
  },
  {
   "cell_type": "markdown",
   "metadata": {},
   "source": [
    "Let's take a look at the grid."
   ]
  },
  {
   "cell_type": "code",
   "execution_count": 19,
   "metadata": {},
   "outputs": [
    {
     "data": {
      "image/png": "[encoded data removed]",
      "text/plain": [
       "<matplotlib.figure.Figure at 0x112fea610>"
      ]
     },
     "metadata": {},
     "output_type": "display_data"
    }
   ],
   "source": [
    "m.visualize_grid(true_vals=params)"
   ]
  },
  {
   "cell_type": "markdown",
   "metadata": {},
   "source": [
    "### Compute and attach new model data\n",
    "We've added new model points to the grid so we have to compute the modeled values and attach that data."
   ]
  },
  {
   "cell_type": "code",
   "execution_count": 20,
   "metadata": {},
   "outputs": [],
   "source": [
    "new_sims = dd.io.load('new_sim_points_1.h5')"
   ]
  },
  {
   "cell_type": "code",
   "execution_count": 21,
   "metadata": {},
   "outputs": [],
   "source": [
    "data = []\n",
    "for sim in new_sims.iterrows():\n",
    "    v = sim[1]['V']\n",
    "    t = sim[1]['T']\n",
    "    this_pt = [v,t,compute_ID({'V':v,'T':t},sim[1])]\n",
    "    this_pt.extend([sim[1][n] for n in m.fit_param_names()])\n",
    "    data.append(this_pt)\n",
    "columns = ['V','T','J']\n",
    "columns.extend(m.fit_param_names())\n",
    "new_sim_data = pd.DataFrame.from_records(data=data,columns=columns)\n",
    "dd.io.save('new_sim_data_1.h5',new_sim_data)"
   ]
  },
  {
   "cell_type": "code",
   "execution_count": 22,
   "metadata": {},
   "outputs": [],
   "source": [
    "m.attach_model(mode='file', fpath='new_sim_data_1.h5', calc_errors=True)"
   ]
  },
  {
   "cell_type": "markdown",
   "metadata": {},
   "source": [
    "### Second Bayes!\n",
    "Let's do it again!"
   ]
  },
  {
   "cell_type": "code",
   "execution_count": 23,
   "metadata": {},
   "outputs": [
    {
     "name": "stdout",
     "output_type": "stream",
     "text": [
      "Did a total of 24 runs to use a total of 41 observations.\n",
      "\n",
      "An average of 121 / 192 probability points used model errors (rather than experimental errors) during this run.\n"
     ]
    }
   ],
   "source": [
    "m.run()\n",
    "#m.run(force_exp_err=True,min_num_pts=1)"
   ]
  },
  {
   "cell_type": "code",
   "execution_count": 24,
   "metadata": {},
   "outputs": [
    {
     "data": {
      "image/png": "[encoded data removed]",
      "text/plain": [
       "<matplotlib.figure.Figure at 0x112face90>"
      ]
     },
     "metadata": {},
     "output_type": "display_data"
    }
   ],
   "source": [
    "m.visualize_probs(true_vals=params)"
   ]
  },
  {
   "cell_type": "markdown",
   "metadata": {},
   "source": [
    "Note that the parameter ranges have narrowed slightly..."
   ]
  },
  {
   "cell_type": "code",
   "execution_count": 25,
   "metadata": {},
   "outputs": [
    {
     "data": {
      "text/html": [
       "<div>\n",
       "<style scoped>\n",
       "    .dataframe tbody tr th:only-of-type {\n",
       "        vertical-align: middle;\n",
       "    }\n",
       "\n",
       "    .dataframe tbody tr th {\n",
       "        vertical-align: top;\n",
       "    }\n",
       "\n",
       "    .dataframe thead th {\n",
       "        text-align: right;\n",
       "    }\n",
       "</style>\n",
       "<table border=\"1\" class=\"dataframe\">\n",
       "  <thead>\n",
       "    <tr style=\"text-align: right;\">\n",
       "      <th></th>\n",
       "      <th>prob</th>\n",
       "      <th>Bp</th>\n",
       "      <th>n</th>\n",
       "      <th>Bp_min</th>\n",
       "      <th>Bp_max</th>\n",
       "      <th>n_min</th>\n",
       "      <th>n_max</th>\n",
       "    </tr>\n",
       "  </thead>\n",
       "  <tbody>\n",
       "    <tr>\n",
       "      <th>110</th>\n",
       "      <td>0.129816</td>\n",
       "      <td>237.14</td>\n",
       "      <td>1.3625</td>\n",
       "      <td>223.87</td>\n",
       "      <td>251.19</td>\n",
       "      <td>1.350</td>\n",
       "      <td>1.375</td>\n",
       "    </tr>\n",
       "    <tr>\n",
       "      <th>120</th>\n",
       "      <td>0.128891</td>\n",
       "      <td>266.07</td>\n",
       "      <td>1.3625</td>\n",
       "      <td>251.19</td>\n",
       "      <td>281.84</td>\n",
       "      <td>1.350</td>\n",
       "      <td>1.375</td>\n",
       "    </tr>\n",
       "    <tr>\n",
       "      <th>101</th>\n",
       "      <td>0.126971</td>\n",
       "      <td>211.35</td>\n",
       "      <td>1.3875</td>\n",
       "      <td>199.53</td>\n",
       "      <td>223.87</td>\n",
       "      <td>1.375</td>\n",
       "      <td>1.400</td>\n",
       "    </tr>\n",
       "    <tr>\n",
       "      <th>111</th>\n",
       "      <td>0.125902</td>\n",
       "      <td>237.14</td>\n",
       "      <td>1.3875</td>\n",
       "      <td>223.87</td>\n",
       "      <td>251.19</td>\n",
       "      <td>1.375</td>\n",
       "      <td>1.400</td>\n",
       "    </tr>\n",
       "    <tr>\n",
       "      <th>127</th>\n",
       "      <td>0.098823</td>\n",
       "      <td>298.54</td>\n",
       "      <td>1.3375</td>\n",
       "      <td>281.84</td>\n",
       "      <td>316.23</td>\n",
       "      <td>1.325</td>\n",
       "      <td>1.350</td>\n",
       "    </tr>\n",
       "    <tr>\n",
       "      <th>102</th>\n",
       "      <td>0.091989</td>\n",
       "      <td>211.35</td>\n",
       "      <td>1.4125</td>\n",
       "      <td>199.53</td>\n",
       "      <td>223.87</td>\n",
       "      <td>1.400</td>\n",
       "      <td>1.425</td>\n",
       "    </tr>\n",
       "    <tr>\n",
       "      <th>119</th>\n",
       "      <td>0.062496</td>\n",
       "      <td>266.07</td>\n",
       "      <td>1.3375</td>\n",
       "      <td>251.19</td>\n",
       "      <td>281.84</td>\n",
       "      <td>1.325</td>\n",
       "      <td>1.350</td>\n",
       "    </tr>\n",
       "    <tr>\n",
       "      <th>136</th>\n",
       "      <td>0.053416</td>\n",
       "      <td>334.97</td>\n",
       "      <td>1.3125</td>\n",
       "      <td>316.23</td>\n",
       "      <td>354.82</td>\n",
       "      <td>1.300</td>\n",
       "      <td>1.325</td>\n",
       "    </tr>\n",
       "    <tr>\n",
       "      <th>91</th>\n",
       "      <td>0.052500</td>\n",
       "      <td>188.37</td>\n",
       "      <td>1.4375</td>\n",
       "      <td>177.83</td>\n",
       "      <td>199.53</td>\n",
       "      <td>1.425</td>\n",
       "      <td>1.450</td>\n",
       "    </tr>\n",
       "    <tr>\n",
       "      <th>90</th>\n",
       "      <td>0.050091</td>\n",
       "      <td>188.37</td>\n",
       "      <td>1.4125</td>\n",
       "      <td>177.83</td>\n",
       "      <td>199.53</td>\n",
       "      <td>1.400</td>\n",
       "      <td>1.425</td>\n",
       "    </tr>\n",
       "  </tbody>\n",
       "</table>\n",
       "</div>"
      ],
      "text/plain": [
       "         prob      Bp       n  Bp_min  Bp_max  n_min  n_max\n",
       "110  0.129816  237.14  1.3625  223.87  251.19  1.350  1.375\n",
       "120  0.128891  266.07  1.3625  251.19  281.84  1.350  1.375\n",
       "101  0.126971  211.35  1.3875  199.53  223.87  1.375  1.400\n",
       "111  0.125902  237.14  1.3875  223.87  251.19  1.375  1.400\n",
       "127  0.098823  298.54  1.3375  281.84  316.23  1.325  1.350\n",
       "102  0.091989  211.35  1.4125  199.53  223.87  1.400  1.425\n",
       "119  0.062496  266.07  1.3375  251.19  281.84  1.325  1.350\n",
       "136  0.053416  334.97  1.3125  316.23  354.82  1.300  1.325\n",
       "91   0.052500  188.37  1.4375  177.83  199.53  1.425  1.450\n",
       "90   0.050091  188.37  1.4125  177.83  199.53  1.400  1.425"
      ]
     },
     "execution_count": 25,
     "metadata": {},
     "output_type": "execute_result"
    }
   ],
   "source": [
    "m.top_probs(10)"
   ]
  },
  {
   "cell_type": "markdown",
   "metadata": {},
   "source": [
    "Here's a cool trick with the `comparison_plot` function - we can choose more of the other experimental conditions to plot at!"
   ]
  },
  {
   "cell_type": "code",
   "execution_count": 26,
   "metadata": {},
   "outputs": [
    {
     "data": {
      "image/png": "[encoded data removed]",
      "text/plain": [
       "<matplotlib.figure.Figure at 0x112fdd3d0>"
      ]
     },
     "metadata": {},
     "output_type": "display_data"
    }
   ],
   "source": [
    "m.comparison_plot(num_param_pts=3, num_ecs=2)"
   ]
  },
  {
   "cell_type": "code",
   "execution_count": 27,
   "metadata": {},
   "outputs": [
    {
     "name": "stdout",
     "output_type": "stream",
     "text": [
      "17 box(es) with probability > 0.001 and 23 neighboring boxes subdivided!\n",
      "Overwriting metadata for fitting parameter Bp with new info.\n",
      "Overwriting metadata for fitting parameter n with new info.\n",
      "New model points to simulate are saved in the file new_sim_points_2.h5.\n"
     ]
    }
   ],
   "source": [
    "m.subdivide()"
   ]
  },
  {
   "cell_type": "code",
   "execution_count": 28,
   "metadata": {},
   "outputs": [
    {
     "data": {
      "image/png": "[encoded data removed]",
      "text/plain": [
       "<matplotlib.figure.Figure at 0x113e96990>"
      ]
     },
     "metadata": {},
     "output_type": "display_data"
    }
   ],
   "source": [
    "m.visualize_grid(true_vals=params)"
   ]
  },
  {
   "cell_type": "code",
   "execution_count": 29,
   "metadata": {},
   "outputs": [
    {
     "data": {
      "text/html": [
       "<div>\n",
       "<style scoped>\n",
       "    .dataframe tbody tr th:only-of-type {\n",
       "        vertical-align: middle;\n",
       "    }\n",
       "\n",
       "    .dataframe tbody tr th {\n",
       "        vertical-align: top;\n",
       "    }\n",
       "\n",
       "    .dataframe thead th {\n",
       "        text-align: right;\n",
       "    }\n",
       "</style>\n",
       "<table border=\"1\" class=\"dataframe\">\n",
       "  <thead>\n",
       "    <tr style=\"text-align: right;\">\n",
       "      <th></th>\n",
       "      <th>Bp</th>\n",
       "      <th>Bp_min</th>\n",
       "      <th>Bp_max</th>\n",
       "      <th>n</th>\n",
       "      <th>n_min</th>\n",
       "      <th>n_max</th>\n",
       "      <th>prob</th>\n",
       "    </tr>\n",
       "  </thead>\n",
       "  <tbody>\n",
       "    <tr>\n",
       "      <th>119</th>\n",
       "      <td>325.47</td>\n",
       "      <td>316.23</td>\n",
       "      <td>334.97</td>\n",
       "      <td>1.2937</td>\n",
       "      <td>1.2875</td>\n",
       "      <td>1.3000</td>\n",
       "      <td>8.536836e-04</td>\n",
       "    </tr>\n",
       "    <tr>\n",
       "      <th>88</th>\n",
       "      <td>258.52</td>\n",
       "      <td>251.19</td>\n",
       "      <td>266.07</td>\n",
       "      <td>1.3563</td>\n",
       "      <td>1.3500</td>\n",
       "      <td>1.3625</td>\n",
       "      <td>3.226721e-02</td>\n",
       "    </tr>\n",
       "    <tr>\n",
       "      <th>126</th>\n",
       "      <td>344.75</td>\n",
       "      <td>334.97</td>\n",
       "      <td>354.82</td>\n",
       "      <td>1.2813</td>\n",
       "      <td>1.2750</td>\n",
       "      <td>1.2875</td>\n",
       "      <td>8.536836e-04</td>\n",
       "    </tr>\n",
       "    <tr>\n",
       "      <th>153</th>\n",
       "      <td>434.02</td>\n",
       "      <td>421.71</td>\n",
       "      <td>446.70</td>\n",
       "      <td>1.2687</td>\n",
       "      <td>1.2625</td>\n",
       "      <td>1.2750</td>\n",
       "      <td>1.044718e-03</td>\n",
       "    </tr>\n",
       "    <tr>\n",
       "      <th>94</th>\n",
       "      <td>273.84</td>\n",
       "      <td>266.07</td>\n",
       "      <td>281.84</td>\n",
       "      <td>1.3313</td>\n",
       "      <td>1.3250</td>\n",
       "      <td>1.3375</td>\n",
       "      <td>1.564565e-02</td>\n",
       "    </tr>\n",
       "    <tr>\n",
       "      <th>115</th>\n",
       "      <td>307.26</td>\n",
       "      <td>298.54</td>\n",
       "      <td>316.23</td>\n",
       "      <td>1.3687</td>\n",
       "      <td>1.3625</td>\n",
       "      <td>1.3750</td>\n",
       "      <td>9.966644e-07</td>\n",
       "    </tr>\n",
       "    <tr>\n",
       "      <th>63</th>\n",
       "      <td>217.52</td>\n",
       "      <td>211.35</td>\n",
       "      <td>223.87</td>\n",
       "      <td>1.3937</td>\n",
       "      <td>1.3875</td>\n",
       "      <td>1.4000</td>\n",
       "      <td>3.178674e-02</td>\n",
       "    </tr>\n",
       "    <tr>\n",
       "      <th>65</th>\n",
       "      <td>217.52</td>\n",
       "      <td>211.35</td>\n",
       "      <td>223.87</td>\n",
       "      <td>1.4187</td>\n",
       "      <td>1.4125</td>\n",
       "      <td>1.4250</td>\n",
       "      <td>2.302901e-02</td>\n",
       "    </tr>\n",
       "    <tr>\n",
       "      <th>12</th>\n",
       "      <td>153.99</td>\n",
       "      <td>149.62</td>\n",
       "      <td>158.49</td>\n",
       "      <td>1.4312</td>\n",
       "      <td>1.4250</td>\n",
       "      <td>1.4375</td>\n",
       "      <td>9.093830e-12</td>\n",
       "    </tr>\n",
       "    <tr>\n",
       "      <th>149</th>\n",
       "      <td>409.74</td>\n",
       "      <td>398.11</td>\n",
       "      <td>421.71</td>\n",
       "      <td>1.2937</td>\n",
       "      <td>1.2875</td>\n",
       "      <td>1.3000</td>\n",
       "      <td>1.055375e-06</td>\n",
       "    </tr>\n",
       "  </tbody>\n",
       "</table>\n",
       "</div>"
      ],
      "text/plain": [
       "         Bp  Bp_min  Bp_max       n   n_min   n_max          prob\n",
       "119  325.47  316.23  334.97  1.2937  1.2875  1.3000  8.536836e-04\n",
       "88   258.52  251.19  266.07  1.3563  1.3500  1.3625  3.226721e-02\n",
       "126  344.75  334.97  354.82  1.2813  1.2750  1.2875  8.536836e-04\n",
       "153  434.02  421.71  446.70  1.2687  1.2625  1.2750  1.044718e-03\n",
       "94   273.84  266.07  281.84  1.3313  1.3250  1.3375  1.564565e-02\n",
       "115  307.26  298.54  316.23  1.3687  1.3625  1.3750  9.966644e-07\n",
       "63   217.52  211.35  223.87  1.3937  1.3875  1.4000  3.178674e-02\n",
       "65   217.52  211.35  223.87  1.4187  1.4125  1.4250  2.302901e-02\n",
       "12   153.99  149.62  158.49  1.4312  1.4250  1.4375  9.093830e-12\n",
       "149  409.74  398.11  421.71  1.2937  1.2875  1.3000  1.055375e-06"
      ]
     },
     "execution_count": 29,
     "metadata": {},
     "output_type": "execute_result"
    }
   ],
   "source": [
    "m.probs.points.sample(10)"
   ]
  },
  {
   "cell_type": "code",
   "execution_count": 30,
   "metadata": {},
   "outputs": [],
   "source": [
    "new_sims = dd.io.load('new_sim_points_2.h5')\n",
    "data = []\n",
    "for sim in new_sims.iterrows():\n",
    "    v = sim[1]['V']\n",
    "    t = sim[1]['T']\n",
    "    this_pt = [v,t,compute_ID({'V':v,'T':t},sim[1])]\n",
    "    this_pt.extend([sim[1][n] for n in m.fit_param_names()])\n",
    "    data.append(this_pt)\n",
    "columns = ['V','T','J']\n",
    "columns.extend(m.fit_param_names())\n",
    "new_sim_data = pd.DataFrame.from_records(data=data,columns=columns)\n",
    "dd.io.save('new_sim_data_2.h5',new_sim_data)\n",
    "m.attach_model(mode='file', fpath='new_sim_data_2.h5', calc_errors=True)"
   ]
  },
  {
   "cell_type": "code",
   "execution_count": 31,
   "metadata": {},
   "outputs": [
    {
     "name": "stdout",
     "output_type": "stream",
     "text": [
      "Did a total of 30 runs to use a total of 41 observations.\n",
      "\n",
      "An average of 99 / 160 probability points used model errors (rather than experimental errors) during this run.\n"
     ]
    }
   ],
   "source": [
    "m.run()"
   ]
  },
  {
   "cell_type": "code",
   "execution_count": 32,
   "metadata": {
    "scrolled": false
   },
   "outputs": [
    {
     "data": {
      "image/png": "[encoded data removed]",
      "text/plain": [
       "<matplotlib.figure.Figure at 0x10504c110>"
      ]
     },
     "metadata": {},
     "output_type": "display_data"
    }
   ],
   "source": [
    "m.visualize_probs(true_vals=params)"
   ]
  },
  {
   "cell_type": "code",
   "execution_count": 33,
   "metadata": {
    "scrolled": true
   },
   "outputs": [
    {
     "data": {
      "text/html": [
       "<div>\n",
       "<style scoped>\n",
       "    .dataframe tbody tr th:only-of-type {\n",
       "        vertical-align: middle;\n",
       "    }\n",
       "\n",
       "    .dataframe tbody tr th {\n",
       "        vertical-align: top;\n",
       "    }\n",
       "\n",
       "    .dataframe thead th {\n",
       "        text-align: right;\n",
       "    }\n",
       "</style>\n",
       "<table border=\"1\" class=\"dataframe\">\n",
       "  <thead>\n",
       "    <tr style=\"text-align: right;\">\n",
       "      <th></th>\n",
       "      <th>prob</th>\n",
       "      <th>Bp</th>\n",
       "      <th>n</th>\n",
       "      <th>Bp_min</th>\n",
       "      <th>Bp_max</th>\n",
       "      <th>n_min</th>\n",
       "      <th>n_max</th>\n",
       "    </tr>\n",
       "  </thead>\n",
       "  <tbody>\n",
       "    <tr>\n",
       "      <th>72</th>\n",
       "      <td>0.212658</td>\n",
       "      <td>230.41</td>\n",
       "      <td>1.3813</td>\n",
       "      <td>223.87</td>\n",
       "      <td>237.14</td>\n",
       "      <td>1.3750</td>\n",
       "      <td>1.3875</td>\n",
       "    </tr>\n",
       "    <tr>\n",
       "      <th>79</th>\n",
       "      <td>0.210178</td>\n",
       "      <td>244.06</td>\n",
       "      <td>1.3687</td>\n",
       "      <td>237.14</td>\n",
       "      <td>251.19</td>\n",
       "      <td>1.3625</td>\n",
       "      <td>1.3750</td>\n",
       "    </tr>\n",
       "    <tr>\n",
       "      <th>88</th>\n",
       "      <td>0.203442</td>\n",
       "      <td>258.52</td>\n",
       "      <td>1.3563</td>\n",
       "      <td>251.19</td>\n",
       "      <td>266.07</td>\n",
       "      <td>1.3500</td>\n",
       "      <td>1.3625</td>\n",
       "    </tr>\n",
       "    <tr>\n",
       "      <th>63</th>\n",
       "      <td>0.106360</td>\n",
       "      <td>217.52</td>\n",
       "      <td>1.3937</td>\n",
       "      <td>211.35</td>\n",
       "      <td>223.87</td>\n",
       "      <td>1.3875</td>\n",
       "      <td>1.4000</td>\n",
       "    </tr>\n",
       "    <tr>\n",
       "      <th>95</th>\n",
       "      <td>0.096001</td>\n",
       "      <td>273.84</td>\n",
       "      <td>1.3438</td>\n",
       "      <td>266.07</td>\n",
       "      <td>281.84</td>\n",
       "      <td>1.3375</td>\n",
       "      <td>1.3500</td>\n",
       "    </tr>\n",
       "  </tbody>\n",
       "</table>\n",
       "</div>"
      ],
      "text/plain": [
       "        prob      Bp       n  Bp_min  Bp_max   n_min   n_max\n",
       "72  0.212658  230.41  1.3813  223.87  237.14  1.3750  1.3875\n",
       "79  0.210178  244.06  1.3687  237.14  251.19  1.3625  1.3750\n",
       "88  0.203442  258.52  1.3563  251.19  266.07  1.3500  1.3625\n",
       "63  0.106360  217.52  1.3937  211.35  223.87  1.3875  1.4000\n",
       "95  0.096001  273.84  1.3438  266.07  281.84  1.3375  1.3500"
      ]
     },
     "execution_count": 33,
     "metadata": {},
     "output_type": "execute_result"
    }
   ],
   "source": [
    "m.top_probs(5)"
   ]
  },
  {
   "cell_type": "code",
   "execution_count": 34,
   "metadata": {},
   "outputs": [
    {
     "data": {
      "image/png": "[encoded data removed]",
      "text/plain": [
       "<matplotlib.figure.Figure at 0x10504c5d0>"
      ]
     },
     "metadata": {},
     "output_type": "display_data"
    }
   ],
   "source": [
    "m.comparison_plot(num_param_pts=3, num_ecs=3)"
   ]
  }
 ],
 "metadata": {
  "kernelspec": {
   "display_name": "py36",
   "language": "python",
   "name": "py36"
  },
  "language_info": {
   "codemirror_mode": {
    "name": "ipython",
    "version": 2
   },
   "file_extension": ".py",
   "mimetype": "text/x-python",
   "name": "python",
   "nbconvert_exporter": "python",
   "pygments_lexer": "ipython2",
   "version": "2.7.14"
  }
 },
 "nbformat": 4,
 "nbformat_minor": 2
}
