{
 "cells": [
  {
   "cell_type": "markdown",
   "metadata": {},
   "source": [
    "# Ideal Diode Example"
   ]
  },
  {
   "cell_type": "markdown",
   "metadata": {},
   "source": [
    "The simplest way to model a solar cell is as an **ideal diode**, described by the following equation:\n",
    "$$J(V,T) = J_L+J_0(\\exp{\\frac{qV}{nkT}}-1)$$\n",
    "where $k=8.61733\\times 10^{-5}$ eV/K is Boltzmann's constant, by convention $J_L$ (the light current) is negative and $J_0$ (the saturation current) is positive but strongly dependent on temperature, a dependence we can approximate as:\n",
    "$$J_0 \\approx B'T^{3/n}\\exp{\\frac{-E_{g0}}{nkT}}$$\n",
    "We'll use the silicon zero-temperature bandgap, $E_{g0}=1.2$ eV, meaning we just need to fit for $B'$ in this equation.\n",
    "$J_L$ is typically directly proportional to light intensity, which we will treat as fixed for this example, leaving us with two parameters to fit for: $B'$ and the ideality factor $n$."
   ]
  },
  {
   "cell_type": "code",
   "execution_count": 1,
   "metadata": {},
   "outputs": [],
   "source": [
    "import numpy as np\n",
    "import sys\n",
    "import math\n",
    "import pandas as pd\n",
    "sys.path.append('../../')\n",
    "import bayesim.model as bym\n",
    "import bayesim.param_list as byp\n",
    "import deepdish as dd\n",
    "from jupyterthemes import jtplot\n",
    "jtplot.style('default')"
   ]
  },
  {
   "cell_type": "markdown",
   "metadata": {},
   "source": [
    "## List the parameters\n",
    "First, we list our fitting parameters."
   ]
  },
  {
   "cell_type": "code",
   "execution_count": 37,
   "metadata": {},
   "outputs": [],
   "source": [
    "fp = byp.param_list()\n",
    "fp.add_fit_param(name='Bp',val_range=[10,1000],spacing='log',length=20,units='arb.')\n",
    "fp.add_fit_param(name='n',val_range=[1,2],length=20)"
   ]
  },
  {
   "cell_type": "markdown",
   "metadata": {},
   "source": [
    "We can inspect the `param_list` object and see what kind of information is inside..."
   ]
  },
  {
   "cell_type": "code",
   "execution_count": 3,
   "metadata": {},
   "outputs": [
    {
     "data": {
      "text/plain": [
       "[{'edges': array([   10.        ,    15.84893192,    25.11886432,    39.81071706,\n",
       "            63.09573445,   100.        ,   158.48931925,   251.18864315,\n",
       "           398.10717055,   630.95734448,  1000.        ]),\n",
       "  'length': 10,\n",
       "  'min_width': 1.0471285480508996,\n",
       "  'name': 'Bp',\n",
       "  'spacing': 'log',\n",
       "  'units': 'arb.',\n",
       "  'val_range': [10, 1000],\n",
       "  'vals': array([  12.58925412,   19.95262315,   31.6227766 ,   50.11872336,\n",
       "           79.43282347,  125.89254118,  199.5262315 ,  316.22776602,\n",
       "          501.18723363,  794.32823472])},\n",
       " {'edges': array([ 1.        ,  1.16666667,  1.33333333,  1.5       ,  1.66666667,\n",
       "          1.83333333,  2.        ]),\n",
       "  'length': 6,\n",
       "  'min_width': 0.016666666666666666,\n",
       "  'name': 'n',\n",
       "  'spacing': 'linear',\n",
       "  'units': 'unitless',\n",
       "  'val_range': [1, 2],\n",
       "  'vals': array([ 1.08333333,  1.25      ,  1.41666667,  1.58333333,  1.75      ,\n",
       "          1.91666667])}]"
      ]
     },
     "execution_count": 3,
     "metadata": {},
     "output_type": "execute_result"
    }
   ],
   "source": [
    "fp.fit_params"
   ]
  },
  {
   "cell_type": "markdown",
   "metadata": {},
   "source": [
    "Note that there are both `edges` and `vals` computed - the `vals` will be the values at which computations will be done, while `edges` will be the edges of the grid, used in subdivision steps later on.\n",
    "\n",
    "Finally, we define the measurement conditions. We won't be varying light intensity here, so we only need voltage and temperature."
   ]
  },
  {
   "cell_type": "code",
   "execution_count": 39,
   "metadata": {},
   "outputs": [],
   "source": [
    "ec = ['V','T']"
   ]
  },
  {
   "cell_type": "code",
   "execution_count": 40,
   "metadata": {},
   "outputs": [],
   "source": [
    "m = bym.model(params=fp,ec=ec,output_var='J')"
   ]
  },
  {
   "cell_type": "code",
   "execution_count": 6,
   "metadata": {},
   "outputs": [
    {
     "data": {
      "text/html": [
       "<div>\n",
       "<style scoped>\n",
       "    .dataframe tbody tr th:only-of-type {\n",
       "        vertical-align: middle;\n",
       "    }\n",
       "\n",
       "    .dataframe tbody tr th {\n",
       "        vertical-align: top;\n",
       "    }\n",
       "\n",
       "    .dataframe thead th {\n",
       "        text-align: right;\n",
       "    }\n",
       "</style>\n",
       "<table border=\"1\" class=\"dataframe\">\n",
       "  <thead>\n",
       "    <tr style=\"text-align: right;\">\n",
       "      <th></th>\n",
       "      <th>Bp</th>\n",
       "      <th>Bp_min</th>\n",
       "      <th>Bp_max</th>\n",
       "      <th>n</th>\n",
       "      <th>n_min</th>\n",
       "      <th>n_max</th>\n",
       "      <th>new</th>\n",
       "      <th>prob</th>\n",
       "      <th>num_sub</th>\n",
       "    </tr>\n",
       "  </thead>\n",
       "  <tbody>\n",
       "    <tr>\n",
       "      <th>0</th>\n",
       "      <td>12.589254</td>\n",
       "      <td>10.000000</td>\n",
       "      <td>15.848932</td>\n",
       "      <td>1.083333</td>\n",
       "      <td>1.000000</td>\n",
       "      <td>1.166667</td>\n",
       "      <td>1.0</td>\n",
       "      <td>0.016667</td>\n",
       "      <td>0</td>\n",
       "    </tr>\n",
       "    <tr>\n",
       "      <th>1</th>\n",
       "      <td>12.589254</td>\n",
       "      <td>10.000000</td>\n",
       "      <td>15.848932</td>\n",
       "      <td>1.250000</td>\n",
       "      <td>1.166667</td>\n",
       "      <td>1.333333</td>\n",
       "      <td>1.0</td>\n",
       "      <td>0.016667</td>\n",
       "      <td>0</td>\n",
       "    </tr>\n",
       "    <tr>\n",
       "      <th>2</th>\n",
       "      <td>12.589254</td>\n",
       "      <td>10.000000</td>\n",
       "      <td>15.848932</td>\n",
       "      <td>1.416667</td>\n",
       "      <td>1.333333</td>\n",
       "      <td>1.500000</td>\n",
       "      <td>1.0</td>\n",
       "      <td>0.016667</td>\n",
       "      <td>0</td>\n",
       "    </tr>\n",
       "    <tr>\n",
       "      <th>3</th>\n",
       "      <td>12.589254</td>\n",
       "      <td>10.000000</td>\n",
       "      <td>15.848932</td>\n",
       "      <td>1.583333</td>\n",
       "      <td>1.500000</td>\n",
       "      <td>1.666667</td>\n",
       "      <td>1.0</td>\n",
       "      <td>0.016667</td>\n",
       "      <td>0</td>\n",
       "    </tr>\n",
       "    <tr>\n",
       "      <th>4</th>\n",
       "      <td>12.589254</td>\n",
       "      <td>10.000000</td>\n",
       "      <td>15.848932</td>\n",
       "      <td>1.750000</td>\n",
       "      <td>1.666667</td>\n",
       "      <td>1.833333</td>\n",
       "      <td>1.0</td>\n",
       "      <td>0.016667</td>\n",
       "      <td>0</td>\n",
       "    </tr>\n",
       "    <tr>\n",
       "      <th>5</th>\n",
       "      <td>12.589254</td>\n",
       "      <td>10.000000</td>\n",
       "      <td>15.848932</td>\n",
       "      <td>1.916667</td>\n",
       "      <td>1.833333</td>\n",
       "      <td>2.000000</td>\n",
       "      <td>1.0</td>\n",
       "      <td>0.016667</td>\n",
       "      <td>0</td>\n",
       "    </tr>\n",
       "    <tr>\n",
       "      <th>6</th>\n",
       "      <td>19.952623</td>\n",
       "      <td>15.848932</td>\n",
       "      <td>25.118864</td>\n",
       "      <td>1.083333</td>\n",
       "      <td>1.000000</td>\n",
       "      <td>1.166667</td>\n",
       "      <td>1.0</td>\n",
       "      <td>0.016667</td>\n",
       "      <td>0</td>\n",
       "    </tr>\n",
       "    <tr>\n",
       "      <th>7</th>\n",
       "      <td>19.952623</td>\n",
       "      <td>15.848932</td>\n",
       "      <td>25.118864</td>\n",
       "      <td>1.250000</td>\n",
       "      <td>1.166667</td>\n",
       "      <td>1.333333</td>\n",
       "      <td>1.0</td>\n",
       "      <td>0.016667</td>\n",
       "      <td>0</td>\n",
       "    </tr>\n",
       "    <tr>\n",
       "      <th>8</th>\n",
       "      <td>19.952623</td>\n",
       "      <td>15.848932</td>\n",
       "      <td>25.118864</td>\n",
       "      <td>1.416667</td>\n",
       "      <td>1.333333</td>\n",
       "      <td>1.500000</td>\n",
       "      <td>1.0</td>\n",
       "      <td>0.016667</td>\n",
       "      <td>0</td>\n",
       "    </tr>\n",
       "    <tr>\n",
       "      <th>9</th>\n",
       "      <td>19.952623</td>\n",
       "      <td>15.848932</td>\n",
       "      <td>25.118864</td>\n",
       "      <td>1.583333</td>\n",
       "      <td>1.500000</td>\n",
       "      <td>1.666667</td>\n",
       "      <td>1.0</td>\n",
       "      <td>0.016667</td>\n",
       "      <td>0</td>\n",
       "    </tr>\n",
       "    <tr>\n",
       "      <th>10</th>\n",
       "      <td>19.952623</td>\n",
       "      <td>15.848932</td>\n",
       "      <td>25.118864</td>\n",
       "      <td>1.750000</td>\n",
       "      <td>1.666667</td>\n",
       "      <td>1.833333</td>\n",
       "      <td>1.0</td>\n",
       "      <td>0.016667</td>\n",
       "      <td>0</td>\n",
       "    </tr>\n",
       "  </tbody>\n",
       "</table>\n",
       "</div>"
      ],
      "text/plain": [
       "           Bp     Bp_min     Bp_max         n     n_min     n_max  new  \\\n",
       "0   12.589254  10.000000  15.848932  1.083333  1.000000  1.166667  1.0   \n",
       "1   12.589254  10.000000  15.848932  1.250000  1.166667  1.333333  1.0   \n",
       "2   12.589254  10.000000  15.848932  1.416667  1.333333  1.500000  1.0   \n",
       "3   12.589254  10.000000  15.848932  1.583333  1.500000  1.666667  1.0   \n",
       "4   12.589254  10.000000  15.848932  1.750000  1.666667  1.833333  1.0   \n",
       "5   12.589254  10.000000  15.848932  1.916667  1.833333  2.000000  1.0   \n",
       "6   19.952623  15.848932  25.118864  1.083333  1.000000  1.166667  1.0   \n",
       "7   19.952623  15.848932  25.118864  1.250000  1.166667  1.333333  1.0   \n",
       "8   19.952623  15.848932  25.118864  1.416667  1.333333  1.500000  1.0   \n",
       "9   19.952623  15.848932  25.118864  1.583333  1.500000  1.666667  1.0   \n",
       "10  19.952623  15.848932  25.118864  1.750000  1.666667  1.833333  1.0   \n",
       "\n",
       "        prob  num_sub  \n",
       "0   0.016667        0  \n",
       "1   0.016667        0  \n",
       "2   0.016667        0  \n",
       "3   0.016667        0  \n",
       "4   0.016667        0  \n",
       "5   0.016667        0  \n",
       "6   0.016667        0  \n",
       "7   0.016667        0  \n",
       "8   0.016667        0  \n",
       "9   0.016667        0  \n",
       "10  0.016667        0  "
      ]
     },
     "execution_count": 6,
     "metadata": {},
     "output_type": "execute_result"
    }
   ],
   "source": [
    "m.probs.points.head(11)"
   ]
  },
  {
   "cell_type": "markdown",
   "metadata": {},
   "source": [
    "## Attach experimental data\n",
    "This is the next step that needs to be done before adding the model as it will use the experimental conditions we enumerate here to compute simulated outputs. For our \"experimental\" data here, we'll actually just simulate some ideal diodes so that we can directly see how good the Bayesian approach is at recovering true underlying parameters.\n",
    "\n",
    "We'll use $n=1.36$ and $B'=258$ as our \"true\" parameters. (I have no idea what \"realistic\" values for $B'$ would be...)"
   ]
  },
  {
   "cell_type": "code",
   "execution_count": 41,
   "metadata": {},
   "outputs": [],
   "source": [
    "def compute_ID(ec,params):\n",
    "    J_L = -0.03 # treat as fixed for now\n",
    "    V = ec['V']\n",
    "    T = ec['T']\n",
    "    V_th = 8.61733e-5 * T # thermal voltage, kT/q\n",
    "    n = params['n']\n",
    "    Bp = params['Bp']\n",
    "    J0 = Bp*T**(3/n)*math.exp(-1.2/V_th/n)\n",
    "    return J_L + J0*(math.exp(V/V_th/n)-1)\n",
    "\n",
    "V = np.arange(0,1.0,0.01)\n",
    "T = [float(t) for t in np.arange(150,301,50)]\n",
    "params = {'n':1.36,'Bp':258}\n",
    "\n",
    "data = []\n",
    "for t in T:\n",
    "    J0 = compute_ID({'V':V[0],'T':t},params)\n",
    "    for v in V:\n",
    "        J = compute_ID({'V':v,'T':t},params)\n",
    "        if abs(J)>0.05:\n",
    "            err = 0.01*abs(J)\n",
    "        else:\n",
    "            err = 0.005\n",
    "        # check for \"compliance\"\n",
    "        if not J > 1.0:\n",
    "            data.append([v,t,J,err])\n",
    "        \n",
    "data = pd.DataFrame.from_records(data=data,columns=['V','T','J','error'])\n",
    "dd.io.save('obs_data.h5',data)"
   ]
  },
  {
   "cell_type": "code",
   "execution_count": 42,
   "metadata": {},
   "outputs": [],
   "source": [
    "m.attach_observations(fpath='obs_data.h5',ec_x_var='V',max_ec_x_step=0.2)\n",
    "#m.attach_observations(fpath='obs_data.h5',fixed_error=0.01,ec_x_var='V',max_ec_x_step=0.075)\n",
    "#m.attach_observations(fpath='obs_data.h5',fixed_error=0.01,ec_x_var='V',keep_all=True)"
   ]
  },
  {
   "cell_type": "code",
   "execution_count": 9,
   "metadata": {
    "scrolled": false
   },
   "outputs": [
    {
     "data": {
      "image/png": "[encoded data removed]",
      "text/plain": [
       "<matplotlib.figure.Figure at 0x11c5d6ad0>"
      ]
     },
     "metadata": {},
     "output_type": "display_data"
    }
   ],
   "source": [
    "import matplotlib.pyplot as plt\n",
    "%matplotlib inline\n",
    "leg = []\n",
    "for i in range(len(T)):\n",
    "    curve = data[data['T']==T[i]]\n",
    "    plt.plot(curve['V'],curve['J'])\n",
    "    leg.append(curve['T'].iloc[0])\n",
    "#plt.ylim([-0.05,0.1])\n",
    "plt.legend([str(t) for t in leg])\n",
    "plt.xlabel('Voltage [V]')\n",
    "plt.ylabel('Current')\n",
    "plt.show()"
   ]
  },
  {
   "cell_type": "markdown",
   "metadata": {},
   "source": [
    "## Attach model\n",
    "Now we add the function that gives the modeled data - in this case, the `compute_ID` function we just defined above."
   ]
  },
  {
   "cell_type": "code",
   "execution_count": 43,
   "metadata": {},
   "outputs": [],
   "source": [
    "m.attach_model(mode='function',func_name=compute_ID)\n",
    "#m.attach_model(mode='file',fpath='model_data.h5')"
   ]
  },
  {
   "cell_type": "markdown",
   "metadata": {},
   "source": [
    "That's it! When that function is called, `bayesim` also generates the full table of modeled data at all experimental conditions in the observed data we attached before. Check it out:"
   ]
  },
  {
   "cell_type": "code",
   "execution_count": 44,
   "metadata": {},
   "outputs": [],
   "source": [
    "m.calc_model_gradients()"
   ]
  },
  {
   "cell_type": "markdown",
   "metadata": {},
   "source": [
    "## Drop that Bayes!\n",
    "### First Bayes\n",
    "Let's run the first round. We'll use the default parameters which means it will run three times using randomly chosen observations (without replacement) until 80% of the probability is in 5% of the boxes. Then it will average the PMF's from those three runs to create the result."
   ]
  },
  {
   "cell_type": "code",
   "execution_count": 45,
   "metadata": {
    "scrolled": true
   },
   "outputs": [
    {
     "name": "stdout",
     "output_type": "stream",
     "text": [
      "Did a total of 8 runs to use a total of 51 observations.\n"
     ]
    }
   ],
   "source": [
    "m.run()"
   ]
  },
  {
   "cell_type": "markdown",
   "metadata": {},
   "source": [
    "We can visualize the distribution and add markers for the real values to compare..."
   ]
  },
  {
   "cell_type": "code",
   "execution_count": 46,
   "metadata": {},
   "outputs": [
    {
     "name": "stdout",
     "output_type": "stream",
     "text": [
      "setup finished in 0.35 seconds\n",
      "project_1D took 0.19 seconds\n",
      "diagonal plot finished in 0.24 seconds\n",
      "project_2D took 0.12 seconds\n",
      "off-diagonal plot finished in 0.22 seconds\n",
      "project_1D took 0.41 seconds\n",
      "diagonal plot finished in 0.49 seconds\n"
     ]
    },
    {
     "data": {
      "image/png": "[encoded data removed]",
      "text/plain": [
       "<matplotlib.figure.Figure at 0x11f9f0350>"
      ]
     },
     "metadata": {},
     "output_type": "display_data"
    }
   ],
   "source": [
    "m.visualize_probs(true_vals=params)"
   ]
  },
  {
   "cell_type": "code",
   "execution_count": 14,
   "metadata": {},
   "outputs": [
    {
     "data": {
      "image/png": "[encoded data removed]",
      "text/plain": [
       "<matplotlib.figure.Figure at 0x11f484290>"
      ]
     },
     "metadata": {},
     "output_type": "display_data"
    }
   ],
   "source": [
    "m.comparison_plot(ecs=[{'T':t} for t in list(set(list(m.ec_pts['T'])))])"
   ]
  },
  {
   "cell_type": "markdown",
   "metadata": {},
   "source": [
    "Not too bad. We can also look at the probabilities directly."
   ]
  },
  {
   "cell_type": "code",
   "execution_count": 47,
   "metadata": {},
   "outputs": [
    {
     "data": {
      "text/html": [
       "<div>\n",
       "<style scoped>\n",
       "    .dataframe tbody tr th:only-of-type {\n",
       "        vertical-align: middle;\n",
       "    }\n",
       "\n",
       "    .dataframe tbody tr th {\n",
       "        vertical-align: top;\n",
       "    }\n",
       "\n",
       "    .dataframe thead th {\n",
       "        text-align: right;\n",
       "    }\n",
       "</style>\n",
       "<table border=\"1\" class=\"dataframe\">\n",
       "  <thead>\n",
       "    <tr style=\"text-align: right;\">\n",
       "      <th></th>\n",
       "      <th>Bp</th>\n",
       "      <th>Bp_min</th>\n",
       "      <th>Bp_max</th>\n",
       "      <th>n</th>\n",
       "      <th>n_min</th>\n",
       "      <th>n_max</th>\n",
       "      <th>new</th>\n",
       "      <th>prob</th>\n",
       "      <th>num_sub</th>\n",
       "      <th>start_ind</th>\n",
       "      <th>end_ind</th>\n",
       "    </tr>\n",
       "  </thead>\n",
       "  <tbody>\n",
       "    <tr>\n",
       "      <th>248</th>\n",
       "      <td>177.827941</td>\n",
       "      <td>158.489319</td>\n",
       "      <td>199.526231</td>\n",
       "      <td>1.425</td>\n",
       "      <td>1.40</td>\n",
       "      <td>1.45</td>\n",
       "      <td>1.0</td>\n",
       "      <td>0.087577</td>\n",
       "      <td>0</td>\n",
       "      <td>14384</td>\n",
       "      <td>14441</td>\n",
       "    </tr>\n",
       "    <tr>\n",
       "      <th>229</th>\n",
       "      <td>141.253754</td>\n",
       "      <td>125.892541</td>\n",
       "      <td>158.489319</td>\n",
       "      <td>1.475</td>\n",
       "      <td>1.45</td>\n",
       "      <td>1.50</td>\n",
       "      <td>1.0</td>\n",
       "      <td>0.083534</td>\n",
       "      <td>0</td>\n",
       "      <td>13282</td>\n",
       "      <td>13339</td>\n",
       "    </tr>\n",
       "    <tr>\n",
       "      <th>267</th>\n",
       "      <td>223.872114</td>\n",
       "      <td>199.526231</td>\n",
       "      <td>251.188643</td>\n",
       "      <td>1.375</td>\n",
       "      <td>1.35</td>\n",
       "      <td>1.40</td>\n",
       "      <td>1.0</td>\n",
       "      <td>0.080593</td>\n",
       "      <td>0</td>\n",
       "      <td>15486</td>\n",
       "      <td>15543</td>\n",
       "    </tr>\n",
       "    <tr>\n",
       "      <th>210</th>\n",
       "      <td>112.201845</td>\n",
       "      <td>100.000000</td>\n",
       "      <td>125.892541</td>\n",
       "      <td>1.525</td>\n",
       "      <td>1.50</td>\n",
       "      <td>1.55</td>\n",
       "      <td>1.0</td>\n",
       "      <td>0.070631</td>\n",
       "      <td>0</td>\n",
       "      <td>12180</td>\n",
       "      <td>12237</td>\n",
       "    </tr>\n",
       "    <tr>\n",
       "      <th>286</th>\n",
       "      <td>281.838293</td>\n",
       "      <td>251.188643</td>\n",
       "      <td>316.227766</td>\n",
       "      <td>1.325</td>\n",
       "      <td>1.30</td>\n",
       "      <td>1.35</td>\n",
       "      <td>1.0</td>\n",
       "      <td>0.063255</td>\n",
       "      <td>0</td>\n",
       "      <td>16588</td>\n",
       "      <td>16645</td>\n",
       "    </tr>\n",
       "    <tr>\n",
       "      <th>191</th>\n",
       "      <td>89.125094</td>\n",
       "      <td>79.432823</td>\n",
       "      <td>100.000000</td>\n",
       "      <td>1.575</td>\n",
       "      <td>1.55</td>\n",
       "      <td>1.60</td>\n",
       "      <td>1.0</td>\n",
       "      <td>0.052092</td>\n",
       "      <td>0</td>\n",
       "      <td>11078</td>\n",
       "      <td>11135</td>\n",
       "    </tr>\n",
       "    <tr>\n",
       "      <th>305</th>\n",
       "      <td>354.813389</td>\n",
       "      <td>316.227766</td>\n",
       "      <td>398.107171</td>\n",
       "      <td>1.275</td>\n",
       "      <td>1.25</td>\n",
       "      <td>1.30</td>\n",
       "      <td>1.0</td>\n",
       "      <td>0.038717</td>\n",
       "      <td>0</td>\n",
       "      <td>17690</td>\n",
       "      <td>17747</td>\n",
       "    </tr>\n",
       "    <tr>\n",
       "      <th>172</th>\n",
       "      <td>70.794578</td>\n",
       "      <td>63.095734</td>\n",
       "      <td>79.432823</td>\n",
       "      <td>1.625</td>\n",
       "      <td>1.60</td>\n",
       "      <td>1.65</td>\n",
       "      <td>1.0</td>\n",
       "      <td>0.033039</td>\n",
       "      <td>0</td>\n",
       "      <td>9976</td>\n",
       "      <td>10033</td>\n",
       "    </tr>\n",
       "    <tr>\n",
       "      <th>325</th>\n",
       "      <td>446.683592</td>\n",
       "      <td>398.107171</td>\n",
       "      <td>501.187234</td>\n",
       "      <td>1.275</td>\n",
       "      <td>1.25</td>\n",
       "      <td>1.30</td>\n",
       "      <td>1.0</td>\n",
       "      <td>0.024758</td>\n",
       "      <td>0</td>\n",
       "      <td>18850</td>\n",
       "      <td>18907</td>\n",
       "    </tr>\n",
       "    <tr>\n",
       "      <th>344</th>\n",
       "      <td>562.341325</td>\n",
       "      <td>501.187234</td>\n",
       "      <td>630.957344</td>\n",
       "      <td>1.225</td>\n",
       "      <td>1.20</td>\n",
       "      <td>1.25</td>\n",
       "      <td>1.0</td>\n",
       "      <td>0.022002</td>\n",
       "      <td>0</td>\n",
       "      <td>19952</td>\n",
       "      <td>20009</td>\n",
       "    </tr>\n",
       "  </tbody>\n",
       "</table>\n",
       "</div>"
      ],
      "text/plain": [
       "             Bp      Bp_min      Bp_max      n  n_min  n_max  new      prob  \\\n",
       "248  177.827941  158.489319  199.526231  1.425   1.40   1.45  1.0  0.087577   \n",
       "229  141.253754  125.892541  158.489319  1.475   1.45   1.50  1.0  0.083534   \n",
       "267  223.872114  199.526231  251.188643  1.375   1.35   1.40  1.0  0.080593   \n",
       "210  112.201845  100.000000  125.892541  1.525   1.50   1.55  1.0  0.070631   \n",
       "286  281.838293  251.188643  316.227766  1.325   1.30   1.35  1.0  0.063255   \n",
       "191   89.125094   79.432823  100.000000  1.575   1.55   1.60  1.0  0.052092   \n",
       "305  354.813389  316.227766  398.107171  1.275   1.25   1.30  1.0  0.038717   \n",
       "172   70.794578   63.095734   79.432823  1.625   1.60   1.65  1.0  0.033039   \n",
       "325  446.683592  398.107171  501.187234  1.275   1.25   1.30  1.0  0.024758   \n",
       "344  562.341325  501.187234  630.957344  1.225   1.20   1.25  1.0  0.022002   \n",
       "\n",
       "     num_sub  start_ind  end_ind  \n",
       "248        0      14384    14441  \n",
       "229        0      13282    13339  \n",
       "267        0      15486    15543  \n",
       "210        0      12180    12237  \n",
       "286        0      16588    16645  \n",
       "191        0      11078    11135  \n",
       "305        0      17690    17747  \n",
       "172        0       9976    10033  \n",
       "325        0      18850    18907  \n",
       "344        0      19952    20009  "
      ]
     },
     "execution_count": 47,
     "metadata": {},
     "output_type": "execute_result"
    }
   ],
   "source": [
    "m.probs.most_probable(10)"
   ]
  },
  {
   "cell_type": "markdown",
   "metadata": {},
   "source": [
    "### Let's subdivide!\n",
    "Again we'll use the default options, which will subdivide all grid boxes with probability > 0.001 as well as any immediately adjacent boxes."
   ]
  },
  {
   "cell_type": "code",
   "execution_count": 48,
   "metadata": {},
   "outputs": [
    {
     "name": "stdout",
     "output_type": "stream",
     "text": [
      "59 box(es) with probability > 0.001 and 39 neighboring boxes subdivided!\n",
      "New model points to simulate are saved in the file new_sim_points_1.h5.\n"
     ]
    }
   ],
   "source": [
    "m.subdivide()"
   ]
  },
  {
   "cell_type": "markdown",
   "metadata": {},
   "source": [
    "Let's take a look at the grid."
   ]
  },
  {
   "cell_type": "code",
   "execution_count": 49,
   "metadata": {},
   "outputs": [
    {
     "name": "stdout",
     "output_type": "stream",
     "text": [
      "setup finished in 0.3 seconds\n",
      "project_2D took 0.32 seconds\n",
      "off-diagonal plot finished in 0.9 seconds\n"
     ]
    },
    {
     "data": {
      "image/png": "[encoded data removed]",
      "text/plain": [
       "<matplotlib.figure.Figure at 0x11f76dc10>"
      ]
     },
     "metadata": {},
     "output_type": "display_data"
    }
   ],
   "source": [
    "m.visualize_grid(true_vals=params)"
   ]
  },
  {
   "cell_type": "markdown",
   "metadata": {},
   "source": [
    "### Compute and attach new model data\n",
    "We've added new model points to the grid so we have to compute the modeled values and attach that data."
   ]
  },
  {
   "cell_type": "code",
   "execution_count": 52,
   "metadata": {},
   "outputs": [],
   "source": [
    "new_sims = dd.io.load('new_sim_points_1.h5')"
   ]
  },
  {
   "cell_type": "code",
   "execution_count": 53,
   "metadata": {},
   "outputs": [],
   "source": [
    "data = []\n",
    "for sim in new_sims.iterrows():\n",
    "    v = sim[1]['V']\n",
    "    t = sim[1]['T']\n",
    "    this_pt = [v,t,compute_ID({'V':v,'T':t},sim[1])]\n",
    "    this_pt.extend([sim[1][n] for n in m.param_names])\n",
    "    data.append(this_pt)\n",
    "columns = ['V','T','J']\n",
    "columns.extend(m.param_names)\n",
    "new_sim_data = pd.DataFrame.from_records(data=data,columns=columns)\n",
    "dd.io.save('new_sim_data_1.h5',new_sim_data)"
   ]
  },
  {
   "cell_type": "code",
   "execution_count": 54,
   "metadata": {},
   "outputs": [],
   "source": [
    "m.attach_model(mode='add',fpath='new_sim_data_1.h5')"
   ]
  },
  {
   "cell_type": "code",
   "execution_count": 55,
   "metadata": {},
   "outputs": [],
   "source": [
    "m.calc_model_gradients()"
   ]
  },
  {
   "cell_type": "code",
   "execution_count": 56,
   "metadata": {},
   "outputs": [
    {
     "data": {
      "text/html": [
       "<div>\n",
       "<style scoped>\n",
       "    .dataframe tbody tr th:only-of-type {\n",
       "        vertical-align: middle;\n",
       "    }\n",
       "\n",
       "    .dataframe tbody tr th {\n",
       "        vertical-align: top;\n",
       "    }\n",
       "\n",
       "    .dataframe thead th {\n",
       "        text-align: right;\n",
       "    }\n",
       "</style>\n",
       "<table border=\"1\" class=\"dataframe\">\n",
       "  <thead>\n",
       "    <tr style=\"text-align: right;\">\n",
       "      <th></th>\n",
       "      <th>Bp</th>\n",
       "      <th>J</th>\n",
       "      <th>T</th>\n",
       "      <th>V</th>\n",
       "      <th>deltas</th>\n",
       "      <th>error</th>\n",
       "      <th>n</th>\n",
       "    </tr>\n",
       "  </thead>\n",
       "  <tbody>\n",
       "    <tr>\n",
       "      <th>0</th>\n",
       "      <td>11.220185</td>\n",
       "      <td>-0.030000</td>\n",
       "      <td>150.0</td>\n",
       "      <td>0.00</td>\n",
       "      <td>0.000000e+00</td>\n",
       "      <td>0.000000e+00</td>\n",
       "      <td>1.025</td>\n",
       "    </tr>\n",
       "    <tr>\n",
       "      <th>1</th>\n",
       "      <td>11.220185</td>\n",
       "      <td>-0.030000</td>\n",
       "      <td>150.0</td>\n",
       "      <td>0.20</td>\n",
       "      <td>0.000000e+00</td>\n",
       "      <td>0.000000e+00</td>\n",
       "      <td>1.025</td>\n",
       "    </tr>\n",
       "    <tr>\n",
       "      <th>2</th>\n",
       "      <td>11.220185</td>\n",
       "      <td>-0.030000</td>\n",
       "      <td>150.0</td>\n",
       "      <td>0.40</td>\n",
       "      <td>0.000000e+00</td>\n",
       "      <td>0.000000e+00</td>\n",
       "      <td>1.025</td>\n",
       "    </tr>\n",
       "    <tr>\n",
       "      <th>3</th>\n",
       "      <td>11.220185</td>\n",
       "      <td>-0.030000</td>\n",
       "      <td>150.0</td>\n",
       "      <td>0.61</td>\n",
       "      <td>3.615393e-12</td>\n",
       "      <td>3.615393e-12</td>\n",
       "      <td>1.025</td>\n",
       "    </tr>\n",
       "    <tr>\n",
       "      <th>4</th>\n",
       "      <td>11.220185</td>\n",
       "      <td>-0.029996</td>\n",
       "      <td>150.0</td>\n",
       "      <td>0.81</td>\n",
       "      <td>4.264448e-06</td>\n",
       "      <td>4.264448e-06</td>\n",
       "      <td>1.025</td>\n",
       "    </tr>\n",
       "  </tbody>\n",
       "</table>\n",
       "</div>"
      ],
      "text/plain": [
       "          Bp         J      T     V        deltas         error      n\n",
       "0  11.220185 -0.030000  150.0  0.00  0.000000e+00  0.000000e+00  1.025\n",
       "1  11.220185 -0.030000  150.0  0.20  0.000000e+00  0.000000e+00  1.025\n",
       "2  11.220185 -0.030000  150.0  0.40  0.000000e+00  0.000000e+00  1.025\n",
       "3  11.220185 -0.030000  150.0  0.61  3.615393e-12  3.615393e-12  1.025\n",
       "4  11.220185 -0.029996  150.0  0.81  4.264448e-06  4.264448e-06  1.025"
      ]
     },
     "execution_count": 56,
     "metadata": {},
     "output_type": "execute_result"
    }
   ],
   "source": [
    "m.model_data.head()"
   ]
  },
  {
   "cell_type": "markdown",
   "metadata": {},
   "source": [
    "### Second Bayes!\n",
    "Let's do it again!"
   ]
  },
  {
   "cell_type": "code",
   "execution_count": 23,
   "metadata": {},
   "outputs": [
    {
     "name": "stdout",
     "output_type": "stream",
     "text": [
      "Did a total of 23 runs to use a total of 50 observations.\n"
     ]
    }
   ],
   "source": [
    "m.run()"
   ]
  },
  {
   "cell_type": "code",
   "execution_count": 24,
   "metadata": {},
   "outputs": [
    {
     "name": "stdout",
     "output_type": "stream",
     "text": [
      "setup finished in 0.75 seconds\n",
      "project_1D took 0.08 seconds\n",
      "diagonal plot finished in 0.11 seconds\n",
      "project_2D took 0.03 seconds\n",
      "off-diagonal plot finished in 0.08 seconds\n",
      "project_1D took 0.1 seconds\n",
      "diagonal plot finished in 0.13 seconds\n"
     ]
    },
    {
     "data": {
      "image/png": "[encoded data removed]",
      "text/plain": [
       "<matplotlib.figure.Figure at 0x11fdf80d0>"
      ]
     },
     "metadata": {},
     "output_type": "display_data"
    }
   ],
   "source": [
    "m.visualize_probs(true_vals=params)"
   ]
  },
  {
   "cell_type": "code",
   "execution_count": 25,
   "metadata": {},
   "outputs": [
    {
     "data": {
      "text/html": [
       "<div>\n",
       "<style scoped>\n",
       "    .dataframe tbody tr th:only-of-type {\n",
       "        vertical-align: middle;\n",
       "    }\n",
       "\n",
       "    .dataframe tbody tr th {\n",
       "        vertical-align: top;\n",
       "    }\n",
       "\n",
       "    .dataframe thead th {\n",
       "        text-align: right;\n",
       "    }\n",
       "</style>\n",
       "<table border=\"1\" class=\"dataframe\">\n",
       "  <thead>\n",
       "    <tr style=\"text-align: right;\">\n",
       "      <th></th>\n",
       "      <th>Bp</th>\n",
       "      <th>Bp_max</th>\n",
       "      <th>Bp_min</th>\n",
       "      <th>end_ind</th>\n",
       "      <th>n</th>\n",
       "      <th>n_max</th>\n",
       "      <th>n_min</th>\n",
       "      <th>new</th>\n",
       "      <th>num_sub</th>\n",
       "      <th>prob</th>\n",
       "      <th>start_ind</th>\n",
       "    </tr>\n",
       "  </thead>\n",
       "  <tbody>\n",
       "    <tr>\n",
       "      <th>91</th>\n",
       "      <td>177.827941</td>\n",
       "      <td>199.526231</td>\n",
       "      <td>158.489319</td>\n",
       "      <td>6089</td>\n",
       "      <td>1.125000</td>\n",
       "      <td>1.166667</td>\n",
       "      <td>1.083333</td>\n",
       "      <td>1.0</td>\n",
       "      <td>1</td>\n",
       "      <td>0.263623</td>\n",
       "      <td>6032</td>\n",
       "    </tr>\n",
       "    <tr>\n",
       "      <th>128</th>\n",
       "      <td>501.187234</td>\n",
       "      <td>630.957344</td>\n",
       "      <td>398.107171</td>\n",
       "      <td>1449</td>\n",
       "      <td>1.583333</td>\n",
       "      <td>1.666667</td>\n",
       "      <td>1.500000</td>\n",
       "      <td>0.0</td>\n",
       "      <td>0</td>\n",
       "      <td>0.139475</td>\n",
       "      <td>1392</td>\n",
       "    </tr>\n",
       "    <tr>\n",
       "      <th>108</th>\n",
       "      <td>281.838293</td>\n",
       "      <td>316.227766</td>\n",
       "      <td>251.188643</td>\n",
       "      <td>6959</td>\n",
       "      <td>1.041667</td>\n",
       "      <td>1.083333</td>\n",
       "      <td>1.000000</td>\n",
       "      <td>1.0</td>\n",
       "      <td>1</td>\n",
       "      <td>0.070412</td>\n",
       "      <td>6902</td>\n",
       "    </tr>\n",
       "    <tr>\n",
       "      <th>137</th>\n",
       "      <td>707.945784</td>\n",
       "      <td>794.328235</td>\n",
       "      <td>630.957344</td>\n",
       "      <td>8235</td>\n",
       "      <td>1.208333</td>\n",
       "      <td>1.250000</td>\n",
       "      <td>1.166667</td>\n",
       "      <td>1.0</td>\n",
       "      <td>1</td>\n",
       "      <td>0.062102</td>\n",
       "      <td>8178</td>\n",
       "    </tr>\n",
       "    <tr>\n",
       "      <th>84</th>\n",
       "      <td>141.253754</td>\n",
       "      <td>158.489319</td>\n",
       "      <td>125.892541</td>\n",
       "      <td>5683</td>\n",
       "      <td>1.375000</td>\n",
       "      <td>1.416667</td>\n",
       "      <td>1.333333</td>\n",
       "      <td>1.0</td>\n",
       "      <td>1</td>\n",
       "      <td>0.052549</td>\n",
       "      <td>5626</td>\n",
       "    </tr>\n",
       "    <tr>\n",
       "      <th>141</th>\n",
       "      <td>794.328235</td>\n",
       "      <td>1000.000000</td>\n",
       "      <td>630.957344</td>\n",
       "      <td>1739</td>\n",
       "      <td>1.750000</td>\n",
       "      <td>1.833333</td>\n",
       "      <td>1.666667</td>\n",
       "      <td>0.0</td>\n",
       "      <td>0</td>\n",
       "      <td>0.046472</td>\n",
       "      <td>1682</td>\n",
       "    </tr>\n",
       "    <tr>\n",
       "      <th>77</th>\n",
       "      <td>112.201845</td>\n",
       "      <td>125.892541</td>\n",
       "      <td>100.000000</td>\n",
       "      <td>5393</td>\n",
       "      <td>1.625000</td>\n",
       "      <td>1.666667</td>\n",
       "      <td>1.583333</td>\n",
       "      <td>1.0</td>\n",
       "      <td>1</td>\n",
       "      <td>0.043903</td>\n",
       "      <td>5336</td>\n",
       "    </tr>\n",
       "    <tr>\n",
       "      <th>68</th>\n",
       "      <td>89.125094</td>\n",
       "      <td>100.000000</td>\n",
       "      <td>79.432823</td>\n",
       "      <td>4871</td>\n",
       "      <td>1.541667</td>\n",
       "      <td>1.583333</td>\n",
       "      <td>1.500000</td>\n",
       "      <td>1.0</td>\n",
       "      <td>1</td>\n",
       "      <td>0.032888</td>\n",
       "      <td>4814</td>\n",
       "    </tr>\n",
       "    <tr>\n",
       "      <th>54</th>\n",
       "      <td>70.794578</td>\n",
       "      <td>79.432823</td>\n",
       "      <td>63.095734</td>\n",
       "      <td>4175</td>\n",
       "      <td>1.208333</td>\n",
       "      <td>1.250000</td>\n",
       "      <td>1.166667</td>\n",
       "      <td>1.0</td>\n",
       "      <td>1</td>\n",
       "      <td>0.026645</td>\n",
       "      <td>4118</td>\n",
       "    </tr>\n",
       "    <tr>\n",
       "      <th>61</th>\n",
       "      <td>70.794578</td>\n",
       "      <td>79.432823</td>\n",
       "      <td>63.095734</td>\n",
       "      <td>4581</td>\n",
       "      <td>1.791667</td>\n",
       "      <td>1.833333</td>\n",
       "      <td>1.750000</td>\n",
       "      <td>1.0</td>\n",
       "      <td>1</td>\n",
       "      <td>0.023470</td>\n",
       "      <td>4524</td>\n",
       "    </tr>\n",
       "  </tbody>\n",
       "</table>\n",
       "</div>"
      ],
      "text/plain": [
       "             Bp       Bp_max      Bp_min  end_ind         n     n_max  \\\n",
       "91   177.827941   199.526231  158.489319     6089  1.125000  1.166667   \n",
       "128  501.187234   630.957344  398.107171     1449  1.583333  1.666667   \n",
       "108  281.838293   316.227766  251.188643     6959  1.041667  1.083333   \n",
       "137  707.945784   794.328235  630.957344     8235  1.208333  1.250000   \n",
       "84   141.253754   158.489319  125.892541     5683  1.375000  1.416667   \n",
       "141  794.328235  1000.000000  630.957344     1739  1.750000  1.833333   \n",
       "77   112.201845   125.892541  100.000000     5393  1.625000  1.666667   \n",
       "68    89.125094   100.000000   79.432823     4871  1.541667  1.583333   \n",
       "54    70.794578    79.432823   63.095734     4175  1.208333  1.250000   \n",
       "61    70.794578    79.432823   63.095734     4581  1.791667  1.833333   \n",
       "\n",
       "        n_min  new  num_sub      prob  start_ind  \n",
       "91   1.083333  1.0        1  0.263623       6032  \n",
       "128  1.500000  0.0        0  0.139475       1392  \n",
       "108  1.000000  1.0        1  0.070412       6902  \n",
       "137  1.166667  1.0        1  0.062102       8178  \n",
       "84   1.333333  1.0        1  0.052549       5626  \n",
       "141  1.666667  0.0        0  0.046472       1682  \n",
       "77   1.583333  1.0        1  0.043903       5336  \n",
       "68   1.500000  1.0        1  0.032888       4814  \n",
       "54   1.166667  1.0        1  0.026645       4118  \n",
       "61   1.750000  1.0        1  0.023470       4524  "
      ]
     },
     "execution_count": 25,
     "metadata": {},
     "output_type": "execute_result"
    }
   ],
   "source": [
    "m.probs.most_probable(10)"
   ]
  },
  {
   "cell_type": "code",
   "execution_count": 26,
   "metadata": {},
   "outputs": [
    {
     "data": {
      "image/png": "[encoded data removed]",
      "text/plain": [
       "<matplotlib.figure.Figure at 0x11f152a10>"
      ]
     },
     "metadata": {},
     "output_type": "display_data"
    }
   ],
   "source": [
    "m.comparison_plot(num_param_pts=3)"
   ]
  },
  {
   "cell_type": "code",
   "execution_count": 27,
   "metadata": {},
   "outputs": [
    {
     "name": "stdout",
     "output_type": "stream",
     "text": [
      "41 box(es) with probability > 0.001 and 70 neighboring boxes subdivided!\n",
      "New model points to simulate are saved in the file new_sim_points_2.h5.\n"
     ]
    }
   ],
   "source": [
    "m.subdivide()"
   ]
  },
  {
   "cell_type": "code",
   "execution_count": 28,
   "metadata": {},
   "outputs": [
    {
     "name": "stdout",
     "output_type": "stream",
     "text": [
      "setup finished in 0.28 seconds\n",
      "project_2D took 0.11 seconds\n",
      "off-diagonal plot finished in 0.5 seconds\n"
     ]
    },
    {
     "data": {
      "image/png": "[encoded data removed]",
      "text/plain": [
       "<matplotlib.figure.Figure at 0x11f9d4150>"
      ]
     },
     "metadata": {},
     "output_type": "display_data"
    }
   ],
   "source": [
    "m.visualize_grid(true_vals=params)"
   ]
  },
  {
   "cell_type": "code",
   "execution_count": 29,
   "metadata": {},
   "outputs": [],
   "source": [
    "new_sims = dd.io.load('new_sim_points_2.h5')\n",
    "data = []\n",
    "for sim in new_sims.iterrows():\n",
    "    v = sim[1]['V']\n",
    "    t = sim[1]['T']\n",
    "    this_pt = [v,t,compute_ID({'V':v,'T':t},sim[1])]\n",
    "    this_pt.extend([sim[1][n] for n in m.param_names])\n",
    "    data.append(this_pt)\n",
    "columns = ['V','T','J']\n",
    "columns.extend(m.param_names)\n",
    "new_sim_data = pd.DataFrame.from_records(data=data,columns=columns)\n",
    "dd.io.save('new_sim_data_2.h5',new_sim_data)\n",
    "m.attach_model(mode='add',fpath='new_sim_data_2.h5')\n",
    "m.calc_model_gradients()"
   ]
  },
  {
   "cell_type": "code",
   "execution_count": 30,
   "metadata": {},
   "outputs": [
    {
     "name": "stdout",
     "output_type": "stream",
     "text": [
      "Did a total of 25 runs to use a total of 50 observations.\n"
     ]
    }
   ],
   "source": [
    "m.run()"
   ]
  },
  {
   "cell_type": "code",
   "execution_count": 31,
   "metadata": {},
   "outputs": [
    {
     "name": "stdout",
     "output_type": "stream",
     "text": [
      "setup finished in 0.33 seconds\n",
      "project_1D took 0.22 seconds\n",
      "diagonal plot finished in 0.32 seconds\n",
      "project_2D took 0.12 seconds\n",
      "off-diagonal plot finished in 0.22 seconds\n",
      "project_1D took 0.35 seconds\n",
      "diagonal plot finished in 0.38 seconds\n"
     ]
    },
    {
     "data": {
      "image/png": "[encoded data removed]",
      "text/plain": [
       "<matplotlib.figure.Figure at 0x11f6fd5d0>"
      ]
     },
     "metadata": {},
     "output_type": "display_data"
    }
   ],
   "source": [
    "m.visualize_probs(true_vals=params)"
   ]
  },
  {
   "cell_type": "code",
   "execution_count": 32,
   "metadata": {},
   "outputs": [
    {
     "data": {
      "text/plain": [
       "{'Bp': 258, 'n': 1.36}"
      ]
     },
     "execution_count": 32,
     "metadata": {},
     "output_type": "execute_result"
    }
   ],
   "source": [
    "params"
   ]
  },
  {
   "cell_type": "code",
   "execution_count": 33,
   "metadata": {
    "scrolled": true
   },
   "outputs": [
    {
     "data": {
      "text/html": [
       "<div>\n",
       "<style scoped>\n",
       "    .dataframe tbody tr th:only-of-type {\n",
       "        vertical-align: middle;\n",
       "    }\n",
       "\n",
       "    .dataframe tbody tr th {\n",
       "        vertical-align: top;\n",
       "    }\n",
       "\n",
       "    .dataframe thead th {\n",
       "        text-align: right;\n",
       "    }\n",
       "</style>\n",
       "<table border=\"1\" class=\"dataframe\">\n",
       "  <thead>\n",
       "    <tr style=\"text-align: right;\">\n",
       "      <th></th>\n",
       "      <th>Bp</th>\n",
       "      <th>Bp_max</th>\n",
       "      <th>Bp_min</th>\n",
       "      <th>end_ind</th>\n",
       "      <th>n</th>\n",
       "      <th>n_max</th>\n",
       "      <th>n_min</th>\n",
       "      <th>new</th>\n",
       "      <th>num_sub</th>\n",
       "      <th>prob</th>\n",
       "      <th>start_ind</th>\n",
       "    </tr>\n",
       "  </thead>\n",
       "  <tbody>\n",
       "    <tr>\n",
       "      <th>30</th>\n",
       "      <td>18.836491</td>\n",
       "      <td>19.952623</td>\n",
       "      <td>17.782794</td>\n",
       "      <td>3363</td>\n",
       "      <td>1.812500</td>\n",
       "      <td>1.833333</td>\n",
       "      <td>1.791667</td>\n",
       "      <td>1.0</td>\n",
       "      <td>2</td>\n",
       "      <td>0.130278</td>\n",
       "      <td>3306</td>\n",
       "    </tr>\n",
       "    <tr>\n",
       "      <th>327</th>\n",
       "      <td>177.827941</td>\n",
       "      <td>199.526231</td>\n",
       "      <td>158.489319</td>\n",
       "      <td>1043</td>\n",
       "      <td>1.458333</td>\n",
       "      <td>1.500000</td>\n",
       "      <td>1.416667</td>\n",
       "      <td>0.0</td>\n",
       "      <td>1</td>\n",
       "      <td>0.088688</td>\n",
       "      <td>986</td>\n",
       "    </tr>\n",
       "    <tr>\n",
       "      <th>296</th>\n",
       "      <td>133.352143</td>\n",
       "      <td>141.253754</td>\n",
       "      <td>125.892541</td>\n",
       "      <td>18443</td>\n",
       "      <td>1.812500</td>\n",
       "      <td>1.833333</td>\n",
       "      <td>1.791667</td>\n",
       "      <td>1.0</td>\n",
       "      <td>2</td>\n",
       "      <td>0.053762</td>\n",
       "      <td>18386</td>\n",
       "    </tr>\n",
       "    <tr>\n",
       "      <th>161</th>\n",
       "      <td>56.234133</td>\n",
       "      <td>63.095734</td>\n",
       "      <td>50.118723</td>\n",
       "      <td>10787</td>\n",
       "      <td>1.125000</td>\n",
       "      <td>1.166667</td>\n",
       "      <td>1.083333</td>\n",
       "      <td>1.0</td>\n",
       "      <td>1</td>\n",
       "      <td>0.048502</td>\n",
       "      <td>10730</td>\n",
       "    </tr>\n",
       "    <tr>\n",
       "      <th>17</th>\n",
       "      <td>16.788040</td>\n",
       "      <td>17.782794</td>\n",
       "      <td>15.848932</td>\n",
       "      <td>2667</td>\n",
       "      <td>1.979167</td>\n",
       "      <td>2.000000</td>\n",
       "      <td>1.958333</td>\n",
       "      <td>1.0</td>\n",
       "      <td>2</td>\n",
       "      <td>0.045929</td>\n",
       "      <td>2610</td>\n",
       "    </tr>\n",
       "  </tbody>\n",
       "</table>\n",
       "</div>"
      ],
      "text/plain": [
       "             Bp      Bp_max      Bp_min  end_ind         n     n_max  \\\n",
       "30    18.836491   19.952623   17.782794     3363  1.812500  1.833333   \n",
       "327  177.827941  199.526231  158.489319     1043  1.458333  1.500000   \n",
       "296  133.352143  141.253754  125.892541    18443  1.812500  1.833333   \n",
       "161   56.234133   63.095734   50.118723    10787  1.125000  1.166667   \n",
       "17    16.788040   17.782794   15.848932     2667  1.979167  2.000000   \n",
       "\n",
       "        n_min  new  num_sub      prob  start_ind  \n",
       "30   1.791667  1.0        2  0.130278       3306  \n",
       "327  1.416667  0.0        1  0.088688        986  \n",
       "296  1.791667  1.0        2  0.053762      18386  \n",
       "161  1.083333  1.0        1  0.048502      10730  \n",
       "17   1.958333  1.0        2  0.045929       2610  "
      ]
     },
     "execution_count": 33,
     "metadata": {},
     "output_type": "execute_result"
    }
   ],
   "source": [
    "m.probs.most_probable(5)"
   ]
  },
  {
   "cell_type": "code",
   "execution_count": 34,
   "metadata": {},
   "outputs": [
    {
     "data": {
      "text/html": [
       "<div>\n",
       "<style scoped>\n",
       "    .dataframe tbody tr th:only-of-type {\n",
       "        vertical-align: middle;\n",
       "    }\n",
       "\n",
       "    .dataframe tbody tr th {\n",
       "        vertical-align: top;\n",
       "    }\n",
       "\n",
       "    .dataframe thead th {\n",
       "        text-align: right;\n",
       "    }\n",
       "</style>\n",
       "<table border=\"1\" class=\"dataframe\">\n",
       "  <thead>\n",
       "    <tr style=\"text-align: right;\">\n",
       "      <th></th>\n",
       "      <th>Bp</th>\n",
       "      <th>J</th>\n",
       "      <th>T</th>\n",
       "      <th>V</th>\n",
       "      <th>deltas</th>\n",
       "      <th>error</th>\n",
       "      <th>n</th>\n",
       "    </tr>\n",
       "  </thead>\n",
       "  <tbody>\n",
       "    <tr>\n",
       "      <th>10327</th>\n",
       "      <td>53.088444</td>\n",
       "      <td>-0.030000</td>\n",
       "      <td>300.0</td>\n",
       "      <td>0.00</td>\n",
       "      <td>2.680329e-03</td>\n",
       "      <td>2.680329e-03</td>\n",
       "      <td>1.770833</td>\n",
       "    </tr>\n",
       "    <tr>\n",
       "      <th>18156</th>\n",
       "      <td>133.352143</td>\n",
       "      <td>-0.030000</td>\n",
       "      <td>250.0</td>\n",
       "      <td>0.00</td>\n",
       "      <td>4.496816e-03</td>\n",
       "      <td>4.496816e-03</td>\n",
       "      <td>1.645833</td>\n",
       "    </tr>\n",
       "    <tr>\n",
       "      <th>4592</th>\n",
       "      <td>23.713737</td>\n",
       "      <td>-0.029721</td>\n",
       "      <td>250.0</td>\n",
       "      <td>0.40</td>\n",
       "      <td>2.555609e-04</td>\n",
       "      <td>2.555609e-04</td>\n",
       "      <td>1.812500</td>\n",
       "    </tr>\n",
       "    <tr>\n",
       "      <th>17180</th>\n",
       "      <td>118.850223</td>\n",
       "      <td>-0.001432</td>\n",
       "      <td>300.0</td>\n",
       "      <td>0.43</td>\n",
       "      <td>2.304211e-10</td>\n",
       "      <td>2.304211e-10</td>\n",
       "      <td>1.520833</td>\n",
       "    </tr>\n",
       "    <tr>\n",
       "      <th>23906</th>\n",
       "      <td>446.683592</td>\n",
       "      <td>-0.029283</td>\n",
       "      <td>250.0</td>\n",
       "      <td>0.40</td>\n",
       "      <td>3.680141e-04</td>\n",
       "      <td>3.680141e-04</td>\n",
       "      <td>1.541667</td>\n",
       "    </tr>\n",
       "    <tr>\n",
       "      <th>23730</th>\n",
       "      <td>421.696503</td>\n",
       "      <td>-0.030000</td>\n",
       "      <td>150.0</td>\n",
       "      <td>0.40</td>\n",
       "      <td>3.486862e-02</td>\n",
       "      <td>3.486862e-02</td>\n",
       "      <td>1.312500</td>\n",
       "    </tr>\n",
       "    <tr>\n",
       "      <th>4505</th>\n",
       "      <td>23.713737</td>\n",
       "      <td>-0.021390</td>\n",
       "      <td>200.0</td>\n",
       "      <td>0.69</td>\n",
       "      <td>1.000148e-03</td>\n",
       "      <td>1.000148e-03</td>\n",
       "      <td>1.729167</td>\n",
       "    </tr>\n",
       "    <tr>\n",
       "      <th>19886</th>\n",
       "      <td>167.880402</td>\n",
       "      <td>-0.026199</td>\n",
       "      <td>150.0</td>\n",
       "      <td>0.83</td>\n",
       "      <td>1.700127e-05</td>\n",
       "      <td>1.700127e-05</td>\n",
       "      <td>1.270833</td>\n",
       "    </tr>\n",
       "    <tr>\n",
       "      <th>6806</th>\n",
       "      <td>33.496544</td>\n",
       "      <td>0.232571</td>\n",
       "      <td>300.0</td>\n",
       "      <td>0.52</td>\n",
       "      <td>2.855328e-04</td>\n",
       "      <td>2.855328e-04</td>\n",
       "      <td>1.895833</td>\n",
       "    </tr>\n",
       "    <tr>\n",
       "      <th>16764</th>\n",
       "      <td>112.201845</td>\n",
       "      <td>-0.030000</td>\n",
       "      <td>250.0</td>\n",
       "      <td>0.00</td>\n",
       "      <td>2.772897e-03</td>\n",
       "      <td>2.772897e-03</td>\n",
       "      <td>1.125000</td>\n",
       "    </tr>\n",
       "  </tbody>\n",
       "</table>\n",
       "</div>"
      ],
      "text/plain": [
       "               Bp         J      T     V        deltas         error         n\n",
       "10327   53.088444 -0.030000  300.0  0.00  2.680329e-03  2.680329e-03  1.770833\n",
       "18156  133.352143 -0.030000  250.0  0.00  4.496816e-03  4.496816e-03  1.645833\n",
       "4592    23.713737 -0.029721  250.0  0.40  2.555609e-04  2.555609e-04  1.812500\n",
       "17180  118.850223 -0.001432  300.0  0.43  2.304211e-10  2.304211e-10  1.520833\n",
       "23906  446.683592 -0.029283  250.0  0.40  3.680141e-04  3.680141e-04  1.541667\n",
       "23730  421.696503 -0.030000  150.0  0.40  3.486862e-02  3.486862e-02  1.312500\n",
       "4505    23.713737 -0.021390  200.0  0.69  1.000148e-03  1.000148e-03  1.729167\n",
       "19886  167.880402 -0.026199  150.0  0.83  1.700127e-05  1.700127e-05  1.270833\n",
       "6806    33.496544  0.232571  300.0  0.52  2.855328e-04  2.855328e-04  1.895833\n",
       "16764  112.201845 -0.030000  250.0  0.00  2.772897e-03  2.772897e-03  1.125000"
      ]
     },
     "execution_count": 34,
     "metadata": {},
     "output_type": "execute_result"
    }
   ],
   "source": [
    "m.model_data.sample(10)"
   ]
  },
  {
   "cell_type": "code",
   "execution_count": 35,
   "metadata": {},
   "outputs": [
    {
     "data": {
      "image/png": "[encoded data removed]",
      "text/plain": [
       "<matplotlib.figure.Figure at 0x11f4c0310>"
      ]
     },
     "metadata": {},
     "output_type": "display_data"
    }
   ],
   "source": [
    "m.comparison_plot(num_param_pts=3)"
   ]
  },
  {
   "cell_type": "code",
   "execution_count": null,
   "metadata": {},
   "outputs": [],
   "source": []
  }
 ],
 "metadata": {
  "kernelspec": {
   "display_name": "Python [default]",
   "language": "python",
   "name": "python2"
  },
  "language_info": {
   "codemirror_mode": {
    "name": "ipython",
    "version": 2
   },
   "file_extension": ".py",
   "mimetype": "text/x-python",
   "name": "python",
   "nbconvert_exporter": "python",
   "pygments_lexer": "ipython2",
   "version": "2.7.14"
  }
 },
 "nbformat": 4,
 "nbformat_minor": 2
}
